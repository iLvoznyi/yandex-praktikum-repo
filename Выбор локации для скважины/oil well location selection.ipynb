{
 "cells": [
  {
   "cell_type": "markdown",
   "metadata": {},
   "source": [
    "# Выбор локации для скважины"
   ]
  },
  {
   "cell_type": "markdown",
   "metadata": {},
   "source": [
    "Допустим, вы работаете в добывающей компании «ГлавРосГосНефть». Нужно решить, где бурить новую скважину.\n",
    "\n",
    "Вам предоставлены пробы нефти в трёх регионах: в каждом 10 000 месторождений, где измерили качество нефти и объём её запасов. Постройте модель машинного обучения, которая поможет определить регион, где добыча принесёт наибольшую прибыль. Проанализируйте возможную прибыль и риски техникой *Bootstrap.*\n",
    "\n",
    "Шаги для выбора локации:\n",
    "\n",
    "- В избранном регионе ищут месторождения, для каждого определяют значения признаков;\n",
    "- Строят модель и оценивают объём запасов;\n",
    "- Выбирают месторождения с самым высокими оценками значений. Количество месторождений зависит от бюджета компании и стоимости разработки одной скважины;\n",
    "- Прибыль равна суммарной прибыли отобранных месторождений.\n",
    "Описание данных:\n",
    "\n",
    "id — уникальный идентификатор скважины;\n",
    "\n",
    "f0, f1, f2 — три признака точек (неважно, что они означают, но сами признаки значимы);\n",
    "\n",
    "product — объём запасов в скважине (тыс. баррелей).\n",
    "\n",
    "Условия задачи:\n",
    "\n",
    "Для обучения модели подходит только линейная регрессия (остальные — недостаточно предсказуемые).\n",
    "При разведке региона исследуют 500 точек, из которых с помощью машинного обучения выбирают 200 лучших для разработки.\n",
    "Бюджет на разработку скважин в регионе — 10 млрд рублей.\n",
    "При нынешних ценах один баррель сырья приносит 450 рублей дохода. Доход с каждой единицы продукта составляет 450 тыс. рублей, поскольку объём указан в тысячах баррелей.\n",
    "После оценки рисков нужно оставить лишь те регионы, в которых вероятность убытков меньше 2.5%. Среди них выбирают регион с наибольшей средней прибылью.\n",
    "Данные синтетические: детали контрактов и характеристики месторождений не разглашаются."
   ]
  },
  {
   "cell_type": "markdown",
   "metadata": {},
   "source": [
    "## Загрузка и подготовка данных"
   ]
  },
  {
   "cell_type": "markdown",
   "metadata": {},
   "source": [
    "### Библиотеки"
   ]
  },
  {
   "cell_type": "code",
   "execution_count": 1,
   "metadata": {},
   "outputs": [],
   "source": [
    "import pandas as pd\n",
    "import matplotlib.pyplot as plt\n",
    "from sklearn.metrics import mean_squared_error\n",
    "from sklearn.model_selection import train_test_split\n",
    "from sklearn.linear_model import LinearRegression\n",
    "import numpy as np\n",
    "import os"
   ]
  },
  {
   "cell_type": "markdown",
   "metadata": {},
   "source": [
    "### Анализ данных"
   ]
  },
  {
   "cell_type": "code",
   "execution_count": 2,
   "metadata": {},
   "outputs": [],
   "source": [
    "data_files = ['geo_data_0.csv', 'geo_data_1.csv', 'geo_data_2.csv']\n",
    "data = []\n",
    "\n",
    "for file in data_files:\n",
    "    file_path = os.path.join('/datasets', file)\n",
    "    try:\n",
    "        df = pd.read_csv(file_path)\n",
    "        data.append(df)\n",
    "    except FileNotFoundError:\n",
    "        print(f\"Файл {file_path} не найден.\")"
   ]
  },
  {
   "cell_type": "markdown",
   "metadata": {},
   "source": [
    "<div class=\"alert alert-info\">\n",
    "Подправил\n",
    "</div>"
   ]
  },
  {
   "cell_type": "code",
   "execution_count": 3,
   "metadata": {
    "scrolled": true
   },
   "outputs": [
    {
     "data": {
      "text/plain": [
       "'data[0]'"
      ]
     },
     "metadata": {},
     "output_type": "display_data"
    },
    {
     "data": {
      "text/plain": [
       "'Первые строчки:'"
      ]
     },
     "metadata": {},
     "output_type": "display_data"
    },
    {
     "data": {
      "text/html": [
       "<div>\n",
       "<style scoped>\n",
       "    .dataframe tbody tr th:only-of-type {\n",
       "        vertical-align: middle;\n",
       "    }\n",
       "\n",
       "    .dataframe tbody tr th {\n",
       "        vertical-align: top;\n",
       "    }\n",
       "\n",
       "    .dataframe thead th {\n",
       "        text-align: right;\n",
       "    }\n",
       "</style>\n",
       "<table border=\"1\" class=\"dataframe\">\n",
       "  <thead>\n",
       "    <tr style=\"text-align: right;\">\n",
       "      <th></th>\n",
       "      <th>id</th>\n",
       "      <th>f0</th>\n",
       "      <th>f1</th>\n",
       "      <th>f2</th>\n",
       "      <th>product</th>\n",
       "    </tr>\n",
       "  </thead>\n",
       "  <tbody>\n",
       "    <tr>\n",
       "      <th>0</th>\n",
       "      <td>txEyH</td>\n",
       "      <td>0.705745</td>\n",
       "      <td>-0.497823</td>\n",
       "      <td>1.221170</td>\n",
       "      <td>105.280062</td>\n",
       "    </tr>\n",
       "    <tr>\n",
       "      <th>1</th>\n",
       "      <td>2acmU</td>\n",
       "      <td>1.334711</td>\n",
       "      <td>-0.340164</td>\n",
       "      <td>4.365080</td>\n",
       "      <td>73.037750</td>\n",
       "    </tr>\n",
       "    <tr>\n",
       "      <th>2</th>\n",
       "      <td>409Wp</td>\n",
       "      <td>1.022732</td>\n",
       "      <td>0.151990</td>\n",
       "      <td>1.419926</td>\n",
       "      <td>85.265647</td>\n",
       "    </tr>\n",
       "    <tr>\n",
       "      <th>3</th>\n",
       "      <td>iJLyR</td>\n",
       "      <td>-0.032172</td>\n",
       "      <td>0.139033</td>\n",
       "      <td>2.978566</td>\n",
       "      <td>168.620776</td>\n",
       "    </tr>\n",
       "    <tr>\n",
       "      <th>4</th>\n",
       "      <td>Xdl7t</td>\n",
       "      <td>1.988431</td>\n",
       "      <td>0.155413</td>\n",
       "      <td>4.751769</td>\n",
       "      <td>154.036647</td>\n",
       "    </tr>\n",
       "  </tbody>\n",
       "</table>\n",
       "</div>"
      ],
      "text/plain": [
       "      id        f0        f1        f2     product\n",
       "0  txEyH  0.705745 -0.497823  1.221170  105.280062\n",
       "1  2acmU  1.334711 -0.340164  4.365080   73.037750\n",
       "2  409Wp  1.022732  0.151990  1.419926   85.265647\n",
       "3  iJLyR -0.032172  0.139033  2.978566  168.620776\n",
       "4  Xdl7t  1.988431  0.155413  4.751769  154.036647"
      ]
     },
     "metadata": {},
     "output_type": "display_data"
    },
    {
     "data": {
      "text/plain": [
       "'Последние строчки:'"
      ]
     },
     "metadata": {},
     "output_type": "display_data"
    },
    {
     "data": {
      "text/html": [
       "<div>\n",
       "<style scoped>\n",
       "    .dataframe tbody tr th:only-of-type {\n",
       "        vertical-align: middle;\n",
       "    }\n",
       "\n",
       "    .dataframe tbody tr th {\n",
       "        vertical-align: top;\n",
       "    }\n",
       "\n",
       "    .dataframe thead th {\n",
       "        text-align: right;\n",
       "    }\n",
       "</style>\n",
       "<table border=\"1\" class=\"dataframe\">\n",
       "  <thead>\n",
       "    <tr style=\"text-align: right;\">\n",
       "      <th></th>\n",
       "      <th>id</th>\n",
       "      <th>f0</th>\n",
       "      <th>f1</th>\n",
       "      <th>f2</th>\n",
       "      <th>product</th>\n",
       "    </tr>\n",
       "  </thead>\n",
       "  <tbody>\n",
       "    <tr>\n",
       "      <th>99995</th>\n",
       "      <td>DLsed</td>\n",
       "      <td>0.971957</td>\n",
       "      <td>0.370953</td>\n",
       "      <td>6.075346</td>\n",
       "      <td>110.744026</td>\n",
       "    </tr>\n",
       "    <tr>\n",
       "      <th>99996</th>\n",
       "      <td>QKivN</td>\n",
       "      <td>1.392429</td>\n",
       "      <td>-0.382606</td>\n",
       "      <td>1.273912</td>\n",
       "      <td>122.346843</td>\n",
       "    </tr>\n",
       "    <tr>\n",
       "      <th>99997</th>\n",
       "      <td>3rnvd</td>\n",
       "      <td>1.029585</td>\n",
       "      <td>0.018787</td>\n",
       "      <td>-1.348308</td>\n",
       "      <td>64.375443</td>\n",
       "    </tr>\n",
       "    <tr>\n",
       "      <th>99998</th>\n",
       "      <td>7kl59</td>\n",
       "      <td>0.998163</td>\n",
       "      <td>-0.528582</td>\n",
       "      <td>1.583869</td>\n",
       "      <td>74.040764</td>\n",
       "    </tr>\n",
       "    <tr>\n",
       "      <th>99999</th>\n",
       "      <td>1CWhH</td>\n",
       "      <td>1.764754</td>\n",
       "      <td>-0.266417</td>\n",
       "      <td>5.722849</td>\n",
       "      <td>149.633246</td>\n",
       "    </tr>\n",
       "  </tbody>\n",
       "</table>\n",
       "</div>"
      ],
      "text/plain": [
       "          id        f0        f1        f2     product\n",
       "99995  DLsed  0.971957  0.370953  6.075346  110.744026\n",
       "99996  QKivN  1.392429 -0.382606  1.273912  122.346843\n",
       "99997  3rnvd  1.029585  0.018787 -1.348308   64.375443\n",
       "99998  7kl59  0.998163 -0.528582  1.583869   74.040764\n",
       "99999  1CWhH  1.764754 -0.266417  5.722849  149.633246"
      ]
     },
     "metadata": {},
     "output_type": "display_data"
    },
    {
     "data": {
      "text/plain": [
       "'Случайные строчки:'"
      ]
     },
     "metadata": {},
     "output_type": "display_data"
    },
    {
     "data": {
      "text/html": [
       "<div>\n",
       "<style scoped>\n",
       "    .dataframe tbody tr th:only-of-type {\n",
       "        vertical-align: middle;\n",
       "    }\n",
       "\n",
       "    .dataframe tbody tr th {\n",
       "        vertical-align: top;\n",
       "    }\n",
       "\n",
       "    .dataframe thead th {\n",
       "        text-align: right;\n",
       "    }\n",
       "</style>\n",
       "<table border=\"1\" class=\"dataframe\">\n",
       "  <thead>\n",
       "    <tr style=\"text-align: right;\">\n",
       "      <th></th>\n",
       "      <th>id</th>\n",
       "      <th>f0</th>\n",
       "      <th>f1</th>\n",
       "      <th>f2</th>\n",
       "      <th>product</th>\n",
       "    </tr>\n",
       "  </thead>\n",
       "  <tbody>\n",
       "    <tr>\n",
       "      <th>27454</th>\n",
       "      <td>fUwQ7</td>\n",
       "      <td>1.780053</td>\n",
       "      <td>0.045820</td>\n",
       "      <td>2.398640</td>\n",
       "      <td>90.381504</td>\n",
       "    </tr>\n",
       "    <tr>\n",
       "      <th>41991</th>\n",
       "      <td>JzebG</td>\n",
       "      <td>-0.900700</td>\n",
       "      <td>0.357580</td>\n",
       "      <td>2.569382</td>\n",
       "      <td>90.538567</td>\n",
       "    </tr>\n",
       "    <tr>\n",
       "      <th>25534</th>\n",
       "      <td>dqsRE</td>\n",
       "      <td>-1.023182</td>\n",
       "      <td>0.139706</td>\n",
       "      <td>7.351525</td>\n",
       "      <td>85.855893</td>\n",
       "    </tr>\n",
       "    <tr>\n",
       "      <th>8829</th>\n",
       "      <td>5nMas</td>\n",
       "      <td>0.065954</td>\n",
       "      <td>0.883238</td>\n",
       "      <td>-3.349864</td>\n",
       "      <td>19.706868</td>\n",
       "    </tr>\n",
       "    <tr>\n",
       "      <th>71717</th>\n",
       "      <td>gbJrL</td>\n",
       "      <td>1.339470</td>\n",
       "      <td>-0.586101</td>\n",
       "      <td>7.723748</td>\n",
       "      <td>182.597595</td>\n",
       "    </tr>\n",
       "  </tbody>\n",
       "</table>\n",
       "</div>"
      ],
      "text/plain": [
       "          id        f0        f1        f2     product\n",
       "27454  fUwQ7  1.780053  0.045820  2.398640   90.381504\n",
       "41991  JzebG -0.900700  0.357580  2.569382   90.538567\n",
       "25534  dqsRE -1.023182  0.139706  7.351525   85.855893\n",
       "8829   5nMas  0.065954  0.883238 -3.349864   19.706868\n",
       "71717  gbJrL  1.339470 -0.586101  7.723748  182.597595"
      ]
     },
     "metadata": {},
     "output_type": "display_data"
    },
    {
     "data": {
      "text/plain": [
       "'Информация о каждом столбце:'"
      ]
     },
     "metadata": {},
     "output_type": "display_data"
    },
    {
     "data": {
      "text/html": [
       "<div>\n",
       "<style scoped>\n",
       "    .dataframe tbody tr th:only-of-type {\n",
       "        vertical-align: middle;\n",
       "    }\n",
       "\n",
       "    .dataframe tbody tr th {\n",
       "        vertical-align: top;\n",
       "    }\n",
       "\n",
       "    .dataframe thead th {\n",
       "        text-align: right;\n",
       "    }\n",
       "</style>\n",
       "<table border=\"1\" class=\"dataframe\">\n",
       "  <thead>\n",
       "    <tr style=\"text-align: right;\">\n",
       "      <th></th>\n",
       "      <th>f0</th>\n",
       "      <th>f1</th>\n",
       "      <th>f2</th>\n",
       "      <th>product</th>\n",
       "    </tr>\n",
       "  </thead>\n",
       "  <tbody>\n",
       "    <tr>\n",
       "      <th>count</th>\n",
       "      <td>100000.000000</td>\n",
       "      <td>100000.000000</td>\n",
       "      <td>100000.000000</td>\n",
       "      <td>100000.000000</td>\n",
       "    </tr>\n",
       "    <tr>\n",
       "      <th>mean</th>\n",
       "      <td>0.500419</td>\n",
       "      <td>0.250143</td>\n",
       "      <td>2.502647</td>\n",
       "      <td>92.500000</td>\n",
       "    </tr>\n",
       "    <tr>\n",
       "      <th>std</th>\n",
       "      <td>0.871832</td>\n",
       "      <td>0.504433</td>\n",
       "      <td>3.248248</td>\n",
       "      <td>44.288691</td>\n",
       "    </tr>\n",
       "    <tr>\n",
       "      <th>min</th>\n",
       "      <td>-1.408605</td>\n",
       "      <td>-0.848218</td>\n",
       "      <td>-12.088328</td>\n",
       "      <td>0.000000</td>\n",
       "    </tr>\n",
       "    <tr>\n",
       "      <th>25%</th>\n",
       "      <td>-0.072580</td>\n",
       "      <td>-0.200881</td>\n",
       "      <td>0.287748</td>\n",
       "      <td>56.497507</td>\n",
       "    </tr>\n",
       "    <tr>\n",
       "      <th>50%</th>\n",
       "      <td>0.502360</td>\n",
       "      <td>0.250252</td>\n",
       "      <td>2.515969</td>\n",
       "      <td>91.849972</td>\n",
       "    </tr>\n",
       "    <tr>\n",
       "      <th>75%</th>\n",
       "      <td>1.073581</td>\n",
       "      <td>0.700646</td>\n",
       "      <td>4.715088</td>\n",
       "      <td>128.564089</td>\n",
       "    </tr>\n",
       "    <tr>\n",
       "      <th>max</th>\n",
       "      <td>2.362331</td>\n",
       "      <td>1.343769</td>\n",
       "      <td>16.003790</td>\n",
       "      <td>185.364347</td>\n",
       "    </tr>\n",
       "  </tbody>\n",
       "</table>\n",
       "</div>"
      ],
      "text/plain": [
       "                  f0             f1             f2        product\n",
       "count  100000.000000  100000.000000  100000.000000  100000.000000\n",
       "mean        0.500419       0.250143       2.502647      92.500000\n",
       "std         0.871832       0.504433       3.248248      44.288691\n",
       "min        -1.408605      -0.848218     -12.088328       0.000000\n",
       "25%        -0.072580      -0.200881       0.287748      56.497507\n",
       "50%         0.502360       0.250252       2.515969      91.849972\n",
       "75%         1.073581       0.700646       4.715088     128.564089\n",
       "max         2.362331       1.343769      16.003790     185.364347"
      ]
     },
     "metadata": {},
     "output_type": "display_data"
    },
    {
     "data": {
      "text/plain": [
       "'Общая информация:'"
      ]
     },
     "metadata": {},
     "output_type": "display_data"
    },
    {
     "name": "stdout",
     "output_type": "stream",
     "text": [
      "<class 'pandas.core.frame.DataFrame'>\n",
      "RangeIndex: 100000 entries, 0 to 99999\n",
      "Data columns (total 5 columns):\n",
      " #   Column   Non-Null Count   Dtype  \n",
      "---  ------   --------------   -----  \n",
      " 0   id       100000 non-null  object \n",
      " 1   f0       100000 non-null  float64\n",
      " 2   f1       100000 non-null  float64\n",
      " 3   f2       100000 non-null  float64\n",
      " 4   product  100000 non-null  float64\n",
      "dtypes: float64(4), object(1)\n",
      "memory usage: 3.8+ MB\n"
     ]
    },
    {
     "data": {
      "text/plain": [
       "'Явные дубликаты:'"
      ]
     },
     "metadata": {},
     "output_type": "display_data"
    },
    {
     "data": {
      "text/plain": [
       "0"
      ]
     },
     "metadata": {},
     "output_type": "display_data"
    },
    {
     "data": {
      "text/plain": [
       "'Сортировка и количество пропущенных значений:'"
      ]
     },
     "metadata": {},
     "output_type": "display_data"
    },
    {
     "data": {
      "text/plain": [
       "id         0\n",
       "f0         0\n",
       "f1         0\n",
       "f2         0\n",
       "product    0\n",
       "dtype: int64"
      ]
     },
     "metadata": {},
     "output_type": "display_data"
    },
    {
     "data": {
      "text/plain": [
       "'Гистограмма:'"
      ]
     },
     "metadata": {},
     "output_type": "display_data"
    },
    {
     "data": {
      "image/png": "[encoded data removed]",
      "text/plain": [
       "<Figure size 1080x2160 with 4 Axes>"
      ]
     },
     "metadata": {
      "needs_background": "light"
     },
     "output_type": "display_data"
    }
   ],
   "source": [
    "display(\"data[0]\")\n",
    "def analyze_dataframe(df):\n",
    "    display(\"Первые строчки:\", df.head())\n",
    "    display(\"Последние строчки:\", df.tail())\n",
    "    display(\"Случайные строчки:\", df.sample(5))\n",
    "    display(\"Информация о каждом столбце:\", df.describe())\n",
    "    display(\"Общая информация:\")\n",
    "    df.info()\n",
    "    display(\"Явные дубликаты:\", df.duplicated().sum())\n",
    "    display(\"Сортировка и количество пропущенных значений:\", df.isnull().sum().sort_values())\n",
    "    display(\"Гистограмма:\")\n",
    "    fig, axes = plt.subplots(nrows=4, figsize=(15, 30))\n",
    "    df.hist(ax=axes, bins=10, column=df.columns[1:5])  # Используйте только столбцы 1, 2 и 3\n",
    "    plt.subplots_adjust(hspace=0.5)\n",
    "    for i, column in enumerate(df.columns[1:5]):\n",
    "        axes[i].set_xlabel('Значение')\n",
    "        axes[i].set_ylabel('Частота')\n",
    "        axes[i].set_title(column)\n",
    "    plt.show()\n",
    "analyze_dataframe(data[0])"
   ]
  },
  {
   "cell_type": "code",
   "execution_count": 4,
   "metadata": {},
   "outputs": [
    {
     "data": {
      "text/plain": [
       "'data[1]'"
      ]
     },
     "metadata": {},
     "output_type": "display_data"
    },
    {
     "data": {
      "text/plain": [
       "'Первые строчки:'"
      ]
     },
     "metadata": {},
     "output_type": "display_data"
    },
    {
     "data": {
      "text/html": [
       "<div>\n",
       "<style scoped>\n",
       "    .dataframe tbody tr th:only-of-type {\n",
       "        vertical-align: middle;\n",
       "    }\n",
       "\n",
       "    .dataframe tbody tr th {\n",
       "        vertical-align: top;\n",
       "    }\n",
       "\n",
       "    .dataframe thead th {\n",
       "        text-align: right;\n",
       "    }\n",
       "</style>\n",
       "<table border=\"1\" class=\"dataframe\">\n",
       "  <thead>\n",
       "    <tr style=\"text-align: right;\">\n",
       "      <th></th>\n",
       "      <th>id</th>\n",
       "      <th>f0</th>\n",
       "      <th>f1</th>\n",
       "      <th>f2</th>\n",
       "      <th>product</th>\n",
       "    </tr>\n",
       "  </thead>\n",
       "  <tbody>\n",
       "    <tr>\n",
       "      <th>0</th>\n",
       "      <td>kBEdx</td>\n",
       "      <td>-15.001348</td>\n",
       "      <td>-8.276000</td>\n",
       "      <td>-0.005876</td>\n",
       "      <td>3.179103</td>\n",
       "    </tr>\n",
       "    <tr>\n",
       "      <th>1</th>\n",
       "      <td>62mP7</td>\n",
       "      <td>14.272088</td>\n",
       "      <td>-3.475083</td>\n",
       "      <td>0.999183</td>\n",
       "      <td>26.953261</td>\n",
       "    </tr>\n",
       "    <tr>\n",
       "      <th>2</th>\n",
       "      <td>vyE1P</td>\n",
       "      <td>6.263187</td>\n",
       "      <td>-5.948386</td>\n",
       "      <td>5.001160</td>\n",
       "      <td>134.766305</td>\n",
       "    </tr>\n",
       "    <tr>\n",
       "      <th>3</th>\n",
       "      <td>KcrkZ</td>\n",
       "      <td>-13.081196</td>\n",
       "      <td>-11.506057</td>\n",
       "      <td>4.999415</td>\n",
       "      <td>137.945408</td>\n",
       "    </tr>\n",
       "    <tr>\n",
       "      <th>4</th>\n",
       "      <td>AHL4O</td>\n",
       "      <td>12.702195</td>\n",
       "      <td>-8.147433</td>\n",
       "      <td>5.004363</td>\n",
       "      <td>134.766305</td>\n",
       "    </tr>\n",
       "  </tbody>\n",
       "</table>\n",
       "</div>"
      ],
      "text/plain": [
       "      id         f0         f1        f2     product\n",
       "0  kBEdx -15.001348  -8.276000 -0.005876    3.179103\n",
       "1  62mP7  14.272088  -3.475083  0.999183   26.953261\n",
       "2  vyE1P   6.263187  -5.948386  5.001160  134.766305\n",
       "3  KcrkZ -13.081196 -11.506057  4.999415  137.945408\n",
       "4  AHL4O  12.702195  -8.147433  5.004363  134.766305"
      ]
     },
     "metadata": {},
     "output_type": "display_data"
    },
    {
     "data": {
      "text/plain": [
       "'Последние строчки:'"
      ]
     },
     "metadata": {},
     "output_type": "display_data"
    },
    {
     "data": {
      "text/html": [
       "<div>\n",
       "<style scoped>\n",
       "    .dataframe tbody tr th:only-of-type {\n",
       "        vertical-align: middle;\n",
       "    }\n",
       "\n",
       "    .dataframe tbody tr th {\n",
       "        vertical-align: top;\n",
       "    }\n",
       "\n",
       "    .dataframe thead th {\n",
       "        text-align: right;\n",
       "    }\n",
       "</style>\n",
       "<table border=\"1\" class=\"dataframe\">\n",
       "  <thead>\n",
       "    <tr style=\"text-align: right;\">\n",
       "      <th></th>\n",
       "      <th>id</th>\n",
       "      <th>f0</th>\n",
       "      <th>f1</th>\n",
       "      <th>f2</th>\n",
       "      <th>product</th>\n",
       "    </tr>\n",
       "  </thead>\n",
       "  <tbody>\n",
       "    <tr>\n",
       "      <th>99995</th>\n",
       "      <td>QywKC</td>\n",
       "      <td>9.535637</td>\n",
       "      <td>-6.878139</td>\n",
       "      <td>1.998296</td>\n",
       "      <td>53.906522</td>\n",
       "    </tr>\n",
       "    <tr>\n",
       "      <th>99996</th>\n",
       "      <td>ptvty</td>\n",
       "      <td>-10.160631</td>\n",
       "      <td>-12.558096</td>\n",
       "      <td>5.005581</td>\n",
       "      <td>137.945408</td>\n",
       "    </tr>\n",
       "    <tr>\n",
       "      <th>99997</th>\n",
       "      <td>09gWa</td>\n",
       "      <td>-7.378891</td>\n",
       "      <td>-3.084104</td>\n",
       "      <td>4.998651</td>\n",
       "      <td>137.945408</td>\n",
       "    </tr>\n",
       "    <tr>\n",
       "      <th>99998</th>\n",
       "      <td>rqwUm</td>\n",
       "      <td>0.665714</td>\n",
       "      <td>-6.152593</td>\n",
       "      <td>1.000146</td>\n",
       "      <td>30.132364</td>\n",
       "    </tr>\n",
       "    <tr>\n",
       "      <th>99999</th>\n",
       "      <td>relB0</td>\n",
       "      <td>-3.426139</td>\n",
       "      <td>-7.794274</td>\n",
       "      <td>-0.003299</td>\n",
       "      <td>3.179103</td>\n",
       "    </tr>\n",
       "  </tbody>\n",
       "</table>\n",
       "</div>"
      ],
      "text/plain": [
       "          id         f0         f1        f2     product\n",
       "99995  QywKC   9.535637  -6.878139  1.998296   53.906522\n",
       "99996  ptvty -10.160631 -12.558096  5.005581  137.945408\n",
       "99997  09gWa  -7.378891  -3.084104  4.998651  137.945408\n",
       "99998  rqwUm   0.665714  -6.152593  1.000146   30.132364\n",
       "99999  relB0  -3.426139  -7.794274 -0.003299    3.179103"
      ]
     },
     "metadata": {},
     "output_type": "display_data"
    },
    {
     "data": {
      "text/plain": [
       "'Случайные строчки:'"
      ]
     },
     "metadata": {},
     "output_type": "display_data"
    },
    {
     "data": {
      "text/html": [
       "<div>\n",
       "<style scoped>\n",
       "    .dataframe tbody tr th:only-of-type {\n",
       "        vertical-align: middle;\n",
       "    }\n",
       "\n",
       "    .dataframe tbody tr th {\n",
       "        vertical-align: top;\n",
       "    }\n",
       "\n",
       "    .dataframe thead th {\n",
       "        text-align: right;\n",
       "    }\n",
       "</style>\n",
       "<table border=\"1\" class=\"dataframe\">\n",
       "  <thead>\n",
       "    <tr style=\"text-align: right;\">\n",
       "      <th></th>\n",
       "      <th>id</th>\n",
       "      <th>f0</th>\n",
       "      <th>f1</th>\n",
       "      <th>f2</th>\n",
       "      <th>product</th>\n",
       "    </tr>\n",
       "  </thead>\n",
       "  <tbody>\n",
       "    <tr>\n",
       "      <th>81748</th>\n",
       "      <td>xNQhh</td>\n",
       "      <td>-16.028990</td>\n",
       "      <td>-3.180393</td>\n",
       "      <td>1.003378</td>\n",
       "      <td>30.132364</td>\n",
       "    </tr>\n",
       "    <tr>\n",
       "      <th>21757</th>\n",
       "      <td>MDX3n</td>\n",
       "      <td>-8.163209</td>\n",
       "      <td>-10.479218</td>\n",
       "      <td>2.996156</td>\n",
       "      <td>84.038886</td>\n",
       "    </tr>\n",
       "    <tr>\n",
       "      <th>15444</th>\n",
       "      <td>cMK1y</td>\n",
       "      <td>-6.139391</td>\n",
       "      <td>-16.878212</td>\n",
       "      <td>-0.000194</td>\n",
       "      <td>3.179103</td>\n",
       "    </tr>\n",
       "    <tr>\n",
       "      <th>17248</th>\n",
       "      <td>LYqug</td>\n",
       "      <td>20.631388</td>\n",
       "      <td>-2.690798</td>\n",
       "      <td>1.994687</td>\n",
       "      <td>53.906522</td>\n",
       "    </tr>\n",
       "    <tr>\n",
       "      <th>81058</th>\n",
       "      <td>bbien</td>\n",
       "      <td>10.678517</td>\n",
       "      <td>-7.775731</td>\n",
       "      <td>4.000275</td>\n",
       "      <td>107.813044</td>\n",
       "    </tr>\n",
       "  </tbody>\n",
       "</table>\n",
       "</div>"
      ],
      "text/plain": [
       "          id         f0         f1        f2     product\n",
       "81748  xNQhh -16.028990  -3.180393  1.003378   30.132364\n",
       "21757  MDX3n  -8.163209 -10.479218  2.996156   84.038886\n",
       "15444  cMK1y  -6.139391 -16.878212 -0.000194    3.179103\n",
       "17248  LYqug  20.631388  -2.690798  1.994687   53.906522\n",
       "81058  bbien  10.678517  -7.775731  4.000275  107.813044"
      ]
     },
     "metadata": {},
     "output_type": "display_data"
    },
    {
     "data": {
      "text/plain": [
       "'Информация о каждом столбце:'"
      ]
     },
     "metadata": {},
     "output_type": "display_data"
    },
    {
     "data": {
      "text/html": [
       "<div>\n",
       "<style scoped>\n",
       "    .dataframe tbody tr th:only-of-type {\n",
       "        vertical-align: middle;\n",
       "    }\n",
       "\n",
       "    .dataframe tbody tr th {\n",
       "        vertical-align: top;\n",
       "    }\n",
       "\n",
       "    .dataframe thead th {\n",
       "        text-align: right;\n",
       "    }\n",
       "</style>\n",
       "<table border=\"1\" class=\"dataframe\">\n",
       "  <thead>\n",
       "    <tr style=\"text-align: right;\">\n",
       "      <th></th>\n",
       "      <th>f0</th>\n",
       "      <th>f1</th>\n",
       "      <th>f2</th>\n",
       "      <th>product</th>\n",
       "    </tr>\n",
       "  </thead>\n",
       "  <tbody>\n",
       "    <tr>\n",
       "      <th>count</th>\n",
       "      <td>100000.000000</td>\n",
       "      <td>100000.000000</td>\n",
       "      <td>100000.000000</td>\n",
       "      <td>100000.000000</td>\n",
       "    </tr>\n",
       "    <tr>\n",
       "      <th>mean</th>\n",
       "      <td>1.141296</td>\n",
       "      <td>-4.796579</td>\n",
       "      <td>2.494541</td>\n",
       "      <td>68.825000</td>\n",
       "    </tr>\n",
       "    <tr>\n",
       "      <th>std</th>\n",
       "      <td>8.965932</td>\n",
       "      <td>5.119872</td>\n",
       "      <td>1.703572</td>\n",
       "      <td>45.944423</td>\n",
       "    </tr>\n",
       "    <tr>\n",
       "      <th>min</th>\n",
       "      <td>-31.609576</td>\n",
       "      <td>-26.358598</td>\n",
       "      <td>-0.018144</td>\n",
       "      <td>0.000000</td>\n",
       "    </tr>\n",
       "    <tr>\n",
       "      <th>25%</th>\n",
       "      <td>-6.298551</td>\n",
       "      <td>-8.267985</td>\n",
       "      <td>1.000021</td>\n",
       "      <td>26.953261</td>\n",
       "    </tr>\n",
       "    <tr>\n",
       "      <th>50%</th>\n",
       "      <td>1.153055</td>\n",
       "      <td>-4.813172</td>\n",
       "      <td>2.011479</td>\n",
       "      <td>57.085625</td>\n",
       "    </tr>\n",
       "    <tr>\n",
       "      <th>75%</th>\n",
       "      <td>8.621015</td>\n",
       "      <td>-1.332816</td>\n",
       "      <td>3.999904</td>\n",
       "      <td>107.813044</td>\n",
       "    </tr>\n",
       "    <tr>\n",
       "      <th>max</th>\n",
       "      <td>29.421755</td>\n",
       "      <td>18.734063</td>\n",
       "      <td>5.019721</td>\n",
       "      <td>137.945408</td>\n",
       "    </tr>\n",
       "  </tbody>\n",
       "</table>\n",
       "</div>"
      ],
      "text/plain": [
       "                  f0             f1             f2        product\n",
       "count  100000.000000  100000.000000  100000.000000  100000.000000\n",
       "mean        1.141296      -4.796579       2.494541      68.825000\n",
       "std         8.965932       5.119872       1.703572      45.944423\n",
       "min       -31.609576     -26.358598      -0.018144       0.000000\n",
       "25%        -6.298551      -8.267985       1.000021      26.953261\n",
       "50%         1.153055      -4.813172       2.011479      57.085625\n",
       "75%         8.621015      -1.332816       3.999904     107.813044\n",
       "max        29.421755      18.734063       5.019721     137.945408"
      ]
     },
     "metadata": {},
     "output_type": "display_data"
    },
    {
     "data": {
      "text/plain": [
       "'Общая информация:'"
      ]
     },
     "metadata": {},
     "output_type": "display_data"
    },
    {
     "name": "stdout",
     "output_type": "stream",
     "text": [
      "<class 'pandas.core.frame.DataFrame'>\n",
      "RangeIndex: 100000 entries, 0 to 99999\n",
      "Data columns (total 5 columns):\n",
      " #   Column   Non-Null Count   Dtype  \n",
      "---  ------   --------------   -----  \n",
      " 0   id       100000 non-null  object \n",
      " 1   f0       100000 non-null  float64\n",
      " 2   f1       100000 non-null  float64\n",
      " 3   f2       100000 non-null  float64\n",
      " 4   product  100000 non-null  float64\n",
      "dtypes: float64(4), object(1)\n",
      "memory usage: 3.8+ MB\n"
     ]
    },
    {
     "data": {
      "text/plain": [
       "'Явные дубликаты:'"
      ]
     },
     "metadata": {},
     "output_type": "display_data"
    },
    {
     "data": {
      "text/plain": [
       "0"
      ]
     },
     "metadata": {},
     "output_type": "display_data"
    },
    {
     "data": {
      "text/plain": [
       "'Сортировка и количество пропущенных значений:'"
      ]
     },
     "metadata": {},
     "output_type": "display_data"
    },
    {
     "data": {
      "text/plain": [
       "id         0\n",
       "f0         0\n",
       "f1         0\n",
       "f2         0\n",
       "product    0\n",
       "dtype: int64"
      ]
     },
     "metadata": {},
     "output_type": "display_data"
    },
    {
     "data": {
      "text/plain": [
       "'Гистограмма:'"
      ]
     },
     "metadata": {},
     "output_type": "display_data"
    },
    {
     "data": {
      "image/png": "[encoded data removed]",
      "text/plain": [
       "<Figure size 1080x2160 with 4 Axes>"
      ]
     },
     "metadata": {
      "needs_background": "light"
     },
     "output_type": "display_data"
    }
   ],
   "source": [
    "display(\"data[1]\")\n",
    "analyze_dataframe(data[1])"
   ]
  },
  {
   "cell_type": "code",
   "execution_count": 5,
   "metadata": {},
   "outputs": [
    {
     "data": {
      "text/plain": [
       "'data[2]'"
      ]
     },
     "metadata": {},
     "output_type": "display_data"
    },
    {
     "data": {
      "text/plain": [
       "'Первые строчки:'"
      ]
     },
     "metadata": {},
     "output_type": "display_data"
    },
    {
     "data": {
      "text/html": [
       "<div>\n",
       "<style scoped>\n",
       "    .dataframe tbody tr th:only-of-type {\n",
       "        vertical-align: middle;\n",
       "    }\n",
       "\n",
       "    .dataframe tbody tr th {\n",
       "        vertical-align: top;\n",
       "    }\n",
       "\n",
       "    .dataframe thead th {\n",
       "        text-align: right;\n",
       "    }\n",
       "</style>\n",
       "<table border=\"1\" class=\"dataframe\">\n",
       "  <thead>\n",
       "    <tr style=\"text-align: right;\">\n",
       "      <th></th>\n",
       "      <th>id</th>\n",
       "      <th>f0</th>\n",
       "      <th>f1</th>\n",
       "      <th>f2</th>\n",
       "      <th>product</th>\n",
       "    </tr>\n",
       "  </thead>\n",
       "  <tbody>\n",
       "    <tr>\n",
       "      <th>0</th>\n",
       "      <td>fwXo0</td>\n",
       "      <td>-1.146987</td>\n",
       "      <td>0.963328</td>\n",
       "      <td>-0.828965</td>\n",
       "      <td>27.758673</td>\n",
       "    </tr>\n",
       "    <tr>\n",
       "      <th>1</th>\n",
       "      <td>WJtFt</td>\n",
       "      <td>0.262778</td>\n",
       "      <td>0.269839</td>\n",
       "      <td>-2.530187</td>\n",
       "      <td>56.069697</td>\n",
       "    </tr>\n",
       "    <tr>\n",
       "      <th>2</th>\n",
       "      <td>ovLUW</td>\n",
       "      <td>0.194587</td>\n",
       "      <td>0.289035</td>\n",
       "      <td>-5.586433</td>\n",
       "      <td>62.871910</td>\n",
       "    </tr>\n",
       "    <tr>\n",
       "      <th>3</th>\n",
       "      <td>q6cA6</td>\n",
       "      <td>2.236060</td>\n",
       "      <td>-0.553760</td>\n",
       "      <td>0.930038</td>\n",
       "      <td>114.572842</td>\n",
       "    </tr>\n",
       "    <tr>\n",
       "      <th>4</th>\n",
       "      <td>WPMUX</td>\n",
       "      <td>-0.515993</td>\n",
       "      <td>1.716266</td>\n",
       "      <td>5.899011</td>\n",
       "      <td>149.600746</td>\n",
       "    </tr>\n",
       "  </tbody>\n",
       "</table>\n",
       "</div>"
      ],
      "text/plain": [
       "      id        f0        f1        f2     product\n",
       "0  fwXo0 -1.146987  0.963328 -0.828965   27.758673\n",
       "1  WJtFt  0.262778  0.269839 -2.530187   56.069697\n",
       "2  ovLUW  0.194587  0.289035 -5.586433   62.871910\n",
       "3  q6cA6  2.236060 -0.553760  0.930038  114.572842\n",
       "4  WPMUX -0.515993  1.716266  5.899011  149.600746"
      ]
     },
     "metadata": {},
     "output_type": "display_data"
    },
    {
     "data": {
      "text/plain": [
       "'Последние строчки:'"
      ]
     },
     "metadata": {},
     "output_type": "display_data"
    },
    {
     "data": {
      "text/html": [
       "<div>\n",
       "<style scoped>\n",
       "    .dataframe tbody tr th:only-of-type {\n",
       "        vertical-align: middle;\n",
       "    }\n",
       "\n",
       "    .dataframe tbody tr th {\n",
       "        vertical-align: top;\n",
       "    }\n",
       "\n",
       "    .dataframe thead th {\n",
       "        text-align: right;\n",
       "    }\n",
       "</style>\n",
       "<table border=\"1\" class=\"dataframe\">\n",
       "  <thead>\n",
       "    <tr style=\"text-align: right;\">\n",
       "      <th></th>\n",
       "      <th>id</th>\n",
       "      <th>f0</th>\n",
       "      <th>f1</th>\n",
       "      <th>f2</th>\n",
       "      <th>product</th>\n",
       "    </tr>\n",
       "  </thead>\n",
       "  <tbody>\n",
       "    <tr>\n",
       "      <th>99995</th>\n",
       "      <td>4GxBu</td>\n",
       "      <td>-1.777037</td>\n",
       "      <td>1.125220</td>\n",
       "      <td>6.263374</td>\n",
       "      <td>172.327046</td>\n",
       "    </tr>\n",
       "    <tr>\n",
       "      <th>99996</th>\n",
       "      <td>YKFjq</td>\n",
       "      <td>-1.261523</td>\n",
       "      <td>-0.894828</td>\n",
       "      <td>2.524545</td>\n",
       "      <td>138.748846</td>\n",
       "    </tr>\n",
       "    <tr>\n",
       "      <th>99997</th>\n",
       "      <td>tKPY3</td>\n",
       "      <td>-1.199934</td>\n",
       "      <td>-2.957637</td>\n",
       "      <td>5.219411</td>\n",
       "      <td>157.080080</td>\n",
       "    </tr>\n",
       "    <tr>\n",
       "      <th>99998</th>\n",
       "      <td>nmxp2</td>\n",
       "      <td>-2.419896</td>\n",
       "      <td>2.417221</td>\n",
       "      <td>-5.548444</td>\n",
       "      <td>51.795253</td>\n",
       "    </tr>\n",
       "    <tr>\n",
       "      <th>99999</th>\n",
       "      <td>V9kWn</td>\n",
       "      <td>-2.551421</td>\n",
       "      <td>-2.025625</td>\n",
       "      <td>6.090891</td>\n",
       "      <td>102.775767</td>\n",
       "    </tr>\n",
       "  </tbody>\n",
       "</table>\n",
       "</div>"
      ],
      "text/plain": [
       "          id        f0        f1        f2     product\n",
       "99995  4GxBu -1.777037  1.125220  6.263374  172.327046\n",
       "99996  YKFjq -1.261523 -0.894828  2.524545  138.748846\n",
       "99997  tKPY3 -1.199934 -2.957637  5.219411  157.080080\n",
       "99998  nmxp2 -2.419896  2.417221 -5.548444   51.795253\n",
       "99999  V9kWn -2.551421 -2.025625  6.090891  102.775767"
      ]
     },
     "metadata": {},
     "output_type": "display_data"
    },
    {
     "data": {
      "text/plain": [
       "'Случайные строчки:'"
      ]
     },
     "metadata": {},
     "output_type": "display_data"
    },
    {
     "data": {
      "text/html": [
       "<div>\n",
       "<style scoped>\n",
       "    .dataframe tbody tr th:only-of-type {\n",
       "        vertical-align: middle;\n",
       "    }\n",
       "\n",
       "    .dataframe tbody tr th {\n",
       "        vertical-align: top;\n",
       "    }\n",
       "\n",
       "    .dataframe thead th {\n",
       "        text-align: right;\n",
       "    }\n",
       "</style>\n",
       "<table border=\"1\" class=\"dataframe\">\n",
       "  <thead>\n",
       "    <tr style=\"text-align: right;\">\n",
       "      <th></th>\n",
       "      <th>id</th>\n",
       "      <th>f0</th>\n",
       "      <th>f1</th>\n",
       "      <th>f2</th>\n",
       "      <th>product</th>\n",
       "    </tr>\n",
       "  </thead>\n",
       "  <tbody>\n",
       "    <tr>\n",
       "      <th>36121</th>\n",
       "      <td>5tWO3</td>\n",
       "      <td>-1.344997</td>\n",
       "      <td>1.848891</td>\n",
       "      <td>3.235122</td>\n",
       "      <td>92.305771</td>\n",
       "    </tr>\n",
       "    <tr>\n",
       "      <th>7682</th>\n",
       "      <td>Drauh</td>\n",
       "      <td>-1.822616</td>\n",
       "      <td>1.163887</td>\n",
       "      <td>3.164183</td>\n",
       "      <td>153.406195</td>\n",
       "    </tr>\n",
       "    <tr>\n",
       "      <th>33097</th>\n",
       "      <td>gWY57</td>\n",
       "      <td>-0.532835</td>\n",
       "      <td>0.777933</td>\n",
       "      <td>-3.244480</td>\n",
       "      <td>9.812654</td>\n",
       "    </tr>\n",
       "    <tr>\n",
       "      <th>68171</th>\n",
       "      <td>Bv63h</td>\n",
       "      <td>-0.138182</td>\n",
       "      <td>-0.351607</td>\n",
       "      <td>1.791254</td>\n",
       "      <td>97.172513</td>\n",
       "    </tr>\n",
       "    <tr>\n",
       "      <th>73745</th>\n",
       "      <td>yglQy</td>\n",
       "      <td>-0.939771</td>\n",
       "      <td>3.567393</td>\n",
       "      <td>4.756545</td>\n",
       "      <td>166.192581</td>\n",
       "    </tr>\n",
       "  </tbody>\n",
       "</table>\n",
       "</div>"
      ],
      "text/plain": [
       "          id        f0        f1        f2     product\n",
       "36121  5tWO3 -1.344997  1.848891  3.235122   92.305771\n",
       "7682   Drauh -1.822616  1.163887  3.164183  153.406195\n",
       "33097  gWY57 -0.532835  0.777933 -3.244480    9.812654\n",
       "68171  Bv63h -0.138182 -0.351607  1.791254   97.172513\n",
       "73745  yglQy -0.939771  3.567393  4.756545  166.192581"
      ]
     },
     "metadata": {},
     "output_type": "display_data"
    },
    {
     "data": {
      "text/plain": [
       "'Информация о каждом столбце:'"
      ]
     },
     "metadata": {},
     "output_type": "display_data"
    },
    {
     "data": {
      "text/html": [
       "<div>\n",
       "<style scoped>\n",
       "    .dataframe tbody tr th:only-of-type {\n",
       "        vertical-align: middle;\n",
       "    }\n",
       "\n",
       "    .dataframe tbody tr th {\n",
       "        vertical-align: top;\n",
       "    }\n",
       "\n",
       "    .dataframe thead th {\n",
       "        text-align: right;\n",
       "    }\n",
       "</style>\n",
       "<table border=\"1\" class=\"dataframe\">\n",
       "  <thead>\n",
       "    <tr style=\"text-align: right;\">\n",
       "      <th></th>\n",
       "      <th>f0</th>\n",
       "      <th>f1</th>\n",
       "      <th>f2</th>\n",
       "      <th>product</th>\n",
       "    </tr>\n",
       "  </thead>\n",
       "  <tbody>\n",
       "    <tr>\n",
       "      <th>count</th>\n",
       "      <td>100000.000000</td>\n",
       "      <td>100000.000000</td>\n",
       "      <td>100000.000000</td>\n",
       "      <td>100000.000000</td>\n",
       "    </tr>\n",
       "    <tr>\n",
       "      <th>mean</th>\n",
       "      <td>0.002023</td>\n",
       "      <td>-0.002081</td>\n",
       "      <td>2.495128</td>\n",
       "      <td>95.000000</td>\n",
       "    </tr>\n",
       "    <tr>\n",
       "      <th>std</th>\n",
       "      <td>1.732045</td>\n",
       "      <td>1.730417</td>\n",
       "      <td>3.473445</td>\n",
       "      <td>44.749921</td>\n",
       "    </tr>\n",
       "    <tr>\n",
       "      <th>min</th>\n",
       "      <td>-8.760004</td>\n",
       "      <td>-7.084020</td>\n",
       "      <td>-11.970335</td>\n",
       "      <td>0.000000</td>\n",
       "    </tr>\n",
       "    <tr>\n",
       "      <th>25%</th>\n",
       "      <td>-1.162288</td>\n",
       "      <td>-1.174820</td>\n",
       "      <td>0.130359</td>\n",
       "      <td>59.450441</td>\n",
       "    </tr>\n",
       "    <tr>\n",
       "      <th>50%</th>\n",
       "      <td>0.009424</td>\n",
       "      <td>-0.009482</td>\n",
       "      <td>2.484236</td>\n",
       "      <td>94.925613</td>\n",
       "    </tr>\n",
       "    <tr>\n",
       "      <th>75%</th>\n",
       "      <td>1.158535</td>\n",
       "      <td>1.163678</td>\n",
       "      <td>4.858794</td>\n",
       "      <td>130.595027</td>\n",
       "    </tr>\n",
       "    <tr>\n",
       "      <th>max</th>\n",
       "      <td>7.238262</td>\n",
       "      <td>7.844801</td>\n",
       "      <td>16.739402</td>\n",
       "      <td>190.029838</td>\n",
       "    </tr>\n",
       "  </tbody>\n",
       "</table>\n",
       "</div>"
      ],
      "text/plain": [
       "                  f0             f1             f2        product\n",
       "count  100000.000000  100000.000000  100000.000000  100000.000000\n",
       "mean        0.002023      -0.002081       2.495128      95.000000\n",
       "std         1.732045       1.730417       3.473445      44.749921\n",
       "min        -8.760004      -7.084020     -11.970335       0.000000\n",
       "25%        -1.162288      -1.174820       0.130359      59.450441\n",
       "50%         0.009424      -0.009482       2.484236      94.925613\n",
       "75%         1.158535       1.163678       4.858794     130.595027\n",
       "max         7.238262       7.844801      16.739402     190.029838"
      ]
     },
     "metadata": {},
     "output_type": "display_data"
    },
    {
     "data": {
      "text/plain": [
       "'Общая информация:'"
      ]
     },
     "metadata": {},
     "output_type": "display_data"
    },
    {
     "name": "stdout",
     "output_type": "stream",
     "text": [
      "<class 'pandas.core.frame.DataFrame'>\n",
      "RangeIndex: 100000 entries, 0 to 99999\n",
      "Data columns (total 5 columns):\n",
      " #   Column   Non-Null Count   Dtype  \n",
      "---  ------   --------------   -----  \n",
      " 0   id       100000 non-null  object \n",
      " 1   f0       100000 non-null  float64\n",
      " 2   f1       100000 non-null  float64\n",
      " 3   f2       100000 non-null  float64\n",
      " 4   product  100000 non-null  float64\n",
      "dtypes: float64(4), object(1)\n",
      "memory usage: 3.8+ MB\n"
     ]
    },
    {
     "data": {
      "text/plain": [
       "'Явные дубликаты:'"
      ]
     },
     "metadata": {},
     "output_type": "display_data"
    },
    {
     "data": {
      "text/plain": [
       "0"
      ]
     },
     "metadata": {},
     "output_type": "display_data"
    },
    {
     "data": {
      "text/plain": [
       "'Сортировка и количество пропущенных значений:'"
      ]
     },
     "metadata": {},
     "output_type": "display_data"
    },
    {
     "data": {
      "text/plain": [
       "id         0\n",
       "f0         0\n",
       "f1         0\n",
       "f2         0\n",
       "product    0\n",
       "dtype: int64"
      ]
     },
     "metadata": {},
     "output_type": "display_data"
    },
    {
     "data": {
      "text/plain": [
       "'Гистограмма:'"
      ]
     },
     "metadata": {},
     "output_type": "display_data"
    },
    {
     "data": {
      "image/png": "[encoded data removed]",
      "text/plain": [
       "<Figure size 1080x2160 with 4 Axes>"
      ]
     },
     "metadata": {
      "needs_background": "light"
     },
     "output_type": "display_data"
    }
   ],
   "source": [
    "display(\"data[2]\")\n",
    "analyze_dataframe(data[2])"
   ]
  },
  {
   "cell_type": "markdown",
   "metadata": {},
   "source": [
    "### Промежуточные выводы:"
   ]
  },
  {
   "cell_type": "markdown",
   "metadata": {},
   "source": [
    "1. Последовательность столбцов логична\n",
    "2. Явных дубликатов - нет\n",
    "3. Столбец 'id' не принесёт пользы при обучении моделей, удалим\n",
    "4. Значения и тип данных выглядят хорошо, масштабирование и изменение типа не потребуется"
   ]
  },
  {
   "cell_type": "markdown",
   "metadata": {},
   "source": [
    "Удаляем столбец id"
   ]
  },
  {
   "cell_type": "code",
   "execution_count": 6,
   "metadata": {},
   "outputs": [],
   "source": [
    "data[0] = data[0].drop('id', axis=1)\n",
    "data[1] = data[1].drop('id', axis=1)\n",
    "data[2] = data[2].drop('id', axis=1)"
   ]
  },
  {
   "cell_type": "markdown",
   "metadata": {},
   "source": [
    "Данные подготовленны!"
   ]
  },
  {
   "cell_type": "markdown",
   "metadata": {},
   "source": [
    "## Обучение и проверка модели"
   ]
  },
  {
   "cell_type": "markdown",
   "metadata": {},
   "source": [
    "### Обучение модели"
   ]
  },
  {
   "cell_type": "markdown",
   "metadata": {},
   "source": [
    "Напишем собственную функцию, которая:\n",
    "1. Разбьёт данные на обучающую и валидационную выборки в соотношении 75:25.\n",
    "2. Обучит модель и сделает предсказания на валидационной выборке.\n",
    "3. Сохранит предсказание и правильные ответы на валидационной выборке.\n",
    "4. Напечатает на экране средний запас предсказанного сырья и RMSE модели."
   ]
  },
  {
   "cell_type": "code",
   "execution_count": 7,
   "metadata": {},
   "outputs": [],
   "source": [
    "def train_and_evaluate_model(data):\n",
    "    X = data.drop('product', axis=1)\n",
    "    Y = data['product']\n",
    "    X_train, X_valid, Y_train, Y_valid = train_test_split(X, Y, test_size=0.25, random_state=12345)\n",
    "\n",
    "    model = LinearRegression()\n",
    "    model.fit(X_train, Y_train)\n",
    "    \n",
    "    Y_pred = model.predict(X_valid)\n",
    "    \n",
    "    predictions = pd.Series(Y_pred, index=X_valid.index, name='predicted_product')\n",
    "    results = pd.concat([predictions, Y_valid], axis=1)\n",
    "    \n",
    "    average_predicted_product = predictions.mean()\n",
    "    rmse = mean_squared_error(Y_valid, Y_pred, squared=False)\n",
    "    print(\"Средний запас предсказанного сырья:\", average_predicted_product, \"тыс.\")\n",
    "    print(\"RMSE модели:\", rmse)\n",
    "    #сохранение результатов\n",
    "    return results"
   ]
  },
  {
   "cell_type": "code",
   "execution_count": 8,
   "metadata": {},
   "outputs": [
    {
     "name": "stdout",
     "output_type": "stream",
     "text": [
      "Средний запас предсказанного сырья: 92.59256778438035 тыс.\n",
      "RMSE модели: 37.5794217150813\n",
      "Средний запас предсказанного сырья: 68.728546895446 тыс.\n",
      "RMSE модели: 0.893099286775617\n",
      "Средний запас предсказанного сырья: 94.96504596800489 тыс.\n",
      "RMSE модели: 40.02970873393434\n"
     ]
    }
   ],
   "source": [
    "results_0 = train_and_evaluate_model(data[0])\n",
    "results_1 = train_and_evaluate_model(data[1])\n",
    "results_2 = train_and_evaluate_model(data[2])"
   ]
  },
  {
   "cell_type": "markdown",
   "metadata": {},
   "source": [
    "### Промежуточные выводы"
   ]
  },
  {
   "cell_type": "markdown",
   "metadata": {},
   "source": [
    "1. Первый регион\n",
    "\n",
    "    1) Средний запас предсказанного сырья составляет 92.59 тыс. баррелей.\n",
    "    \n",
    "    2) RMSE модели составляет 37.58, что означает, что среднеквадратичная ошибка предсказания модели составляет около 37.58 тыс. баррелей.\n",
    "    \n",
    "    3) Средний предсказанный запас сырья (92.59) близок к среднему значению (mean) запаса сырья (92.50).\n",
    "    \n",
    "    \n",
    "2. Второй регион\n",
    "\n",
    "    1) Средний запас предсказанного сырья составляет 68.73 тыс. баррелей.\n",
    "    \n",
    "    2) RMSE модели составляет 0.89, что означает, что модель дает точные предсказания с очень низкой среднеквадратичной ошибкой.\n",
    "    \n",
    "    3) Средний предсказанный запас сырья (68.73) близок к среднему значению (mean) запаса сырья (68.82).\n",
    "\n",
    "\n",
    "3. Третий регион:\n",
    "\n",
    "    1) Средний запас предсказанного сырья составляет 94.97 тыс. баррелей.\n",
    "    \n",
    "    2) RMSE модели составляет 40.03, что означает, что среднеквадратичная ошибка предсказания модели составляет около 40.03 тыс. баррелей.\n",
    "    \n",
    "    3) Средний предсказанный запас сырья (94.97) близок к среднему значению (mean) запаса сырья (95.00)."
   ]
  },
  {
   "cell_type": "markdown",
   "metadata": {},
   "source": [
    "## Подготовка к расчёту прибыли"
   ]
  },
  {
   "cell_type": "markdown",
   "metadata": {},
   "source": [
    "### Рассчёт достаточного объёма и сравнение"
   ]
  },
  {
   "cell_type": "code",
   "execution_count": 9,
   "metadata": {},
   "outputs": [],
   "source": [
    "# Ключевые значения для расчетов\n",
    "BUDGET = 10_000_000_000\n",
    "REVENUE_PER_BARREL = 450_000\n",
    "NUM_SAMPLES = 500\n",
    "NUM_BEST_SAMPLES = 200"
   ]
  },
  {
   "cell_type": "code",
   "execution_count": 10,
   "metadata": {},
   "outputs": [
    {
     "name": "stdout",
     "output_type": "stream",
     "text": [
      "Достаточный объем сырья для безубыточной разработки: 111.11 тыс. баррелей\n"
     ]
    }
   ],
   "source": [
    "breakeven_volume = BUDGET / (REVENUE_PER_BARREL * NUM_BEST_SAMPLES)\n",
    "print(\"Достаточный объем сырья для безубыточной разработки: {:.2f} тыс. баррелей\".format(breakeven_volume))"
   ]
  },
  {
   "cell_type": "code",
   "execution_count": 11,
   "metadata": {},
   "outputs": [],
   "source": [
    "def calculate_profitability(region_data):\n",
    "    average_volume = region_data['product'].mean()\n",
    "    profitability_check =  average_volume/breakeven_volume*100\n",
    "    print(\"Средний запас сырья в регионе: {:.2f} тыс. баррелей\".format(average_volume))\n",
    "    print(\"Процент окупаемости разработки: {:.2f}%\".format(profitability_check))"
   ]
  },
  {
   "cell_type": "code",
   "execution_count": 12,
   "metadata": {},
   "outputs": [
    {
     "name": "stdout",
     "output_type": "stream",
     "text": [
      "Регион 1\n",
      "Средний запас сырья в регионе: 92.50 тыс. баррелей\n",
      "Процент окупаемости разработки: 83.25%\n",
      "Регион 2\n",
      "Средний запас сырья в регионе: 68.83 тыс. баррелей\n",
      "Процент окупаемости разработки: 61.94%\n",
      "Регион 3\n",
      "Средний запас сырья в регионе: 95.00 тыс. баррелей\n",
      "Процент окупаемости разработки: 85.50%\n"
     ]
    }
   ],
   "source": [
    "print(\"Регион 1\")\n",
    "calculate_profitability(data[0])\n",
    "print(\"Регион 2\")\n",
    "calculate_profitability(data[1])\n",
    "print(\"Регион 3\")\n",
    "calculate_profitability(data[2])"
   ]
  },
  {
   "cell_type": "markdown",
   "metadata": {},
   "source": [
    "### Промежуточные выводы:"
   ]
  },
  {
   "cell_type": "markdown",
   "metadata": {},
   "source": [
    "1. Достаточный объем сырья для безубыточной разработки: 111.11 тыс. баррелей\n",
    "\n",
    "    Регион 1\n",
    "    Средний запас сырья в регионе: 92.50 тыс. баррелей\n",
    "    Процент окупаемости разработки: 83.25%\n",
    "    \n",
    "    Регион 2\n",
    "    Средний запас сырья в регионе: 68.83 тыс. баррелей\n",
    "    Процент окупаемости разработки: 61.94%\n",
    "    \n",
    "    Регион 3\n",
    "    Средний запас сырья в регионе: 95.00 тыс. баррелей\n",
    "    Процент окупаемости разработки: 85.50%\n",
    "    \n",
    "    \n",
    "    \n",
    "2. Во всех регионах объём сырья меньше, чем объём, необходимый для безубыточной разработки"
   ]
  },
  {
   "cell_type": "markdown",
   "metadata": {},
   "source": [
    "## Расчёт прибыли и рисков "
   ]
  },
  {
   "cell_type": "markdown",
   "metadata": {},
   "source": [
    "Функция расчёта прибыли"
   ]
  },
  {
   "cell_type": "code",
   "execution_count": 13,
   "metadata": {},
   "outputs": [],
   "source": [
    "def calculate_profit(target, predictions, to_chose):\n",
    "    sorted_predictions = predictions.sort_values(ascending=False)\n",
    "    \n",
    "    revenue = target[sorted_predictions.index][:to_chose].sum()\n",
    "    \n",
    "    return revenue * REVENUE_PER_BARREL - BUDGET"
   ]
  },
  {
   "cell_type": "markdown",
   "metadata": {},
   "source": [
    "### Расчитаем прибыль и риски для каждого региона:"
   ]
  },
  {
   "cell_type": "code",
   "execution_count": 14,
   "metadata": {},
   "outputs": [],
   "source": [
    "state = np.random.RandomState(12345)\n",
    "def calculate_region_results(results):\n",
    "    profits = []\n",
    "\n",
    "    for i in range(1000):\n",
    "        bootstrap_sample = results.sample(NUM_SAMPLES, replace=True, random_state=state)\n",
    "        profit = calculate_profit(bootstrap_sample['product'], bootstrap_sample['predicted_product'], NUM_BEST_SAMPLES)\n",
    "        profits.append(profit)\n",
    "        \n",
    "    mean_profit = np.mean(profits)\n",
    "    confidence_interval = np.percentile(profits, [2.5, 97.5])\n",
    "    loss_probability = np.mean(np.array(profits) < 0)\n",
    "    print(\"Средняя прибыль:\", mean_profit)\n",
    "    print(\"Доверительный интервал (95%):\", confidence_interval)\n",
    "    print(\"Риск убытков:\", loss_probability)"
   ]
  },
  {
   "cell_type": "code",
   "execution_count": 15,
   "metadata": {},
   "outputs": [
    {
     "name": "stdout",
     "output_type": "stream",
     "text": [
      "Результаты расчета рисков и прибыли для каждого региона:\n",
      "Регион 1:\n",
      "Средняя прибыль: 425938526.91059244\n",
      "Доверительный интервал (95%): [-1.02090095e+08  9.47976353e+08]\n",
      "Риск убытков: 0.06\n",
      "Регион 2:\n",
      "Средняя прибыль: 518259493.6973249\n",
      "Доверительный интервал (95%): [1.28123231e+08 9.53612982e+08]\n",
      "Риск убытков: 0.003\n",
      "Регион 3:\n",
      "Средняя прибыль: 420194005.3440501\n",
      "Доверительный интервал (95%): [-1.15852609e+08  9.89629940e+08]\n",
      "Риск убытков: 0.062\n"
     ]
    }
   ],
   "source": [
    "print(\"Результаты расчета рисков и прибыли для каждого региона:\")\n",
    "print(\"Регион 1:\")\n",
    "calculate_region_results(results_0)\n",
    "print(\"Регион 2:\")\n",
    "calculate_region_results(results_1)\n",
    "print(\"Регион 3:\")\n",
    "calculate_region_results(results_2)"
   ]
  },
  {
   "cell_type": "markdown",
   "metadata": {},
   "source": [
    "### Вывод"
   ]
  },
  {
   "cell_type": "markdown",
   "metadata": {},
   "source": [
    "С учетом полученных данных, регион 2 демонстрирует наилучшие результаты:\n",
    "\n",
    "1. Он имеет самую высокую среднюю прибыль среди всех регионов.\n",
    "\n",
    "2. Доверительный интервал для региона 2 также шире, что указывает на большую стабильность прибыли.\n",
    "\n",
    "3. Риск убытков для региона 2 составляет всего 0.003 (0.3%), что говорит о малой вероятности убытков.\n",
    "\n",
    "\n",
    "На основе этих данных, рекомендуется выбрать регион 2 для разработки скважин, так как он показывает наилучшие результаты с точки зрения прибыли и рисков."
   ]
  },
  {
   "cell_type": "code",
   "execution_count": null,
   "metadata": {},
   "outputs": [],
   "source": []
  }
 ],
 "metadata": {
  "ExecuteTimeLog": [
   {
    "duration": 47,
    "start_time": "2023-06-02T23:45:49.587Z"
   },
   {
    "duration": 821,
    "start_time": "2023-06-02T23:45:51.373Z"
   },
   {
    "duration": 838,
    "start_time": "2023-06-02T23:45:53.413Z"
   },
   {
    "duration": 796,
    "start_time": "2023-06-02T23:46:05.290Z"
   },
   {
    "duration": 835,
    "start_time": "2023-06-02T23:46:42.257Z"
   },
   {
    "duration": 830,
    "start_time": "2023-06-02T23:46:43.095Z"
   },
   {
    "duration": 19,
    "start_time": "2023-06-02T23:56:55.632Z"
   },
   {
    "duration": 6,
    "start_time": "2023-06-03T00:09:08.413Z"
   },
   {
    "duration": 41,
    "start_time": "2023-06-03T00:09:17.330Z"
   },
   {
    "duration": 736,
    "start_time": "2023-06-03T00:09:42.561Z"
   },
   {
    "duration": 56,
    "start_time": "2023-06-03T00:09:48.172Z"
   },
   {
    "duration": 21,
    "start_time": "2023-06-03T00:11:25.285Z"
   },
   {
    "duration": 367,
    "start_time": "2023-06-03T00:11:28.880Z"
   },
   {
    "duration": 1436,
    "start_time": "2023-06-03T00:12:13.522Z"
   },
   {
    "duration": 397,
    "start_time": "2023-06-03T00:12:14.960Z"
   },
   {
    "duration": 754,
    "start_time": "2023-06-03T00:12:15.359Z"
   },
   {
    "duration": 687,
    "start_time": "2023-06-03T00:12:16.116Z"
   },
   {
    "duration": 1257,
    "start_time": "2023-06-03T00:12:16.805Z"
   },
   {
    "duration": 20,
    "start_time": "2023-06-03T00:12:18.064Z"
   },
   {
    "duration": 81,
    "start_time": "2023-06-03T00:12:18.086Z"
   },
   {
    "duration": 484,
    "start_time": "2023-06-03T00:12:18.169Z"
   },
   {
    "duration": 5,
    "start_time": "2023-06-03T00:27:33.356Z"
   },
   {
    "duration": 306,
    "start_time": "2023-06-03T00:27:35.247Z"
   },
   {
    "duration": 54,
    "start_time": "2023-06-03T00:31:14.087Z"
   },
   {
    "duration": 4,
    "start_time": "2023-06-03T00:31:45.974Z"
   },
   {
    "duration": 253,
    "start_time": "2023-06-03T00:31:46.600Z"
   },
   {
    "duration": 105,
    "start_time": "2023-06-03T01:01:35.657Z"
   },
   {
    "duration": 5,
    "start_time": "2023-06-03T01:01:37.645Z"
   },
   {
    "duration": 10,
    "start_time": "2023-06-03T01:01:37.862Z"
   },
   {
    "duration": 4,
    "start_time": "2023-06-03T01:01:46.138Z"
   },
   {
    "duration": 8,
    "start_time": "2023-06-03T01:01:46.539Z"
   },
   {
    "duration": 5,
    "start_time": "2023-06-03T01:01:52.166Z"
   },
   {
    "duration": 7,
    "start_time": "2023-06-03T01:01:52.771Z"
   },
   {
    "duration": 4,
    "start_time": "2023-06-03T01:10:57.235Z"
   },
   {
    "duration": 6,
    "start_time": "2023-06-03T01:10:58.381Z"
   },
   {
    "duration": 3,
    "start_time": "2023-06-03T01:14:35.222Z"
   },
   {
    "duration": 6,
    "start_time": "2023-06-03T01:14:35.734Z"
   },
   {
    "duration": 4,
    "start_time": "2023-06-03T01:16:05.924Z"
   },
   {
    "duration": 6,
    "start_time": "2023-06-03T01:16:06.475Z"
   },
   {
    "duration": 3,
    "start_time": "2023-06-03T01:16:52.853Z"
   },
   {
    "duration": 7,
    "start_time": "2023-06-03T01:16:53.859Z"
   },
   {
    "duration": 7,
    "start_time": "2023-06-03T01:17:45.972Z"
   },
   {
    "duration": 4,
    "start_time": "2023-06-03T01:42:20.565Z"
   },
   {
    "duration": 4,
    "start_time": "2023-06-03T01:45:52.554Z"
   },
   {
    "duration": 11,
    "start_time": "2023-06-03T01:45:53.021Z"
   },
   {
    "duration": 277,
    "start_time": "2023-06-03T01:47:44.574Z"
   },
   {
    "duration": 6,
    "start_time": "2023-06-03T01:47:47.033Z"
   },
   {
    "duration": 295,
    "start_time": "2023-06-03T01:47:48.756Z"
   },
   {
    "duration": 9,
    "start_time": "2023-06-03T01:47:52.773Z"
   },
   {
    "duration": 11,
    "start_time": "2023-06-03T01:49:43.063Z"
   },
   {
    "duration": 16,
    "start_time": "2023-06-03T01:53:20.833Z"
   },
   {
    "duration": 4,
    "start_time": "2023-06-03T01:53:42.049Z"
   },
   {
    "duration": 21,
    "start_time": "2023-06-03T01:53:50.404Z"
   },
   {
    "duration": 5,
    "start_time": "2023-06-03T01:54:48.480Z"
   },
   {
    "duration": 17,
    "start_time": "2023-06-03T01:54:49.211Z"
   },
   {
    "duration": 5,
    "start_time": "2023-06-03T01:55:02.544Z"
   },
   {
    "duration": 15,
    "start_time": "2023-06-03T01:55:03.431Z"
   },
   {
    "duration": 51,
    "start_time": "2023-06-03T12:12:17.552Z"
   },
   {
    "duration": 1454,
    "start_time": "2023-06-03T12:12:21.958Z"
   },
   {
    "duration": 835,
    "start_time": "2023-06-03T12:12:23.415Z"
   },
   {
    "duration": 699,
    "start_time": "2023-06-03T12:12:24.252Z"
   },
   {
    "duration": 761,
    "start_time": "2023-06-03T12:12:24.953Z"
   },
   {
    "duration": 791,
    "start_time": "2023-06-03T12:12:25.716Z"
   },
   {
    "duration": 13,
    "start_time": "2023-06-03T12:12:26.508Z"
   },
   {
    "duration": 27,
    "start_time": "2023-06-03T12:12:26.523Z"
   },
   {
    "duration": 270,
    "start_time": "2023-06-03T12:12:26.551Z"
   },
   {
    "duration": 5,
    "start_time": "2023-06-03T12:12:26.827Z"
   },
   {
    "duration": 182,
    "start_time": "2023-06-03T12:12:26.835Z"
   },
   {
    "duration": 21,
    "start_time": "2023-06-03T12:12:27.019Z"
   },
   {
    "duration": 13,
    "start_time": "2023-06-03T12:12:27.042Z"
   },
   {
    "duration": 14,
    "start_time": "2023-06-03T12:12:27.057Z"
   },
   {
    "duration": 193,
    "start_time": "2023-06-03T12:12:27.074Z"
   },
   {
    "duration": 3,
    "start_time": "2023-06-03T12:15:40.093Z"
   },
   {
    "duration": 10,
    "start_time": "2023-06-03T12:15:40.723Z"
   },
   {
    "duration": 25,
    "start_time": "2023-06-03T12:17:48.771Z"
   },
   {
    "duration": 18,
    "start_time": "2023-06-03T12:18:00.182Z"
   },
   {
    "duration": 3,
    "start_time": "2023-06-03T12:20:22.333Z"
   },
   {
    "duration": 17,
    "start_time": "2023-06-03T12:20:23.139Z"
   },
   {
    "duration": 11,
    "start_time": "2023-06-03T12:24:44.873Z"
   },
   {
    "duration": 1192,
    "start_time": "2023-06-03T12:30:55.051Z"
   },
   {
    "duration": 3056,
    "start_time": "2023-06-03T12:31:32.117Z"
   },
   {
    "duration": 2930,
    "start_time": "2023-06-03T12:37:22.321Z"
   },
   {
    "duration": 1255,
    "start_time": "2023-06-03T12:37:50.402Z"
   },
   {
    "duration": 322,
    "start_time": "2023-06-03T12:37:51.659Z"
   },
   {
    "duration": 587,
    "start_time": "2023-06-03T12:37:51.982Z"
   },
   {
    "duration": 574,
    "start_time": "2023-06-03T12:37:52.570Z"
   },
   {
    "duration": 647,
    "start_time": "2023-06-03T12:37:53.145Z"
   },
   {
    "duration": 14,
    "start_time": "2023-06-03T12:37:53.793Z"
   },
   {
    "duration": 10,
    "start_time": "2023-06-03T12:37:53.808Z"
   },
   {
    "duration": 307,
    "start_time": "2023-06-03T12:37:53.819Z"
   },
   {
    "duration": 89,
    "start_time": "2023-06-03T12:37:54.127Z"
   },
   {
    "duration": 98,
    "start_time": "2023-06-03T12:37:54.219Z"
   },
   {
    "duration": 6,
    "start_time": "2023-06-03T12:37:54.318Z"
   },
   {
    "duration": 9,
    "start_time": "2023-06-03T12:37:54.325Z"
   },
   {
    "duration": 6,
    "start_time": "2023-06-03T12:37:54.336Z"
   },
   {
    "duration": 4079,
    "start_time": "2023-06-03T12:37:54.343Z"
   },
   {
    "duration": 2955,
    "start_time": "2023-06-03T12:38:58.543Z"
   },
   {
    "duration": 1444,
    "start_time": "2023-06-03T12:52:06.082Z"
   },
   {
    "duration": 615,
    "start_time": "2023-06-03T12:52:07.528Z"
   },
   {
    "duration": 926,
    "start_time": "2023-06-03T12:52:08.145Z"
   },
   {
    "duration": 571,
    "start_time": "2023-06-03T12:52:09.073Z"
   },
   {
    "duration": 699,
    "start_time": "2023-06-03T12:52:09.645Z"
   },
   {
    "duration": 13,
    "start_time": "2023-06-03T12:52:10.345Z"
   },
   {
    "duration": 13,
    "start_time": "2023-06-03T12:52:10.360Z"
   },
   {
    "duration": 344,
    "start_time": "2023-06-03T12:52:10.375Z"
   },
   {
    "duration": 3,
    "start_time": "2023-06-03T12:52:10.721Z"
   },
   {
    "duration": 95,
    "start_time": "2023-06-03T12:52:10.727Z"
   },
   {
    "duration": 12,
    "start_time": "2023-06-03T12:52:10.824Z"
   },
   {
    "duration": 34,
    "start_time": "2023-06-03T12:52:10.837Z"
   },
   {
    "duration": 12,
    "start_time": "2023-06-03T12:52:10.873Z"
   },
   {
    "duration": 3098,
    "start_time": "2023-06-03T12:52:10.886Z"
   },
   {
    "duration": 3,
    "start_time": "2023-06-03T13:00:29.459Z"
   },
   {
    "duration": 7,
    "start_time": "2023-06-03T13:00:32.653Z"
   },
   {
    "duration": 1228,
    "start_time": "2023-06-03T13:01:58.964Z"
   },
   {
    "duration": 355,
    "start_time": "2023-06-03T13:02:00.194Z"
   },
   {
    "duration": 689,
    "start_time": "2023-06-03T13:02:00.550Z"
   },
   {
    "duration": 651,
    "start_time": "2023-06-03T13:02:01.241Z"
   },
   {
    "duration": 748,
    "start_time": "2023-06-03T13:02:01.895Z"
   },
   {
    "duration": 15,
    "start_time": "2023-06-03T13:02:02.645Z"
   },
   {
    "duration": 23,
    "start_time": "2023-06-03T13:02:02.662Z"
   },
   {
    "duration": 239,
    "start_time": "2023-06-03T13:02:02.687Z"
   },
   {
    "duration": 88,
    "start_time": "2023-06-03T13:02:02.928Z"
   },
   {
    "duration": 96,
    "start_time": "2023-06-03T13:02:03.020Z"
   },
   {
    "duration": 4,
    "start_time": "2023-06-03T13:02:03.118Z"
   },
   {
    "duration": 13,
    "start_time": "2023-06-03T13:02:03.124Z"
   },
   {
    "duration": 6,
    "start_time": "2023-06-03T13:02:03.139Z"
   },
   {
    "duration": 3279,
    "start_time": "2023-06-03T13:02:03.147Z"
   },
   {
    "duration": 1777,
    "start_time": "2023-06-03T16:14:56.230Z"
   },
   {
    "duration": 1022,
    "start_time": "2023-06-03T16:14:58.010Z"
   },
   {
    "duration": 836,
    "start_time": "2023-06-03T16:14:59.034Z"
   },
   {
    "duration": 736,
    "start_time": "2023-06-03T16:14:59.872Z"
   },
   {
    "duration": 924,
    "start_time": "2023-06-03T16:15:00.610Z"
   },
   {
    "duration": 27,
    "start_time": "2023-06-03T16:15:01.536Z"
   },
   {
    "duration": 47,
    "start_time": "2023-06-03T16:15:01.565Z"
   },
   {
    "duration": 350,
    "start_time": "2023-06-03T16:15:01.613Z"
   },
   {
    "duration": 75,
    "start_time": "2023-06-03T16:15:01.976Z"
   },
   {
    "duration": 45,
    "start_time": "2023-06-03T16:15:02.070Z"
   },
   {
    "duration": 66,
    "start_time": "2023-06-03T16:15:02.117Z"
   },
   {
    "duration": 46,
    "start_time": "2023-06-03T16:15:02.185Z"
   },
   {
    "duration": 54,
    "start_time": "2023-06-03T16:15:02.233Z"
   },
   {
    "duration": 4413,
    "start_time": "2023-06-03T16:15:02.289Z"
   },
   {
    "duration": 1820,
    "start_time": "2023-06-04T10:12:28.010Z"
   },
   {
    "duration": 1886,
    "start_time": "2023-06-04T10:12:29.833Z"
   },
   {
    "duration": 925,
    "start_time": "2023-06-04T10:12:31.721Z"
   },
   {
    "duration": 820,
    "start_time": "2023-06-04T10:12:32.649Z"
   },
   {
    "duration": 929,
    "start_time": "2023-06-04T10:12:33.471Z"
   },
   {
    "duration": 17,
    "start_time": "2023-06-04T10:12:34.402Z"
   },
   {
    "duration": 6,
    "start_time": "2023-06-04T10:12:34.421Z"
   },
   {
    "duration": 429,
    "start_time": "2023-06-04T10:12:34.429Z"
   },
   {
    "duration": 4,
    "start_time": "2023-06-04T10:12:34.860Z"
   },
   {
    "duration": 7,
    "start_time": "2023-06-04T10:12:34.866Z"
   },
   {
    "duration": 84,
    "start_time": "2023-06-04T10:12:34.875Z"
   },
   {
    "duration": 11,
    "start_time": "2023-06-04T10:12:34.961Z"
   },
   {
    "duration": 3,
    "start_time": "2023-06-04T10:12:34.974Z"
   },
   {
    "duration": 4537,
    "start_time": "2023-06-04T10:12:34.979Z"
   },
   {
    "duration": 13,
    "start_time": "2023-06-04T10:42:16.625Z"
   },
   {
    "duration": 1507,
    "start_time": "2023-06-04T12:46:37.114Z"
   },
   {
    "duration": 811,
    "start_time": "2023-06-04T12:53:35.739Z"
   },
   {
    "duration": 102,
    "start_time": "2023-06-04T12:53:47.457Z"
   },
   {
    "duration": 15,
    "start_time": "2023-06-04T12:53:58.406Z"
   },
   {
    "duration": 365,
    "start_time": "2023-06-04T12:54:37.943Z"
   },
   {
    "duration": 15,
    "start_time": "2023-06-04T12:55:15.460Z"
   },
   {
    "duration": 15,
    "start_time": "2023-06-04T12:55:23.826Z"
   },
   {
    "duration": 39,
    "start_time": "2023-06-04T12:55:31.265Z"
   },
   {
    "duration": 1237,
    "start_time": "2023-06-04T13:03:55.952Z"
   },
   {
    "duration": 362,
    "start_time": "2023-06-04T13:03:58.700Z"
   },
   {
    "duration": 734,
    "start_time": "2023-06-04T13:04:01.359Z"
   },
   {
    "duration": 943,
    "start_time": "2023-06-04T13:06:21.972Z"
   },
   {
    "duration": 48,
    "start_time": "2023-06-04T13:06:47.796Z"
   },
   {
    "duration": 662,
    "start_time": "2023-06-04T13:06:53.820Z"
   },
   {
    "duration": 692,
    "start_time": "2023-06-04T13:09:25.212Z"
   },
   {
    "duration": 702,
    "start_time": "2023-06-04T13:09:36.033Z"
   },
   {
    "duration": 8,
    "start_time": "2023-06-04T13:10:13.514Z"
   },
   {
    "duration": 0,
    "start_time": "2023-06-04T13:12:48.114Z"
   },
   {
    "duration": 1301,
    "start_time": "2023-06-04T13:12:55.191Z"
   },
   {
    "duration": 360,
    "start_time": "2023-06-04T13:12:56.722Z"
   },
   {
    "duration": 1193,
    "start_time": "2023-06-04T13:12:58.908Z"
   },
   {
    "duration": 1486,
    "start_time": "2023-06-04T13:13:14.453Z"
   },
   {
    "duration": 839,
    "start_time": "2023-06-04T13:13:43.076Z"
   },
   {
    "duration": 564,
    "start_time": "2023-06-04T13:13:57.162Z"
   },
   {
    "duration": 985,
    "start_time": "2023-06-04T13:14:02.887Z"
   },
   {
    "duration": 776,
    "start_time": "2023-06-04T13:15:23.799Z"
   },
   {
    "duration": 1359,
    "start_time": "2023-06-04T13:15:44.637Z"
   },
   {
    "duration": 373,
    "start_time": "2023-06-04T13:15:45.998Z"
   },
   {
    "duration": 821,
    "start_time": "2023-06-04T13:15:47.157Z"
   },
   {
    "duration": 882,
    "start_time": "2023-06-04T13:15:53.832Z"
   },
   {
    "duration": 858,
    "start_time": "2023-06-04T13:16:05.048Z"
   },
   {
    "duration": 791,
    "start_time": "2023-06-04T13:16:18.462Z"
   },
   {
    "duration": 618,
    "start_time": "2023-06-04T13:16:28.778Z"
   },
   {
    "duration": 795,
    "start_time": "2023-06-04T13:16:35.415Z"
   },
   {
    "duration": 829,
    "start_time": "2023-06-04T13:17:03.495Z"
   },
   {
    "duration": 534,
    "start_time": "2023-06-04T13:17:18.290Z"
   },
   {
    "duration": 946,
    "start_time": "2023-06-04T13:21:54.469Z"
   },
   {
    "duration": 1287,
    "start_time": "2023-06-04T13:22:12.500Z"
   },
   {
    "duration": 709,
    "start_time": "2023-06-04T13:22:47.873Z"
   },
   {
    "duration": 670,
    "start_time": "2023-06-04T13:24:00.737Z"
   },
   {
    "duration": 792,
    "start_time": "2023-06-04T13:24:10.134Z"
   },
   {
    "duration": 831,
    "start_time": "2023-06-04T13:24:26.709Z"
   },
   {
    "duration": 1189,
    "start_time": "2023-06-04T13:24:56.780Z"
   },
   {
    "duration": 365,
    "start_time": "2023-06-04T13:24:57.971Z"
   },
   {
    "duration": 787,
    "start_time": "2023-06-04T13:24:58.338Z"
   },
   {
    "duration": 690,
    "start_time": "2023-06-04T13:24:59.127Z"
   },
   {
    "duration": 802,
    "start_time": "2023-06-04T13:24:59.819Z"
   },
   {
    "duration": 121,
    "start_time": "2023-06-04T13:25:00.623Z"
   },
   {
    "duration": 0,
    "start_time": "2023-06-04T13:25:00.746Z"
   },
   {
    "duration": 0,
    "start_time": "2023-06-04T13:25:00.747Z"
   },
   {
    "duration": 0,
    "start_time": "2023-06-04T13:25:00.748Z"
   },
   {
    "duration": 0,
    "start_time": "2023-06-04T13:25:00.749Z"
   },
   {
    "duration": 0,
    "start_time": "2023-06-04T13:25:00.750Z"
   },
   {
    "duration": 0,
    "start_time": "2023-06-04T13:25:00.751Z"
   },
   {
    "duration": 0,
    "start_time": "2023-06-04T13:25:00.753Z"
   },
   {
    "duration": 0,
    "start_time": "2023-06-04T13:25:00.754Z"
   },
   {
    "duration": 12,
    "start_time": "2023-06-04T13:26:05.025Z"
   },
   {
    "duration": 9,
    "start_time": "2023-06-04T13:26:20.852Z"
   },
   {
    "duration": 4,
    "start_time": "2023-06-04T13:26:25.252Z"
   },
   {
    "duration": 352,
    "start_time": "2023-06-04T13:26:26.085Z"
   },
   {
    "duration": 6,
    "start_time": "2023-06-04T13:45:50.642Z"
   },
   {
    "duration": 4,
    "start_time": "2023-06-04T13:47:07.654Z"
   },
   {
    "duration": 4,
    "start_time": "2023-06-04T13:47:08.734Z"
   },
   {
    "duration": 3,
    "start_time": "2023-06-04T13:47:09.588Z"
   },
   {
    "duration": 7,
    "start_time": "2023-06-04T13:47:11.811Z"
   },
   {
    "duration": 6,
    "start_time": "2023-06-04T13:47:15.835Z"
   },
   {
    "duration": 10,
    "start_time": "2023-06-04T13:47:21.025Z"
   },
   {
    "duration": 4085,
    "start_time": "2023-06-04T13:47:21.612Z"
   },
   {
    "duration": 3707,
    "start_time": "2023-06-04T13:47:30.127Z"
   },
   {
    "duration": 5,
    "start_time": "2023-06-04T13:49:39.254Z"
   },
   {
    "duration": 4297,
    "start_time": "2023-06-04T13:49:39.529Z"
   },
   {
    "duration": 3964,
    "start_time": "2023-06-04T13:49:46.901Z"
   },
   {
    "duration": 4,
    "start_time": "2023-06-04T13:52:00.347Z"
   },
   {
    "duration": 4,
    "start_time": "2023-06-04T13:52:04.171Z"
   },
   {
    "duration": 4293,
    "start_time": "2023-06-04T13:52:04.650Z"
   },
   {
    "duration": 1337,
    "start_time": "2023-06-05T07:54:17.566Z"
   },
   {
    "duration": 1480,
    "start_time": "2023-06-05T07:54:18.905Z"
   },
   {
    "duration": 744,
    "start_time": "2023-06-05T07:54:20.387Z"
   },
   {
    "duration": 673,
    "start_time": "2023-06-05T07:54:21.133Z"
   },
   {
    "duration": 741,
    "start_time": "2023-06-05T07:54:21.808Z"
   },
   {
    "duration": 10,
    "start_time": "2023-06-05T07:54:22.551Z"
   },
   {
    "duration": 21,
    "start_time": "2023-06-05T07:54:22.562Z"
   },
   {
    "duration": 326,
    "start_time": "2023-06-05T07:54:22.585Z"
   },
   {
    "duration": 3,
    "start_time": "2023-06-05T07:54:22.912Z"
   },
   {
    "duration": 106,
    "start_time": "2023-06-05T07:54:22.916Z"
   },
   {
    "duration": 88,
    "start_time": "2023-06-05T07:54:23.023Z"
   },
   {
    "duration": 6,
    "start_time": "2023-06-05T07:54:23.113Z"
   },
   {
    "duration": 14,
    "start_time": "2023-06-05T07:54:23.121Z"
   },
   {
    "duration": 10,
    "start_time": "2023-06-05T07:54:23.136Z"
   },
   {
    "duration": 3216,
    "start_time": "2023-06-05T07:54:23.148Z"
   }
  ],
  "kernelspec": {
   "display_name": "Python 3 (ipykernel)",
   "language": "python",
   "name": "python3"
  },
  "language_info": {
   "codemirror_mode": {
    "name": "ipython",
    "version": 3
   },
   "file_extension": ".py",
   "mimetype": "text/x-python",
   "name": "python",
   "nbconvert_exporter": "python",
   "pygments_lexer": "ipython3",
   "version": "3.12.2"
  },
  "toc": {
   "base_numbering": 1,
   "nav_menu": {},
   "number_sections": true,
   "sideBar": true,
   "skip_h1_title": true,
   "title_cell": "Table of Contents",
   "title_sidebar": "Contents",
   "toc_cell": false,
   "toc_position": {
    "height": "calc(100% - 180px)",
    "left": "10px",
    "top": "150px",
    "width": "383.783px"
   },
   "toc_section_display": true,
   "toc_window_display": false
  }
 },
 "nbformat": 4,
 "nbformat_minor": 4
}
