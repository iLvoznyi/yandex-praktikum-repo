{
 "cells": [
  {
   "cell_type": "markdown",
   "metadata": {},
   "source": [
    "# Модель предсказания оттока клиентов оператора связи"
   ]
  },
  {
   "cell_type": "markdown",
   "metadata": {},
   "source": [
    "# Описание проекта"
   ]
  },
  {
   "cell_type": "markdown",
   "metadata": {},
   "source": [
    "Оператор связи «Ниединогоразрыва.ком» хочет научиться прогнозировать отток клиентов. Если выяснится, что пользователь планирует уйти, ему будут предложены промокоды и специальные условия. Команда оператора собрала персональные данные о некоторых клиентах, информацию об их тарифах и договорах."
   ]
  },
  {
   "cell_type": "markdown",
   "metadata": {},
   "source": [
    "# Описание услуг"
   ]
  },
  {
   "cell_type": "markdown",
   "metadata": {},
   "source": [
    "Оператор предоставляет два основных типа услуг: \n",
    "\n",
    "1. Стационарную телефонную связь. Возможно подключение телефонного аппарата к нескольким линиям одновременно.\n",
    "2. Интернет. Подключение может быть двух типов: через телефонную линию (DSL, от англ. digital subscriber line, «цифровая абонентская линия») или оптоволоконный кабель (Fiber optic)\n",
    "\n",
    "Также доступны такие услуги:\n",
    "- Интернет-безопасность: антивирус (DeviceProtection) и блокировка небезопасных сайтов (OnlineSecurity);\n",
    "- Выделенная линия технической поддержки (TechSupport);\n",
    "- Облачное хранилище файлов для резервного копирования данных (OnlineBackup);\n",
    "- Стриминговое телевидение (StreamingTV) и каталог фильмов (StreamingMovies).\n",
    "\n",
    "За услуги клиенты могут платить каждый месяц или заключить договор на 1–2 года. Доступны различные способы расчёта и возможность получения электронного чека."
   ]
  },
  {
   "cell_type": "markdown",
   "metadata": {},
   "source": [
    "# Описание данных"
   ]
  },
  {
   "cell_type": "markdown",
   "metadata": {},
   "source": [
    "Данные состоят из файлов, полученных из разных источников:\n",
    "\n",
    "- personal_new.csv - персональные данные клиента\n",
    "    - gender - пол\n",
    "    - SeniorCitizen - наличие пенсионного статуса по возрасту\n",
    "    - Partner - наличие супруга/супруги\n",
    "    - Dependents - наличие иждивенцев\n",
    "- contract_new.csv - информация о договоре\n",
    "    - BeginDate - дата начала пользования услугами\n",
    "    - EndDate - дата окончания пользования услугами\n",
    "    - Type - тип договора: ежемесячный, годовой и т.д\n",
    "    - PaperlessBilling - выставления счёта по электронной почте\n",
    "    - PaymentMethod - способ оплаты\n",
    "    - MonthlyCharges - ежемесячные траты на услуги\n",
    "    - TotalCharges - всего потрачено денег на услуги\n",
    "- internet_new.csv - информация об интернет-услугах\n",
    "    - InternetService - наличие услуг Интернет\n",
    "    - OnlineSecurity - межсетевой экран\n",
    "    - OnlineBackup - облачное хранилище файлов для резервного копирования данных\n",
    "    - DeviceProtection - антивирус\n",
    "    - TechSupport - выделенная линия технической поддержки\n",
    "    - StreamingTV - онлайн-ТВ\n",
    "    - StreamingMovies - онлайн-кинотеатр\n",
    "- phone_new.csv - информация об услугах телефонии\n",
    "    - MultipleLines - возможность подключения телефонного аппарата к нескольким линиям одновременно\n",
    "    \n",
    "Во всех файлах столбец customerID содержит код клиента.\n",
    "\n",
    "Информация о договорах актуальна на 1 февраля 2020."
   ]
  },
  {
   "cell_type": "markdown",
   "metadata": {},
   "source": [
    "# Цель"
   ]
  },
  {
   "cell_type": "markdown",
   "metadata": {},
   "source": [
    "Построение модели, которая на основе данных о клиенте, договоре, об интернет-услугах и об услугах телефонии предскажет уход клиента. Что поможет снизить убытки, связанные неэффективными акциями по удержанию клиентов с помощью промо-купонов, скидок и прочих пакетов стимулирования."
   ]
  },
  {
   "cell_type": "markdown",
   "metadata": {},
   "source": [
    "# План "
   ]
  },
  {
   "cell_type": "markdown",
   "metadata": {},
   "source": [
    "1. Предобработка данных\n",
    "    - Загрузка и объединение таблиц по столбцу customerID\n",
    "    - Предобработка данных\n",
    "    - Создание целевого признака на основе столбца EndDate\n",
    "    - Создание синтетических признаков \n",
    "2. Анализ и подготовка данных\n",
    "    - Обработка типов данных столбцов\n",
    "    - Изучение числовых признаков\n",
    "    - Обработка пропусков \n",
    "    - Изучение категориальных признаков\n",
    "    - Изучение корреляции признаков\n",
    "3. Обучение модели\n",
    "    - Разделение данных на выборки\n",
    "    - Кодирование и масштабирование данных\n",
    "    - Обучение различных моделей с различными гипперпараметрами\n",
    "    - Выбор лучшей модели\n",
    "4. Тестирование модели\n",
    "    - Проверка модели на тестовых данных \n",
    "    - Построение графика ROC, матрицы ошибок\n",
    "    - Определение важности признаков \n",
    "5. Вывод"
   ]
  },
  {
   "cell_type": "markdown",
   "metadata": {},
   "source": [
    "## Предобработка данных"
   ]
  },
  {
   "cell_type": "code",
   "execution_count": 1,
   "metadata": {},
   "outputs": [
    {
     "name": "stdout",
     "output_type": "stream",
     "text": [
      "Requirement already satisfied: scikit-learn in /opt/conda/lib/python3.9/site-packages (0.24.1)\n",
      "Collecting scikit-learn\n",
      "  Downloading scikit_learn-1.3.0-cp39-cp39-manylinux_2_17_x86_64.manylinux2014_x86_64.whl (10.9 MB)\n",
      "\u001b[K     |████████████████████████████████| 10.9 MB 1.1 MB/s eta 0:00:01\n",
      "\u001b[?25hRequirement already satisfied: threadpoolctl>=2.0.0 in /opt/conda/lib/python3.9/site-packages (from scikit-learn) (3.1.0)\n",
      "Requirement already satisfied: scipy>=1.5.0 in /opt/conda/lib/python3.9/site-packages (from scikit-learn) (1.9.1)\n",
      "Requirement already satisfied: numpy>=1.17.3 in /opt/conda/lib/python3.9/site-packages (from scikit-learn) (1.21.1)\n",
      "Collecting joblib>=1.1.1\n",
      "  Downloading joblib-1.3.2-py3-none-any.whl (302 kB)\n",
      "\u001b[K     |████████████████████████████████| 302 kB 82.0 MB/s eta 0:00:01\n",
      "\u001b[?25hInstalling collected packages: joblib, scikit-learn\n",
      "  Attempting uninstall: joblib\n",
      "    Found existing installation: joblib 1.1.0\n",
      "    Uninstalling joblib-1.1.0:\n",
      "      Successfully uninstalled joblib-1.1.0\n",
      "  Attempting uninstall: scikit-learn\n",
      "    Found existing installation: scikit-learn 0.24.1\n",
      "    Uninstalling scikit-learn-0.24.1:\n",
      "      Successfully uninstalled scikit-learn-0.24.1\n",
      "Successfully installed joblib-1.3.2 scikit-learn-1.3.0\n"
     ]
    }
   ],
   "source": [
    "!pip install -U scikit-learn"
   ]
  },
  {
   "cell_type": "code",
   "execution_count": 2,
   "metadata": {},
   "outputs": [
    {
     "name": "stdout",
     "output_type": "stream",
     "text": [
      "Collecting phik\n",
      "  Downloading phik-0.12.3-cp39-cp39-manylinux_2_17_x86_64.manylinux2014_x86_64.whl (679 kB)\n",
      "\u001b[K     |████████████████████████████████| 679 kB 1.1 MB/s eta 0:00:01\n",
      "\u001b[?25hRequirement already satisfied: joblib>=0.14.1 in /opt/conda/lib/python3.9/site-packages (from phik) (1.3.2)\n",
      "Requirement already satisfied: pandas>=0.25.1 in /opt/conda/lib/python3.9/site-packages (from phik) (1.2.4)\n",
      "Requirement already satisfied: scipy>=1.5.2 in /opt/conda/lib/python3.9/site-packages (from phik) (1.9.1)\n",
      "Requirement already satisfied: numpy>=1.18.0 in /opt/conda/lib/python3.9/site-packages (from phik) (1.21.1)\n",
      "Requirement already satisfied: matplotlib>=2.2.3 in /opt/conda/lib/python3.9/site-packages (from phik) (3.3.4)\n",
      "Requirement already satisfied: python-dateutil>=2.1 in /opt/conda/lib/python3.9/site-packages (from matplotlib>=2.2.3->phik) (2.8.1)\n",
      "Requirement already satisfied: pillow>=6.2.0 in /opt/conda/lib/python3.9/site-packages (from matplotlib>=2.2.3->phik) (8.4.0)\n",
      "Requirement already satisfied: kiwisolver>=1.0.1 in /opt/conda/lib/python3.9/site-packages (from matplotlib>=2.2.3->phik) (1.4.4)\n",
      "Requirement already satisfied: cycler>=0.10 in /opt/conda/lib/python3.9/site-packages (from matplotlib>=2.2.3->phik) (0.11.0)\n",
      "Requirement already satisfied: pyparsing!=2.0.4,!=2.1.2,!=2.1.6,>=2.0.3 in /opt/conda/lib/python3.9/site-packages (from matplotlib>=2.2.3->phik) (2.4.7)\n",
      "Requirement already satisfied: pytz>=2017.3 in /opt/conda/lib/python3.9/site-packages (from pandas>=0.25.1->phik) (2021.1)\n",
      "Requirement already satisfied: six>=1.5 in /opt/conda/lib/python3.9/site-packages (from python-dateutil>=2.1->matplotlib>=2.2.3->phik) (1.16.0)\n",
      "Installing collected packages: phik\n",
      "Successfully installed phik-0.12.3\n"
     ]
    }
   ],
   "source": [
    "!pip install phik"
   ]
  },
  {
   "cell_type": "markdown",
   "metadata": {},
   "source": [
    "### Библиотеки "
   ]
  },
  {
   "cell_type": "code",
   "execution_count": 3,
   "metadata": {},
   "outputs": [],
   "source": [
    "import pandas as pd\n",
    "import matplotlib.pyplot as plt\n",
    "import phik\n",
    "import seaborn as sns\n",
    "from sklearn.model_selection import train_test_split\n",
    "from sklearn.compose import make_column_transformer\n",
    "from sklearn.preprocessing import OrdinalEncoder, OneHotEncoder, StandardScaler\n",
    "from sklearn.preprocessing import RobustScaler, PowerTransformer\n",
    "from sklearn.pipeline import make_pipeline\n",
    "from sklearn.linear_model import LogisticRegression\n",
    "from sklearn.ensemble import RandomForestClassifier, GradientBoostingClassifier\n",
    "from sklearn.pipeline import Pipeline\n",
    "from sklearn.model_selection import GridSearchCV\n",
    "from sklearn.metrics import roc_auc_score, accuracy_score\n",
    "from sklearn.metrics import confusion_matrix, roc_curve\n",
    "RANDOM_STATE = 11092023 "
   ]
  },
  {
   "cell_type": "markdown",
   "metadata": {},
   "source": [
    "### Загрузка данных"
   ]
  },
  {
   "cell_type": "code",
   "execution_count": 4,
   "metadata": {},
   "outputs": [],
   "source": [
    "try:\n",
    "    contract_data = pd.read_csv(\"https://code.s3.yandex.net/datasets/contract_new.csv\")\n",
    "    personal_data = pd.read_csv(\"https://code.s3.yandex.net/datasets/personal_new.csv\")\n",
    "    internet_data = pd.read_csv(\"https://code.s3.yandex.net/datasets/internet_new.csv\")\n",
    "    phone_data = pd.read_csv(\"https://code.s3.yandex.net/datasets/phone_new.csv\")\n",
    "except:\n",
    "    contract_data = pd.read_csv(\"/datasets/contract_new.csv\")\n",
    "    personal_data = pd.read_csv(\"/datasets/personal_new.csv\")\n",
    "    internet_data = pd.read_csv(\"/datasets/internet_new.csv\")\n",
    "    phone_data = pd.read_csv(\"/datasets/phone_new.csv\")"
   ]
  },
  {
   "cell_type": "code",
   "execution_count": 5,
   "metadata": {},
   "outputs": [],
   "source": [
    "data = contract_data.merge(personal_data, how=\"left\", on=\"customerID\")\\\n",
    "                   .merge(internet_data, how=\"left\", on=\"customerID\")\\\n",
    "                   .merge(phone_data, how=\"left\", on=\"customerID\")"
   ]
  },
  {
   "cell_type": "code",
   "execution_count": 6,
   "metadata": {},
   "outputs": [],
   "source": [
    "data = data.set_index('customerID')"
   ]
  },
  {
   "cell_type": "markdown",
   "metadata": {},
   "source": [
    "### Предобработка данных"
   ]
  },
  {
   "cell_type": "code",
   "execution_count": 7,
   "metadata": {},
   "outputs": [],
   "source": [
    "def analyze_dataframe(df):\n",
    "    display(\"Первые строчки:\", df.head())\n",
    "    display(\"Последние строчки:\", df.tail())\n",
    "    display(\"Случайные строчки:\", df.sample(5))\n",
    "    display(\"Информация о каждом столбце:\", df.describe())\n",
    "    display(\"Общая информация:\")\n",
    "    df.info()\n",
    "    display(\"Явные дубликаты:\", df.duplicated().sum())\n",
    "    display(\"Сортировка и количество пропущенных значений:\", df.isnull().sum().sort_values())"
   ]
  },
  {
   "cell_type": "code",
   "execution_count": 8,
   "metadata": {},
   "outputs": [
    {
     "data": {
      "text/plain": [
       "'Первые строчки:'"
      ]
     },
     "metadata": {},
     "output_type": "display_data"
    },
    {
     "data": {
      "text/html": [
       "<div>\n",
       "<style scoped>\n",
       "    .dataframe tbody tr th:only-of-type {\n",
       "        vertical-align: middle;\n",
       "    }\n",
       "\n",
       "    .dataframe tbody tr th {\n",
       "        vertical-align: top;\n",
       "    }\n",
       "\n",
       "    .dataframe thead th {\n",
       "        text-align: right;\n",
       "    }\n",
       "</style>\n",
       "<table border=\"1\" class=\"dataframe\">\n",
       "  <thead>\n",
       "    <tr style=\"text-align: right;\">\n",
       "      <th></th>\n",
       "      <th>BeginDate</th>\n",
       "      <th>EndDate</th>\n",
       "      <th>Type</th>\n",
       "      <th>PaperlessBilling</th>\n",
       "      <th>PaymentMethod</th>\n",
       "      <th>MonthlyCharges</th>\n",
       "      <th>TotalCharges</th>\n",
       "      <th>gender</th>\n",
       "      <th>SeniorCitizen</th>\n",
       "      <th>Partner</th>\n",
       "      <th>Dependents</th>\n",
       "      <th>InternetService</th>\n",
       "      <th>OnlineSecurity</th>\n",
       "      <th>OnlineBackup</th>\n",
       "      <th>DeviceProtection</th>\n",
       "      <th>TechSupport</th>\n",
       "      <th>StreamingTV</th>\n",
       "      <th>StreamingMovies</th>\n",
       "      <th>MultipleLines</th>\n",
       "    </tr>\n",
       "    <tr>\n",
       "      <th>customerID</th>\n",
       "      <th></th>\n",
       "      <th></th>\n",
       "      <th></th>\n",
       "      <th></th>\n",
       "      <th></th>\n",
       "      <th></th>\n",
       "      <th></th>\n",
       "      <th></th>\n",
       "      <th></th>\n",
       "      <th></th>\n",
       "      <th></th>\n",
       "      <th></th>\n",
       "      <th></th>\n",
       "      <th></th>\n",
       "      <th></th>\n",
       "      <th></th>\n",
       "      <th></th>\n",
       "      <th></th>\n",
       "      <th></th>\n",
       "    </tr>\n",
       "  </thead>\n",
       "  <tbody>\n",
       "    <tr>\n",
       "      <th>7590-VHVEG</th>\n",
       "      <td>2020-01-01</td>\n",
       "      <td>No</td>\n",
       "      <td>Month-to-month</td>\n",
       "      <td>Yes</td>\n",
       "      <td>Electronic check</td>\n",
       "      <td>29.85</td>\n",
       "      <td>31.04</td>\n",
       "      <td>Female</td>\n",
       "      <td>0</td>\n",
       "      <td>Yes</td>\n",
       "      <td>No</td>\n",
       "      <td>DSL</td>\n",
       "      <td>No</td>\n",
       "      <td>Yes</td>\n",
       "      <td>No</td>\n",
       "      <td>No</td>\n",
       "      <td>No</td>\n",
       "      <td>No</td>\n",
       "      <td>NaN</td>\n",
       "    </tr>\n",
       "    <tr>\n",
       "      <th>5575-GNVDE</th>\n",
       "      <td>2017-04-01</td>\n",
       "      <td>No</td>\n",
       "      <td>One year</td>\n",
       "      <td>No</td>\n",
       "      <td>Mailed check</td>\n",
       "      <td>56.95</td>\n",
       "      <td>2071.84</td>\n",
       "      <td>Male</td>\n",
       "      <td>0</td>\n",
       "      <td>No</td>\n",
       "      <td>No</td>\n",
       "      <td>DSL</td>\n",
       "      <td>Yes</td>\n",
       "      <td>No</td>\n",
       "      <td>Yes</td>\n",
       "      <td>No</td>\n",
       "      <td>No</td>\n",
       "      <td>No</td>\n",
       "      <td>No</td>\n",
       "    </tr>\n",
       "    <tr>\n",
       "      <th>3668-QPYBK</th>\n",
       "      <td>2019-10-01</td>\n",
       "      <td>No</td>\n",
       "      <td>Month-to-month</td>\n",
       "      <td>Yes</td>\n",
       "      <td>Mailed check</td>\n",
       "      <td>53.85</td>\n",
       "      <td>226.17</td>\n",
       "      <td>Male</td>\n",
       "      <td>0</td>\n",
       "      <td>No</td>\n",
       "      <td>No</td>\n",
       "      <td>DSL</td>\n",
       "      <td>Yes</td>\n",
       "      <td>Yes</td>\n",
       "      <td>No</td>\n",
       "      <td>No</td>\n",
       "      <td>No</td>\n",
       "      <td>No</td>\n",
       "      <td>No</td>\n",
       "    </tr>\n",
       "    <tr>\n",
       "      <th>7795-CFOCW</th>\n",
       "      <td>2016-05-01</td>\n",
       "      <td>No</td>\n",
       "      <td>One year</td>\n",
       "      <td>No</td>\n",
       "      <td>Bank transfer (automatic)</td>\n",
       "      <td>42.30</td>\n",
       "      <td>1960.6</td>\n",
       "      <td>Male</td>\n",
       "      <td>0</td>\n",
       "      <td>No</td>\n",
       "      <td>No</td>\n",
       "      <td>DSL</td>\n",
       "      <td>Yes</td>\n",
       "      <td>No</td>\n",
       "      <td>Yes</td>\n",
       "      <td>Yes</td>\n",
       "      <td>No</td>\n",
       "      <td>No</td>\n",
       "      <td>NaN</td>\n",
       "    </tr>\n",
       "    <tr>\n",
       "      <th>9237-HQITU</th>\n",
       "      <td>2019-09-01</td>\n",
       "      <td>No</td>\n",
       "      <td>Month-to-month</td>\n",
       "      <td>Yes</td>\n",
       "      <td>Electronic check</td>\n",
       "      <td>70.70</td>\n",
       "      <td>353.5</td>\n",
       "      <td>Female</td>\n",
       "      <td>0</td>\n",
       "      <td>No</td>\n",
       "      <td>No</td>\n",
       "      <td>Fiber optic</td>\n",
       "      <td>No</td>\n",
       "      <td>No</td>\n",
       "      <td>No</td>\n",
       "      <td>No</td>\n",
       "      <td>No</td>\n",
       "      <td>No</td>\n",
       "      <td>No</td>\n",
       "    </tr>\n",
       "  </tbody>\n",
       "</table>\n",
       "</div>"
      ],
      "text/plain": [
       "             BeginDate EndDate            Type PaperlessBilling  \\\n",
       "customerID                                                        \n",
       "7590-VHVEG  2020-01-01      No  Month-to-month              Yes   \n",
       "5575-GNVDE  2017-04-01      No        One year               No   \n",
       "3668-QPYBK  2019-10-01      No  Month-to-month              Yes   \n",
       "7795-CFOCW  2016-05-01      No        One year               No   \n",
       "9237-HQITU  2019-09-01      No  Month-to-month              Yes   \n",
       "\n",
       "                        PaymentMethod  MonthlyCharges TotalCharges  gender  \\\n",
       "customerID                                                                   \n",
       "7590-VHVEG           Electronic check           29.85        31.04  Female   \n",
       "5575-GNVDE               Mailed check           56.95      2071.84    Male   \n",
       "3668-QPYBK               Mailed check           53.85       226.17    Male   \n",
       "7795-CFOCW  Bank transfer (automatic)           42.30       1960.6    Male   \n",
       "9237-HQITU           Electronic check           70.70        353.5  Female   \n",
       "\n",
       "            SeniorCitizen Partner Dependents InternetService OnlineSecurity  \\\n",
       "customerID                                                                    \n",
       "7590-VHVEG              0     Yes         No             DSL             No   \n",
       "5575-GNVDE              0      No         No             DSL            Yes   \n",
       "3668-QPYBK              0      No         No             DSL            Yes   \n",
       "7795-CFOCW              0      No         No             DSL            Yes   \n",
       "9237-HQITU              0      No         No     Fiber optic             No   \n",
       "\n",
       "           OnlineBackup DeviceProtection TechSupport StreamingTV  \\\n",
       "customerID                                                         \n",
       "7590-VHVEG          Yes               No          No          No   \n",
       "5575-GNVDE           No              Yes          No          No   \n",
       "3668-QPYBK          Yes               No          No          No   \n",
       "7795-CFOCW           No              Yes         Yes          No   \n",
       "9237-HQITU           No               No          No          No   \n",
       "\n",
       "           StreamingMovies MultipleLines  \n",
       "customerID                                \n",
       "7590-VHVEG              No           NaN  \n",
       "5575-GNVDE              No            No  \n",
       "3668-QPYBK              No            No  \n",
       "7795-CFOCW              No           NaN  \n",
       "9237-HQITU              No            No  "
      ]
     },
     "metadata": {},
     "output_type": "display_data"
    },
    {
     "data": {
      "text/plain": [
       "'Последние строчки:'"
      ]
     },
     "metadata": {},
     "output_type": "display_data"
    },
    {
     "data": {
      "text/html": [
       "<div>\n",
       "<style scoped>\n",
       "    .dataframe tbody tr th:only-of-type {\n",
       "        vertical-align: middle;\n",
       "    }\n",
       "\n",
       "    .dataframe tbody tr th {\n",
       "        vertical-align: top;\n",
       "    }\n",
       "\n",
       "    .dataframe thead th {\n",
       "        text-align: right;\n",
       "    }\n",
       "</style>\n",
       "<table border=\"1\" class=\"dataframe\">\n",
       "  <thead>\n",
       "    <tr style=\"text-align: right;\">\n",
       "      <th></th>\n",
       "      <th>BeginDate</th>\n",
       "      <th>EndDate</th>\n",
       "      <th>Type</th>\n",
       "      <th>PaperlessBilling</th>\n",
       "      <th>PaymentMethod</th>\n",
       "      <th>MonthlyCharges</th>\n",
       "      <th>TotalCharges</th>\n",
       "      <th>gender</th>\n",
       "      <th>SeniorCitizen</th>\n",
       "      <th>Partner</th>\n",
       "      <th>Dependents</th>\n",
       "      <th>InternetService</th>\n",
       "      <th>OnlineSecurity</th>\n",
       "      <th>OnlineBackup</th>\n",
       "      <th>DeviceProtection</th>\n",
       "      <th>TechSupport</th>\n",
       "      <th>StreamingTV</th>\n",
       "      <th>StreamingMovies</th>\n",
       "      <th>MultipleLines</th>\n",
       "    </tr>\n",
       "    <tr>\n",
       "      <th>customerID</th>\n",
       "      <th></th>\n",
       "      <th></th>\n",
       "      <th></th>\n",
       "      <th></th>\n",
       "      <th></th>\n",
       "      <th></th>\n",
       "      <th></th>\n",
       "      <th></th>\n",
       "      <th></th>\n",
       "      <th></th>\n",
       "      <th></th>\n",
       "      <th></th>\n",
       "      <th></th>\n",
       "      <th></th>\n",
       "      <th></th>\n",
       "      <th></th>\n",
       "      <th></th>\n",
       "      <th></th>\n",
       "      <th></th>\n",
       "    </tr>\n",
       "  </thead>\n",
       "  <tbody>\n",
       "    <tr>\n",
       "      <th>6840-RESVB</th>\n",
       "      <td>2018-02-01</td>\n",
       "      <td>No</td>\n",
       "      <td>One year</td>\n",
       "      <td>Yes</td>\n",
       "      <td>Mailed check</td>\n",
       "      <td>84.80</td>\n",
       "      <td>2035.2</td>\n",
       "      <td>Male</td>\n",
       "      <td>0</td>\n",
       "      <td>Yes</td>\n",
       "      <td>Yes</td>\n",
       "      <td>DSL</td>\n",
       "      <td>Yes</td>\n",
       "      <td>No</td>\n",
       "      <td>Yes</td>\n",
       "      <td>Yes</td>\n",
       "      <td>Yes</td>\n",
       "      <td>Yes</td>\n",
       "      <td>Yes</td>\n",
       "    </tr>\n",
       "    <tr>\n",
       "      <th>2234-XADUH</th>\n",
       "      <td>2014-02-01</td>\n",
       "      <td>No</td>\n",
       "      <td>One year</td>\n",
       "      <td>Yes</td>\n",
       "      <td>Credit card (automatic)</td>\n",
       "      <td>103.20</td>\n",
       "      <td>7430.4</td>\n",
       "      <td>Female</td>\n",
       "      <td>0</td>\n",
       "      <td>Yes</td>\n",
       "      <td>Yes</td>\n",
       "      <td>Fiber optic</td>\n",
       "      <td>No</td>\n",
       "      <td>Yes</td>\n",
       "      <td>Yes</td>\n",
       "      <td>No</td>\n",
       "      <td>Yes</td>\n",
       "      <td>Yes</td>\n",
       "      <td>Yes</td>\n",
       "    </tr>\n",
       "    <tr>\n",
       "      <th>4801-JZAZL</th>\n",
       "      <td>2019-03-01</td>\n",
       "      <td>No</td>\n",
       "      <td>Month-to-month</td>\n",
       "      <td>Yes</td>\n",
       "      <td>Electronic check</td>\n",
       "      <td>29.60</td>\n",
       "      <td>325.6</td>\n",
       "      <td>Female</td>\n",
       "      <td>0</td>\n",
       "      <td>Yes</td>\n",
       "      <td>Yes</td>\n",
       "      <td>DSL</td>\n",
       "      <td>Yes</td>\n",
       "      <td>No</td>\n",
       "      <td>No</td>\n",
       "      <td>No</td>\n",
       "      <td>No</td>\n",
       "      <td>No</td>\n",
       "      <td>NaN</td>\n",
       "    </tr>\n",
       "    <tr>\n",
       "      <th>8361-LTMKD</th>\n",
       "      <td>2019-07-01</td>\n",
       "      <td>No</td>\n",
       "      <td>Month-to-month</td>\n",
       "      <td>Yes</td>\n",
       "      <td>Mailed check</td>\n",
       "      <td>74.40</td>\n",
       "      <td>520.8</td>\n",
       "      <td>Male</td>\n",
       "      <td>1</td>\n",
       "      <td>Yes</td>\n",
       "      <td>No</td>\n",
       "      <td>Fiber optic</td>\n",
       "      <td>No</td>\n",
       "      <td>No</td>\n",
       "      <td>No</td>\n",
       "      <td>No</td>\n",
       "      <td>No</td>\n",
       "      <td>No</td>\n",
       "      <td>Yes</td>\n",
       "    </tr>\n",
       "    <tr>\n",
       "      <th>3186-AJIEK</th>\n",
       "      <td>2014-08-01</td>\n",
       "      <td>No</td>\n",
       "      <td>Two year</td>\n",
       "      <td>Yes</td>\n",
       "      <td>Bank transfer (automatic)</td>\n",
       "      <td>105.65</td>\n",
       "      <td>7251.82</td>\n",
       "      <td>Male</td>\n",
       "      <td>0</td>\n",
       "      <td>No</td>\n",
       "      <td>No</td>\n",
       "      <td>Fiber optic</td>\n",
       "      <td>Yes</td>\n",
       "      <td>No</td>\n",
       "      <td>Yes</td>\n",
       "      <td>Yes</td>\n",
       "      <td>Yes</td>\n",
       "      <td>Yes</td>\n",
       "      <td>No</td>\n",
       "    </tr>\n",
       "  </tbody>\n",
       "</table>\n",
       "</div>"
      ],
      "text/plain": [
       "             BeginDate EndDate            Type PaperlessBilling  \\\n",
       "customerID                                                        \n",
       "6840-RESVB  2018-02-01      No        One year              Yes   \n",
       "2234-XADUH  2014-02-01      No        One year              Yes   \n",
       "4801-JZAZL  2019-03-01      No  Month-to-month              Yes   \n",
       "8361-LTMKD  2019-07-01      No  Month-to-month              Yes   \n",
       "3186-AJIEK  2014-08-01      No        Two year              Yes   \n",
       "\n",
       "                        PaymentMethod  MonthlyCharges TotalCharges  gender  \\\n",
       "customerID                                                                   \n",
       "6840-RESVB               Mailed check           84.80       2035.2    Male   \n",
       "2234-XADUH    Credit card (automatic)          103.20       7430.4  Female   \n",
       "4801-JZAZL           Electronic check           29.60        325.6  Female   \n",
       "8361-LTMKD               Mailed check           74.40        520.8    Male   \n",
       "3186-AJIEK  Bank transfer (automatic)          105.65      7251.82    Male   \n",
       "\n",
       "            SeniorCitizen Partner Dependents InternetService OnlineSecurity  \\\n",
       "customerID                                                                    \n",
       "6840-RESVB              0     Yes        Yes             DSL            Yes   \n",
       "2234-XADUH              0     Yes        Yes     Fiber optic             No   \n",
       "4801-JZAZL              0     Yes        Yes             DSL            Yes   \n",
       "8361-LTMKD              1     Yes         No     Fiber optic             No   \n",
       "3186-AJIEK              0      No         No     Fiber optic            Yes   \n",
       "\n",
       "           OnlineBackup DeviceProtection TechSupport StreamingTV  \\\n",
       "customerID                                                         \n",
       "6840-RESVB           No              Yes         Yes         Yes   \n",
       "2234-XADUH          Yes              Yes          No         Yes   \n",
       "4801-JZAZL           No               No          No          No   \n",
       "8361-LTMKD           No               No          No          No   \n",
       "3186-AJIEK           No              Yes         Yes         Yes   \n",
       "\n",
       "           StreamingMovies MultipleLines  \n",
       "customerID                                \n",
       "6840-RESVB             Yes           Yes  \n",
       "2234-XADUH             Yes           Yes  \n",
       "4801-JZAZL              No           NaN  \n",
       "8361-LTMKD              No           Yes  \n",
       "3186-AJIEK             Yes            No  "
      ]
     },
     "metadata": {},
     "output_type": "display_data"
    },
    {
     "data": {
      "text/plain": [
       "'Случайные строчки:'"
      ]
     },
     "metadata": {},
     "output_type": "display_data"
    },
    {
     "data": {
      "text/html": [
       "<div>\n",
       "<style scoped>\n",
       "    .dataframe tbody tr th:only-of-type {\n",
       "        vertical-align: middle;\n",
       "    }\n",
       "\n",
       "    .dataframe tbody tr th {\n",
       "        vertical-align: top;\n",
       "    }\n",
       "\n",
       "    .dataframe thead th {\n",
       "        text-align: right;\n",
       "    }\n",
       "</style>\n",
       "<table border=\"1\" class=\"dataframe\">\n",
       "  <thead>\n",
       "    <tr style=\"text-align: right;\">\n",
       "      <th></th>\n",
       "      <th>BeginDate</th>\n",
       "      <th>EndDate</th>\n",
       "      <th>Type</th>\n",
       "      <th>PaperlessBilling</th>\n",
       "      <th>PaymentMethod</th>\n",
       "      <th>MonthlyCharges</th>\n",
       "      <th>TotalCharges</th>\n",
       "      <th>gender</th>\n",
       "      <th>SeniorCitizen</th>\n",
       "      <th>Partner</th>\n",
       "      <th>Dependents</th>\n",
       "      <th>InternetService</th>\n",
       "      <th>OnlineSecurity</th>\n",
       "      <th>OnlineBackup</th>\n",
       "      <th>DeviceProtection</th>\n",
       "      <th>TechSupport</th>\n",
       "      <th>StreamingTV</th>\n",
       "      <th>StreamingMovies</th>\n",
       "      <th>MultipleLines</th>\n",
       "    </tr>\n",
       "    <tr>\n",
       "      <th>customerID</th>\n",
       "      <th></th>\n",
       "      <th></th>\n",
       "      <th></th>\n",
       "      <th></th>\n",
       "      <th></th>\n",
       "      <th></th>\n",
       "      <th></th>\n",
       "      <th></th>\n",
       "      <th></th>\n",
       "      <th></th>\n",
       "      <th></th>\n",
       "      <th></th>\n",
       "      <th></th>\n",
       "      <th></th>\n",
       "      <th></th>\n",
       "      <th></th>\n",
       "      <th></th>\n",
       "      <th></th>\n",
       "      <th></th>\n",
       "    </tr>\n",
       "  </thead>\n",
       "  <tbody>\n",
       "    <tr>\n",
       "      <th>4295-YURET</th>\n",
       "      <td>2015-06-01</td>\n",
       "      <td>No</td>\n",
       "      <td>Two year</td>\n",
       "      <td>Yes</td>\n",
       "      <td>Credit card (automatic)</td>\n",
       "      <td>72.60</td>\n",
       "      <td>4472.16</td>\n",
       "      <td>Female</td>\n",
       "      <td>1</td>\n",
       "      <td>Yes</td>\n",
       "      <td>Yes</td>\n",
       "      <td>DSL</td>\n",
       "      <td>Yes</td>\n",
       "      <td>No</td>\n",
       "      <td>No</td>\n",
       "      <td>Yes</td>\n",
       "      <td>Yes</td>\n",
       "      <td>Yes</td>\n",
       "      <td>No</td>\n",
       "    </tr>\n",
       "    <tr>\n",
       "      <th>4510-HIMLV</th>\n",
       "      <td>2019-09-01</td>\n",
       "      <td>No</td>\n",
       "      <td>Month-to-month</td>\n",
       "      <td>Yes</td>\n",
       "      <td>Electronic check</td>\n",
       "      <td>69.80</td>\n",
       "      <td>352.49</td>\n",
       "      <td>Male</td>\n",
       "      <td>0</td>\n",
       "      <td>No</td>\n",
       "      <td>No</td>\n",
       "      <td>Fiber optic</td>\n",
       "      <td>No</td>\n",
       "      <td>No</td>\n",
       "      <td>No</td>\n",
       "      <td>No</td>\n",
       "      <td>No</td>\n",
       "      <td>No</td>\n",
       "      <td>No</td>\n",
       "    </tr>\n",
       "    <tr>\n",
       "      <th>1379-FRVEB</th>\n",
       "      <td>2018-11-01</td>\n",
       "      <td>No</td>\n",
       "      <td>Month-to-month</td>\n",
       "      <td>Yes</td>\n",
       "      <td>Electronic check</td>\n",
       "      <td>91.00</td>\n",
       "      <td>1365.0</td>\n",
       "      <td>Male</td>\n",
       "      <td>0</td>\n",
       "      <td>No</td>\n",
       "      <td>Yes</td>\n",
       "      <td>Fiber optic</td>\n",
       "      <td>No</td>\n",
       "      <td>Yes</td>\n",
       "      <td>No</td>\n",
       "      <td>No</td>\n",
       "      <td>Yes</td>\n",
       "      <td>No</td>\n",
       "      <td>Yes</td>\n",
       "    </tr>\n",
       "    <tr>\n",
       "      <th>8824-RWFXJ</th>\n",
       "      <td>2019-07-01</td>\n",
       "      <td>No</td>\n",
       "      <td>Month-to-month</td>\n",
       "      <td>Yes</td>\n",
       "      <td>Mailed check</td>\n",
       "      <td>56.15</td>\n",
       "      <td>400.91</td>\n",
       "      <td>Male</td>\n",
       "      <td>0</td>\n",
       "      <td>Yes</td>\n",
       "      <td>Yes</td>\n",
       "      <td>DSL</td>\n",
       "      <td>No</td>\n",
       "      <td>Yes</td>\n",
       "      <td>Yes</td>\n",
       "      <td>No</td>\n",
       "      <td>No</td>\n",
       "      <td>No</td>\n",
       "      <td>No</td>\n",
       "    </tr>\n",
       "    <tr>\n",
       "      <th>4568-TTZRT</th>\n",
       "      <td>2019-05-01</td>\n",
       "      <td>No</td>\n",
       "      <td>Month-to-month</td>\n",
       "      <td>No</td>\n",
       "      <td>Mailed check</td>\n",
       "      <td>20.40</td>\n",
       "      <td>187.27</td>\n",
       "      <td>Male</td>\n",
       "      <td>0</td>\n",
       "      <td>No</td>\n",
       "      <td>No</td>\n",
       "      <td>NaN</td>\n",
       "      <td>NaN</td>\n",
       "      <td>NaN</td>\n",
       "      <td>NaN</td>\n",
       "      <td>NaN</td>\n",
       "      <td>NaN</td>\n",
       "      <td>NaN</td>\n",
       "      <td>No</td>\n",
       "    </tr>\n",
       "  </tbody>\n",
       "</table>\n",
       "</div>"
      ],
      "text/plain": [
       "             BeginDate EndDate            Type PaperlessBilling  \\\n",
       "customerID                                                        \n",
       "4295-YURET  2015-06-01      No        Two year              Yes   \n",
       "4510-HIMLV  2019-09-01      No  Month-to-month              Yes   \n",
       "1379-FRVEB  2018-11-01      No  Month-to-month              Yes   \n",
       "8824-RWFXJ  2019-07-01      No  Month-to-month              Yes   \n",
       "4568-TTZRT  2019-05-01      No  Month-to-month               No   \n",
       "\n",
       "                      PaymentMethod  MonthlyCharges TotalCharges  gender  \\\n",
       "customerID                                                                 \n",
       "4295-YURET  Credit card (automatic)           72.60      4472.16  Female   \n",
       "4510-HIMLV         Electronic check           69.80       352.49    Male   \n",
       "1379-FRVEB         Electronic check           91.00       1365.0    Male   \n",
       "8824-RWFXJ             Mailed check           56.15       400.91    Male   \n",
       "4568-TTZRT             Mailed check           20.40       187.27    Male   \n",
       "\n",
       "            SeniorCitizen Partner Dependents InternetService OnlineSecurity  \\\n",
       "customerID                                                                    \n",
       "4295-YURET              1     Yes        Yes             DSL            Yes   \n",
       "4510-HIMLV              0      No         No     Fiber optic             No   \n",
       "1379-FRVEB              0      No        Yes     Fiber optic             No   \n",
       "8824-RWFXJ              0     Yes        Yes             DSL             No   \n",
       "4568-TTZRT              0      No         No             NaN            NaN   \n",
       "\n",
       "           OnlineBackup DeviceProtection TechSupport StreamingTV  \\\n",
       "customerID                                                         \n",
       "4295-YURET           No               No         Yes         Yes   \n",
       "4510-HIMLV           No               No          No          No   \n",
       "1379-FRVEB          Yes               No          No         Yes   \n",
       "8824-RWFXJ          Yes              Yes          No          No   \n",
       "4568-TTZRT          NaN              NaN         NaN         NaN   \n",
       "\n",
       "           StreamingMovies MultipleLines  \n",
       "customerID                                \n",
       "4295-YURET             Yes            No  \n",
       "4510-HIMLV              No            No  \n",
       "1379-FRVEB              No           Yes  \n",
       "8824-RWFXJ              No            No  \n",
       "4568-TTZRT             NaN            No  "
      ]
     },
     "metadata": {},
     "output_type": "display_data"
    },
    {
     "data": {
      "text/plain": [
       "'Информация о каждом столбце:'"
      ]
     },
     "metadata": {},
     "output_type": "display_data"
    },
    {
     "data": {
      "text/html": [
       "<div>\n",
       "<style scoped>\n",
       "    .dataframe tbody tr th:only-of-type {\n",
       "        vertical-align: middle;\n",
       "    }\n",
       "\n",
       "    .dataframe tbody tr th {\n",
       "        vertical-align: top;\n",
       "    }\n",
       "\n",
       "    .dataframe thead th {\n",
       "        text-align: right;\n",
       "    }\n",
       "</style>\n",
       "<table border=\"1\" class=\"dataframe\">\n",
       "  <thead>\n",
       "    <tr style=\"text-align: right;\">\n",
       "      <th></th>\n",
       "      <th>MonthlyCharges</th>\n",
       "      <th>SeniorCitizen</th>\n",
       "    </tr>\n",
       "  </thead>\n",
       "  <tbody>\n",
       "    <tr>\n",
       "      <th>count</th>\n",
       "      <td>7043.000000</td>\n",
       "      <td>7043.000000</td>\n",
       "    </tr>\n",
       "    <tr>\n",
       "      <th>mean</th>\n",
       "      <td>64.761692</td>\n",
       "      <td>0.162147</td>\n",
       "    </tr>\n",
       "    <tr>\n",
       "      <th>std</th>\n",
       "      <td>30.090047</td>\n",
       "      <td>0.368612</td>\n",
       "    </tr>\n",
       "    <tr>\n",
       "      <th>min</th>\n",
       "      <td>18.250000</td>\n",
       "      <td>0.000000</td>\n",
       "    </tr>\n",
       "    <tr>\n",
       "      <th>25%</th>\n",
       "      <td>35.500000</td>\n",
       "      <td>0.000000</td>\n",
       "    </tr>\n",
       "    <tr>\n",
       "      <th>50%</th>\n",
       "      <td>70.350000</td>\n",
       "      <td>0.000000</td>\n",
       "    </tr>\n",
       "    <tr>\n",
       "      <th>75%</th>\n",
       "      <td>89.850000</td>\n",
       "      <td>0.000000</td>\n",
       "    </tr>\n",
       "    <tr>\n",
       "      <th>max</th>\n",
       "      <td>118.750000</td>\n",
       "      <td>1.000000</td>\n",
       "    </tr>\n",
       "  </tbody>\n",
       "</table>\n",
       "</div>"
      ],
      "text/plain": [
       "       MonthlyCharges  SeniorCitizen\n",
       "count     7043.000000    7043.000000\n",
       "mean        64.761692       0.162147\n",
       "std         30.090047       0.368612\n",
       "min         18.250000       0.000000\n",
       "25%         35.500000       0.000000\n",
       "50%         70.350000       0.000000\n",
       "75%         89.850000       0.000000\n",
       "max        118.750000       1.000000"
      ]
     },
     "metadata": {},
     "output_type": "display_data"
    },
    {
     "data": {
      "text/plain": [
       "'Общая информация:'"
      ]
     },
     "metadata": {},
     "output_type": "display_data"
    },
    {
     "name": "stdout",
     "output_type": "stream",
     "text": [
      "<class 'pandas.core.frame.DataFrame'>\n",
      "Index: 7043 entries, 7590-VHVEG to 3186-AJIEK\n",
      "Data columns (total 19 columns):\n",
      " #   Column            Non-Null Count  Dtype  \n",
      "---  ------            --------------  -----  \n",
      " 0   BeginDate         7043 non-null   object \n",
      " 1   EndDate           7043 non-null   object \n",
      " 2   Type              7043 non-null   object \n",
      " 3   PaperlessBilling  7043 non-null   object \n",
      " 4   PaymentMethod     7043 non-null   object \n",
      " 5   MonthlyCharges    7043 non-null   float64\n",
      " 6   TotalCharges      7043 non-null   object \n",
      " 7   gender            7043 non-null   object \n",
      " 8   SeniorCitizen     7043 non-null   int64  \n",
      " 9   Partner           7043 non-null   object \n",
      " 10  Dependents        7043 non-null   object \n",
      " 11  InternetService   5517 non-null   object \n",
      " 12  OnlineSecurity    5517 non-null   object \n",
      " 13  OnlineBackup      5517 non-null   object \n",
      " 14  DeviceProtection  5517 non-null   object \n",
      " 15  TechSupport       5517 non-null   object \n",
      " 16  StreamingTV       5517 non-null   object \n",
      " 17  StreamingMovies   5517 non-null   object \n",
      " 18  MultipleLines     6361 non-null   object \n",
      "dtypes: float64(1), int64(1), object(17)\n",
      "memory usage: 1.1+ MB\n"
     ]
    },
    {
     "data": {
      "text/plain": [
       "'Явные дубликаты:'"
      ]
     },
     "metadata": {},
     "output_type": "display_data"
    },
    {
     "data": {
      "text/plain": [
       "4"
      ]
     },
     "metadata": {},
     "output_type": "display_data"
    },
    {
     "data": {
      "text/plain": [
       "'Сортировка и количество пропущенных значений:'"
      ]
     },
     "metadata": {},
     "output_type": "display_data"
    },
    {
     "data": {
      "text/plain": [
       "BeginDate              0\n",
       "Dependents             0\n",
       "SeniorCitizen          0\n",
       "gender                 0\n",
       "TotalCharges           0\n",
       "Partner                0\n",
       "PaymentMethod          0\n",
       "PaperlessBilling       0\n",
       "Type                   0\n",
       "EndDate                0\n",
       "MonthlyCharges         0\n",
       "MultipleLines        682\n",
       "StreamingMovies     1526\n",
       "InternetService     1526\n",
       "OnlineSecurity      1526\n",
       "OnlineBackup        1526\n",
       "DeviceProtection    1526\n",
       "TechSupport         1526\n",
       "StreamingTV         1526\n",
       "dtype: int64"
      ]
     },
     "metadata": {},
     "output_type": "display_data"
    }
   ],
   "source": [
    "analyze_dataframe(data)"
   ]
  },
  {
   "cell_type": "markdown",
   "metadata": {},
   "source": [
    "Выводы:\n",
    "1. Последовательность столбцов логична\n",
    "2. Явных дубликатов - нет\n",
    "3. Столбцы стоит привести к однородному виду, слова разделим дефисом, всё приведём к нижнему регистру\n",
    "4. На первый взгляд данные выглядят неплохо - пропуски в большинстве связанны с отсутствием у клиентов подключения к услугам интернета или услугам телефонии\n",
    "5. Типы данных у некоторых столбцов стоит изменить, столбцы BeginDate и EndDate нужно привести к типу datetime, остальные столбцы требуют более подробного изучения"
   ]
  },
  {
   "cell_type": "markdown",
   "metadata": {},
   "source": [
    "Стандатизируем название столбцов"
   ]
  },
  {
   "cell_type": "code",
   "execution_count": 9,
   "metadata": {},
   "outputs": [],
   "source": [
    "data.columns = data.columns.str.replace(r'(?<=[a-z])([A-Z])', r'-\\1',regex=True).str.lower()"
   ]
  },
  {
   "cell_type": "code",
   "execution_count": 10,
   "metadata": {},
   "outputs": [
    {
     "name": "stdout",
     "output_type": "stream",
     "text": [
      "<class 'pandas.core.frame.DataFrame'>\n",
      "Index: 7043 entries, 7590-VHVEG to 3186-AJIEK\n",
      "Data columns (total 19 columns):\n",
      " #   Column             Non-Null Count  Dtype  \n",
      "---  ------             --------------  -----  \n",
      " 0   begin-date         7043 non-null   object \n",
      " 1   end-date           7043 non-null   object \n",
      " 2   type               7043 non-null   object \n",
      " 3   paperless-billing  7043 non-null   object \n",
      " 4   payment-method     7043 non-null   object \n",
      " 5   monthly-charges    7043 non-null   float64\n",
      " 6   total-charges      7043 non-null   object \n",
      " 7   gender             7043 non-null   object \n",
      " 8   senior-citizen     7043 non-null   int64  \n",
      " 9   partner            7043 non-null   object \n",
      " 10  dependents         7043 non-null   object \n",
      " 11  internet-service   5517 non-null   object \n",
      " 12  online-security    5517 non-null   object \n",
      " 13  online-backup      5517 non-null   object \n",
      " 14  device-protection  5517 non-null   object \n",
      " 15  tech-support       5517 non-null   object \n",
      " 16  streaming-tv       5517 non-null   object \n",
      " 17  streaming-movies   5517 non-null   object \n",
      " 18  multiple-lines     6361 non-null   object \n",
      "dtypes: float64(1), int64(1), object(17)\n",
      "memory usage: 1.1+ MB\n"
     ]
    }
   ],
   "source": [
    "data.info()"
   ]
  },
  {
   "cell_type": "markdown",
   "metadata": {},
   "source": [
    "Изменим тип данных столбцов begin-date и end-date "
   ]
  },
  {
   "cell_type": "code",
   "execution_count": 11,
   "metadata": {},
   "outputs": [],
   "source": [
    "data['begin-date'] = pd.to_datetime(data['begin-date'])\n",
    "data['end-date'] = pd.to_datetime(data['end-date'], errors='coerce')"
   ]
  },
  {
   "cell_type": "code",
   "execution_count": 12,
   "metadata": {},
   "outputs": [
    {
     "name": "stdout",
     "output_type": "stream",
     "text": [
      "<class 'pandas.core.frame.DataFrame'>\n",
      "Index: 7043 entries, 7590-VHVEG to 3186-AJIEK\n",
      "Data columns (total 19 columns):\n",
      " #   Column             Non-Null Count  Dtype         \n",
      "---  ------             --------------  -----         \n",
      " 0   begin-date         7043 non-null   datetime64[ns]\n",
      " 1   end-date           1101 non-null   datetime64[ns]\n",
      " 2   type               7043 non-null   object        \n",
      " 3   paperless-billing  7043 non-null   object        \n",
      " 4   payment-method     7043 non-null   object        \n",
      " 5   monthly-charges    7043 non-null   float64       \n",
      " 6   total-charges      7043 non-null   object        \n",
      " 7   gender             7043 non-null   object        \n",
      " 8   senior-citizen     7043 non-null   int64         \n",
      " 9   partner            7043 non-null   object        \n",
      " 10  dependents         7043 non-null   object        \n",
      " 11  internet-service   5517 non-null   object        \n",
      " 12  online-security    5517 non-null   object        \n",
      " 13  online-backup      5517 non-null   object        \n",
      " 14  device-protection  5517 non-null   object        \n",
      " 15  tech-support       5517 non-null   object        \n",
      " 16  streaming-tv       5517 non-null   object        \n",
      " 17  streaming-movies   5517 non-null   object        \n",
      " 18  multiple-lines     6361 non-null   object        \n",
      "dtypes: datetime64[ns](2), float64(1), int64(1), object(15)\n",
      "memory usage: 1.1+ MB\n"
     ]
    }
   ],
   "source": [
    "data.info()"
   ]
  },
  {
   "cell_type": "markdown",
   "metadata": {},
   "source": [
    "Теперь данны выглядт лучше"
   ]
  },
  {
   "cell_type": "markdown",
   "metadata": {},
   "source": [
    "### Создание целевого признака"
   ]
  },
  {
   "cell_type": "markdown",
   "metadata": {},
   "source": [
    "Целевой признак - клиент ушёл/не ушёл "
   ]
  },
  {
   "cell_type": "code",
   "execution_count": 13,
   "metadata": {},
   "outputs": [],
   "source": [
    "data['task'] = data['end-date'].notna().astype(int)"
   ]
  },
  {
   "cell_type": "code",
   "execution_count": 14,
   "metadata": {},
   "outputs": [
    {
     "data": {
      "text/plain": [
       "0    5942\n",
       "1    1101\n",
       "Name: task, dtype: int64"
      ]
     },
     "execution_count": 14,
     "metadata": {},
     "output_type": "execute_result"
    }
   ],
   "source": [
    "data['task'].value_counts()"
   ]
  },
  {
   "cell_type": "code",
   "execution_count": 15,
   "metadata": {},
   "outputs": [
    {
     "name": "stdout",
     "output_type": "stream",
     "text": [
      "<class 'pandas.core.frame.DataFrame'>\n",
      "Index: 7043 entries, 7590-VHVEG to 3186-AJIEK\n",
      "Data columns (total 20 columns):\n",
      " #   Column             Non-Null Count  Dtype         \n",
      "---  ------             --------------  -----         \n",
      " 0   begin-date         7043 non-null   datetime64[ns]\n",
      " 1   end-date           1101 non-null   datetime64[ns]\n",
      " 2   type               7043 non-null   object        \n",
      " 3   paperless-billing  7043 non-null   object        \n",
      " 4   payment-method     7043 non-null   object        \n",
      " 5   monthly-charges    7043 non-null   float64       \n",
      " 6   total-charges      7043 non-null   object        \n",
      " 7   gender             7043 non-null   object        \n",
      " 8   senior-citizen     7043 non-null   int64         \n",
      " 9   partner            7043 non-null   object        \n",
      " 10  dependents         7043 non-null   object        \n",
      " 11  internet-service   5517 non-null   object        \n",
      " 12  online-security    5517 non-null   object        \n",
      " 13  online-backup      5517 non-null   object        \n",
      " 14  device-protection  5517 non-null   object        \n",
      " 15  tech-support       5517 non-null   object        \n",
      " 16  streaming-tv       5517 non-null   object        \n",
      " 17  streaming-movies   5517 non-null   object        \n",
      " 18  multiple-lines     6361 non-null   object        \n",
      " 19  task               7043 non-null   int64         \n",
      "dtypes: datetime64[ns](2), float64(1), int64(2), object(15)\n",
      "memory usage: 1.1+ MB\n"
     ]
    }
   ],
   "source": [
    "data.info()"
   ]
  },
  {
   "cell_type": "markdown",
   "metadata": {},
   "source": [
    "### Создание синтетических признаков"
   ]
  },
  {
   "cell_type": "markdown",
   "metadata": {},
   "source": [
    "Добавим 1 признак 'day-use' - сколько дней клиент пользовался услугами, для этого пропуски в столбце end-date заполню последней датой - 1 февраля 2020"
   ]
  },
  {
   "cell_type": "code",
   "execution_count": 16,
   "metadata": {},
   "outputs": [],
   "source": [
    "data['end-date'].fillna(pd.to_datetime('2020-02-01'), inplace=True)"
   ]
  },
  {
   "cell_type": "code",
   "execution_count": 17,
   "metadata": {},
   "outputs": [
    {
     "name": "stdout",
     "output_type": "stream",
     "text": [
      "<class 'pandas.core.frame.DataFrame'>\n",
      "Index: 7043 entries, 7590-VHVEG to 3186-AJIEK\n",
      "Data columns (total 20 columns):\n",
      " #   Column             Non-Null Count  Dtype         \n",
      "---  ------             --------------  -----         \n",
      " 0   begin-date         7043 non-null   datetime64[ns]\n",
      " 1   end-date           7043 non-null   datetime64[ns]\n",
      " 2   type               7043 non-null   object        \n",
      " 3   paperless-billing  7043 non-null   object        \n",
      " 4   payment-method     7043 non-null   object        \n",
      " 5   monthly-charges    7043 non-null   float64       \n",
      " 6   total-charges      7043 non-null   object        \n",
      " 7   gender             7043 non-null   object        \n",
      " 8   senior-citizen     7043 non-null   int64         \n",
      " 9   partner            7043 non-null   object        \n",
      " 10  dependents         7043 non-null   object        \n",
      " 11  internet-service   5517 non-null   object        \n",
      " 12  online-security    5517 non-null   object        \n",
      " 13  online-backup      5517 non-null   object        \n",
      " 14  device-protection  5517 non-null   object        \n",
      " 15  tech-support       5517 non-null   object        \n",
      " 16  streaming-tv       5517 non-null   object        \n",
      " 17  streaming-movies   5517 non-null   object        \n",
      " 18  multiple-lines     6361 non-null   object        \n",
      " 19  task               7043 non-null   int64         \n",
      "dtypes: datetime64[ns](2), float64(1), int64(2), object(15)\n",
      "memory usage: 1.1+ MB\n"
     ]
    }
   ],
   "source": [
    "data.info()"
   ]
  },
  {
   "cell_type": "code",
   "execution_count": 18,
   "metadata": {},
   "outputs": [
    {
     "data": {
      "text/html": [
       "<div>\n",
       "<style scoped>\n",
       "    .dataframe tbody tr th:only-of-type {\n",
       "        vertical-align: middle;\n",
       "    }\n",
       "\n",
       "    .dataframe tbody tr th {\n",
       "        vertical-align: top;\n",
       "    }\n",
       "\n",
       "    .dataframe thead th {\n",
       "        text-align: right;\n",
       "    }\n",
       "</style>\n",
       "<table border=\"1\" class=\"dataframe\">\n",
       "  <thead>\n",
       "    <tr style=\"text-align: right;\">\n",
       "      <th></th>\n",
       "      <th>begin-date</th>\n",
       "      <th>end-date</th>\n",
       "      <th>type</th>\n",
       "      <th>paperless-billing</th>\n",
       "      <th>payment-method</th>\n",
       "      <th>monthly-charges</th>\n",
       "      <th>total-charges</th>\n",
       "      <th>gender</th>\n",
       "      <th>senior-citizen</th>\n",
       "      <th>partner</th>\n",
       "      <th>dependents</th>\n",
       "      <th>internet-service</th>\n",
       "      <th>online-security</th>\n",
       "      <th>online-backup</th>\n",
       "      <th>device-protection</th>\n",
       "      <th>tech-support</th>\n",
       "      <th>streaming-tv</th>\n",
       "      <th>streaming-movies</th>\n",
       "      <th>multiple-lines</th>\n",
       "      <th>task</th>\n",
       "    </tr>\n",
       "    <tr>\n",
       "      <th>customerID</th>\n",
       "      <th></th>\n",
       "      <th></th>\n",
       "      <th></th>\n",
       "      <th></th>\n",
       "      <th></th>\n",
       "      <th></th>\n",
       "      <th></th>\n",
       "      <th></th>\n",
       "      <th></th>\n",
       "      <th></th>\n",
       "      <th></th>\n",
       "      <th></th>\n",
       "      <th></th>\n",
       "      <th></th>\n",
       "      <th></th>\n",
       "      <th></th>\n",
       "      <th></th>\n",
       "      <th></th>\n",
       "      <th></th>\n",
       "      <th></th>\n",
       "    </tr>\n",
       "  </thead>\n",
       "  <tbody>\n",
       "    <tr>\n",
       "      <th>7590-VHVEG</th>\n",
       "      <td>2020-01-01</td>\n",
       "      <td>2020-02-01</td>\n",
       "      <td>Month-to-month</td>\n",
       "      <td>Yes</td>\n",
       "      <td>Electronic check</td>\n",
       "      <td>29.85</td>\n",
       "      <td>31.04</td>\n",
       "      <td>Female</td>\n",
       "      <td>0</td>\n",
       "      <td>Yes</td>\n",
       "      <td>No</td>\n",
       "      <td>DSL</td>\n",
       "      <td>No</td>\n",
       "      <td>Yes</td>\n",
       "      <td>No</td>\n",
       "      <td>No</td>\n",
       "      <td>No</td>\n",
       "      <td>No</td>\n",
       "      <td>NaN</td>\n",
       "      <td>0</td>\n",
       "    </tr>\n",
       "    <tr>\n",
       "      <th>5575-GNVDE</th>\n",
       "      <td>2017-04-01</td>\n",
       "      <td>2020-02-01</td>\n",
       "      <td>One year</td>\n",
       "      <td>No</td>\n",
       "      <td>Mailed check</td>\n",
       "      <td>56.95</td>\n",
       "      <td>2071.84</td>\n",
       "      <td>Male</td>\n",
       "      <td>0</td>\n",
       "      <td>No</td>\n",
       "      <td>No</td>\n",
       "      <td>DSL</td>\n",
       "      <td>Yes</td>\n",
       "      <td>No</td>\n",
       "      <td>Yes</td>\n",
       "      <td>No</td>\n",
       "      <td>No</td>\n",
       "      <td>No</td>\n",
       "      <td>No</td>\n",
       "      <td>0</td>\n",
       "    </tr>\n",
       "    <tr>\n",
       "      <th>3668-QPYBK</th>\n",
       "      <td>2019-10-01</td>\n",
       "      <td>2020-02-01</td>\n",
       "      <td>Month-to-month</td>\n",
       "      <td>Yes</td>\n",
       "      <td>Mailed check</td>\n",
       "      <td>53.85</td>\n",
       "      <td>226.17</td>\n",
       "      <td>Male</td>\n",
       "      <td>0</td>\n",
       "      <td>No</td>\n",
       "      <td>No</td>\n",
       "      <td>DSL</td>\n",
       "      <td>Yes</td>\n",
       "      <td>Yes</td>\n",
       "      <td>No</td>\n",
       "      <td>No</td>\n",
       "      <td>No</td>\n",
       "      <td>No</td>\n",
       "      <td>No</td>\n",
       "      <td>0</td>\n",
       "    </tr>\n",
       "    <tr>\n",
       "      <th>7795-CFOCW</th>\n",
       "      <td>2016-05-01</td>\n",
       "      <td>2020-02-01</td>\n",
       "      <td>One year</td>\n",
       "      <td>No</td>\n",
       "      <td>Bank transfer (automatic)</td>\n",
       "      <td>42.30</td>\n",
       "      <td>1960.6</td>\n",
       "      <td>Male</td>\n",
       "      <td>0</td>\n",
       "      <td>No</td>\n",
       "      <td>No</td>\n",
       "      <td>DSL</td>\n",
       "      <td>Yes</td>\n",
       "      <td>No</td>\n",
       "      <td>Yes</td>\n",
       "      <td>Yes</td>\n",
       "      <td>No</td>\n",
       "      <td>No</td>\n",
       "      <td>NaN</td>\n",
       "      <td>0</td>\n",
       "    </tr>\n",
       "    <tr>\n",
       "      <th>9237-HQITU</th>\n",
       "      <td>2019-09-01</td>\n",
       "      <td>2020-02-01</td>\n",
       "      <td>Month-to-month</td>\n",
       "      <td>Yes</td>\n",
       "      <td>Electronic check</td>\n",
       "      <td>70.70</td>\n",
       "      <td>353.5</td>\n",
       "      <td>Female</td>\n",
       "      <td>0</td>\n",
       "      <td>No</td>\n",
       "      <td>No</td>\n",
       "      <td>Fiber optic</td>\n",
       "      <td>No</td>\n",
       "      <td>No</td>\n",
       "      <td>No</td>\n",
       "      <td>No</td>\n",
       "      <td>No</td>\n",
       "      <td>No</td>\n",
       "      <td>No</td>\n",
       "      <td>0</td>\n",
       "    </tr>\n",
       "  </tbody>\n",
       "</table>\n",
       "</div>"
      ],
      "text/plain": [
       "           begin-date   end-date            type paperless-billing  \\\n",
       "customerID                                                           \n",
       "7590-VHVEG 2020-01-01 2020-02-01  Month-to-month               Yes   \n",
       "5575-GNVDE 2017-04-01 2020-02-01        One year                No   \n",
       "3668-QPYBK 2019-10-01 2020-02-01  Month-to-month               Yes   \n",
       "7795-CFOCW 2016-05-01 2020-02-01        One year                No   \n",
       "9237-HQITU 2019-09-01 2020-02-01  Month-to-month               Yes   \n",
       "\n",
       "                       payment-method  monthly-charges total-charges  gender  \\\n",
       "customerID                                                                     \n",
       "7590-VHVEG           Electronic check            29.85         31.04  Female   \n",
       "5575-GNVDE               Mailed check            56.95       2071.84    Male   \n",
       "3668-QPYBK               Mailed check            53.85        226.17    Male   \n",
       "7795-CFOCW  Bank transfer (automatic)            42.30        1960.6    Male   \n",
       "9237-HQITU           Electronic check            70.70         353.5  Female   \n",
       "\n",
       "            senior-citizen partner dependents internet-service  \\\n",
       "customerID                                                       \n",
       "7590-VHVEG               0     Yes         No              DSL   \n",
       "5575-GNVDE               0      No         No              DSL   \n",
       "3668-QPYBK               0      No         No              DSL   \n",
       "7795-CFOCW               0      No         No              DSL   \n",
       "9237-HQITU               0      No         No      Fiber optic   \n",
       "\n",
       "           online-security online-backup device-protection tech-support  \\\n",
       "customerID                                                                \n",
       "7590-VHVEG              No           Yes                No           No   \n",
       "5575-GNVDE             Yes            No               Yes           No   \n",
       "3668-QPYBK             Yes           Yes                No           No   \n",
       "7795-CFOCW             Yes            No               Yes          Yes   \n",
       "9237-HQITU              No            No                No           No   \n",
       "\n",
       "           streaming-tv streaming-movies multiple-lines  task  \n",
       "customerID                                                     \n",
       "7590-VHVEG           No               No            NaN     0  \n",
       "5575-GNVDE           No               No             No     0  \n",
       "3668-QPYBK           No               No             No     0  \n",
       "7795-CFOCW           No               No            NaN     0  \n",
       "9237-HQITU           No               No             No     0  "
      ]
     },
     "execution_count": 18,
     "metadata": {},
     "output_type": "execute_result"
    }
   ],
   "source": [
    "data.head()"
   ]
  },
  {
   "cell_type": "code",
   "execution_count": 19,
   "metadata": {},
   "outputs": [],
   "source": [
    "data['day-use'] = (data['end-date'] - data['begin-date']).dt.days"
   ]
  },
  {
   "cell_type": "code",
   "execution_count": 20,
   "metadata": {},
   "outputs": [
    {
     "name": "stdout",
     "output_type": "stream",
     "text": [
      "<class 'pandas.core.frame.DataFrame'>\n",
      "Index: 7043 entries, 7590-VHVEG to 3186-AJIEK\n",
      "Data columns (total 21 columns):\n",
      " #   Column             Non-Null Count  Dtype         \n",
      "---  ------             --------------  -----         \n",
      " 0   begin-date         7043 non-null   datetime64[ns]\n",
      " 1   end-date           7043 non-null   datetime64[ns]\n",
      " 2   type               7043 non-null   object        \n",
      " 3   paperless-billing  7043 non-null   object        \n",
      " 4   payment-method     7043 non-null   object        \n",
      " 5   monthly-charges    7043 non-null   float64       \n",
      " 6   total-charges      7043 non-null   object        \n",
      " 7   gender             7043 non-null   object        \n",
      " 8   senior-citizen     7043 non-null   int64         \n",
      " 9   partner            7043 non-null   object        \n",
      " 10  dependents         7043 non-null   object        \n",
      " 11  internet-service   5517 non-null   object        \n",
      " 12  online-security    5517 non-null   object        \n",
      " 13  online-backup      5517 non-null   object        \n",
      " 14  device-protection  5517 non-null   object        \n",
      " 15  tech-support       5517 non-null   object        \n",
      " 16  streaming-tv       5517 non-null   object        \n",
      " 17  streaming-movies   5517 non-null   object        \n",
      " 18  multiple-lines     6361 non-null   object        \n",
      " 19  task               7043 non-null   int64         \n",
      " 20  day-use            7043 non-null   int64         \n",
      "dtypes: datetime64[ns](2), float64(1), int64(3), object(15)\n",
      "memory usage: 1.2+ MB\n"
     ]
    }
   ],
   "source": [
    "data.info()"
   ]
  },
  {
   "cell_type": "markdown",
   "metadata": {},
   "source": [
    "В будущем, столбцы end-date и begin-date могут вызвать утечки данных, удалим эти столбцы"
   ]
  },
  {
   "cell_type": "code",
   "execution_count": 21,
   "metadata": {},
   "outputs": [
    {
     "name": "stdout",
     "output_type": "stream",
     "text": [
      "<class 'pandas.core.frame.DataFrame'>\n",
      "Index: 7043 entries, 7590-VHVEG to 3186-AJIEK\n",
      "Data columns (total 21 columns):\n",
      " #   Column             Non-Null Count  Dtype         \n",
      "---  ------             --------------  -----         \n",
      " 0   begin-date         7043 non-null   datetime64[ns]\n",
      " 1   end-date           7043 non-null   datetime64[ns]\n",
      " 2   type               7043 non-null   object        \n",
      " 3   paperless-billing  7043 non-null   object        \n",
      " 4   payment-method     7043 non-null   object        \n",
      " 5   monthly-charges    7043 non-null   float64       \n",
      " 6   total-charges      7043 non-null   object        \n",
      " 7   gender             7043 non-null   object        \n",
      " 8   senior-citizen     7043 non-null   int64         \n",
      " 9   partner            7043 non-null   object        \n",
      " 10  dependents         7043 non-null   object        \n",
      " 11  internet-service   5517 non-null   object        \n",
      " 12  online-security    5517 non-null   object        \n",
      " 13  online-backup      5517 non-null   object        \n",
      " 14  device-protection  5517 non-null   object        \n",
      " 15  tech-support       5517 non-null   object        \n",
      " 16  streaming-tv       5517 non-null   object        \n",
      " 17  streaming-movies   5517 non-null   object        \n",
      " 18  multiple-lines     6361 non-null   object        \n",
      " 19  task               7043 non-null   int64         \n",
      " 20  day-use            7043 non-null   int64         \n",
      "dtypes: datetime64[ns](2), float64(1), int64(3), object(15)\n",
      "memory usage: 1.2+ MB\n"
     ]
    }
   ],
   "source": [
    "data.info()"
   ]
  },
  {
   "cell_type": "markdown",
   "metadata": {},
   "source": [
    "### Промежуточный вывод"
   ]
  },
  {
   "cell_type": "markdown",
   "metadata": {},
   "source": [
    "В нашем распоряжении данные о 7043 клиентах\n",
    "\n",
    "1. Последовательность столбцов логична\n",
    "2. Явных дубликатов - нет\n",
    "3. Были стандатизированны названия столбцов\n",
    "4. На первый взгляд данные выглядят неплохо - пропуски в большинстве связанны с отсутствием у клиентов подключения к услугам интернета или услугам телефонии\n",
    "5. Был изменён тип данных у столбцов begin-date и end-date на datetime64, остальные столбцы требуют более подробного изучения\n",
    "6. Был добавлен целевой признак 'task' - бинарный признак, где значение 1 - клиент ушёл, 0 - клиент не ушёл\n",
    "7. Был добавлен синтетический признак 'day-use' - сколько дней клиент пользуется услугами\n",
    "8. Для избежания утечки данных - после анализа данных и перед разделением данных на выборки потребуется удалить столбцы 'begin-date' и 'end-date'"
   ]
  },
  {
   "cell_type": "markdown",
   "metadata": {},
   "source": [
    "Можем переходить к детальному анализу"
   ]
  },
  {
   "cell_type": "markdown",
   "metadata": {},
   "source": [
    "## Анализ данных "
   ]
  },
  {
   "cell_type": "markdown",
   "metadata": {},
   "source": [
    "### Обработка типов данных столбцов"
   ]
  },
  {
   "cell_type": "code",
   "execution_count": 22,
   "metadata": {},
   "outputs": [
    {
     "name": "stdout",
     "output_type": "stream",
     "text": [
      "<class 'pandas.core.frame.DataFrame'>\n",
      "Index: 7043 entries, 7590-VHVEG to 3186-AJIEK\n",
      "Data columns (total 21 columns):\n",
      " #   Column             Non-Null Count  Dtype         \n",
      "---  ------             --------------  -----         \n",
      " 0   begin-date         7043 non-null   datetime64[ns]\n",
      " 1   end-date           7043 non-null   datetime64[ns]\n",
      " 2   type               7043 non-null   object        \n",
      " 3   paperless-billing  7043 non-null   object        \n",
      " 4   payment-method     7043 non-null   object        \n",
      " 5   monthly-charges    7043 non-null   float64       \n",
      " 6   total-charges      7043 non-null   object        \n",
      " 7   gender             7043 non-null   object        \n",
      " 8   senior-citizen     7043 non-null   int64         \n",
      " 9   partner            7043 non-null   object        \n",
      " 10  dependents         7043 non-null   object        \n",
      " 11  internet-service   5517 non-null   object        \n",
      " 12  online-security    5517 non-null   object        \n",
      " 13  online-backup      5517 non-null   object        \n",
      " 14  device-protection  5517 non-null   object        \n",
      " 15  tech-support       5517 non-null   object        \n",
      " 16  streaming-tv       5517 non-null   object        \n",
      " 17  streaming-movies   5517 non-null   object        \n",
      " 18  multiple-lines     6361 non-null   object        \n",
      " 19  task               7043 non-null   int64         \n",
      " 20  day-use            7043 non-null   int64         \n",
      "dtypes: datetime64[ns](2), float64(1), int64(3), object(15)\n",
      "memory usage: 1.2+ MB\n"
     ]
    }
   ],
   "source": [
    "data.info()"
   ]
  },
  {
   "cell_type": "markdown",
   "metadata": {},
   "source": [
    "К числовым признакам также можно отнести - total-charges. Столбец senior-citizen - больше категориальный, чем числовой. Столбец total-charges приведём к числовому типу, столбец senior-citizen для упрощения анализа данных изменим тип данных на object. У остальных столбцов проблем с типом данных - нет."
   ]
  },
  {
   "cell_type": "markdown",
   "metadata": {},
   "source": [
    "Изменим тип данных столбца - total-charges"
   ]
  },
  {
   "cell_type": "code",
   "execution_count": 23,
   "metadata": {
    "scrolled": true
   },
   "outputs": [
    {
     "data": {
      "text/html": [
       "<div>\n",
       "<style scoped>\n",
       "    .dataframe tbody tr th:only-of-type {\n",
       "        vertical-align: middle;\n",
       "    }\n",
       "\n",
       "    .dataframe tbody tr th {\n",
       "        vertical-align: top;\n",
       "    }\n",
       "\n",
       "    .dataframe thead th {\n",
       "        text-align: right;\n",
       "    }\n",
       "</style>\n",
       "<table border=\"1\" class=\"dataframe\">\n",
       "  <thead>\n",
       "    <tr style=\"text-align: right;\">\n",
       "      <th></th>\n",
       "      <th>begin-date</th>\n",
       "      <th>end-date</th>\n",
       "      <th>type</th>\n",
       "      <th>paperless-billing</th>\n",
       "      <th>payment-method</th>\n",
       "      <th>monthly-charges</th>\n",
       "      <th>total-charges</th>\n",
       "      <th>gender</th>\n",
       "      <th>senior-citizen</th>\n",
       "      <th>partner</th>\n",
       "      <th>...</th>\n",
       "      <th>internet-service</th>\n",
       "      <th>online-security</th>\n",
       "      <th>online-backup</th>\n",
       "      <th>device-protection</th>\n",
       "      <th>tech-support</th>\n",
       "      <th>streaming-tv</th>\n",
       "      <th>streaming-movies</th>\n",
       "      <th>multiple-lines</th>\n",
       "      <th>task</th>\n",
       "      <th>day-use</th>\n",
       "    </tr>\n",
       "    <tr>\n",
       "      <th>customerID</th>\n",
       "      <th></th>\n",
       "      <th></th>\n",
       "      <th></th>\n",
       "      <th></th>\n",
       "      <th></th>\n",
       "      <th></th>\n",
       "      <th></th>\n",
       "      <th></th>\n",
       "      <th></th>\n",
       "      <th></th>\n",
       "      <th></th>\n",
       "      <th></th>\n",
       "      <th></th>\n",
       "      <th></th>\n",
       "      <th></th>\n",
       "      <th></th>\n",
       "      <th></th>\n",
       "      <th></th>\n",
       "      <th></th>\n",
       "      <th></th>\n",
       "      <th></th>\n",
       "    </tr>\n",
       "  </thead>\n",
       "  <tbody>\n",
       "    <tr>\n",
       "      <th>4472-LVYGI</th>\n",
       "      <td>2020-02-01</td>\n",
       "      <td>2020-02-01</td>\n",
       "      <td>Two year</td>\n",
       "      <td>Yes</td>\n",
       "      <td>Bank transfer (automatic)</td>\n",
       "      <td>52.55</td>\n",
       "      <td>NaN</td>\n",
       "      <td>Female</td>\n",
       "      <td>0</td>\n",
       "      <td>Yes</td>\n",
       "      <td>...</td>\n",
       "      <td>DSL</td>\n",
       "      <td>Yes</td>\n",
       "      <td>No</td>\n",
       "      <td>Yes</td>\n",
       "      <td>Yes</td>\n",
       "      <td>Yes</td>\n",
       "      <td>No</td>\n",
       "      <td>NaN</td>\n",
       "      <td>0</td>\n",
       "      <td>0</td>\n",
       "    </tr>\n",
       "    <tr>\n",
       "      <th>3115-CZMZD</th>\n",
       "      <td>2020-02-01</td>\n",
       "      <td>2020-02-01</td>\n",
       "      <td>Two year</td>\n",
       "      <td>No</td>\n",
       "      <td>Mailed check</td>\n",
       "      <td>20.25</td>\n",
       "      <td>NaN</td>\n",
       "      <td>Male</td>\n",
       "      <td>0</td>\n",
       "      <td>No</td>\n",
       "      <td>...</td>\n",
       "      <td>NaN</td>\n",
       "      <td>NaN</td>\n",
       "      <td>NaN</td>\n",
       "      <td>NaN</td>\n",
       "      <td>NaN</td>\n",
       "      <td>NaN</td>\n",
       "      <td>NaN</td>\n",
       "      <td>No</td>\n",
       "      <td>0</td>\n",
       "      <td>0</td>\n",
       "    </tr>\n",
       "    <tr>\n",
       "      <th>5709-LVOEQ</th>\n",
       "      <td>2020-02-01</td>\n",
       "      <td>2020-02-01</td>\n",
       "      <td>Two year</td>\n",
       "      <td>No</td>\n",
       "      <td>Mailed check</td>\n",
       "      <td>80.85</td>\n",
       "      <td>NaN</td>\n",
       "      <td>Female</td>\n",
       "      <td>0</td>\n",
       "      <td>Yes</td>\n",
       "      <td>...</td>\n",
       "      <td>DSL</td>\n",
       "      <td>Yes</td>\n",
       "      <td>Yes</td>\n",
       "      <td>Yes</td>\n",
       "      <td>No</td>\n",
       "      <td>Yes</td>\n",
       "      <td>Yes</td>\n",
       "      <td>No</td>\n",
       "      <td>0</td>\n",
       "      <td>0</td>\n",
       "    </tr>\n",
       "    <tr>\n",
       "      <th>4367-NUYAO</th>\n",
       "      <td>2020-02-01</td>\n",
       "      <td>2020-02-01</td>\n",
       "      <td>Two year</td>\n",
       "      <td>No</td>\n",
       "      <td>Mailed check</td>\n",
       "      <td>25.75</td>\n",
       "      <td>NaN</td>\n",
       "      <td>Male</td>\n",
       "      <td>0</td>\n",
       "      <td>Yes</td>\n",
       "      <td>...</td>\n",
       "      <td>NaN</td>\n",
       "      <td>NaN</td>\n",
       "      <td>NaN</td>\n",
       "      <td>NaN</td>\n",
       "      <td>NaN</td>\n",
       "      <td>NaN</td>\n",
       "      <td>NaN</td>\n",
       "      <td>Yes</td>\n",
       "      <td>0</td>\n",
       "      <td>0</td>\n",
       "    </tr>\n",
       "    <tr>\n",
       "      <th>1371-DWPAZ</th>\n",
       "      <td>2020-02-01</td>\n",
       "      <td>2020-02-01</td>\n",
       "      <td>Two year</td>\n",
       "      <td>No</td>\n",
       "      <td>Credit card (automatic)</td>\n",
       "      <td>56.05</td>\n",
       "      <td>NaN</td>\n",
       "      <td>Female</td>\n",
       "      <td>0</td>\n",
       "      <td>Yes</td>\n",
       "      <td>...</td>\n",
       "      <td>DSL</td>\n",
       "      <td>Yes</td>\n",
       "      <td>Yes</td>\n",
       "      <td>Yes</td>\n",
       "      <td>Yes</td>\n",
       "      <td>Yes</td>\n",
       "      <td>No</td>\n",
       "      <td>NaN</td>\n",
       "      <td>0</td>\n",
       "      <td>0</td>\n",
       "    </tr>\n",
       "    <tr>\n",
       "      <th>7644-OMVMY</th>\n",
       "      <td>2020-02-01</td>\n",
       "      <td>2020-02-01</td>\n",
       "      <td>Two year</td>\n",
       "      <td>No</td>\n",
       "      <td>Mailed check</td>\n",
       "      <td>19.85</td>\n",
       "      <td>NaN</td>\n",
       "      <td>Male</td>\n",
       "      <td>0</td>\n",
       "      <td>Yes</td>\n",
       "      <td>...</td>\n",
       "      <td>NaN</td>\n",
       "      <td>NaN</td>\n",
       "      <td>NaN</td>\n",
       "      <td>NaN</td>\n",
       "      <td>NaN</td>\n",
       "      <td>NaN</td>\n",
       "      <td>NaN</td>\n",
       "      <td>No</td>\n",
       "      <td>0</td>\n",
       "      <td>0</td>\n",
       "    </tr>\n",
       "    <tr>\n",
       "      <th>3213-VVOLG</th>\n",
       "      <td>2020-02-01</td>\n",
       "      <td>2020-02-01</td>\n",
       "      <td>Two year</td>\n",
       "      <td>No</td>\n",
       "      <td>Mailed check</td>\n",
       "      <td>25.35</td>\n",
       "      <td>NaN</td>\n",
       "      <td>Male</td>\n",
       "      <td>0</td>\n",
       "      <td>Yes</td>\n",
       "      <td>...</td>\n",
       "      <td>NaN</td>\n",
       "      <td>NaN</td>\n",
       "      <td>NaN</td>\n",
       "      <td>NaN</td>\n",
       "      <td>NaN</td>\n",
       "      <td>NaN</td>\n",
       "      <td>NaN</td>\n",
       "      <td>Yes</td>\n",
       "      <td>0</td>\n",
       "      <td>0</td>\n",
       "    </tr>\n",
       "    <tr>\n",
       "      <th>2520-SGTTA</th>\n",
       "      <td>2020-02-01</td>\n",
       "      <td>2020-02-01</td>\n",
       "      <td>Two year</td>\n",
       "      <td>No</td>\n",
       "      <td>Mailed check</td>\n",
       "      <td>20.00</td>\n",
       "      <td>NaN</td>\n",
       "      <td>Female</td>\n",
       "      <td>0</td>\n",
       "      <td>Yes</td>\n",
       "      <td>...</td>\n",
       "      <td>NaN</td>\n",
       "      <td>NaN</td>\n",
       "      <td>NaN</td>\n",
       "      <td>NaN</td>\n",
       "      <td>NaN</td>\n",
       "      <td>NaN</td>\n",
       "      <td>NaN</td>\n",
       "      <td>No</td>\n",
       "      <td>0</td>\n",
       "      <td>0</td>\n",
       "    </tr>\n",
       "    <tr>\n",
       "      <th>2923-ARZLG</th>\n",
       "      <td>2020-02-01</td>\n",
       "      <td>2020-02-01</td>\n",
       "      <td>One year</td>\n",
       "      <td>Yes</td>\n",
       "      <td>Mailed check</td>\n",
       "      <td>19.70</td>\n",
       "      <td>NaN</td>\n",
       "      <td>Male</td>\n",
       "      <td>0</td>\n",
       "      <td>Yes</td>\n",
       "      <td>...</td>\n",
       "      <td>NaN</td>\n",
       "      <td>NaN</td>\n",
       "      <td>NaN</td>\n",
       "      <td>NaN</td>\n",
       "      <td>NaN</td>\n",
       "      <td>NaN</td>\n",
       "      <td>NaN</td>\n",
       "      <td>No</td>\n",
       "      <td>0</td>\n",
       "      <td>0</td>\n",
       "    </tr>\n",
       "    <tr>\n",
       "      <th>4075-WKNIU</th>\n",
       "      <td>2020-02-01</td>\n",
       "      <td>2020-02-01</td>\n",
       "      <td>Two year</td>\n",
       "      <td>No</td>\n",
       "      <td>Mailed check</td>\n",
       "      <td>73.35</td>\n",
       "      <td>NaN</td>\n",
       "      <td>Female</td>\n",
       "      <td>0</td>\n",
       "      <td>Yes</td>\n",
       "      <td>...</td>\n",
       "      <td>DSL</td>\n",
       "      <td>No</td>\n",
       "      <td>Yes</td>\n",
       "      <td>Yes</td>\n",
       "      <td>Yes</td>\n",
       "      <td>Yes</td>\n",
       "      <td>No</td>\n",
       "      <td>Yes</td>\n",
       "      <td>0</td>\n",
       "      <td>0</td>\n",
       "    </tr>\n",
       "    <tr>\n",
       "      <th>2775-SEFEE</th>\n",
       "      <td>2020-02-01</td>\n",
       "      <td>2020-02-01</td>\n",
       "      <td>Two year</td>\n",
       "      <td>Yes</td>\n",
       "      <td>Bank transfer (automatic)</td>\n",
       "      <td>61.90</td>\n",
       "      <td>NaN</td>\n",
       "      <td>Male</td>\n",
       "      <td>0</td>\n",
       "      <td>No</td>\n",
       "      <td>...</td>\n",
       "      <td>DSL</td>\n",
       "      <td>Yes</td>\n",
       "      <td>Yes</td>\n",
       "      <td>No</td>\n",
       "      <td>Yes</td>\n",
       "      <td>No</td>\n",
       "      <td>No</td>\n",
       "      <td>Yes</td>\n",
       "      <td>0</td>\n",
       "      <td>0</td>\n",
       "    </tr>\n",
       "  </tbody>\n",
       "</table>\n",
       "<p>11 rows × 21 columns</p>\n",
       "</div>"
      ],
      "text/plain": [
       "           begin-date   end-date      type paperless-billing  \\\n",
       "customerID                                                     \n",
       "4472-LVYGI 2020-02-01 2020-02-01  Two year               Yes   \n",
       "3115-CZMZD 2020-02-01 2020-02-01  Two year                No   \n",
       "5709-LVOEQ 2020-02-01 2020-02-01  Two year                No   \n",
       "4367-NUYAO 2020-02-01 2020-02-01  Two year                No   \n",
       "1371-DWPAZ 2020-02-01 2020-02-01  Two year                No   \n",
       "7644-OMVMY 2020-02-01 2020-02-01  Two year                No   \n",
       "3213-VVOLG 2020-02-01 2020-02-01  Two year                No   \n",
       "2520-SGTTA 2020-02-01 2020-02-01  Two year                No   \n",
       "2923-ARZLG 2020-02-01 2020-02-01  One year               Yes   \n",
       "4075-WKNIU 2020-02-01 2020-02-01  Two year                No   \n",
       "2775-SEFEE 2020-02-01 2020-02-01  Two year               Yes   \n",
       "\n",
       "                       payment-method  monthly-charges  total-charges  gender  \\\n",
       "customerID                                                                      \n",
       "4472-LVYGI  Bank transfer (automatic)            52.55            NaN  Female   \n",
       "3115-CZMZD               Mailed check            20.25            NaN    Male   \n",
       "5709-LVOEQ               Mailed check            80.85            NaN  Female   \n",
       "4367-NUYAO               Mailed check            25.75            NaN    Male   \n",
       "1371-DWPAZ    Credit card (automatic)            56.05            NaN  Female   \n",
       "7644-OMVMY               Mailed check            19.85            NaN    Male   \n",
       "3213-VVOLG               Mailed check            25.35            NaN    Male   \n",
       "2520-SGTTA               Mailed check            20.00            NaN  Female   \n",
       "2923-ARZLG               Mailed check            19.70            NaN    Male   \n",
       "4075-WKNIU               Mailed check            73.35            NaN  Female   \n",
       "2775-SEFEE  Bank transfer (automatic)            61.90            NaN    Male   \n",
       "\n",
       "            senior-citizen partner  ... internet-service online-security  \\\n",
       "customerID                          ...                                    \n",
       "4472-LVYGI               0     Yes  ...              DSL             Yes   \n",
       "3115-CZMZD               0      No  ...              NaN             NaN   \n",
       "5709-LVOEQ               0     Yes  ...              DSL             Yes   \n",
       "4367-NUYAO               0     Yes  ...              NaN             NaN   \n",
       "1371-DWPAZ               0     Yes  ...              DSL             Yes   \n",
       "7644-OMVMY               0     Yes  ...              NaN             NaN   \n",
       "3213-VVOLG               0     Yes  ...              NaN             NaN   \n",
       "2520-SGTTA               0     Yes  ...              NaN             NaN   \n",
       "2923-ARZLG               0     Yes  ...              NaN             NaN   \n",
       "4075-WKNIU               0     Yes  ...              DSL              No   \n",
       "2775-SEFEE               0      No  ...              DSL             Yes   \n",
       "\n",
       "           online-backup device-protection tech-support streaming-tv  \\\n",
       "customerID                                                             \n",
       "4472-LVYGI            No               Yes          Yes          Yes   \n",
       "3115-CZMZD           NaN               NaN          NaN          NaN   \n",
       "5709-LVOEQ           Yes               Yes           No          Yes   \n",
       "4367-NUYAO           NaN               NaN          NaN          NaN   \n",
       "1371-DWPAZ           Yes               Yes          Yes          Yes   \n",
       "7644-OMVMY           NaN               NaN          NaN          NaN   \n",
       "3213-VVOLG           NaN               NaN          NaN          NaN   \n",
       "2520-SGTTA           NaN               NaN          NaN          NaN   \n",
       "2923-ARZLG           NaN               NaN          NaN          NaN   \n",
       "4075-WKNIU           Yes               Yes          Yes          Yes   \n",
       "2775-SEFEE           Yes                No          Yes           No   \n",
       "\n",
       "           streaming-movies multiple-lines task  day-use  \n",
       "customerID                                                \n",
       "4472-LVYGI               No            NaN    0        0  \n",
       "3115-CZMZD              NaN             No    0        0  \n",
       "5709-LVOEQ              Yes             No    0        0  \n",
       "4367-NUYAO              NaN            Yes    0        0  \n",
       "1371-DWPAZ               No            NaN    0        0  \n",
       "7644-OMVMY              NaN             No    0        0  \n",
       "3213-VVOLG              NaN            Yes    0        0  \n",
       "2520-SGTTA              NaN             No    0        0  \n",
       "2923-ARZLG              NaN             No    0        0  \n",
       "4075-WKNIU               No            Yes    0        0  \n",
       "2775-SEFEE               No            Yes    0        0  \n",
       "\n",
       "[11 rows x 21 columns]"
      ]
     },
     "execution_count": 23,
     "metadata": {},
     "output_type": "execute_result"
    }
   ],
   "source": [
    "data['total-charges'] = pd.to_numeric(data['total-charges'], errors='coerce')\n",
    "data.loc[data['total-charges'].isna()]"
   ]
  },
  {
   "cell_type": "markdown",
   "metadata": {},
   "source": [
    "Причина пропусков в total-charges - клиенты заключившие договора в день актуальности данных, причин не отображения данных может быть несколько - не внесение данных в таблицу, не поступление платежа. Предположу, что для таких клиентов total-charges примерно равен monthly-charges"
   ]
  },
  {
   "cell_type": "markdown",
   "metadata": {},
   "source": [
    "Посмотрим на все строки, где дата начала пользования услугами - 1 февраля 2020 года"
   ]
  },
  {
   "cell_type": "code",
   "execution_count": 24,
   "metadata": {},
   "outputs": [
    {
     "data": {
      "text/html": [
       "<div>\n",
       "<style scoped>\n",
       "    .dataframe tbody tr th:only-of-type {\n",
       "        vertical-align: middle;\n",
       "    }\n",
       "\n",
       "    .dataframe tbody tr th {\n",
       "        vertical-align: top;\n",
       "    }\n",
       "\n",
       "    .dataframe thead th {\n",
       "        text-align: right;\n",
       "    }\n",
       "</style>\n",
       "<table border=\"1\" class=\"dataframe\">\n",
       "  <thead>\n",
       "    <tr style=\"text-align: right;\">\n",
       "      <th></th>\n",
       "      <th>begin-date</th>\n",
       "      <th>end-date</th>\n",
       "      <th>type</th>\n",
       "      <th>paperless-billing</th>\n",
       "      <th>payment-method</th>\n",
       "      <th>monthly-charges</th>\n",
       "      <th>total-charges</th>\n",
       "      <th>gender</th>\n",
       "      <th>senior-citizen</th>\n",
       "      <th>partner</th>\n",
       "      <th>...</th>\n",
       "      <th>internet-service</th>\n",
       "      <th>online-security</th>\n",
       "      <th>online-backup</th>\n",
       "      <th>device-protection</th>\n",
       "      <th>tech-support</th>\n",
       "      <th>streaming-tv</th>\n",
       "      <th>streaming-movies</th>\n",
       "      <th>multiple-lines</th>\n",
       "      <th>task</th>\n",
       "      <th>day-use</th>\n",
       "    </tr>\n",
       "    <tr>\n",
       "      <th>customerID</th>\n",
       "      <th></th>\n",
       "      <th></th>\n",
       "      <th></th>\n",
       "      <th></th>\n",
       "      <th></th>\n",
       "      <th></th>\n",
       "      <th></th>\n",
       "      <th></th>\n",
       "      <th></th>\n",
       "      <th></th>\n",
       "      <th></th>\n",
       "      <th></th>\n",
       "      <th></th>\n",
       "      <th></th>\n",
       "      <th></th>\n",
       "      <th></th>\n",
       "      <th></th>\n",
       "      <th></th>\n",
       "      <th></th>\n",
       "      <th></th>\n",
       "      <th></th>\n",
       "    </tr>\n",
       "  </thead>\n",
       "  <tbody>\n",
       "    <tr>\n",
       "      <th>7590-VHVEG</th>\n",
       "      <td>2020-01-01</td>\n",
       "      <td>2020-02-01</td>\n",
       "      <td>Month-to-month</td>\n",
       "      <td>Yes</td>\n",
       "      <td>Electronic check</td>\n",
       "      <td>29.85</td>\n",
       "      <td>31.04</td>\n",
       "      <td>Female</td>\n",
       "      <td>0</td>\n",
       "      <td>Yes</td>\n",
       "      <td>...</td>\n",
       "      <td>DSL</td>\n",
       "      <td>No</td>\n",
       "      <td>Yes</td>\n",
       "      <td>No</td>\n",
       "      <td>No</td>\n",
       "      <td>No</td>\n",
       "      <td>No</td>\n",
       "      <td>NaN</td>\n",
       "      <td>0</td>\n",
       "      <td>31</td>\n",
       "    </tr>\n",
       "    <tr>\n",
       "      <th>7310-EGVHZ</th>\n",
       "      <td>2020-01-01</td>\n",
       "      <td>2020-02-01</td>\n",
       "      <td>Month-to-month</td>\n",
       "      <td>No</td>\n",
       "      <td>Bank transfer (automatic)</td>\n",
       "      <td>20.20</td>\n",
       "      <td>22.22</td>\n",
       "      <td>Male</td>\n",
       "      <td>0</td>\n",
       "      <td>No</td>\n",
       "      <td>...</td>\n",
       "      <td>NaN</td>\n",
       "      <td>NaN</td>\n",
       "      <td>NaN</td>\n",
       "      <td>NaN</td>\n",
       "      <td>NaN</td>\n",
       "      <td>NaN</td>\n",
       "      <td>NaN</td>\n",
       "      <td>No</td>\n",
       "      <td>0</td>\n",
       "      <td>31</td>\n",
       "    </tr>\n",
       "    <tr>\n",
       "      <th>3413-BMNZE</th>\n",
       "      <td>2020-01-01</td>\n",
       "      <td>2020-02-01</td>\n",
       "      <td>Month-to-month</td>\n",
       "      <td>No</td>\n",
       "      <td>Bank transfer (automatic)</td>\n",
       "      <td>45.25</td>\n",
       "      <td>45.25</td>\n",
       "      <td>Male</td>\n",
       "      <td>1</td>\n",
       "      <td>No</td>\n",
       "      <td>...</td>\n",
       "      <td>DSL</td>\n",
       "      <td>No</td>\n",
       "      <td>No</td>\n",
       "      <td>No</td>\n",
       "      <td>No</td>\n",
       "      <td>No</td>\n",
       "      <td>No</td>\n",
       "      <td>No</td>\n",
       "      <td>0</td>\n",
       "      <td>31</td>\n",
       "    </tr>\n",
       "    <tr>\n",
       "      <th>2273-QCKXA</th>\n",
       "      <td>2020-01-01</td>\n",
       "      <td>2020-02-01</td>\n",
       "      <td>Month-to-month</td>\n",
       "      <td>No</td>\n",
       "      <td>Mailed check</td>\n",
       "      <td>49.05</td>\n",
       "      <td>52.48</td>\n",
       "      <td>Male</td>\n",
       "      <td>0</td>\n",
       "      <td>No</td>\n",
       "      <td>...</td>\n",
       "      <td>DSL</td>\n",
       "      <td>No</td>\n",
       "      <td>No</td>\n",
       "      <td>No</td>\n",
       "      <td>Yes</td>\n",
       "      <td>No</td>\n",
       "      <td>No</td>\n",
       "      <td>No</td>\n",
       "      <td>0</td>\n",
       "      <td>31</td>\n",
       "    </tr>\n",
       "    <tr>\n",
       "      <th>2424-WVHPL</th>\n",
       "      <td>2020-01-01</td>\n",
       "      <td>2020-02-01</td>\n",
       "      <td>Month-to-month</td>\n",
       "      <td>No</td>\n",
       "      <td>Electronic check</td>\n",
       "      <td>74.70</td>\n",
       "      <td>79.93</td>\n",
       "      <td>Male</td>\n",
       "      <td>1</td>\n",
       "      <td>No</td>\n",
       "      <td>...</td>\n",
       "      <td>Fiber optic</td>\n",
       "      <td>No</td>\n",
       "      <td>No</td>\n",
       "      <td>No</td>\n",
       "      <td>Yes</td>\n",
       "      <td>No</td>\n",
       "      <td>No</td>\n",
       "      <td>No</td>\n",
       "      <td>0</td>\n",
       "      <td>31</td>\n",
       "    </tr>\n",
       "    <tr>\n",
       "      <th>...</th>\n",
       "      <td>...</td>\n",
       "      <td>...</td>\n",
       "      <td>...</td>\n",
       "      <td>...</td>\n",
       "      <td>...</td>\n",
       "      <td>...</td>\n",
       "      <td>...</td>\n",
       "      <td>...</td>\n",
       "      <td>...</td>\n",
       "      <td>...</td>\n",
       "      <td>...</td>\n",
       "      <td>...</td>\n",
       "      <td>...</td>\n",
       "      <td>...</td>\n",
       "      <td>...</td>\n",
       "      <td>...</td>\n",
       "      <td>...</td>\n",
       "      <td>...</td>\n",
       "      <td>...</td>\n",
       "      <td>...</td>\n",
       "      <td>...</td>\n",
       "    </tr>\n",
       "    <tr>\n",
       "      <th>1724-IQWNM</th>\n",
       "      <td>2020-01-01</td>\n",
       "      <td>2020-02-01</td>\n",
       "      <td>Month-to-month</td>\n",
       "      <td>Yes</td>\n",
       "      <td>Mailed check</td>\n",
       "      <td>19.30</td>\n",
       "      <td>20.07</td>\n",
       "      <td>Male</td>\n",
       "      <td>0</td>\n",
       "      <td>No</td>\n",
       "      <td>...</td>\n",
       "      <td>NaN</td>\n",
       "      <td>NaN</td>\n",
       "      <td>NaN</td>\n",
       "      <td>NaN</td>\n",
       "      <td>NaN</td>\n",
       "      <td>NaN</td>\n",
       "      <td>NaN</td>\n",
       "      <td>No</td>\n",
       "      <td>0</td>\n",
       "      <td>31</td>\n",
       "    </tr>\n",
       "    <tr>\n",
       "      <th>6127-IYJOZ</th>\n",
       "      <td>2020-01-01</td>\n",
       "      <td>2020-02-01</td>\n",
       "      <td>Month-to-month</td>\n",
       "      <td>Yes</td>\n",
       "      <td>Mailed check</td>\n",
       "      <td>45.85</td>\n",
       "      <td>45.85</td>\n",
       "      <td>Male</td>\n",
       "      <td>1</td>\n",
       "      <td>No</td>\n",
       "      <td>...</td>\n",
       "      <td>DSL</td>\n",
       "      <td>No</td>\n",
       "      <td>No</td>\n",
       "      <td>No</td>\n",
       "      <td>No</td>\n",
       "      <td>No</td>\n",
       "      <td>No</td>\n",
       "      <td>No</td>\n",
       "      <td>0</td>\n",
       "      <td>31</td>\n",
       "    </tr>\n",
       "    <tr>\n",
       "      <th>9108-EJFJP</th>\n",
       "      <td>2020-01-01</td>\n",
       "      <td>2020-02-01</td>\n",
       "      <td>Month-to-month</td>\n",
       "      <td>Yes</td>\n",
       "      <td>Mailed check</td>\n",
       "      <td>53.55</td>\n",
       "      <td>55.69</td>\n",
       "      <td>Female</td>\n",
       "      <td>0</td>\n",
       "      <td>Yes</td>\n",
       "      <td>...</td>\n",
       "      <td>DSL</td>\n",
       "      <td>Yes</td>\n",
       "      <td>Yes</td>\n",
       "      <td>No</td>\n",
       "      <td>No</td>\n",
       "      <td>No</td>\n",
       "      <td>No</td>\n",
       "      <td>No</td>\n",
       "      <td>0</td>\n",
       "      <td>31</td>\n",
       "    </tr>\n",
       "    <tr>\n",
       "      <th>5351-QESIO</th>\n",
       "      <td>2020-01-01</td>\n",
       "      <td>2020-02-01</td>\n",
       "      <td>Month-to-month</td>\n",
       "      <td>No</td>\n",
       "      <td>Mailed check</td>\n",
       "      <td>24.20</td>\n",
       "      <td>24.20</td>\n",
       "      <td>Male</td>\n",
       "      <td>0</td>\n",
       "      <td>No</td>\n",
       "      <td>...</td>\n",
       "      <td>DSL</td>\n",
       "      <td>No</td>\n",
       "      <td>No</td>\n",
       "      <td>No</td>\n",
       "      <td>No</td>\n",
       "      <td>No</td>\n",
       "      <td>No</td>\n",
       "      <td>NaN</td>\n",
       "      <td>0</td>\n",
       "      <td>31</td>\n",
       "    </tr>\n",
       "    <tr>\n",
       "      <th>1471-GIQKQ</th>\n",
       "      <td>2020-01-01</td>\n",
       "      <td>2020-02-01</td>\n",
       "      <td>Month-to-month</td>\n",
       "      <td>No</td>\n",
       "      <td>Electronic check</td>\n",
       "      <td>49.95</td>\n",
       "      <td>53.95</td>\n",
       "      <td>Female</td>\n",
       "      <td>0</td>\n",
       "      <td>No</td>\n",
       "      <td>...</td>\n",
       "      <td>DSL</td>\n",
       "      <td>No</td>\n",
       "      <td>Yes</td>\n",
       "      <td>No</td>\n",
       "      <td>No</td>\n",
       "      <td>No</td>\n",
       "      <td>No</td>\n",
       "      <td>No</td>\n",
       "      <td>0</td>\n",
       "      <td>31</td>\n",
       "    </tr>\n",
       "  </tbody>\n",
       "</table>\n",
       "<p>233 rows × 21 columns</p>\n",
       "</div>"
      ],
      "text/plain": [
       "           begin-date   end-date            type paperless-billing  \\\n",
       "customerID                                                           \n",
       "7590-VHVEG 2020-01-01 2020-02-01  Month-to-month               Yes   \n",
       "7310-EGVHZ 2020-01-01 2020-02-01  Month-to-month                No   \n",
       "3413-BMNZE 2020-01-01 2020-02-01  Month-to-month                No   \n",
       "2273-QCKXA 2020-01-01 2020-02-01  Month-to-month                No   \n",
       "2424-WVHPL 2020-01-01 2020-02-01  Month-to-month                No   \n",
       "...               ...        ...             ...               ...   \n",
       "1724-IQWNM 2020-01-01 2020-02-01  Month-to-month               Yes   \n",
       "6127-IYJOZ 2020-01-01 2020-02-01  Month-to-month               Yes   \n",
       "9108-EJFJP 2020-01-01 2020-02-01  Month-to-month               Yes   \n",
       "5351-QESIO 2020-01-01 2020-02-01  Month-to-month                No   \n",
       "1471-GIQKQ 2020-01-01 2020-02-01  Month-to-month                No   \n",
       "\n",
       "                       payment-method  monthly-charges  total-charges  gender  \\\n",
       "customerID                                                                      \n",
       "7590-VHVEG           Electronic check            29.85          31.04  Female   \n",
       "7310-EGVHZ  Bank transfer (automatic)            20.20          22.22    Male   \n",
       "3413-BMNZE  Bank transfer (automatic)            45.25          45.25    Male   \n",
       "2273-QCKXA               Mailed check            49.05          52.48    Male   \n",
       "2424-WVHPL           Electronic check            74.70          79.93    Male   \n",
       "...                               ...              ...            ...     ...   \n",
       "1724-IQWNM               Mailed check            19.30          20.07    Male   \n",
       "6127-IYJOZ               Mailed check            45.85          45.85    Male   \n",
       "9108-EJFJP               Mailed check            53.55          55.69  Female   \n",
       "5351-QESIO               Mailed check            24.20          24.20    Male   \n",
       "1471-GIQKQ           Electronic check            49.95          53.95  Female   \n",
       "\n",
       "            senior-citizen partner  ... internet-service online-security  \\\n",
       "customerID                          ...                                    \n",
       "7590-VHVEG               0     Yes  ...              DSL              No   \n",
       "7310-EGVHZ               0      No  ...              NaN             NaN   \n",
       "3413-BMNZE               1      No  ...              DSL              No   \n",
       "2273-QCKXA               0      No  ...              DSL              No   \n",
       "2424-WVHPL               1      No  ...      Fiber optic              No   \n",
       "...                    ...     ...  ...              ...             ...   \n",
       "1724-IQWNM               0      No  ...              NaN             NaN   \n",
       "6127-IYJOZ               1      No  ...              DSL              No   \n",
       "9108-EJFJP               0     Yes  ...              DSL             Yes   \n",
       "5351-QESIO               0      No  ...              DSL              No   \n",
       "1471-GIQKQ               0      No  ...              DSL              No   \n",
       "\n",
       "           online-backup device-protection tech-support streaming-tv  \\\n",
       "customerID                                                             \n",
       "7590-VHVEG           Yes                No           No           No   \n",
       "7310-EGVHZ           NaN               NaN          NaN          NaN   \n",
       "3413-BMNZE            No                No           No           No   \n",
       "2273-QCKXA            No                No          Yes           No   \n",
       "2424-WVHPL            No                No          Yes           No   \n",
       "...                  ...               ...          ...          ...   \n",
       "1724-IQWNM           NaN               NaN          NaN          NaN   \n",
       "6127-IYJOZ            No                No           No           No   \n",
       "9108-EJFJP           Yes                No           No           No   \n",
       "5351-QESIO            No                No           No           No   \n",
       "1471-GIQKQ           Yes                No           No           No   \n",
       "\n",
       "           streaming-movies multiple-lines task  day-use  \n",
       "customerID                                                \n",
       "7590-VHVEG               No            NaN    0       31  \n",
       "7310-EGVHZ              NaN             No    0       31  \n",
       "3413-BMNZE               No             No    0       31  \n",
       "2273-QCKXA               No             No    0       31  \n",
       "2424-WVHPL               No             No    0       31  \n",
       "...                     ...            ...  ...      ...  \n",
       "1724-IQWNM              NaN             No    0       31  \n",
       "6127-IYJOZ               No             No    0       31  \n",
       "9108-EJFJP               No             No    0       31  \n",
       "5351-QESIO               No            NaN    0       31  \n",
       "1471-GIQKQ               No             No    0       31  \n",
       "\n",
       "[233 rows x 21 columns]"
      ]
     },
     "execution_count": 24,
     "metadata": {},
     "output_type": "execute_result"
    }
   ],
   "source": [
    "data.loc[data['begin-date'] == '2020-01-01']"
   ]
  },
  {
   "cell_type": "markdown",
   "metadata": {},
   "source": [
    "Да, действительно прослеживается примерно одинаковое значение у столбцов total-charges и monthly-charges"
   ]
  },
  {
   "cell_type": "markdown",
   "metadata": {},
   "source": [
    "Подтвердим своё предположение математическим расчётом отношения monthly-charges к total-charges"
   ]
  },
  {
   "cell_type": "code",
   "execution_count": 25,
   "metadata": {},
   "outputs": [
    {
     "data": {
      "text/plain": [
       "97.47860951058736"
      ]
     },
     "execution_count": 25,
     "metadata": {},
     "output_type": "execute_result"
    }
   ],
   "source": [
    "selected_rows = data[data['begin-date'] == '2020-01-01']\n",
    "(selected_rows['monthly-charges'].sum()) / (selected_rows['total-charges'].sum()) * 100"
   ]
  },
  {
   "cell_type": "markdown",
   "metadata": {},
   "source": [
    "Всё подтвердилось, погрешность в пределах 3%, можем заменять пропуски в total-charges на значение в monthly-charges"
   ]
  },
  {
   "cell_type": "code",
   "execution_count": 26,
   "metadata": {},
   "outputs": [],
   "source": [
    "data['total-charges'].fillna(data['monthly-charges'], inplace=True)"
   ]
  },
  {
   "cell_type": "code",
   "execution_count": 27,
   "metadata": {},
   "outputs": [
    {
     "data": {
      "text/html": [
       "<div>\n",
       "<style scoped>\n",
       "    .dataframe tbody tr th:only-of-type {\n",
       "        vertical-align: middle;\n",
       "    }\n",
       "\n",
       "    .dataframe tbody tr th {\n",
       "        vertical-align: top;\n",
       "    }\n",
       "\n",
       "    .dataframe thead th {\n",
       "        text-align: right;\n",
       "    }\n",
       "</style>\n",
       "<table border=\"1\" class=\"dataframe\">\n",
       "  <thead>\n",
       "    <tr style=\"text-align: right;\">\n",
       "      <th></th>\n",
       "      <th>begin-date</th>\n",
       "      <th>end-date</th>\n",
       "      <th>type</th>\n",
       "      <th>paperless-billing</th>\n",
       "      <th>payment-method</th>\n",
       "      <th>monthly-charges</th>\n",
       "      <th>total-charges</th>\n",
       "      <th>gender</th>\n",
       "      <th>senior-citizen</th>\n",
       "      <th>partner</th>\n",
       "      <th>...</th>\n",
       "      <th>internet-service</th>\n",
       "      <th>online-security</th>\n",
       "      <th>online-backup</th>\n",
       "      <th>device-protection</th>\n",
       "      <th>tech-support</th>\n",
       "      <th>streaming-tv</th>\n",
       "      <th>streaming-movies</th>\n",
       "      <th>multiple-lines</th>\n",
       "      <th>task</th>\n",
       "      <th>day-use</th>\n",
       "    </tr>\n",
       "    <tr>\n",
       "      <th>customerID</th>\n",
       "      <th></th>\n",
       "      <th></th>\n",
       "      <th></th>\n",
       "      <th></th>\n",
       "      <th></th>\n",
       "      <th></th>\n",
       "      <th></th>\n",
       "      <th></th>\n",
       "      <th></th>\n",
       "      <th></th>\n",
       "      <th></th>\n",
       "      <th></th>\n",
       "      <th></th>\n",
       "      <th></th>\n",
       "      <th></th>\n",
       "      <th></th>\n",
       "      <th></th>\n",
       "      <th></th>\n",
       "      <th></th>\n",
       "      <th></th>\n",
       "      <th></th>\n",
       "    </tr>\n",
       "  </thead>\n",
       "  <tbody>\n",
       "  </tbody>\n",
       "</table>\n",
       "<p>0 rows × 21 columns</p>\n",
       "</div>"
      ],
      "text/plain": [
       "Empty DataFrame\n",
       "Columns: [begin-date, end-date, type, paperless-billing, payment-method, monthly-charges, total-charges, gender, senior-citizen, partner, dependents, internet-service, online-security, online-backup, device-protection, tech-support, streaming-tv, streaming-movies, multiple-lines, task, day-use]\n",
       "Index: []\n",
       "\n",
       "[0 rows x 21 columns]"
      ]
     },
     "execution_count": 27,
     "metadata": {},
     "output_type": "execute_result"
    }
   ],
   "source": [
    "data.loc[data['total-charges'].isna()]"
   ]
  },
  {
   "cell_type": "code",
   "execution_count": 28,
   "metadata": {
    "scrolled": true
   },
   "outputs": [
    {
     "name": "stdout",
     "output_type": "stream",
     "text": [
      "<class 'pandas.core.frame.DataFrame'>\n",
      "Index: 7043 entries, 7590-VHVEG to 3186-AJIEK\n",
      "Data columns (total 21 columns):\n",
      " #   Column             Non-Null Count  Dtype         \n",
      "---  ------             --------------  -----         \n",
      " 0   begin-date         7043 non-null   datetime64[ns]\n",
      " 1   end-date           7043 non-null   datetime64[ns]\n",
      " 2   type               7043 non-null   object        \n",
      " 3   paperless-billing  7043 non-null   object        \n",
      " 4   payment-method     7043 non-null   object        \n",
      " 5   monthly-charges    7043 non-null   float64       \n",
      " 6   total-charges      7043 non-null   float64       \n",
      " 7   gender             7043 non-null   object        \n",
      " 8   senior-citizen     7043 non-null   int64         \n",
      " 9   partner            7043 non-null   object        \n",
      " 10  dependents         7043 non-null   object        \n",
      " 11  internet-service   5517 non-null   object        \n",
      " 12  online-security    5517 non-null   object        \n",
      " 13  online-backup      5517 non-null   object        \n",
      " 14  device-protection  5517 non-null   object        \n",
      " 15  tech-support       5517 non-null   object        \n",
      " 16  streaming-tv       5517 non-null   object        \n",
      " 17  streaming-movies   5517 non-null   object        \n",
      " 18  multiple-lines     6361 non-null   object        \n",
      " 19  task               7043 non-null   int64         \n",
      " 20  day-use            7043 non-null   int64         \n",
      "dtypes: datetime64[ns](2), float64(2), int64(3), object(14)\n",
      "memory usage: 1.2+ MB\n"
     ]
    }
   ],
   "source": [
    "data.info()"
   ]
  },
  {
   "cell_type": "markdown",
   "metadata": {},
   "source": [
    "Посмотирм на уникальные значения в столбце senior-citizen"
   ]
  },
  {
   "cell_type": "code",
   "execution_count": 29,
   "metadata": {},
   "outputs": [
    {
     "data": {
      "text/plain": [
       "0    5901\n",
       "1    1142\n",
       "Name: senior-citizen, dtype: int64"
      ]
     },
     "execution_count": 29,
     "metadata": {},
     "output_type": "execute_result"
    }
   ],
   "source": [
    "data['senior-citizen'].value_counts()"
   ]
  },
  {
   "cell_type": "markdown",
   "metadata": {},
   "source": [
    "Кроме 0 и 1 других значений нет, замени 0 на - No, 1 на Yes"
   ]
  },
  {
   "cell_type": "code",
   "execution_count": 30,
   "metadata": {},
   "outputs": [],
   "source": [
    "data['senior-citizen'] = data['senior-citizen'].replace({0: 'No', 1: 'Yes'})"
   ]
  },
  {
   "cell_type": "code",
   "execution_count": 31,
   "metadata": {},
   "outputs": [
    {
     "data": {
      "text/plain": [
       "No     5901\n",
       "Yes    1142\n",
       "Name: senior-citizen, dtype: int64"
      ]
     },
     "execution_count": 31,
     "metadata": {},
     "output_type": "execute_result"
    }
   ],
   "source": [
    "data['senior-citizen'].value_counts()"
   ]
  },
  {
   "cell_type": "markdown",
   "metadata": {},
   "source": [
    "Теперь можем переходить к изучению числовых признаков"
   ]
  },
  {
   "cell_type": "markdown",
   "metadata": {},
   "source": [
    "### Изучение числовых признаков"
   ]
  },
  {
   "cell_type": "markdown",
   "metadata": {},
   "source": [
    "Изучение признака monthly-charges - ежемесячные траты на услуги"
   ]
  },
  {
   "cell_type": "code",
   "execution_count": 32,
   "metadata": {},
   "outputs": [
    {
     "data": {
      "image/png": "[encoded data removed]",
      "text/plain": [
       "<Figure size 1080x720 with 1 Axes>"
      ]
     },
     "metadata": {
      "needs_background": "light"
     },
     "output_type": "display_data"
    }
   ],
   "source": [
    "fig, ax = plt.subplots(figsize=(15, 10))\n",
    "data[data['task'] == 0]['monthly-charges'].hist(bins=50, alpha=0.5, label='клиент не ушёл')\n",
    "data[data['task'] == 1]['monthly-charges'].hist(bins=50, alpha=0.5, label='клиент ушёл')\n",
    "plt.title('Долевое соотношение ежемесячных траты на услугии (клиент ушёл/не ушёл)')\n",
    "plt.xlabel('Ежемесячные траты на услуги')\n",
    "plt.ylabel('Количество клиентов')\n",
    "plt.legend()\n",
    "plt.show()"
   ]
  },
  {
   "cell_type": "markdown",
   "metadata": {},
   "source": [
    "Заметная зависимость в районе 60 - 120 - чем больше ежемесечная трата на услуги, тем больше клиентов, которые ушли, с пиком в районе 100. Также заметен спад в районе 40 и небольшой пик в районе 20-25. Яркой зависимости оттока клиентов от ежемесячных трат на услуги не наблюдается\n",
    "\n",
    "Заметен пик клиентов в районе 20, которые не ушли - скорей всего новые клиенты "
   ]
  },
  {
   "cell_type": "markdown",
   "metadata": {},
   "source": [
    "Изучение признака total-charges - всего потрачено денег на услуги"
   ]
  },
  {
   "cell_type": "code",
   "execution_count": 33,
   "metadata": {},
   "outputs": [
    {
     "data": {
      "image/png": "[encoded data removed]",
      "text/plain": [
       "<Figure size 1080x720 with 1 Axes>"
      ]
     },
     "metadata": {
      "needs_background": "light"
     },
     "output_type": "display_data"
    }
   ],
   "source": [
    "fig, ax = plt.subplots(figsize=(15, 10))\n",
    "data[data['task'] == 0]['total-charges'].hist(bins=50, alpha=0.5, label='клиент не ушёл')\n",
    "data[data['task'] == 1]['total-charges'].hist(bins=50, alpha=0.5, label='клиент ушёл')\n",
    "plt.title('Долевое соотношение потраченных денег на услуги (клиент ушёл/не ушёл)')\n",
    "plt.xlabel('Всего потрачено денег на услуги')\n",
    "plt.ylabel('Количество клиентов')\n",
    "plt.legend()\n",
    "plt.show()"
   ]
  },
  {
   "cell_type": "markdown",
   "metadata": {},
   "source": [
    "Новые клиенты - точно не уходят. Зависимость оттока клиентов от всей суммы потраченных денег на услуги не наблюдается. "
   ]
  },
  {
   "cell_type": "markdown",
   "metadata": {},
   "source": [
    "Изучение признака day-use - сколько дней клиент пользуется услугами"
   ]
  },
  {
   "cell_type": "code",
   "execution_count": 34,
   "metadata": {},
   "outputs": [
    {
     "data": {
      "image/png": "[encoded data removed]",
      "text/plain": [
       "<Figure size 1080x720 with 1 Axes>"
      ]
     },
     "metadata": {
      "needs_background": "light"
     },
     "output_type": "display_data"
    }
   ],
   "source": [
    "fig, ax = plt.subplots(figsize=(15, 10))\n",
    "data[data['task'] == 0]['day-use'].hist(bins=50, alpha=0.5, label='клиент не ушёл')\n",
    "data[data['task'] == 1]['day-use'].hist(bins=50, alpha=0.5, label='клиент ушёл')\n",
    "plt.title('Долевое соотношение количества дней - сколько клиент пользуется услугами (клиент ушёл/не ушёл)')\n",
    "plt.xlabel('Количество дней')\n",
    "plt.ylabel('Количество клиентов')\n",
    "plt.legend()\n",
    "plt.show()"
   ]
  },
  {
   "cell_type": "markdown",
   "metadata": {},
   "source": [
    "Количество ушедших клиентов имеет восходящий тренд относительно количества дней - сколько клиент пользуется услугами с пиком в 1000 дней, а затем постепенным спадом.\n",
    "\n",
    "Количество оставшихся клиентов имеет нисходящий тренд относительно количества дней - сколько клиент пользуется услугами. Достаточно большое количество клиентов, которые остаются клиентами уже больше 2000 тысяч дней"
   ]
  },
  {
   "cell_type": "markdown",
   "metadata": {},
   "source": [
    "### Обработка пропусков "
   ]
  },
  {
   "cell_type": "markdown",
   "metadata": {},
   "source": [
    "Изучим количество пропусков"
   ]
  },
  {
   "cell_type": "code",
   "execution_count": 35,
   "metadata": {},
   "outputs": [
    {
     "data": {
      "text/plain": [
       "begin-date              0\n",
       "task                    0\n",
       "partner                 0\n",
       "senior-citizen          0\n",
       "gender                  0\n",
       "total-charges           0\n",
       "dependents              0\n",
       "payment-method          0\n",
       "paperless-billing       0\n",
       "type                    0\n",
       "end-date                0\n",
       "monthly-charges         0\n",
       "day-use                 0\n",
       "multiple-lines        682\n",
       "internet-service     1526\n",
       "online-security      1526\n",
       "online-backup        1526\n",
       "device-protection    1526\n",
       "tech-support         1526\n",
       "streaming-tv         1526\n",
       "streaming-movies     1526\n",
       "dtype: int64"
      ]
     },
     "execution_count": 35,
     "metadata": {},
     "output_type": "execute_result"
    }
   ],
   "source": [
    "data.isnull().sum().sort_values()"
   ]
  },
  {
   "cell_type": "markdown",
   "metadata": {},
   "source": [
    "Так как большинство пропусков связаны с таблицей internet_new.csv - информация об интернет-услугах, то значит пропуски у клиентов, которые не пользуются интернет-услугами. Посмотрим на уникальные значения, чтобы определить, как заполнять пропуски"
   ]
  },
  {
   "cell_type": "code",
   "execution_count": 36,
   "metadata": {},
   "outputs": [
    {
     "name": "stdout",
     "output_type": "stream",
     "text": [
      "Уникальные значения в столбце 'internet-service':\n",
      "Fiber optic    3096\n",
      "DSL            2421\n",
      "Name: internet-service, dtype: int64\n",
      "\n",
      "Уникальные значения в столбце 'online-security':\n",
      "No     3498\n",
      "Yes    2019\n",
      "Name: online-security, dtype: int64\n",
      "\n",
      "Уникальные значения в столбце 'online-backup':\n",
      "No     3088\n",
      "Yes    2429\n",
      "Name: online-backup, dtype: int64\n",
      "\n",
      "Уникальные значения в столбце 'device-protection':\n",
      "No     3095\n",
      "Yes    2422\n",
      "Name: device-protection, dtype: int64\n",
      "\n",
      "Уникальные значения в столбце 'tech-support':\n",
      "No     3473\n",
      "Yes    2044\n",
      "Name: tech-support, dtype: int64\n",
      "\n",
      "Уникальные значения в столбце 'streaming-tv':\n",
      "No     2810\n",
      "Yes    2707\n",
      "Name: streaming-tv, dtype: int64\n",
      "\n",
      "Уникальные значения в столбце 'streaming-movies':\n",
      "No     2785\n",
      "Yes    2732\n",
      "Name: streaming-movies, dtype: int64\n",
      "\n"
     ]
    }
   ],
   "source": [
    "columns = [\n",
    "    'internet-service',\n",
    "    'online-security',\n",
    "    'online-backup',\n",
    "    'device-protection',\n",
    "    'tech-support',\n",
    "    'streaming-tv',\n",
    "    'streaming-movies'\n",
    "]\n",
    "\n",
    "for column in columns:\n",
    "    print(f\"Уникальные значения в столбце '{column}':\")\n",
    "    print(data[column].value_counts())\n",
    "    print()\n"
   ]
  },
  {
   "cell_type": "markdown",
   "metadata": {},
   "source": [
    "Так как для во многих столбцах используется 'No' для отрицания признака - клиентов, которые не используют интернет лучше отделить и пропуски заменить на 'NotUsedInternet', так в дальнейшем будет наглядней и понятней. "
   ]
  },
  {
   "cell_type": "code",
   "execution_count": 37,
   "metadata": {},
   "outputs": [],
   "source": [
    "for column in columns:\n",
    "    data[column] = data[column].fillna('NotUsedInternet')"
   ]
  },
  {
   "cell_type": "code",
   "execution_count": 38,
   "metadata": {},
   "outputs": [
    {
     "data": {
      "text/plain": [
       "begin-date             0\n",
       "streaming-movies       0\n",
       "streaming-tv           0\n",
       "tech-support           0\n",
       "device-protection      0\n",
       "online-backup          0\n",
       "online-security        0\n",
       "internet-service       0\n",
       "task                   0\n",
       "dependents             0\n",
       "senior-citizen         0\n",
       "gender                 0\n",
       "total-charges          0\n",
       "monthly-charges        0\n",
       "payment-method         0\n",
       "paperless-billing      0\n",
       "type                   0\n",
       "end-date               0\n",
       "partner                0\n",
       "day-use                0\n",
       "multiple-lines       682\n",
       "dtype: int64"
      ]
     },
     "execution_count": 38,
     "metadata": {},
     "output_type": "execute_result"
    }
   ],
   "source": [
    "data.isnull().sum().sort_values()"
   ]
  },
  {
   "cell_type": "markdown",
   "metadata": {},
   "source": [
    "Посмотрим на уникальные значение в столбце multiple-lines"
   ]
  },
  {
   "cell_type": "code",
   "execution_count": 39,
   "metadata": {},
   "outputs": [
    {
     "data": {
      "text/plain": [
       "No     3390\n",
       "Yes    2971\n",
       "Name: multiple-lines, dtype: int64"
      ]
     },
     "execution_count": 39,
     "metadata": {},
     "output_type": "execute_result"
    }
   ],
   "source": [
    "data['multiple-lines'].value_counts()"
   ]
  },
  {
   "cell_type": "markdown",
   "metadata": {},
   "source": [
    "Также исходя из изначальной информации, можно сделать вывод, что пропуски в multiple-lines характерны только для клиентов, которые не пользуются услугами телефонии. Лучшим решением будет заменить пропуски на 'NotUsedPhone', это позволит не перемешать клиентов и добиться наглядности."
   ]
  },
  {
   "cell_type": "code",
   "execution_count": 40,
   "metadata": {},
   "outputs": [],
   "source": [
    "data['multiple-lines'] = data['multiple-lines'].fillna('NotUsedPhone') "
   ]
  },
  {
   "cell_type": "code",
   "execution_count": 41,
   "metadata": {},
   "outputs": [
    {
     "name": "stdout",
     "output_type": "stream",
     "text": [
      "begin-date           0\n",
      "multiple-lines       0\n",
      "streaming-movies     0\n",
      "streaming-tv         0\n",
      "tech-support         0\n",
      "device-protection    0\n",
      "online-backup        0\n",
      "online-security      0\n",
      "internet-service     0\n",
      "task                 0\n",
      "dependents           0\n",
      "senior-citizen       0\n",
      "gender               0\n",
      "total-charges        0\n",
      "monthly-charges      0\n",
      "payment-method       0\n",
      "paperless-billing    0\n",
      "type                 0\n",
      "end-date             0\n",
      "partner              0\n",
      "day-use              0\n",
      "dtype: int64\n"
     ]
    }
   ],
   "source": [
    "print(data.isnull().sum().sort_values())"
   ]
  },
  {
   "cell_type": "markdown",
   "metadata": {},
   "source": [
    "Пропуски заполнены теперь можем перейти к изучению категориальных признаков"
   ]
  },
  {
   "cell_type": "markdown",
   "metadata": {},
   "source": [
    "Столбцы 'begin-date', 'end-date' врядли ещё понадобяться, но в будущем могут привести к утечке - удалим сейчас"
   ]
  },
  {
   "cell_type": "code",
   "execution_count": 42,
   "metadata": {},
   "outputs": [],
   "source": [
    "data.drop(['begin-date', 'end-date'], axis=1, inplace=True)"
   ]
  },
  {
   "cell_type": "markdown",
   "metadata": {},
   "source": [
    "### Изучение категориальных признаков"
   ]
  },
  {
   "cell_type": "code",
   "execution_count": 43,
   "metadata": {},
   "outputs": [
    {
     "name": "stdout",
     "output_type": "stream",
     "text": [
      "<class 'pandas.core.frame.DataFrame'>\n",
      "Index: 7043 entries, 7590-VHVEG to 3186-AJIEK\n",
      "Data columns (total 19 columns):\n",
      " #   Column             Non-Null Count  Dtype  \n",
      "---  ------             --------------  -----  \n",
      " 0   type               7043 non-null   object \n",
      " 1   paperless-billing  7043 non-null   object \n",
      " 2   payment-method     7043 non-null   object \n",
      " 3   monthly-charges    7043 non-null   float64\n",
      " 4   total-charges      7043 non-null   float64\n",
      " 5   gender             7043 non-null   object \n",
      " 6   senior-citizen     7043 non-null   object \n",
      " 7   partner            7043 non-null   object \n",
      " 8   dependents         7043 non-null   object \n",
      " 9   internet-service   7043 non-null   object \n",
      " 10  online-security    7043 non-null   object \n",
      " 11  online-backup      7043 non-null   object \n",
      " 12  device-protection  7043 non-null   object \n",
      " 13  tech-support       7043 non-null   object \n",
      " 14  streaming-tv       7043 non-null   object \n",
      " 15  streaming-movies   7043 non-null   object \n",
      " 16  multiple-lines     7043 non-null   object \n",
      " 17  task               7043 non-null   int64  \n",
      " 18  day-use            7043 non-null   int64  \n",
      "dtypes: float64(2), int64(2), object(15)\n",
      "memory usage: 1.1+ MB\n"
     ]
    }
   ],
   "source": [
    "data.info()"
   ]
  },
  {
   "cell_type": "markdown",
   "metadata": {},
   "source": [
    "Построим график оттока по различным категориальным признакам"
   ]
  },
  {
   "cell_type": "code",
   "execution_count": 44,
   "metadata": {},
   "outputs": [
    {
     "data": {
      "image/png": "[encoded data removed]",
      "text/plain": [
       "<Figure size 720x432 with 1 Axes>"
      ]
     },
     "metadata": {
      "needs_background": "light"
     },
     "output_type": "display_data"
    },
    {
     "data": {
      "image/png": "[encoded data removed]",
      "text/plain": [
       "<Figure size 720x432 with 1 Axes>"
      ]
     },
     "metadata": {
      "needs_background": "light"
     },
     "output_type": "display_data"
    },
    {
     "data": {
      "image/png": "[encoded data removed]",
      "text/plain": [
       "<Figure size 720x432 with 1 Axes>"
      ]
     },
     "metadata": {
      "needs_background": "light"
     },
     "output_type": "display_data"
    },
    {
     "data": {
      "image/png": "[encoded data removed]",
      "text/plain": [
       "<Figure size 720x432 with 1 Axes>"
      ]
     },
     "metadata": {
      "needs_background": "light"
     },
     "output_type": "display_data"
    },
    {
     "data": {
      "image/png": "[encoded data removed]",
      "text/plain": [
       "<Figure size 720x432 with 1 Axes>"
      ]
     },
     "metadata": {
      "needs_background": "light"
     },
     "output_type": "display_data"
    },
    {
     "data": {
      "image/png": "[encoded data removed]",
      "text/plain": [
       "<Figure size 720x432 with 1 Axes>"
      ]
     },
     "metadata": {
      "needs_background": "light"
     },
     "output_type": "display_data"
    },
    {
     "data": {
      "image/png": "[encoded data removed]",
      "text/plain": [
       "<Figure size 720x432 with 1 Axes>"
      ]
     },
     "metadata": {
      "needs_background": "light"
     },
     "output_type": "display_data"
    },
    {
     "data": {
      "image/png": "[encoded data removed]",
      "text/plain": [
       "<Figure size 720x432 with 1 Axes>"
      ]
     },
     "metadata": {
      "needs_background": "light"
     },
     "output_type": "display_data"
    },
    {
     "data": {
      "image/png": "[encoded data removed]",
      "text/plain": [
       "<Figure size 720x432 with 1 Axes>"
      ]
     },
     "metadata": {
      "needs_background": "light"
     },
     "output_type": "display_data"
    },
    {
     "data": {
      "image/png": "[encoded data removed]",
      "text/plain": [
       "<Figure size 720x432 with 1 Axes>"
      ]
     },
     "metadata": {
      "needs_background": "light"
     },
     "output_type": "display_data"
    },
    {
     "data": {
      "image/png": "[encoded data removed]",
      "text/plain": [
       "<Figure size 720x432 with 1 Axes>"
      ]
     },
     "metadata": {
      "needs_background": "light"
     },
     "output_type": "display_data"
    },
    {
     "data": {
      "image/png": "[encoded data removed]",
      "text/plain": [
       "<Figure size 720x432 with 1 Axes>"
      ]
     },
     "metadata": {
      "needs_background": "light"
     },
     "output_type": "display_data"
    },
    {
     "data": {
      "image/png": "[encoded data removed]",
      "text/plain": [
       "<Figure size 720x432 with 1 Axes>"
      ]
     },
     "metadata": {
      "needs_background": "light"
     },
     "output_type": "display_data"
    },
    {
     "data": {
      "image/png": "[encoded data removed]",
      "text/plain": [
       "<Figure size 720x432 with 1 Axes>"
      ]
     },
     "metadata": {
      "needs_background": "light"
     },
     "output_type": "display_data"
    },
    {
     "data": {
      "image/png": "[encoded data removed]",
      "text/plain": [
       "<Figure size 720x432 with 1 Axes>"
      ]
     },
     "metadata": {
      "needs_background": "light"
     },
     "output_type": "display_data"
    }
   ],
   "source": [
    "categorical_columns = [\n",
    "    'type', 'paperless-billing', 'payment-method', 'gender', 'senior-citizen', \n",
    "    'partner', 'dependents', 'internet-service', 'online-security', 'online-backup',\n",
    "    'device-protection', 'tech-support', 'streaming-tv', 'streaming-movies',\n",
    "    'multiple-lines'\n",
    "]\n",
    "\n",
    "for column in categorical_columns:\n",
    "    churn_rate = data.groupby([column, 'task'])['task'].count().unstack(fill_value=0)\n",
    "    churn_rate = churn_rate.div(churn_rate.sum(axis=1), axis=0)\n",
    "    churn_rate.plot(kind='bar', stacked=True, figsize=(10, 6))\n",
    "    plt.title(f'Отток по {column}')\n",
    "    plt.ylabel('Доля')\n",
    "    plt.xticks(rotation=0)\n",
    "    plt.legend(['Клиент не ушел', 'Клиент ушел'])\n",
    "    plt.show()"
   ]
  },
  {
   "cell_type": "markdown",
   "metadata": {},
   "source": [
    "Исходя из графиков получим следующее:\n",
    "Для ушедших клиентов характерно:\n",
    "1. Тип договора - 1 или 2 года - 20% к 10% у типа месяц к месяцу\n",
    "2. Выставление счёта по электронной почте - Да, чуть меньше 20% к примерно 16% у не выставления\n",
    "3. Способ облаты - Автоматический(банковский трансфер или кредитная карта) 20% к 15 у электронного чека и 5 у отправке по почте\n",
    "4. Пол - ни мужской ни женский - характерности нет, по примерно 15% для каждого(слабая зависимость)\n",
    "5. Наличие пенсионного статуса по возрасту  - Да, чуть меньше 20% к 15% у отсутствия статуса\n",
    "6. Наличие супруга - Да, больше 20% к 10% у отсутствия супруга\n",
    "7. Наличие иждивенцев - Да, чуть меньше 20% к 17% у отсутствия иждивенцев(слабая зависимость)\n",
    "8. Наличие услуг Интернет - Fiber optic, больше 20% к 15% у DSL и 10% у неиспользующих интернет-услуги \n",
    "9. Наличие межсетевого экрана - Да, больше 20% к 15% у нет и 10% у неиспользующих интернет-услуги \n",
    "10. Наличие облачное хранилище файлов для резервного копирования данных - Да, больше 20% к 15% у нет и 10% у неиспользующих интернет-услуги(Заметно сильный признак) \n",
    "11. Наличие антивируса - Да, больше 20% к 15% у нет и 10% у неиспользующих интернет-услуги(Заметно сильный признак)\n",
    "12. Наличие выделенной линии технической поддержки - Да, около 20% к 15% у нет и 10% у неиспользующих интернет-услуги\n",
    "13. Наличие онлайн-ТВ - Да, больше 20% к 15% у нет и 10% у неиспользующих интернет-услуги(Заметно сильный признак)\n",
    "14. Наличие онлайн-кинотеатра - Да, больше 20% к 15% у нет и 10% у неиспользующих интернет-услуги(Заметно сильный признак)\n",
    "15. Возможность подключения телефонного аппарата к нескольким линиям одновременно - Да, больше 20% к 10% у нет и 15% у неиспользующих телефонию(Заметно сильный признак)"
   ]
  },
  {
   "cell_type": "markdown",
   "metadata": {},
   "source": [
    "На график были заметны слабые и сильные признаки:\n",
    "\n",
    "- Слабые - gender и dependents\n",
    "\n",
    "- Сильные - online-backup, device-protection, streaming-tv, streaming-movies, multiple-lines\n",
    "\n",
    "Проверим свои выводы с помощью корреляции."
   ]
  },
  {
   "cell_type": "markdown",
   "metadata": {},
   "source": [
    "### Изучение корреляции признаков"
   ]
  },
  {
   "cell_type": "code",
   "execution_count": 45,
   "metadata": {},
   "outputs": [
    {
     "data": {
      "image/png": "[encoded data removed]",
      "text/plain": [
       "<Figure size 1080x720 with 2 Axes>"
      ]
     },
     "metadata": {
      "needs_background": "light"
     },
     "output_type": "display_data"
    }
   ],
   "source": [
    "interval_columns = ['monthly-charges', 'total-charges', 'day-use']\n",
    "plt.figure(figsize=(15, 10))\n",
    "sns.heatmap(data.phik_matrix(interval_cols=interval_columns), annot=True, cmap='coolwarm', linewidths=0.5)\n",
    "plt.title('Тепловая карта корреляции с использованием phik')\n",
    "plt.show()"
   ]
  },
  {
   "cell_type": "markdown",
   "metadata": {},
   "source": [
    "Исходя из карты корреляции удалим все признаки, для которых корреляция выше 0.8, оставив при этом, по одному мультиколлиниарному признаку с наибольшей корреляцией с целевым признаком. Также удалим столбец - gender у него минимальная корреляция."
   ]
  },
  {
   "cell_type": "code",
   "execution_count": 46,
   "metadata": {},
   "outputs": [],
   "source": [
    "columns_to_remove = [\n",
    "    'internet-service',\n",
    "    'online-security',\n",
    "    'online-backup',\n",
    "    'device-protection',\n",
    "    'tech-support',\n",
    "    'streaming-tv',\n",
    "    'streaming-movies',\n",
    "    'gender',\n",
    "    'total-charges',\n",
    "]\n",
    "\n",
    "data.drop(columns=columns_to_remove, inplace=True)\n"
   ]
  },
  {
   "cell_type": "code",
   "execution_count": 47,
   "metadata": {},
   "outputs": [
    {
     "data": {
      "image/png": "[encoded data removed]",
      "text/plain": [
       "<Figure size 1080x720 with 2 Axes>"
      ]
     },
     "metadata": {
      "needs_background": "light"
     },
     "output_type": "display_data"
    }
   ],
   "source": [
    "interval_columns = ['monthly-charges', 'day-use']\n",
    "plt.figure(figsize=(15, 10))\n",
    "sns.heatmap(data.phik_matrix(interval_cols=interval_columns), annot=True, cmap='coolwarm', linewidths=0.5)\n",
    "plt.title('Тепловая карта корреляции с использованием phik')\n",
    "plt.show()"
   ]
  },
  {
   "cell_type": "markdown",
   "metadata": {},
   "source": [
    "Отбор признаков выполнен, мультиколлиниарность учтена."
   ]
  },
  {
   "cell_type": "markdown",
   "metadata": {},
   "source": [
    "### Промежуточные выводы"
   ]
  },
  {
   "cell_type": "markdown",
   "metadata": {},
   "source": [
    "В промежуточном выводе составим итоговый портрет клиента, который \"ушёл\""
   ]
  },
  {
   "cell_type": "markdown",
   "metadata": {},
   "source": [
    "1. Ежемесячные траты на услуги:\n",
    "- Около 60-120. Яркой зависимости нет.\n",
    "2. Вся сумма, которую клиент потратил на улуги:\n",
    "- Какого-то среднего значения нет. Уходят клиенты которые тратят и 20 и 8000\n",
    "- Можно выделить то, что это точно не новый клиент.\n",
    "3. Сколько дней клиент пользуется услугами:\n",
    "- Около 500-1500 дней. Пик в районе 1000 дней\n",
    "4. Тип договора - 1 или 2 года - 20% к 10% у типа месяц к месяцу\n",
    "5. Выставление счёта по электронной почте - Да, чуть меньше 20% к примерно 16% у не выставления\n",
    "6. Способ облаты - Автоматический(банковский трансфер или кредитная карта) 20% к 15 у электронного чека и 5 у отправке по почте\n",
    "7. Пол - ни мужской ни женский - характерности нет, по примерно 15% для каждого(слабая зависимость)\n",
    "8. Наличие пенсионного статуса по возрасту  - Да, чуть меньше 20% к 15% у отсутствия статуса\n",
    "9. Наличие супруга - Да, больше 20% к 10% у отсутствия супруга\n",
    "10. Наличие иждивенцев - Да, чуть меньше 20% к 17% у отсутствия иждивенцев(слабая зависимость)\n",
    "11. Наличие услуг Интернет - Fiber optic, больше 20% к 15% у DSL и 10% у неиспользующих интернет-услуги \n",
    "12. Наличие межсетевого экрана - Да, больше 20% к 15% у нет и 10% у неиспользующих интернет-услуги \n",
    "13. Наличие облачное хранилище файлов для резервного копирования данных - Да, больше 20% к 15% у нет и 10% у неиспользующих интернет-услуги(Заметно сильный признак) \n",
    "14. Наличие антивируса - Да, больше 20% к 15% у нет и 10% у неиспользующих интернет-услуги(Заметно сильный признак)\n",
    "15. Наличие выделенной линии технической поддержки - Да, около 20% к 15% у нет и 10% у неиспользующих интернет-услуги\n",
    "16. Наличие онлайн-ТВ - Да, больше 20% к 15% у нет и 10% у неиспользующих интернет-услуги(Заметно сильный признак)\n",
    "17. Наличие онлайн-кинотеатра - Да, больше 20% к 15% у нет и 10% у неиспользующих интернет-услуги(Заметно сильный признак)\n",
    "18. Возможность подключения телефонного аппарата к нескольким линиям одновременно - Да, больше 20% к 10% у нет и 15% у неиспользующих телефонию(Заметно сильный признак)"
   ]
  },
  {
   "cell_type": "markdown",
   "metadata": {},
   "source": [
    "Также было выполнено:\n",
    "1. Отбор признаков, были удалены все признаки, для которых корреляция выше 0.8, оставив при этом, по одному мультиколлиниарному признаку с наибольшей корреляцией с целевым признаком. Также удалим столбец - gender у него минимальная корреляция.\n",
    "2. Обработка типов данных столбцов. Столбец total-charges привели к числовому типу, столбец senior-citizen для упрощения анализа данных изменили тип данных на object и заменили значения\n",
    "3. Обработка пропусков"
   ]
  },
  {
   "cell_type": "markdown",
   "metadata": {},
   "source": [
    "Теперь можем переходить к обучению модели"
   ]
  },
  {
   "cell_type": "markdown",
   "metadata": {},
   "source": [
    "## Обучение модели"
   ]
  },
  {
   "cell_type": "markdown",
   "metadata": {},
   "source": [
    "Так как данные уже подготовленны, обработаны пропуски, выбраны лучшие признаки на основе корреляции, учтена мультиколлиниарность, а также была предотвращена утечка данных, то можем сразу переходить к разделению выборок и разработке модели"
   ]
  },
  {
   "cell_type": "markdown",
   "metadata": {},
   "source": [
    "### Разделение данных на выборки"
   ]
  },
  {
   "cell_type": "code",
   "execution_count": 48,
   "metadata": {},
   "outputs": [
    {
     "name": "stdout",
     "output_type": "stream",
     "text": [
      "<class 'pandas.core.frame.DataFrame'>\n",
      "Index: 7043 entries, 7590-VHVEG to 3186-AJIEK\n",
      "Data columns (total 10 columns):\n",
      " #   Column             Non-Null Count  Dtype  \n",
      "---  ------             --------------  -----  \n",
      " 0   type               7043 non-null   object \n",
      " 1   paperless-billing  7043 non-null   object \n",
      " 2   payment-method     7043 non-null   object \n",
      " 3   monthly-charges    7043 non-null   float64\n",
      " 4   senior-citizen     7043 non-null   object \n",
      " 5   partner            7043 non-null   object \n",
      " 6   dependents         7043 non-null   object \n",
      " 7   multiple-lines     7043 non-null   object \n",
      " 8   task               7043 non-null   int64  \n",
      " 9   day-use            7043 non-null   int64  \n",
      "dtypes: float64(1), int64(2), object(7)\n",
      "memory usage: 605.3+ KB\n"
     ]
    }
   ],
   "source": [
    "data.info()"
   ]
  },
  {
   "cell_type": "markdown",
   "metadata": {},
   "source": [
    "Выборки разделим по заданию - 3 к 1. Стратификация относительно таргета."
   ]
  },
  {
   "cell_type": "code",
   "execution_count": 49,
   "metadata": {},
   "outputs": [],
   "source": [
    "features = data.drop('task', axis=1)\n",
    "target = data['task']\n",
    "\n",
    "features_train, features_test, target_train, target_test = train_test_split(features, target, \n",
    "                                                                            test_size=0.25, \n",
    "                                                                            random_state=RANDOM_STATE, \n",
    "                                                                            stratify=target)"
   ]
  },
  {
   "cell_type": "code",
   "execution_count": 50,
   "metadata": {},
   "outputs": [
    {
     "name": "stdout",
     "output_type": "stream",
     "text": [
      "Обучаяющая выборка: (5282, 9)\n",
      "Тестовая выборка: (1761, 9)\n"
     ]
    }
   ],
   "source": [
    "print(\"Обучаяющая выборка:\", features_train.shape)\n",
    "print(\"Тестовая выборка:\", features_test.shape)"
   ]
  },
  {
   "cell_type": "markdown",
   "metadata": {},
   "source": [
    "Выборки сформированны верно, можем переходить к кодированию и масштабированию"
   ]
  },
  {
   "cell_type": "markdown",
   "metadata": {},
   "source": [
    "### Кодирование и масштабирование данных"
   ]
  },
  {
   "cell_type": "code",
   "execution_count": 51,
   "metadata": {},
   "outputs": [
    {
     "name": "stdout",
     "output_type": "stream",
     "text": [
      "<class 'pandas.core.frame.DataFrame'>\n",
      "Index: 7043 entries, 7590-VHVEG to 3186-AJIEK\n",
      "Data columns (total 10 columns):\n",
      " #   Column             Non-Null Count  Dtype  \n",
      "---  ------             --------------  -----  \n",
      " 0   type               7043 non-null   object \n",
      " 1   paperless-billing  7043 non-null   object \n",
      " 2   payment-method     7043 non-null   object \n",
      " 3   monthly-charges    7043 non-null   float64\n",
      " 4   senior-citizen     7043 non-null   object \n",
      " 5   partner            7043 non-null   object \n",
      " 6   dependents         7043 non-null   object \n",
      " 7   multiple-lines     7043 non-null   object \n",
      " 8   task               7043 non-null   int64  \n",
      " 9   day-use            7043 non-null   int64  \n",
      "dtypes: float64(1), int64(2), object(7)\n",
      "memory usage: 863.3+ KB\n"
     ]
    }
   ],
   "source": [
    "data.info()"
   ]
  },
  {
   "cell_type": "markdown",
   "metadata": {},
   "source": [
    "Разделим категориальные и численные признаки"
   ]
  },
  {
   "cell_type": "code",
   "execution_count": 52,
   "metadata": {},
   "outputs": [],
   "source": [
    "categorical_features = ['type', 'paperless-billing', 'payment-method', 'senior-citizen',\n",
    "                        'partner', 'dependents', 'multiple-lines']\n",
    "numeric_features = ['monthly-charges', 'day-use']"
   ]
  },
  {
   "cell_type": "markdown",
   "metadata": {},
   "source": [
    "Создадим два трансформера данных(также поможет избежать утечки данных). Один для деревянных моделей, другой для логистической регрессии. Внутри которого будет описано: масштабирование для логистической регрессии, приведение распределения к нормальному для деревянных моделей, кодирование OE - для деревянных моделей, OHE - для логистической регрессии. Для модели бустинга будем использовать трансформер данных для деревянных моделей."
   ]
  },
  {
   "cell_type": "code",
   "execution_count": 53,
   "metadata": {},
   "outputs": [],
   "source": [
    "tree_based_transformer = make_column_transformer(\n",
    "    (OrdinalEncoder(), categorical_features),  \n",
    "    (PowerTransformer(), numeric_features),        \n",
    ")\n",
    "\n",
    "linear_model_transformer = make_column_transformer(\n",
    "    (OneHotEncoder(), categorical_features),  \n",
    "    (StandardScaler(), numeric_features),                \n",
    ")"
   ]
  },
  {
   "cell_type": "markdown",
   "metadata": {},
   "source": [
    "Можем переходить к обучению моделей"
   ]
  },
  {
   "cell_type": "markdown",
   "metadata": {},
   "source": [
    "### Обучение моделей"
   ]
  },
  {
   "cell_type": "markdown",
   "metadata": {},
   "source": [
    "#### Случайный лес"
   ]
  },
  {
   "cell_type": "markdown",
   "metadata": {},
   "source": [
    "Опишем предпроцессор и модель, а также различные гипперпараметры"
   ]
  },
  {
   "cell_type": "code",
   "execution_count": 54,
   "metadata": {},
   "outputs": [],
   "source": [
    "tree_pipeline = Pipeline([\n",
    "    ('preprocessor', tree_based_transformer),\n",
    "    ('model', RandomForestClassifier(random_state=RANDOM_STATE))\n",
    "])\n",
    "\n",
    "tree_param_grid = {\n",
    "    'model__max_depth': [5, 10, 15],\n",
    "    'model__min_samples_split': range(10, 100, 10),  \n",
    "    'model__n_estimators': [50, 60, 80, 100, 200]\n",
    "}"
   ]
  },
  {
   "cell_type": "markdown",
   "metadata": {},
   "source": [
    "Обучение модели"
   ]
  },
  {
   "cell_type": "code",
   "execution_count": 55,
   "metadata": {
    "scrolled": true
   },
   "outputs": [
    {
     "name": "stdout",
     "output_type": "stream",
     "text": [
      "Fitting 3 folds for each of 135 candidates, totalling 405 fits\n",
      "Лучшие параметры случайного леса: Pipeline(steps=[('preprocessor',\n",
      "                 ColumnTransformer(transformers=[('ordinalencoder',\n",
      "                                                  OrdinalEncoder(),\n",
      "                                                  ['type', 'paperless-billing',\n",
      "                                                   'payment-method',\n",
      "                                                   'senior-citizen', 'partner',\n",
      "                                                   'dependents',\n",
      "                                                   'multiple-lines']),\n",
      "                                                 ('powertransformer',\n",
      "                                                  PowerTransformer(),\n",
      "                                                  ['monthly-charges',\n",
      "                                                   'day-use'])])),\n",
      "                ('model',\n",
      "                 RandomForestClassifier(max_depth=10, min_samples_split=30,\n",
      "                                        random_state=11092023))])\n",
      "Лучшее значение ROC-AUC на кросс-валидации: 0.8308744006430165\n",
      "CPU times: user 2min 34s, sys: 645 ms, total: 2min 34s\n",
      "Wall time: 2min 35s\n"
     ]
    }
   ],
   "source": [
    "%%time\n",
    "tree_grid_search = GridSearchCV(tree_pipeline, tree_param_grid, cv=3, scoring='roc_auc', verbose=1, n_jobs=-1)\n",
    "tree_grid_search.fit(features_train, target_train)\n",
    "print(\"Лучшие параметры случайного леса:\", tree_grid_search.best_estimator_)\n",
    "print(\"Лучшее значение ROC-AUC на кросс-валидации:\", tree_grid_search.best_score_)"
   ]
  },
  {
   "cell_type": "markdown",
   "metadata": {},
   "source": [
    "#### Логистическая регрессия"
   ]
  },
  {
   "cell_type": "markdown",
   "metadata": {},
   "source": [
    "Опишем предпроцессор и модель, а также различные гипперпараметры"
   ]
  },
  {
   "cell_type": "code",
   "execution_count": 56,
   "metadata": {},
   "outputs": [],
   "source": [
    "logistic_regression_pipeline = Pipeline([\n",
    "    ('preprocessor', linear_model_transformer),\n",
    "    ('model', LogisticRegression(random_state=RANDOM_STATE, solver='lbfgs', penalty='l2'))\n",
    "])\n",
    "logistic_regression_param_grid = {\n",
    "    'model__C': [0.001, 0.01, 0.1, 1, 10, 100, 1000]\n",
    "}"
   ]
  },
  {
   "cell_type": "markdown",
   "metadata": {},
   "source": [
    "Обучение модели"
   ]
  },
  {
   "cell_type": "code",
   "execution_count": 57,
   "metadata": {},
   "outputs": [
    {
     "name": "stdout",
     "output_type": "stream",
     "text": [
      "Fitting 5 folds for each of 7 candidates, totalling 35 fits\n",
      "Лучшие параметры логистической регрессии: Pipeline(steps=[('preprocessor',\n",
      "                 ColumnTransformer(transformers=[('onehotencoder',\n",
      "                                                  OneHotEncoder(),\n",
      "                                                  ['type', 'paperless-billing',\n",
      "                                                   'payment-method',\n",
      "                                                   'senior-citizen', 'partner',\n",
      "                                                   'dependents',\n",
      "                                                   'multiple-lines']),\n",
      "                                                 ('standardscaler',\n",
      "                                                  StandardScaler(),\n",
      "                                                  ['monthly-charges',\n",
      "                                                   'day-use'])])),\n",
      "                ('model', LogisticRegression(C=0.1, random_state=11092023))])\n",
      "Лучшее значение ROC-AUC на кросс-валидации: 0.746432089087363\n",
      "CPU times: user 10.3 s, sys: 13.6 s, total: 24 s\n",
      "Wall time: 24.4 s\n"
     ]
    }
   ],
   "source": [
    "%%time\n",
    "logistic_regression_grid_search = GridSearchCV(logistic_regression_pipeline, logistic_regression_param_grid, \n",
    "                                               cv=5, scoring='roc_auc', verbose=1, n_jobs=-1)\n",
    "logistic_regression_grid_search.fit(features_train, target_train)\n",
    "print(\"Лучшие параметры логистической регрессии:\", logistic_regression_grid_search.best_estimator_)\n",
    "print(\"Лучшее значение ROC-AUC на кросс-валидации:\", logistic_regression_grid_search.best_score_)"
   ]
  },
  {
   "cell_type": "markdown",
   "metadata": {},
   "source": [
    "#### Градиентный бустинг"
   ]
  },
  {
   "cell_type": "markdown",
   "metadata": {},
   "source": [
    "Опишем предпроцессор и модель, а также различные гипперпараметры"
   ]
  },
  {
   "cell_type": "code",
   "execution_count": 58,
   "metadata": {},
   "outputs": [],
   "source": [
    "gb_classifier_pipeline = Pipeline([\n",
    "    ('preprocessor', tree_based_transformer),\n",
    "    ('model', GradientBoostingClassifier(random_state=RANDOM_STATE))\n",
    "])\n",
    "gb_classifier_param_grid = {\n",
    "    'model__n_estimators': [200, 400, 500, 600],\n",
    "    'model__learning_rate': [0.2, 0.3, 0.4],\n",
    "    'model__max_depth': [1, 2 ,3]\n",
    "}"
   ]
  },
  {
   "cell_type": "markdown",
   "metadata": {},
   "source": [
    "Обучение модели"
   ]
  },
  {
   "cell_type": "code",
   "execution_count": 59,
   "metadata": {
    "scrolled": true
   },
   "outputs": [
    {
     "name": "stdout",
     "output_type": "stream",
     "text": [
      "Fitting 5 folds for each of 36 candidates, totalling 180 fits\n",
      "Лучшие параметры градиентного бустинга: Pipeline(steps=[('preprocessor',\n",
      "                 ColumnTransformer(transformers=[('ordinalencoder',\n",
      "                                                  OrdinalEncoder(),\n",
      "                                                  ['type', 'paperless-billing',\n",
      "                                                   'payment-method',\n",
      "                                                   'senior-citizen', 'partner',\n",
      "                                                   'dependents',\n",
      "                                                   'multiple-lines']),\n",
      "                                                 ('powertransformer',\n",
      "                                                  PowerTransformer(),\n",
      "                                                  ['monthly-charges',\n",
      "                                                   'day-use'])])),\n",
      "                ('model',\n",
      "                 GradientBoostingClassifier(learning_rate=0.3, max_depth=2,\n",
      "                                            n_estimators=400,\n",
      "                                            random_state=11092023))])\n",
      "Значение ROC-AUC на кросс-валидации: 0.9268740860258555\n",
      "CPU times: user 4min 27s, sys: 377 ms, total: 4min 27s\n",
      "Wall time: 4min 28s\n"
     ]
    }
   ],
   "source": [
    "%%time\n",
    "gb_classifier_grid_search = GridSearchCV(gb_classifier_pipeline, gb_classifier_param_grid,\n",
    "                                         cv=5, scoring='roc_auc', verbose=1, n_jobs=-1)\n",
    "gb_classifier_grid_search.fit(features_train, target_train)\n",
    "print(\"Лучшие параметры градиентного бустинга:\", gb_classifier_grid_search.best_estimator_)\n",
    "print(\"Значение ROC-AUC на кросс-валидации:\", gb_classifier_grid_search.best_score_)"
   ]
  },
  {
   "cell_type": "markdown",
   "metadata": {},
   "source": [
    "### Выбор лучшей модели"
   ]
  },
  {
   "cell_type": "markdown",
   "metadata": {},
   "source": [
    "Исходя из обучения моделей получим следующее:\n",
    "1. Случайный лес\n",
    "- Лучшие параметры случайного леса: max_depth=10, min_samples_split=30\n",
    "- Лучшее значение ROC-AUC на кросс-валидации: 0.8308744006430165\n",
    "2. Логистическая регрессия\n",
    "- Лучшие параметры логистической регрессии: solver='lbfgs', penalty='l2', C=0.1\n",
    "- Лучшее значение ROC-AUC на кросс-валидации: 0.746432089087363 \n",
    "3. Градиентный бустинг\n",
    "- Лучшие параметры градиентного бустинга: learning_rate=0.3, max_depth=2, n_estimators=400\n",
    "- Лучшее значение ROC-AUC на кросс-валидации: 0.9268740860258555\n",
    "\n",
    "\n",
    "Лучшей моделью оказался Градиентный бустинг с параметрами: learning_rate=0.3, max_depth=2, n_estimators=400\n",
    "\n",
    "И значением ROC-AUC на кросс-валидации: 0.9268740860258555\n"
   ]
  },
  {
   "cell_type": "markdown",
   "metadata": {},
   "source": [
    "Сохраним лучшую модель"
   ]
  },
  {
   "cell_type": "code",
   "execution_count": 60,
   "metadata": {},
   "outputs": [],
   "source": [
    "best_gb_classifier_model = gb_classifier_grid_search.best_estimator_"
   ]
  },
  {
   "cell_type": "markdown",
   "metadata": {},
   "source": [
    "### Промежуточный вывод"
   ]
  },
  {
   "cell_type": "markdown",
   "metadata": {},
   "source": [
    "В ходе 3 шага было выполнено:\n",
    "1. Данные были разделены на выборки с соотношением 3 к 1\n",
    "2. Были созданы трансформеры данных. Один для деревянных моделей, другой для логистической регрессии, внутри которого были описаны: масштабирование для логистической регрессии, приведение распределения к нормальному для деревянных моделей, кодирование OE - для деревянных моделей, OHE - для логистической регрессии. Для модели бустинга использовался трансформер данных для деревянных моделей.\n",
    "3. Было проведено обучение моделей, получились следующий результаты:\n",
    "    1. Случайный лес\n",
    "    - Лучшие параметры случайного леса: max_depth=10, min_samples_split=30\n",
    "    - Лучшее значение ROC-AUC на кросс-валидации: 0.8308744006430165\n",
    "    2. Логистическая регрессия\n",
    "    - Лучшие параметры логистической регрессии: solver='lbfgs', penalty='l2', C=0.1\n",
    "    - Лучшее значение ROC-AUC на кросс-валидации: 0.746432089087363 \n",
    "    3. Градиентный бустинг\n",
    "    - Лучшие параметры градиентного бустинга: learning_rate=0.3, max_depth=2, n_estimators=400\n",
    "    - Лучшее значение ROC-AUC на кросс-валидации: 0.9268740860258555\n",
    "\n",
    "4. Лучшей моделью оказался Градиентный бустинг с параметрами: learning_rate=0.3, max_depth=2, n_estimators=400\n",
    "\n",
    "    И значением ROC-AUC на кросс-валидации: 0.9268740860258555\n",
    "    \n",
    "  "
   ]
  },
  {
   "cell_type": "markdown",
   "metadata": {},
   "source": [
    "Перейдём к тестированию модели"
   ]
  },
  {
   "cell_type": "markdown",
   "metadata": {},
   "source": [
    "## Тестирование модели"
   ]
  },
  {
   "cell_type": "markdown",
   "metadata": {},
   "source": [
    "### Проверка лучшей модели на тестовых данных"
   ]
  },
  {
   "cell_type": "markdown",
   "metadata": {},
   "source": [
    "Проверим сохранённую лучшую модель градиетного бустинга на тестовых данных"
   ]
  },
  {
   "cell_type": "code",
   "execution_count": 61,
   "metadata": {},
   "outputs": [
    {
     "name": "stdout",
     "output_type": "stream",
     "text": [
      "ROC-AUC на тестовых данных: 0.9399216933806435\n",
      "Accuracy на тестовых данных: 0.9432140829074389\n"
     ]
    }
   ],
   "source": [
    "gb_classifier_probs = best_gb_classifier_model.predict_proba(features_test)[:, 1] \n",
    "gb_classifier_preds = best_gb_classifier_model.predict(features_test)\n",
    "\n",
    "gb_classifier_roc_auc = roc_auc_score(target_test, gb_classifier_probs)\n",
    "gb_classifier_accuracy = accuracy_score(target_test, gb_classifier_preds)\n",
    "\n",
    "print(\"ROC-AUC на тестовых данных:\", gb_classifier_roc_auc)\n",
    "print(\"Accuracy на тестовых данных:\", gb_classifier_accuracy)"
   ]
  },
  {
   "cell_type": "markdown",
   "metadata": {},
   "source": [
    "Модель успешно прошла тестирование, со значениями:\n",
    "- ROC-AUC на тестовых данных: 0.9399216933806435\n",
    "- Accuracy на тестовых данных: 0.9432140829074389"
   ]
  },
  {
   "cell_type": "markdown",
   "metadata": {},
   "source": [
    "Метрика Accuracy со значением 0.9432140829074389 говорит о том, что модель c шансом в 94% определит как клиента, который уйдёт, так и наоборот клиента, который не уйдёт"
   ]
  },
  {
   "cell_type": "markdown",
   "metadata": {},
   "source": [
    "### Построение графика ROC, матрицы ошибок"
   ]
  },
  {
   "cell_type": "markdown",
   "metadata": {},
   "source": [
    "Построим график ROC-кривой"
   ]
  },
  {
   "cell_type": "code",
   "execution_count": 62,
   "metadata": {},
   "outputs": [
    {
     "data": {
      "image/png": "[encoded data removed]",
      "text/plain": [
       "<Figure size 1080x720 with 1 Axes>"
      ]
     },
     "metadata": {
      "needs_background": "light"
     },
     "output_type": "display_data"
    }
   ],
   "source": [
    "fpr, tpr, _ = roc_curve(target_test, gb_classifier_probs)\n",
    "\n",
    "plt.figure(figsize=(15, 10))\n",
    "plt.plot(fpr, tpr, color='darkorange', lw=2, label=f'ROC кривая (площадь под кривой = {gb_classifier_roc_auc:.2f})')\n",
    "plt.plot([0, 1], [0, 1], color='navy', lw=2, linestyle='--')\n",
    "plt.xlim([0.0, 1.0])\n",
    "plt.ylim([0.0, 1.05])\n",
    "plt.xlabel('False Positive Rate')\n",
    "plt.ylabel('True Positive Rate')\n",
    "plt.title('ROC-кривая')\n",
    "plt.legend(loc='lower right')\n",
    "plt.show()"
   ]
  },
  {
   "cell_type": "markdown",
   "metadata": {},
   "source": [
    "Исходя из графика видно:\n",
    "1. Модель сильно лучше, чем случайная модель(пунктирная линия)\n",
    "2. Модель имеет как высокую чувствительность(trp), так и высокую специфичность(fpr), что говорит о том, что у модель мало ошибается - редко будет предсказывать, что клиент ушёл, хотя он остался, так и наоборот, что модель часто будет верно указывать на клиента, который уйдёт.\n",
    "\n",
    "Подтвердим выводы из графика roc-кривой с помощью матрицы ошибок"
   ]
  },
  {
   "cell_type": "markdown",
   "metadata": {},
   "source": [
    "Построим матрицу ошибок"
   ]
  },
  {
   "cell_type": "code",
   "execution_count": 63,
   "metadata": {},
   "outputs": [
    {
     "data": {
      "image/png": "[encoded data removed]",
      "text/plain": [
       "<Figure size 576x432 with 1 Axes>"
      ]
     },
     "metadata": {
      "needs_background": "light"
     },
     "output_type": "display_data"
    }
   ],
   "source": [
    "conf_matrix = confusion_matrix(target_test, gb_classifier_preds)\n",
    "\n",
    "plt.figure(figsize=(8, 6))\n",
    "sns.heatmap(conf_matrix, annot=True, fmt=\"d\", cmap=\"Blues\", cbar=False)\n",
    "plt.xlabel('Предсказанные классы')\n",
    "plt.ylabel('Фактические классы')\n",
    "plt.title('Матрица ошибок')\n",
    "plt.show()"
   ]
  },
  {
   "cell_type": "markdown",
   "metadata": {},
   "source": [
    "Исходя из матрицы ошибок можно сделать следующие выводы:\n",
    "\n",
    "1. Истинно положительных результатов(клиент ушёл) - модель предсказала верно 188 раз , ложно отрицательных(клиент остался, но модель посчитала, что ушёл)  - 87 раз\n",
    "2. Истино отрицательных результатов(клиент остался) - модель предсказала верно 1473 раза, ложно положительных(клиент ушёл, но модель посчитала, что остался) - 13 раза\n",
    "\n",
    "Из этого можно сделать вывод:\n",
    "\n",
    "- Модель хорошо решит проблему бизнеса \"пользователю предложили промокоды, но он не собирался уходить (False Positive)\", ведь модель ошиблась 13 к 1473 верным.\n",
    "\n",
    "- Чуть хуже модель решит пролбему бизнеса \"пользователю ничего не предложили и он ушёл (False Negative)\", ведь модель ошиблась 87 раз к 188 верным.\n",
    "\n",
    "Предложение по использованию модели заказчику:\n",
    "\n",
    "- На этапе опытной эксплуатации рекомендуется совместно с маркетологами подобрать порог классификации так, чтобы оптимизировать метрики бизнеса в денежном выражении с учетом бюджета на акции по удержанию клиентов и разной цены ошибок первого и второго рода."
   ]
  },
  {
   "cell_type": "markdown",
   "metadata": {},
   "source": [
    "### Определение важности признаков"
   ]
  },
  {
   "cell_type": "markdown",
   "metadata": {},
   "source": [
    "Определим важность признаков"
   ]
  },
  {
   "cell_type": "code",
   "execution_count": 64,
   "metadata": {},
   "outputs": [
    {
     "name": "stdout",
     "output_type": "stream",
     "text": [
      "                             Feature  Importance\n",
      "8          powertransformer__day-use    0.745199\n",
      "7  powertransformer__monthly-charges    0.124953\n",
      "0               ordinalencoder__type    0.056634\n",
      "6     ordinalencoder__multiple-lines    0.029401\n",
      "2     ordinalencoder__payment-method    0.019595\n",
      "4            ordinalencoder__partner    0.018689\n",
      "3     ordinalencoder__senior-citizen    0.004026\n",
      "5         ordinalencoder__dependents    0.000976\n",
      "1  ordinalencoder__paperless-billing    0.000528\n"
     ]
    },
    {
     "data": {
      "image/png": "[encoded data removed]",
      "text/plain": [
       "<Figure size 1080x720 with 1 Axes>"
      ]
     },
     "metadata": {
      "needs_background": "light"
     },
     "output_type": "display_data"
    }
   ],
   "source": [
    "feature_importances = best_gb_classifier_model.named_steps['model'].feature_importances_\n",
    "\n",
    "feature_names = best_gb_classifier_model[:-1].get_feature_names_out()\n",
    "\n",
    "importance_data = pd.DataFrame({'Feature': feature_names, 'Importance': feature_importances})\n",
    "importance_data = importance_data.sort_values(by='Importance', ascending=False)\n",
    "\n",
    "print(importance_data)\n",
    "\n",
    "plt.figure(figsize=(15, 10))\n",
    "plt.barh(importance_data['Feature'], importance_data['Importance'], color='skyblue')\n",
    "plt.xlabel('Важность признака')\n",
    "plt.ylabel('Признак')\n",
    "plt.title('Важность признаков')\n",
    "plt.gca().invert_yaxis()\n",
    "plt.show()"
   ]
  },
  {
   "cell_type": "markdown",
   "metadata": {},
   "source": [
    "Выводы на основе таблицы важности признаков:\n",
    "1. Наибольшая важность у признака day-use - 0.745199, что говорит о сильном влиянии длительности договора на определение ухода/не ухода клиента\n",
    "2. Также важными модно считать признаки monthly-charges(ежемесячные траты на услуги) - 0.124953 и type(тип договора: ежемесячный, годовой и т.д) - 0.056634\n",
    "3. Оставшиеся признаки multiple-lines, payment-method, partner, senior-citizen, dependents, paperless-billing  - почти не важные признаки с показателем влияния меньше 0.03"
   ]
  },
  {
   "cell_type": "markdown",
   "metadata": {},
   "source": [
    "### Промежуточный вывод"
   ]
  },
  {
   "cell_type": "markdown",
   "metadata": {},
   "source": [
    "В ходе тестирования были выполненны следующий шаги, со следующими выводами:\n",
    "1. Проверка лучшей модели на тестовых данных:\n",
    "\n",
    "    1) Модель успешно прошла тестирование, со значениями:\n",
    "    - ROC-AUC на тестовых данных: 0.9399216933806435\n",
    "    - Accuracy на тестовых данных: 0.9432140829074389\n",
    "    \n",
    "    2) Метрика Accuracy со значением 0.9432140829074389 говорит о том, что модель c шансом в 94% определит как клиента, который уйдёт, так и наоборот клиента, который не уйдёт\n",
    "    \n",
    "2. Построение графика ROC, матрицы ошибок:\n",
    "\n",
    "    1) Исходя из графика видно:\n",
    "    1. Модель сильно лучше, чем случайная модель(пунктирная линия)\n",
    "    2. Модель имеет как высокую чувствительность(trp), так и высокую специфичность(fpr), что говорит о том, что у модель мало ошибается - редко будет предсказывать, что клиент ушёл, хотя он остался, так и наоборот, что модель часто будет верно указывать на клиента, который уйдёт.\n",
    "    \n",
    "        2)Исходя из матрицы ошибок можно сделать следующие выводы:\n",
    "\n",
    "    1. Истинно положительных результатов(клиент ушёл) - модель предсказала верно 188 раз , ложно отрицательных(клиент остался, но модель посчитала, что ушёл)  - 87 раз\n",
    "    2. Истино отрицательных результатов(клиент остался) - модель предсказала верно 1473 раза, ложно положительных(клиент ушёл, но модель посчитала, что остался) - 13 раза\n",
    "\n",
    "    Из этого можно сделать вывод:\n",
    "\n",
    "    - Модель хорошо решит проблему бизнеса \"пользователю предложили промокоды, но он не собирался уходить (False Positive)\", ведь модель ошиблась 13 к 1473 верным.\n",
    "\n",
    "    - Чуть хуже модель решит пролбему бизнеса \"пользователю ничего не предложили и он ушёл (False Negative)\", ведь модель ошиблась 87 раз к 188 верным.\n",
    "\n",
    "    Предложение по использованию модели заказчику:\n",
    "\n",
    "    - На этапе опытной эксплуатации рекомендуется совместно с маркетологами подобрать порог классификации так, чтобы оптимизировать метрики бизнеса в денежном выражении с учетом бюджета на акции по удержанию клиентов и разной цены ошибок первого и второго рода.\n",
    "\n",
    "3.  Определение важности признаков:\n",
    "\n",
    "    Выводы на основе таблицы важности признаков:\n",
    "\n",
    "    1. Наибольшая важность у признака day-use - 0.745199, что говорит о сильном влиянии длительности договора на определение ухода/не ухода клиента\n",
    "    2. Также важными модно считать признаки monthly-charges(ежемесячные траты на услуги) - 0.124953 и type(тип договора: ежемесячный, годовой и т.д) - 0.056634\n",
    "    3. Оставшиеся признаки multiple-lines, payment-method, partner, senior-citizen, dependents, paperless-billing  - почти не важные признаки с показателем влияния меньше 0.03"
   ]
  },
  {
   "cell_type": "markdown",
   "metadata": {},
   "source": [
    "## Вывод"
   ]
  },
  {
   "cell_type": "markdown",
   "metadata": {},
   "source": [
    "В ходе итогового проекта была создана модель, которая на основе данных о клиенте - предсказывает его уход/не уход. Удалось достичь ROC-AUC меры в 0.9380227578612506 на тестовых данных.\n",
    "\n",
    "Проект выполнялся по плану, на каждом этапе были сделаны следующие выводы:\n",
    "\n",
    "1. Предобработка данных\n",
    "\n",
    "    1. Последовательность столбцов логична\n",
    "    2. Явных дубликатов - нет\n",
    "    3. Были стандатизированны названия столбцов\n",
    "    4. На первый взгляд данные выглядят неплохо - пропуски в большинстве связанны с отсутствием у клиентов подключения к услугам интернета или услугам телефонии\n",
    "    5. Был изменён тип данных у столбцов begin-date и end-date на datetime64, остальные столбцы требуют более подробного изучения\n",
    "    6. Был добавлен целевой признак 'task' - бинарный признак, где значение 1 - клиент ушёл, 0 - клиент не ушёл\n",
    "    7. Был добавлен синтетический признак 'day-use' - сколько дней клиент пользуется услугами\n",
    "    8. Для избежания утечки данных - после анализа данных и перед разделением данных на выборки потребуется удалить столбцы 'begin-date' и 'end-date'\n",
    "\n",
    "2. Анализ данных\n",
    "\n",
    "        Итоговый портрет клиента, который \"ушёл\"\n",
    "\n",
    "    1. Ежемесячные траты на услуги:\n",
    "    - Около 60-120. Яркой зависимости нет.\n",
    "    2. Вся сумма, которую клиент потратил на улуги:\n",
    "    - Какого-то среднего значения нет. Уходят клиенты которые тратят и 20 и 8000\n",
    "    - Можно выделить то, что это точно не новый клиент.\n",
    "    3. Сколько дней клиент пользуется услугами:\n",
    "    - Около 500-1500 дней. Пик в районе 1000 дней\n",
    "    4. Тип договора - 1 или 2 года - 20% к 10% у типа месяц к месяцу\n",
    "    5. Выставление счёта по электронной почте - Да, чуть меньше 20% к примерно 16% у не выставления\n",
    "    6. Способ облаты - Автоматический(банковский трансфер или кредитная карта) 20% к 15 у электронного чека и 5 у отправке по почте\n",
    "    7. Пол - ни мужской ни женский - характерности нет, по примерно 15% для каждого(слабая зависимость)\n",
    "    8. Наличие пенсионного статуса по возрасту  - Да, чуть меньше 20% к 15% у отсутствия статуса\n",
    "    9. Наличие супруга - Да, больше 20% к 10% у отсутствия супруга\n",
    "    10. Наличие иждивенцев - Да, чуть меньше 20% к 17% у отсутствия иждивенцев(слабая зависимость)\n",
    "    11. Наличие услуг Интернет - Fiber optic, больше 20% к 15% у DSL и 10% у неиспользующих интернет-услуги \n",
    "    12. Наличие межсетевого экрана - Да, больше 20% к 15% у нет и 10% у неиспользующих интернет-услуги \n",
    "    13. Наличие облачное хранилище файлов для резервного копирования данных - Да, больше 20% к 15% у нет и 10% у неиспользующих интернет-услуги(Заметно сильный признак) \n",
    "    14. Наличие антивируса - Да, больше 20% к 15% у нет и 10% у неиспользующих интернет-услуги(Заметно сильный признак)\n",
    "    15. Наличие выделенной линии технической поддержки - Да, около 20% к 15% у нет и 10% у неиспользующих интернет-услуги\n",
    "    16. Наличие онлайн-ТВ - Да, больше 20% к 15% у нет и 10% у неиспользующих интернет-услуги(Заметно сильный признак)\n",
    "    17. Наличие онлайн-кинотеатра - Да, больше 20% к 15% у нет и 10% у неиспользующих интернет-услуги(Заметно сильный признак)\n",
    "    18. Возможность подключения телефонного аппарата к нескольким линиям одновременно - Да, больше 20% к 10% у нет и 15% у неиспользующих телефонию(Заметно сильный признак)\n",
    "    \n",
    "        Также было выполнено:\n",
    "    1. Отбор признаков, были удалены все признаки, для которых корреляция выше 0.8, оставив при этом, по одному мультиколлиниарному признаку с наибольшей корреляцией с целевым признаком. Также удалим столбец - gender у него минимальная корреляция.\n",
    "    2. Обработка типов данных столбцов. Столбец total-charges привели к числовому типу, столбец senior-citizen для упрощения анализа данных изменили тип данных на object и заменили значения\n",
    "    3. Обработка пропусков\n",
    "    \n",
    "3. Обучение модели\n",
    "\n",
    "            В ходе 3 шага было выполнено:\n",
    "    1. Данные были разделены на выборки с соотношением 3 к 1\n",
    "    2. Были созданы трансформеры данных. Один для деревянных моделей, другой для логистической регрессии, внутри которого были описаны: масштабирование для логистической регрессии, приведение распределения к нормальному для деревянных моделей, кодирование OE - для деревянных моделей, OHE - для логистической регрессии. Для модели бустинга использовался трансформер данных для деревянных моделей.\n",
    "    3. Было проведено обучение моделей, получились следующий результаты:\n",
    "        1. Случайный лес\n",
    "        - Лучшие параметры случайного леса: max_depth=10, min_samples_split=30\n",
    "        - Лучшее значение ROC-AUC на кросс-валидации: 0.8308744006430165\n",
    "        2. Логистическая регрессия\n",
    "        - Лучшие параметры логистической регрессии: solver='lbfgs', penalty='l2', C=0.1\n",
    "        - Лучшее значение ROC-AUC на кросс-валидации: 0.746432089087363 \n",
    "        3. Градиентный бустинг\n",
    "        - Лучшие параметры градиентного бустинга: learning_rate=0.3, max_depth=2, n_estimators=400\n",
    "        - Лучшее значение ROC-AUC на кросс-валидации: 0.9268740860258555\n",
    "\n",
    "    4. Лучшей моделью оказался Градиентный бустинг с параметрами: learning_rate=0.3, max_depth=2, n_estimators=400\n",
    "\n",
    "        И значением ROC-AUC на кросс-валидации: 0.9268740860258555\n",
    "\n",
    "        \n",
    "4. Тестирование модели\n",
    "\n",
    "            В ходе тестирования были выполненны следующий шаги, со следующими выводами:\n",
    "    1. Проверка лучшей модели на тестовых данных:\n",
    "\n",
    "        1) Модель успешно прошла тестирование, со значениями:\n",
    "        - ROC-AUC на тестовых данных: 0.9399216933806435\n",
    "        - Accuracy на тестовых данных: 0.9432140829074389\n",
    "\n",
    "        2) Метрика Accuracy со значением 0.9432140829074389 говорит о том, что модель c шансом в 94% определит как клиента, который уйдёт, так и наоборот клиента, который не уйдёт\n",
    "\n",
    "    2. Построение графика ROC, матрицы ошибок:\n",
    "\n",
    "        1) Исходя из графика видно:\n",
    "        1. Модель сильно лучше, чем случайная модель(пунктирная линия)\n",
    "        2. Модель имеет как высокую чувствительность(trp), так и высокую специфичность(fpr), что говорит о том, что у модель мало ошибается - редко будет предсказывать, что клиент ушёл, хотя он остался, так и наоборот, что модель часто будет верно указывать на клиента, который уйдёт.\n",
    "\n",
    "            2)Исходя из матрицы ошибок можно сделать следующие выводы:\n",
    "\n",
    "        1. Истинно положительных результатов(клиент ушёл) - модель предсказала верно 188 раз , ложно отрицательных(клиент остался, но модель посчитала, что ушёл)  - 87 раз\n",
    "        2. Истино отрицательных результатов(клиент остался) - модель предсказала верно 1473 раза, ложно положительных(клиент ушёл, но модель посчитала, что остался) - 13 раза\n",
    "\n",
    "        Из этого можно сделать вывод:\n",
    "\n",
    "        - Модель хорошо решит проблему бизнеса \"пользователю предложили промокоды, но он не собирался уходить (False Positive)\", ведь модель ошиблась 13 к 1473 верным.\n",
    "\n",
    "        - Чуть хуже модель решит пролбему бизнеса \"пользователю ничего не предложили и он ушёл (False Negative)\", ведь модель ошиблась 87 раз к 188 верным.\n",
    "\n",
    "        Предложение по использованию модели заказчику:\n",
    "\n",
    "        - На этапе опытной эксплуатации рекомендуется совместно с маркетологами подобрать порог классификации так, чтобы оптимизировать метрики бизнеса в денежном выражении с учетом бюджета на акции по удержанию клиентов и разной цены ошибок первого и второго рода.\n",
    "\n",
    "    3.  Определение важности признаков:\n",
    "\n",
    "        Выводы на основе таблицы важности признаков:\n",
    "\n",
    "        1. Наибольшая важность у признака day-use - 0.745199, что говорит о сильном влиянии длительности договора на определение ухода/не ухода клиента\n",
    "        2. Также важными модно считать признаки monthly-charges(ежемесячные траты на услуги) - 0.124953 и type(тип договора: ежемесячный, годовой и т.д) - 0.056634\n",
    "        3. Оставшиеся признаки multiple-lines, payment-method, partner, senior-citizen, dependents, paperless-billing  - почти не важные признаки с показателем влияния меньше 0.03"
   ]
  },
  {
   "cell_type": "markdown",
   "metadata": {},
   "source": [
    "## Отчёт по решению"
   ]
  },
  {
   "cell_type": "markdown",
   "metadata": {},
   "source": [
    "В ходе итогового проекта была создана модель, которая на основе данных о клиенте - предсказывает его уход/не уход. Удалось достичь ROC-AUC меры в 0.9380227578612506 на тестовых данных."
   ]
  },
  {
   "cell_type": "markdown",
   "metadata": {},
   "source": [
    " **Какие пункты плана были выполнены, а какие — нет. Почему?**"
   ]
  },
  {
   "cell_type": "markdown",
   "metadata": {},
   "source": [
    "Итоговое решение не отличается от плана. Все шаги были выполнены."
   ]
  },
  {
   "cell_type": "markdown",
   "metadata": {},
   "source": [
    "**Какие трудности возникли и как вы их преодолели?** "
   ]
  },
  {
   "cell_type": "markdown",
   "metadata": {},
   "source": [
    "При решении задачи особых трудностей не возникало. Иногда приходилось использовать документацию, интересные статьи для построения красивых графиков и матриц, а также для правильной интерпритаций ROC-кривой и матрицы ошибок."
   ]
  },
  {
   "cell_type": "markdown",
   "metadata": {},
   "source": [
    "**Какие ключевые шаги в решении задачи вы выделили?**"
   ]
  },
  {
   "cell_type": "markdown",
   "metadata": {},
   "source": [
    "В ходе решения задачи были выполнены следующие ключевые шаги:\n",
    "\n",
    "1. Предобработка данных\n",
    "\n",
    "    1) Загрузка данных и педобработка данных - данные были загружены и первично осмотрены, были сформулированны следующие выводы:\n",
    "        -  Последовательность столбцов логична\n",
    "        - Явных дубликатов - нет\n",
    "        - Были стандатизированны названия столбцов\n",
    "        - На первый взгляд данные выглядят неплохо - пропуски в большинстве связанны с отсутствием у клиентов подключения к услугам интернета или услугам телефонии\n",
    "        - Был изменён тип данных у столбцов begin-date и end-date на datetime64\n",
    "        \n",
    "    2) Создание целевого признака:\n",
    "        - Был добавлен целевой признак 'task' - бинарный признак, где значение 1 - клиент ушёл, 0 - клиент не ушёл \n",
    "        \n",
    "    3) Создание синтетических признаков:\n",
    "        - Был добавлен синтетический признак 'day-use' - сколько дней клиент пользуется услугами\n",
    "        \n",
    "Также было решено, что для избежания утечки данных - после анализа данных и перед разделением данных на выборки потребуется удалить столбцы 'begin-date' и 'end-date' \n",
    "\n",
    "2. Анализ данных\n",
    "\n",
    "    1) Обработка типов данных столбцов:\n",
    "        - Столбец total-charges привели к числовому типу, столбец senior-citizen для упрощения анализа данных изменили тип данных на object и заменили значения\n",
    "        \n",
    "    2) Обработка пропусков:\n",
    "         - Пропуски в total-charges заменили на значение в monthly-charges \n",
    "         - Пропуски связанные с тем, что клиент не пользовался интернет-услугами заполнили - 'NotUsedInternet' \n",
    "         - Пропуски связанные с тем, что клиент не пользовался услугами телефонии заполнили - 'NotUsedPhone'\n",
    "         \n",
    "    3) Изучение категориальных  и числовых признаков позволило создать портрет клиента, который ушёл:\n",
    "         1. Ежемесячные траты на услуги:\n",
    "        - Около 60-120. Яркой зависимости нет.\n",
    "        2. Вся сумма, которую клиент потратил на улуги:\n",
    "        - Какого-то среднего значения нет. Уходят клиенты которые тратят и 20 и 8000\n",
    "        - Можно выделить то, что это точно не новый клиент.\n",
    "        3. Сколько дней клиент пользуется услугами:\n",
    "        - Около 500-1500 дней. Пик в районе 1000 дней\n",
    "        4. Тип договора - 1 или 2 года - 20% к 10% у типа месяц к месяцу\n",
    "        5. Выставление счёта по электронной почте - Да, чуть меньше 20% к примерно 16% у не выставления\n",
    "        6. Способ облаты - Автоматический(банковский трансфер или кредитная карта) 20% к 15 у электронного чека и 5 у отправке по почте\n",
    "        7. Пол - ни мужской ни женский - характерности нет, по примерно 15% для каждого(слабая зависимость)\n",
    "        8. Наличие пенсионного статуса по возрасту  - Да, чуть меньше 20% к 15% у отсутствия статуса\n",
    "        9. Наличие супруга - Да, больше 20% к 10% у отсутствия супруга\n",
    "        10. Наличие иждивенцев - Да, чуть меньше 20% к 17% у отсутствия иждивенцев(слабая зависимость)\n",
    "        11. Наличие услуг Интернет - Fiber optic, больше 20% к 15% у DSL и 10% у неиспользующих интернет-услуги \n",
    "        12. Наличие межсетевого экрана - Да, больше 20% к 15% у нет и 10% у неиспользующих интернет-услуги \n",
    "        13. Наличие облачное хранилище файлов для резервного копирования данных - Да, больше 20% к 15% у нет и 10% у неиспользующих интернет-услуги(Заметно сильный признак) \n",
    "        14. Наличие антивируса - Да, больше 20% к 15% у нет и 10% у неиспользующих интернет-услуги(Заметно сильный признак)\n",
    "        15. Наличие выделенной линии технической поддержки - Да, около 20% к 15% у нет и 10% у неиспользующих интернет-услуги\n",
    "        16. Наличие онлайн-ТВ - Да, больше 20% к 15% у нет и 10% у неиспользующих интернет-услуги(Заметно сильный признак)\n",
    "        17. Наличие онлайн-кинотеатра - Да, больше 20% к 15% у нет и 10% у неиспользующих интернет-услуги(Заметно сильный признак)\n",
    "        18. Возможность подключения телефонного аппарата к нескольким линиям одновременно - Да, больше 20% к 10% у нет и 15% у неиспользующих телефонию(Заметно сильный признак)\n",
    "    4) Изучение корреляции признаков:\n",
    "         - Были удалены все признаки, для которых корреляция выше 0.8, оставив при этом, по одному мультиколлиниарному признаку с наибольшей корреляцией с целевым признаком. Также удалим столбец - gender у него минимальная корреляция.\n",
    "         \n",
    "3. Обучение модели\n",
    "\n",
    "    1) Разделение данных на выборки:\n",
    "        - Данные были разделены на выборки с соотношением 3 к 1 \n",
    "        \n",
    "    2) Кодирование и масштабирование данных\n",
    "        - Были созданы трансформеры данных. Один для деревянных моделей, другой для логистической регрессии, внутри которого были описаны: масштабирование для логистической регрессии, приведение распределения к нормальному для деревянных моделей, кодирование OE - для деревянных моделей, OHE - для логистической регрессии. Для модели бустинга использовался трансформер данных для деревянных моделей.\n",
    "        \n",
    "    3) Обучение различных моделей с различными гипперпараметрами:\n",
    "        1. Случайный лес\n",
    "        - Лучшие параметры случайного леса: max_depth=10, min_samples_split=30\n",
    "        - Лучшее значение ROC-AUC на кросс-валидации: 0.8308744006430165\n",
    "        2. Логистическая регрессия\n",
    "        - Лучшие параметры логистической регрессии: solver='lbfgs', penalty='l2', C=0.1\n",
    "        - Лучшее значение ROC-AUC на кросс-валидации: 0.746432089087363 \n",
    "        3. Градиентный бустинг\n",
    "        - Лучшие параметры градиентного бустинга: learning_rate=0.3, max_depth=2, n_estimators=400\n",
    "        - Лучшее значение ROC-AUC на кросс-валидации: 0.9268740860258555\n",
    "\n",
    "    4) Выбор лучшей модели:\n",
    "         - Лучшей моделью оказался Градиентный бустинг с параметрами: learning_rate=0.3, max_depth=2, n_estimators=400\n",
    "            И значением ROC-AUC на кросс-валидации: 0.9268740860258555\n",
    "\n",
    "4. Тестирование модели\n",
    "\n",
    "    1) Проверка лучшей модели на тестовых данных:\n",
    "\n",
    "        - Модель успешно прошла тестирование, со значениями:\n",
    "            - ROC-AUC на тестовых данных: 0.9399216933806435\n",
    "            - Accuracy на тестовых данных: 0.9432140829074389\n",
    "\n",
    "        - Метрика Accuracy со значением 0.9432140829074389 говорит о том, что модель c шансом в 94% определит как клиента, который уйдёт, так и наоборот клиента, который не уйдёт\n",
    "\n",
    "    2) Построение графика ROC, матрицы ошибок:\n",
    "\n",
    "        - Исходя из графика видно:\n",
    "            1. Модель сильно лучше, чем случайная модель(пунктирная линия)\n",
    "            2. Модель имеет как высокую чувствительность(trp), так и высокую специфичность(fpr), что говорит о том, что у модель мало ошибается - редко будет предсказывать, что клиент ушёл, хотя он остался, так и наоборот, что модель часто будет верно указывать на клиента, который уйдёт.\n",
    "\n",
    "            -Исходя из матрицы ошибок можно сделать следующие выводы:\n",
    "\n",
    "            1. Истинно положительных результатов(клиент ушёл) - модель предсказала верно 188 раз , ложно отрицательных(клиент остался, но модель посчитала, что ушёл)  - 87 раз\n",
    "            2. Истино отрицательных результатов(клиент остался) - модель предсказала верно 1473 раза, ложно положительных(клиент ушёл, но модель посчитала, что остался) - 13 раза\n",
    "\n",
    "\n",
    "\n",
    "    3)  Определение важности признаков:\n",
    "\n",
    "        Выводы на основе таблицы важности признаков:\n",
    "\n",
    "        - Наибольшая важность у признака day-use - 0.745199, что говорит о сильном влиянии длительности договора на определение ухода/не ухода клиента\n",
    "        - Также важными модно считать признаки monthly-charges(ежемесячные траты на услуги) - 0.124953 и type(тип договора: ежемесячный, годовой и т.д) - 0.056634\n",
    "        - Оставшиеся признаки multiple-lines, payment-method, partner, senior-citizen, dependents, paperless-billing  - почти не важные признаки с показателем влияния меньше 0.03"
   ]
  },
  {
   "cell_type": "markdown",
   "metadata": {},
   "source": [
    "**Какие признаки использовали для обучения модели и какая предобработка этих признаков была выполнена?**"
   ]
  },
  {
   "cell_type": "markdown",
   "metadata": {},
   "source": [
    "При обучении использовались следующие признаки:\n",
    "\n",
    "- type - тип договора: ежемесячный, годовой и т.д\n",
    "- paperless-billing - выставления счёта по электронной почте\n",
    "- payment-method - способ оплаты\n",
    "- monthly-charges - ежемесячные траты на услуги\n",
    "- senior-citizen - наличие пенсионного статуса по возрасту\n",
    "- partner - наличие супруга/супруги\n",
    "- dependents - наличие иждивенцев\n",
    "- multiple-lines - возможность подключения телефонного аппарата к нескольким линиям одновременно\n",
    "\n",
    "Также был использован сгенерированный признак:\n",
    "\n",
    "- day-use - солько дней клиент пользуется услугами\n",
    "\n",
    "Предобработка признаков:\n",
    "\n",
    "1) На этапе анализа данных были удалены все признаки, для которых корреляция выше 0.8, оставив при этом, по одному мультиколлиниарному признаку с наибольшей корреляцией с целевым признаком. Также был удалён столбец - gender у него минимальная корреляция\n",
    "\n",
    "2) Была произведена обработка пропусков:  \n",
    "    - Пропуски связанные с тем, что клиент не пользовался услугами телефонии заполнили - 'NotUsedPhone'\n",
    "    \n",
    "3) Было произведено кодирование и масштабирование данных:\n",
    "\n",
    "     - Были созданы трансформеры данных. Один для деревянных моделей, другой для логистической регрессии, внутри которого были описаны: масштабирование для логистической регрессии, приведение распределения к нормальному для деревянных моделей, кодирование OE - для деревянных моделей, OHE - для логистической регрессии. Для модели бустинга использовался трансформер данных для деревянных моделей\n",
    "  \n"
   ]
  },
  {
   "cell_type": "markdown",
   "metadata": {},
   "source": [
    "**Использованные модели и их метрики на кросс-валидации**"
   ]
  },
  {
   "cell_type": "markdown",
   "metadata": {},
   "source": [
    " 1. Случайный лес\n",
    " - Лучшие параметры случайного леса: max_depth=10, min_samples_split=30\n",
    " - Лучшее значение ROC-AUC на кросс-валидации: 0.8308744006430165\n",
    " 2. Логистическая регрессия\n",
    " - Лучшие параметры логистической регрессии: solver='lbfgs', penalty='l2', C=0.1\n",
    " - Лучшее значение ROC-AUC на кросс-валидации: 0.746432089087363 \n",
    " 3. Градиентный бустинг\n",
    " - Лучшие параметры градиентного бустинга: learning_rate=0.3, max_depth=2, n_estimators=400\n",
    " - Лучшее значение ROC-AUC на кросс-валидации: 0.9268740860258555"
   ]
  },
  {
   "cell_type": "markdown",
   "metadata": {},
   "source": [
    "**Какая ваша итоговая модель, какие у неё гиперпараметы и какое качество?**"
   ]
  },
  {
   "cell_type": "markdown",
   "metadata": {},
   "source": [
    "Итоговая модель - Градиентный бустинг \n",
    "\n",
    "Сетка гипперпараметров:\n",
    "\n",
    "    n_estimators: 200, 400, 500, 600\n",
    "    learning_rate: 0.2, 0.3, 0.4\n",
    "    max_depth : 1, 2 ,3\n",
    "    \n",
    "Лучшие параметрами: learning_rate=0.3, max_depth=2, n_estimators=400\n",
    "\n",
    "\n",
    "Метрики и качество:\n",
    "\n",
    "1. ROC-AUC на тестовых данных: 0.9399216933806435\n",
    "2. Accuracy на тестовых данных: 0.9432140829074389\n",
    "3. Графика ROC, матрицы ошибок:\n",
    "\n",
    "     - Исходя из графика видно:\n",
    "         1. Модель сильно лучше, чем случайная модель(пунктирная линия)\n",
    "         2. Модель имеет как высокую чувствительность(trp), так и высокую специфичность(fpr), что говорит о том, что модель мало ошибается - редко будет предсказывать, что клиент ушёл, хотя он остался, так и наоборот, что модель часто будет верно указывать на клиента, который уйдёт.\n",
    "\n",
    "         - Исходя из матрицы ошибок можно сделать следующие выводы:\n",
    "\n",
    "         1. Истинно положительных результатов(клиент ушёл) - модель предсказала верно 188 раз , ложно отрицательных(клиент остался, но модель посчитала, что ушёл)  - 87 раз\n",
    "         2. Истино отрицательных результатов(клиент остался) - модель предсказала верно 1473 раза, ложно положительных(клиент ушёл, но модель посчитала, что остался) - 13 раза\n",
    "4. Определение важности признаков:\n",
    "\n",
    "        Выводы на основе таблицы важности признаков:\n",
    "\n",
    "        - Наибольшая важность у признака day-use - 0.745199, что говорит о сильном влиянии длительности договора на определение ухода/не ухода клиента\n",
    "        - Также важными модно считать признаки monthly-charges(ежемесячные траты на услуги) - 0.124953 и type(тип договора: ежемесячный, годовой и т.д) - 0.056634\n",
    "        - Оставшиеся признаки multiple-lines, payment-method, partner, senior-citizen, dependents, paperless-billing  - почти не важные признаки с показателем влияния меньше 0.03"
   ]
  },
  {
   "cell_type": "markdown",
   "metadata": {},
   "source": [
    "**Предложение по использованию модели заказчику**"
   ]
  },
  {
   "cell_type": "markdown",
   "metadata": {},
   "source": [
    "На этапе опытной эксплуатации рекомендуется совместно с маркетологами подобрать порог классификации так, чтобы оптимизировать метрики бизнеса в денежном выражении с учетом бюджета на акции по удержанию клиентов и разной цены ошибок первого и второго рода.\n"
   ]
  },
  {
   "cell_type": "code",
   "execution_count": null,
   "metadata": {},
   "outputs": [],
   "source": []
  }
 ],
 "metadata": {
  "ExecuteTimeLog": [
   {
    "duration": 391,
    "start_time": "2023-09-17T23:02:44.975Z"
   },
   {
    "duration": 282,
    "start_time": "2023-09-17T23:02:48.025Z"
   },
   {
    "duration": 23,
    "start_time": "2023-09-17T23:11:01.170Z"
   },
   {
    "duration": 16,
    "start_time": "2023-09-17T23:11:18.735Z"
   },
   {
    "duration": 11,
    "start_time": "2023-09-17T23:11:47.405Z"
   },
   {
    "duration": 21,
    "start_time": "2023-09-17T23:13:34.318Z"
   },
   {
    "duration": 15,
    "start_time": "2023-09-17T23:13:35.556Z"
   },
   {
    "duration": 11,
    "start_time": "2023-09-17T23:13:37.907Z"
   },
   {
    "duration": 3,
    "start_time": "2023-09-17T23:14:13.113Z"
   },
   {
    "duration": 225,
    "start_time": "2023-09-17T23:14:13.575Z"
   },
   {
    "duration": 86,
    "start_time": "2023-09-17T23:14:13.832Z"
   },
   {
    "duration": 104,
    "start_time": "2023-09-17T23:14:24.224Z"
   },
   {
    "duration": 22,
    "start_time": "2023-09-17T23:14:31.053Z"
   },
   {
    "duration": 16,
    "start_time": "2023-09-17T23:14:33.595Z"
   },
   {
    "duration": 21,
    "start_time": "2023-09-17T23:15:15.701Z"
   },
   {
    "duration": 16,
    "start_time": "2023-09-17T23:15:17.151Z"
   },
   {
    "duration": 2,
    "start_time": "2023-09-17T23:16:13.788Z"
   },
   {
    "duration": 169,
    "start_time": "2023-09-17T23:16:14.238Z"
   },
   {
    "duration": 23,
    "start_time": "2023-09-17T23:16:14.454Z"
   },
   {
    "duration": 15,
    "start_time": "2023-09-17T23:16:15.035Z"
   },
   {
    "duration": 3,
    "start_time": "2023-09-17T23:31:51.624Z"
   },
   {
    "duration": 111,
    "start_time": "2023-09-17T23:31:52.045Z"
   },
   {
    "duration": 405,
    "start_time": "2023-09-18T11:42:02.631Z"
   },
   {
    "duration": 465,
    "start_time": "2023-09-18T11:42:03.461Z"
   },
   {
    "duration": 14,
    "start_time": "2023-09-18T11:42:20.378Z"
   },
   {
    "duration": 10,
    "start_time": "2023-09-18T11:44:26.250Z"
   },
   {
    "duration": 9,
    "start_time": "2023-09-18T11:45:08.440Z"
   },
   {
    "duration": 28,
    "start_time": "2023-09-18T11:46:08.842Z"
   },
   {
    "duration": 7,
    "start_time": "2023-09-18T11:46:18.760Z"
   },
   {
    "duration": 5,
    "start_time": "2023-09-18T11:46:31.460Z"
   },
   {
    "duration": 113,
    "start_time": "2023-09-18T11:46:32.039Z"
   },
   {
    "duration": 7,
    "start_time": "2023-09-18T11:46:39.086Z"
   },
   {
    "duration": 8,
    "start_time": "2023-09-18T11:47:21.755Z"
   },
   {
    "duration": 454,
    "start_time": "2023-09-18T11:49:05.927Z"
   },
   {
    "duration": 234,
    "start_time": "2023-09-18T11:49:06.562Z"
   },
   {
    "duration": 15,
    "start_time": "2023-09-18T11:49:23.414Z"
   },
   {
    "duration": 321,
    "start_time": "2023-09-18T11:49:42.671Z"
   },
   {
    "duration": 13,
    "start_time": "2023-09-18T11:49:43.794Z"
   },
   {
    "duration": 432,
    "start_time": "2023-09-18T12:21:09.537Z"
   },
   {
    "duration": 223,
    "start_time": "2023-09-18T12:21:09.971Z"
   },
   {
    "duration": 36,
    "start_time": "2023-09-18T12:21:10.195Z"
   },
   {
    "duration": 4,
    "start_time": "2023-09-18T12:21:10.233Z"
   },
   {
    "duration": 169,
    "start_time": "2023-09-18T12:21:10.239Z"
   },
   {
    "duration": 12,
    "start_time": "2023-09-18T12:21:10.410Z"
   },
   {
    "duration": 24,
    "start_time": "2023-09-18T12:21:10.424Z"
   },
   {
    "duration": 41,
    "start_time": "2023-09-18T12:21:10.450Z"
   },
   {
    "duration": 24,
    "start_time": "2023-09-18T12:21:10.493Z"
   },
   {
    "duration": 75,
    "start_time": "2023-09-18T12:21:47.631Z"
   },
   {
    "duration": 4,
    "start_time": "2023-09-18T12:22:29.871Z"
   },
   {
    "duration": 8,
    "start_time": "2023-09-18T12:23:53.312Z"
   },
   {
    "duration": 5,
    "start_time": "2023-09-18T12:24:38.069Z"
   },
   {
    "duration": 6,
    "start_time": "2023-09-18T12:25:02.750Z"
   },
   {
    "duration": 8,
    "start_time": "2023-09-18T12:25:20.211Z"
   },
   {
    "duration": 16,
    "start_time": "2023-09-18T12:35:20.589Z"
   },
   {
    "duration": 24,
    "start_time": "2023-09-18T12:35:31.950Z"
   },
   {
    "duration": 15,
    "start_time": "2023-09-18T12:37:13.790Z"
   },
   {
    "duration": 17,
    "start_time": "2023-09-18T12:38:35.211Z"
   },
   {
    "duration": 473,
    "start_time": "2023-09-18T12:39:04.589Z"
   },
   {
    "duration": 276,
    "start_time": "2023-09-18T12:39:05.064Z"
   },
   {
    "duration": 30,
    "start_time": "2023-09-18T12:39:05.341Z"
   },
   {
    "duration": 23,
    "start_time": "2023-09-18T12:39:05.374Z"
   },
   {
    "duration": 213,
    "start_time": "2023-09-18T12:39:05.399Z"
   },
   {
    "duration": 5,
    "start_time": "2023-09-18T12:39:05.613Z"
   },
   {
    "duration": 50,
    "start_time": "2023-09-18T12:39:05.620Z"
   },
   {
    "duration": 38,
    "start_time": "2023-09-18T12:39:05.671Z"
   },
   {
    "duration": 35,
    "start_time": "2023-09-18T12:39:05.711Z"
   },
   {
    "duration": 67,
    "start_time": "2023-09-18T12:39:05.748Z"
   },
   {
    "duration": 32,
    "start_time": "2023-09-18T12:39:05.817Z"
   },
   {
    "duration": 46,
    "start_time": "2023-09-18T12:39:05.851Z"
   },
   {
    "duration": 25,
    "start_time": "2023-09-18T12:39:05.899Z"
   },
   {
    "duration": 46,
    "start_time": "2023-09-18T12:39:05.926Z"
   },
   {
    "duration": 36,
    "start_time": "2023-09-18T12:39:05.974Z"
   },
   {
    "duration": 48,
    "start_time": "2023-09-18T12:39:06.012Z"
   },
   {
    "duration": 20,
    "start_time": "2023-09-18T12:39:34.322Z"
   },
   {
    "duration": 5,
    "start_time": "2023-09-18T12:42:22.499Z"
   },
   {
    "duration": 18,
    "start_time": "2023-09-18T12:42:30.251Z"
   },
   {
    "duration": 18,
    "start_time": "2023-09-18T13:40:05.385Z"
   },
   {
    "duration": 471,
    "start_time": "2023-09-18T13:44:38.602Z"
   },
   {
    "duration": 212,
    "start_time": "2023-09-18T13:44:39.075Z"
   },
   {
    "duration": 40,
    "start_time": "2023-09-18T13:44:39.288Z"
   },
   {
    "duration": 10,
    "start_time": "2023-09-18T13:44:39.330Z"
   },
   {
    "duration": 188,
    "start_time": "2023-09-18T13:44:39.342Z"
   },
   {
    "duration": 4,
    "start_time": "2023-09-18T13:44:39.532Z"
   },
   {
    "duration": 43,
    "start_time": "2023-09-18T13:44:39.538Z"
   },
   {
    "duration": 2594,
    "start_time": "2023-09-18T13:44:39.582Z"
   },
   {
    "duration": 0,
    "start_time": "2023-09-18T13:44:42.178Z"
   },
   {
    "duration": 0,
    "start_time": "2023-09-18T13:44:42.180Z"
   },
   {
    "duration": 0,
    "start_time": "2023-09-18T13:44:42.181Z"
   },
   {
    "duration": 0,
    "start_time": "2023-09-18T13:44:42.182Z"
   },
   {
    "duration": 0,
    "start_time": "2023-09-18T13:44:42.184Z"
   },
   {
    "duration": 0,
    "start_time": "2023-09-18T13:44:42.185Z"
   },
   {
    "duration": 0,
    "start_time": "2023-09-18T13:44:42.186Z"
   },
   {
    "duration": 0,
    "start_time": "2023-09-18T13:44:42.187Z"
   },
   {
    "duration": 0,
    "start_time": "2023-09-18T13:44:42.188Z"
   },
   {
    "duration": 0,
    "start_time": "2023-09-18T13:44:42.189Z"
   },
   {
    "duration": 0,
    "start_time": "2023-09-18T13:44:42.190Z"
   },
   {
    "duration": 0,
    "start_time": "2023-09-18T13:44:42.191Z"
   },
   {
    "duration": 46,
    "start_time": "2023-09-18T13:45:04.581Z"
   },
   {
    "duration": 59,
    "start_time": "2023-09-18T13:45:15.037Z"
   },
   {
    "duration": 921,
    "start_time": "2023-09-18T13:45:43.164Z"
   },
   {
    "duration": 14,
    "start_time": "2023-09-18T13:46:29.701Z"
   },
   {
    "duration": 15,
    "start_time": "2023-09-18T13:47:04.729Z"
   },
   {
    "duration": 17,
    "start_time": "2023-09-18T13:50:00.927Z"
   },
   {
    "duration": 422,
    "start_time": "2023-09-18T13:50:08.439Z"
   },
   {
    "duration": 265,
    "start_time": "2023-09-18T13:50:08.863Z"
   },
   {
    "duration": 30,
    "start_time": "2023-09-18T13:50:09.131Z"
   },
   {
    "duration": 4,
    "start_time": "2023-09-18T13:50:09.163Z"
   },
   {
    "duration": 195,
    "start_time": "2023-09-18T13:50:09.169Z"
   },
   {
    "duration": 4,
    "start_time": "2023-09-18T13:50:09.365Z"
   },
   {
    "duration": 58,
    "start_time": "2023-09-18T13:50:09.372Z"
   },
   {
    "duration": 23,
    "start_time": "2023-09-18T13:50:09.432Z"
   },
   {
    "duration": 22,
    "start_time": "2023-09-18T13:50:09.457Z"
   },
   {
    "duration": 5,
    "start_time": "2023-09-18T13:50:09.481Z"
   },
   {
    "duration": 17,
    "start_time": "2023-09-18T13:50:09.487Z"
   },
   {
    "duration": 30,
    "start_time": "2023-09-18T13:50:09.506Z"
   },
   {
    "duration": 5,
    "start_time": "2023-09-18T13:50:09.539Z"
   },
   {
    "duration": 45,
    "start_time": "2023-09-18T13:50:09.546Z"
   },
   {
    "duration": 29,
    "start_time": "2023-09-18T13:50:09.593Z"
   },
   {
    "duration": 6,
    "start_time": "2023-09-18T13:50:09.624Z"
   },
   {
    "duration": 31,
    "start_time": "2023-09-18T13:50:09.632Z"
   },
   {
    "duration": 37,
    "start_time": "2023-09-18T13:50:09.665Z"
   },
   {
    "duration": 33,
    "start_time": "2023-09-18T13:50:09.705Z"
   },
   {
    "duration": 19,
    "start_time": "2023-09-18T13:50:09.740Z"
   },
   {
    "duration": 21,
    "start_time": "2023-09-18T13:50:09.760Z"
   },
   {
    "duration": 27,
    "start_time": "2023-09-18T13:57:29.453Z"
   },
   {
    "duration": 37,
    "start_time": "2023-09-18T13:58:38.392Z"
   },
   {
    "duration": 8,
    "start_time": "2023-09-18T14:00:51.835Z"
   },
   {
    "duration": 21,
    "start_time": "2023-09-18T14:01:00.346Z"
   },
   {
    "duration": 21,
    "start_time": "2023-09-18T14:01:26.630Z"
   },
   {
    "duration": 432,
    "start_time": "2023-09-18T14:04:29.697Z"
   },
   {
    "duration": 368,
    "start_time": "2023-09-18T14:04:30.131Z"
   },
   {
    "duration": 29,
    "start_time": "2023-09-18T14:04:30.501Z"
   },
   {
    "duration": 27,
    "start_time": "2023-09-18T14:04:30.532Z"
   },
   {
    "duration": 254,
    "start_time": "2023-09-18T14:04:30.562Z"
   },
   {
    "duration": 5,
    "start_time": "2023-09-18T14:04:30.818Z"
   },
   {
    "duration": 74,
    "start_time": "2023-09-18T14:04:30.825Z"
   },
   {
    "duration": 82,
    "start_time": "2023-09-18T14:04:30.901Z"
   },
   {
    "duration": 82,
    "start_time": "2023-09-18T14:04:30.985Z"
   },
   {
    "duration": 106,
    "start_time": "2023-09-18T14:04:31.070Z"
   },
   {
    "duration": 59,
    "start_time": "2023-09-18T14:04:31.178Z"
   },
   {
    "duration": 72,
    "start_time": "2023-09-18T14:04:31.239Z"
   },
   {
    "duration": 50,
    "start_time": "2023-09-18T14:04:31.314Z"
   },
   {
    "duration": 87,
    "start_time": "2023-09-18T14:04:31.368Z"
   },
   {
    "duration": 162,
    "start_time": "2023-09-18T14:04:31.457Z"
   },
   {
    "duration": 78,
    "start_time": "2023-09-18T14:04:31.622Z"
   },
   {
    "duration": 79,
    "start_time": "2023-09-18T14:04:31.702Z"
   },
   {
    "duration": 46,
    "start_time": "2023-09-18T14:04:31.783Z"
   },
   {
    "duration": 56,
    "start_time": "2023-09-18T14:04:31.830Z"
   },
   {
    "duration": 42,
    "start_time": "2023-09-18T14:04:31.888Z"
   },
   {
    "duration": 4,
    "start_time": "2023-09-18T14:04:31.932Z"
   },
   {
    "duration": 1541,
    "start_time": "2023-09-18T14:08:23.816Z"
   },
   {
    "duration": 12,
    "start_time": "2023-09-18T14:08:37.542Z"
   },
   {
    "duration": 10,
    "start_time": "2023-09-18T14:08:47.716Z"
   },
   {
    "duration": 11,
    "start_time": "2023-09-18T14:08:50.844Z"
   },
   {
    "duration": 11,
    "start_time": "2023-09-18T14:08:57.346Z"
   },
   {
    "duration": 31,
    "start_time": "2023-09-18T14:09:01.650Z"
   },
   {
    "duration": 449,
    "start_time": "2023-09-18T14:09:14.338Z"
   },
   {
    "duration": 209,
    "start_time": "2023-09-18T14:09:14.789Z"
   },
   {
    "duration": 27,
    "start_time": "2023-09-18T14:09:15.000Z"
   },
   {
    "duration": 60,
    "start_time": "2023-09-18T14:09:15.029Z"
   },
   {
    "duration": 213,
    "start_time": "2023-09-18T14:09:15.091Z"
   },
   {
    "duration": 3,
    "start_time": "2023-09-18T14:09:15.306Z"
   },
   {
    "duration": 55,
    "start_time": "2023-09-18T14:09:15.311Z"
   },
   {
    "duration": 12,
    "start_time": "2023-09-18T14:09:15.368Z"
   },
   {
    "duration": 42,
    "start_time": "2023-09-18T14:09:15.382Z"
   },
   {
    "duration": 40,
    "start_time": "2023-09-18T14:09:15.426Z"
   },
   {
    "duration": 42,
    "start_time": "2023-09-18T14:09:15.468Z"
   },
   {
    "duration": 79,
    "start_time": "2023-09-18T14:09:15.512Z"
   },
   {
    "duration": 60,
    "start_time": "2023-09-18T14:09:15.593Z"
   },
   {
    "duration": 42,
    "start_time": "2023-09-18T14:09:15.656Z"
   },
   {
    "duration": 129,
    "start_time": "2023-09-18T14:09:15.700Z"
   },
   {
    "duration": 248,
    "start_time": "2023-09-18T14:09:15.831Z"
   },
   {
    "duration": 186,
    "start_time": "2023-09-18T14:09:16.081Z"
   },
   {
    "duration": 72,
    "start_time": "2023-09-18T14:09:16.270Z"
   },
   {
    "duration": 57,
    "start_time": "2023-09-18T14:09:16.344Z"
   },
   {
    "duration": 52,
    "start_time": "2023-09-18T14:09:16.403Z"
   },
   {
    "duration": 38,
    "start_time": "2023-09-18T14:09:16.457Z"
   },
   {
    "duration": 3,
    "start_time": "2023-09-18T14:09:16.496Z"
   },
   {
    "duration": 32,
    "start_time": "2023-09-18T14:14:10.108Z"
   },
   {
    "duration": 150,
    "start_time": "2023-09-18T14:18:25.254Z"
   },
   {
    "duration": 7,
    "start_time": "2023-09-18T14:18:29.797Z"
   },
   {
    "duration": 4,
    "start_time": "2023-09-18T14:23:39.714Z"
   },
   {
    "duration": 14,
    "start_time": "2023-09-18T14:23:42.607Z"
   },
   {
    "duration": 17,
    "start_time": "2023-09-18T14:23:57.677Z"
   },
   {
    "duration": 446,
    "start_time": "2023-09-18T14:30:57.487Z"
   },
   {
    "duration": 1701,
    "start_time": "2023-09-18T14:31:25.495Z"
   },
   {
    "duration": 2011,
    "start_time": "2023-09-18T14:31:43.419Z"
   },
   {
    "duration": 930,
    "start_time": "2023-09-18T14:31:57.717Z"
   },
   {
    "duration": 1041,
    "start_time": "2023-09-18T14:33:12.219Z"
   },
   {
    "duration": 818,
    "start_time": "2023-09-18T14:33:33.338Z"
   },
   {
    "duration": 957,
    "start_time": "2023-09-18T14:33:49.464Z"
   },
   {
    "duration": 852,
    "start_time": "2023-09-18T14:36:19.930Z"
   },
   {
    "duration": 559,
    "start_time": "2023-09-18T14:36:46.970Z"
   },
   {
    "duration": 966,
    "start_time": "2023-09-18T14:37:04.976Z"
   },
   {
    "duration": 934,
    "start_time": "2023-09-18T14:37:08.979Z"
   },
   {
    "duration": 900,
    "start_time": "2023-09-18T14:40:52.187Z"
   },
   {
    "duration": 1143,
    "start_time": "2023-09-18T15:01:37.291Z"
   },
   {
    "duration": 386,
    "start_time": "2023-09-18T15:01:49.610Z"
   },
   {
    "duration": 418,
    "start_time": "2023-09-18T15:04:45.186Z"
   },
   {
    "duration": 51,
    "start_time": "2023-09-18T16:55:29.998Z"
   },
   {
    "duration": 941,
    "start_time": "2023-09-18T16:55:37.572Z"
   },
   {
    "duration": 283,
    "start_time": "2023-09-18T16:55:38.515Z"
   },
   {
    "duration": 43,
    "start_time": "2023-09-18T16:55:38.800Z"
   },
   {
    "duration": 18,
    "start_time": "2023-09-18T16:55:38.846Z"
   },
   {
    "duration": 190,
    "start_time": "2023-09-18T16:55:38.873Z"
   },
   {
    "duration": 7,
    "start_time": "2023-09-18T16:55:39.067Z"
   },
   {
    "duration": 58,
    "start_time": "2023-09-18T16:55:39.076Z"
   },
   {
    "duration": 30,
    "start_time": "2023-09-18T16:55:39.137Z"
   },
   {
    "duration": 37,
    "start_time": "2023-09-18T16:55:39.170Z"
   },
   {
    "duration": 14,
    "start_time": "2023-09-18T16:55:39.211Z"
   },
   {
    "duration": 52,
    "start_time": "2023-09-18T16:55:39.227Z"
   },
   {
    "duration": 46,
    "start_time": "2023-09-18T16:55:39.281Z"
   },
   {
    "duration": 12,
    "start_time": "2023-09-18T16:55:39.329Z"
   },
   {
    "duration": 33,
    "start_time": "2023-09-18T16:55:39.342Z"
   },
   {
    "duration": 31,
    "start_time": "2023-09-18T16:55:39.376Z"
   },
   {
    "duration": 24,
    "start_time": "2023-09-18T16:55:39.409Z"
   },
   {
    "duration": 49,
    "start_time": "2023-09-18T16:55:39.434Z"
   },
   {
    "duration": 37,
    "start_time": "2023-09-18T16:55:39.485Z"
   },
   {
    "duration": 59,
    "start_time": "2023-09-18T16:55:39.525Z"
   },
   {
    "duration": 48,
    "start_time": "2023-09-18T16:55:39.586Z"
   },
   {
    "duration": 35,
    "start_time": "2023-09-18T16:55:39.636Z"
   },
   {
    "duration": 9,
    "start_time": "2023-09-18T16:55:39.674Z"
   },
   {
    "duration": 23,
    "start_time": "2023-09-18T16:55:39.685Z"
   },
   {
    "duration": 38,
    "start_time": "2023-09-18T16:55:39.710Z"
   },
   {
    "duration": 46,
    "start_time": "2023-09-18T16:55:39.750Z"
   },
   {
    "duration": 1080,
    "start_time": "2023-09-18T16:55:39.798Z"
   },
   {
    "duration": 992,
    "start_time": "2023-09-18T16:55:40.881Z"
   },
   {
    "duration": 70,
    "start_time": "2023-09-18T16:55:41.879Z"
   },
   {
    "duration": 0,
    "start_time": "2023-09-18T16:55:41.952Z"
   },
   {
    "duration": 0,
    "start_time": "2023-09-18T16:55:41.953Z"
   },
   {
    "duration": 0,
    "start_time": "2023-09-18T16:55:41.955Z"
   },
   {
    "duration": 404,
    "start_time": "2023-09-18T16:55:52.523Z"
   },
   {
    "duration": 14,
    "start_time": "2023-09-18T16:55:57.469Z"
   },
   {
    "duration": 24,
    "start_time": "2023-09-18T17:02:22.547Z"
   },
   {
    "duration": 105,
    "start_time": "2023-09-18T17:12:36.473Z"
   },
   {
    "duration": 24,
    "start_time": "2023-09-18T17:12:39.100Z"
   },
   {
    "duration": 13,
    "start_time": "2023-09-18T17:12:41.676Z"
   },
   {
    "duration": 20,
    "start_time": "2023-09-18T17:12:50.429Z"
   },
   {
    "duration": 8,
    "start_time": "2023-09-18T17:13:55.541Z"
   },
   {
    "duration": 9,
    "start_time": "2023-09-18T17:18:49.094Z"
   },
   {
    "duration": 13,
    "start_time": "2023-09-18T17:19:15.408Z"
   },
   {
    "duration": 7,
    "start_time": "2023-09-18T17:19:26.722Z"
   },
   {
    "duration": 22,
    "start_time": "2023-09-18T17:19:58.645Z"
   },
   {
    "duration": 737,
    "start_time": "2023-09-18T17:20:15.064Z"
   },
   {
    "duration": 242,
    "start_time": "2023-09-18T17:20:15.803Z"
   },
   {
    "duration": 34,
    "start_time": "2023-09-18T17:20:16.047Z"
   },
   {
    "duration": 4,
    "start_time": "2023-09-18T17:20:16.084Z"
   },
   {
    "duration": 146,
    "start_time": "2023-09-18T17:20:16.090Z"
   },
   {
    "duration": 12,
    "start_time": "2023-09-18T17:20:16.261Z"
   },
   {
    "duration": 20,
    "start_time": "2023-09-18T17:20:16.275Z"
   },
   {
    "duration": 10,
    "start_time": "2023-09-18T17:20:16.297Z"
   },
   {
    "duration": 15,
    "start_time": "2023-09-18T17:20:16.309Z"
   },
   {
    "duration": 13,
    "start_time": "2023-09-18T17:20:16.327Z"
   },
   {
    "duration": 31,
    "start_time": "2023-09-18T17:20:16.342Z"
   },
   {
    "duration": 18,
    "start_time": "2023-09-18T17:20:16.375Z"
   },
   {
    "duration": 4,
    "start_time": "2023-09-18T17:20:16.396Z"
   },
   {
    "duration": 21,
    "start_time": "2023-09-18T17:20:16.402Z"
   },
   {
    "duration": 42,
    "start_time": "2023-09-18T17:20:16.425Z"
   },
   {
    "duration": 20,
    "start_time": "2023-09-18T17:20:16.471Z"
   },
   {
    "duration": 20,
    "start_time": "2023-09-18T17:20:16.493Z"
   },
   {
    "duration": 18,
    "start_time": "2023-09-18T17:20:16.515Z"
   },
   {
    "duration": 39,
    "start_time": "2023-09-18T17:20:16.534Z"
   },
   {
    "duration": 38,
    "start_time": "2023-09-18T17:20:16.575Z"
   },
   {
    "duration": 55,
    "start_time": "2023-09-18T17:20:16.615Z"
   },
   {
    "duration": 9,
    "start_time": "2023-09-18T17:20:16.672Z"
   },
   {
    "duration": 22,
    "start_time": "2023-09-18T17:20:16.682Z"
   },
   {
    "duration": 32,
    "start_time": "2023-09-18T17:20:16.707Z"
   },
   {
    "duration": 36,
    "start_time": "2023-09-18T17:20:16.741Z"
   },
   {
    "duration": 1018,
    "start_time": "2023-09-18T17:20:16.780Z"
   },
   {
    "duration": 880,
    "start_time": "2023-09-18T17:20:17.800Z"
   },
   {
    "duration": 458,
    "start_time": "2023-09-18T17:20:18.686Z"
   },
   {
    "duration": 27,
    "start_time": "2023-09-18T17:20:19.146Z"
   },
   {
    "duration": 29,
    "start_time": "2023-09-18T17:20:19.175Z"
   },
   {
    "duration": 11,
    "start_time": "2023-09-18T17:20:19.207Z"
   },
   {
    "duration": 38,
    "start_time": "2023-09-18T17:20:19.221Z"
   },
   {
    "duration": 11,
    "start_time": "2023-09-18T17:20:19.261Z"
   },
   {
    "duration": 9,
    "start_time": "2023-09-18T17:20:19.273Z"
   },
   {
    "duration": 14,
    "start_time": "2023-09-18T17:20:19.284Z"
   },
   {
    "duration": 3,
    "start_time": "2023-09-18T17:20:19.300Z"
   },
   {
    "duration": 1546,
    "start_time": "2023-09-18T17:25:44.934Z"
   },
   {
    "duration": 745,
    "start_time": "2023-09-18T17:29:50.483Z"
   },
   {
    "duration": 437,
    "start_time": "2023-09-18T17:29:51.230Z"
   },
   {
    "duration": 37,
    "start_time": "2023-09-18T17:29:51.670Z"
   },
   {
    "duration": 5,
    "start_time": "2023-09-18T17:29:51.709Z"
   },
   {
    "duration": 189,
    "start_time": "2023-09-18T17:29:51.715Z"
   },
   {
    "duration": 5,
    "start_time": "2023-09-18T17:29:51.906Z"
   },
   {
    "duration": 32,
    "start_time": "2023-09-18T17:29:51.913Z"
   },
   {
    "duration": 31,
    "start_time": "2023-09-18T17:29:51.947Z"
   },
   {
    "duration": 27,
    "start_time": "2023-09-18T17:29:51.987Z"
   },
   {
    "duration": 5,
    "start_time": "2023-09-18T17:29:52.191Z"
   },
   {
    "duration": 7,
    "start_time": "2023-09-18T17:29:52.329Z"
   },
   {
    "duration": 17,
    "start_time": "2023-09-18T17:29:52.485Z"
   },
   {
    "duration": 5,
    "start_time": "2023-09-18T17:29:52.845Z"
   },
   {
    "duration": 26,
    "start_time": "2023-09-18T17:29:53.321Z"
   },
   {
    "duration": 42,
    "start_time": "2023-09-18T17:29:53.350Z"
   },
   {
    "duration": 5,
    "start_time": "2023-09-18T17:29:53.395Z"
   },
   {
    "duration": 18,
    "start_time": "2023-09-18T17:29:53.501Z"
   },
   {
    "duration": 19,
    "start_time": "2023-09-18T17:29:54.413Z"
   },
   {
    "duration": 20,
    "start_time": "2023-09-18T17:29:57.991Z"
   },
   {
    "duration": 30,
    "start_time": "2023-09-18T17:29:59.406Z"
   },
   {
    "duration": 48,
    "start_time": "2023-09-18T17:30:01.750Z"
   },
   {
    "duration": 9,
    "start_time": "2023-09-18T17:30:02.740Z"
   },
   {
    "duration": 10,
    "start_time": "2023-09-18T17:30:03.970Z"
   },
   {
    "duration": 19,
    "start_time": "2023-09-18T17:30:04.583Z"
   },
   {
    "duration": 26,
    "start_time": "2023-09-18T17:30:04.605Z"
   },
   {
    "duration": 7,
    "start_time": "2023-09-18T17:30:07.133Z"
   },
   {
    "duration": 7,
    "start_time": "2023-09-18T17:31:11.279Z"
   },
   {
    "duration": 7,
    "start_time": "2023-09-18T17:31:17.527Z"
   },
   {
    "duration": 1113,
    "start_time": "2023-09-18T17:31:22.821Z"
   },
   {
    "duration": 995,
    "start_time": "2023-09-18T17:31:24.434Z"
   },
   {
    "duration": 407,
    "start_time": "2023-09-18T17:31:25.432Z"
   },
   {
    "duration": 20,
    "start_time": "2023-09-18T17:31:25.841Z"
   },
   {
    "duration": 15,
    "start_time": "2023-09-18T17:31:26.214Z"
   },
   {
    "duration": 44,
    "start_time": "2023-09-18T17:31:26.231Z"
   },
   {
    "duration": 12,
    "start_time": "2023-09-18T17:31:26.385Z"
   },
   {
    "duration": 13,
    "start_time": "2023-09-18T17:31:26.877Z"
   },
   {
    "duration": 20,
    "start_time": "2023-09-18T17:31:26.892Z"
   },
   {
    "duration": 35,
    "start_time": "2023-09-18T17:31:26.935Z"
   },
   {
    "duration": 1500,
    "start_time": "2023-09-18T17:31:27.826Z"
   },
   {
    "duration": 32,
    "start_time": "2023-09-18T17:32:54.989Z"
   },
   {
    "duration": 3974,
    "start_time": "2023-09-18T17:37:40.002Z"
   },
   {
    "duration": 2833,
    "start_time": "2023-09-18T17:38:35.671Z"
   },
   {
    "duration": 2862,
    "start_time": "2023-09-18T17:39:45.529Z"
   },
   {
    "duration": 3026,
    "start_time": "2023-09-18T17:42:25.485Z"
   },
   {
    "duration": 2737,
    "start_time": "2023-09-18T17:44:52.903Z"
   },
   {
    "duration": 18,
    "start_time": "2023-09-18T18:07:39.711Z"
   },
   {
    "duration": 735,
    "start_time": "2023-09-18T18:14:56.183Z"
   },
   {
    "duration": 240,
    "start_time": "2023-09-18T18:14:56.921Z"
   },
   {
    "duration": 29,
    "start_time": "2023-09-18T18:14:57.163Z"
   },
   {
    "duration": 4,
    "start_time": "2023-09-18T18:14:57.194Z"
   },
   {
    "duration": 158,
    "start_time": "2023-09-18T18:14:57.200Z"
   },
   {
    "duration": 4,
    "start_time": "2023-09-18T18:14:57.360Z"
   },
   {
    "duration": 23,
    "start_time": "2023-09-18T18:14:57.366Z"
   },
   {
    "duration": 12,
    "start_time": "2023-09-18T18:14:57.391Z"
   },
   {
    "duration": 23,
    "start_time": "2023-09-18T18:14:57.405Z"
   },
   {
    "duration": 4,
    "start_time": "2023-09-18T18:14:57.431Z"
   },
   {
    "duration": 7,
    "start_time": "2023-09-18T18:14:57.458Z"
   },
   {
    "duration": 29,
    "start_time": "2023-09-18T18:14:57.466Z"
   },
   {
    "duration": 11,
    "start_time": "2023-09-18T18:14:57.497Z"
   },
   {
    "duration": 27,
    "start_time": "2023-09-18T18:14:57.511Z"
   },
   {
    "duration": 49,
    "start_time": "2023-09-18T18:14:57.540Z"
   },
   {
    "duration": 14,
    "start_time": "2023-09-18T18:14:57.591Z"
   },
   {
    "duration": 19,
    "start_time": "2023-09-18T18:14:57.608Z"
   },
   {
    "duration": 41,
    "start_time": "2023-09-18T18:14:57.629Z"
   },
   {
    "duration": 24,
    "start_time": "2023-09-18T18:14:57.672Z"
   },
   {
    "duration": 43,
    "start_time": "2023-09-18T18:14:57.698Z"
   },
   {
    "duration": 53,
    "start_time": "2023-09-18T18:14:57.742Z"
   },
   {
    "duration": 6,
    "start_time": "2023-09-18T18:14:57.797Z"
   },
   {
    "duration": 6,
    "start_time": "2023-09-18T18:14:57.805Z"
   },
   {
    "duration": 17,
    "start_time": "2023-09-18T18:14:57.812Z"
   },
   {
    "duration": 33,
    "start_time": "2023-09-18T18:14:57.831Z"
   },
   {
    "duration": 6,
    "start_time": "2023-09-18T18:14:57.867Z"
   },
   {
    "duration": 17,
    "start_time": "2023-09-18T18:14:57.876Z"
   },
   {
    "duration": 14,
    "start_time": "2023-09-18T18:14:57.895Z"
   },
   {
    "duration": 1089,
    "start_time": "2023-09-18T18:14:57.911Z"
   },
   {
    "duration": 949,
    "start_time": "2023-09-18T18:14:59.002Z"
   },
   {
    "duration": 400,
    "start_time": "2023-09-18T18:14:59.956Z"
   },
   {
    "duration": 15,
    "start_time": "2023-09-18T18:15:00.359Z"
   },
   {
    "duration": 89,
    "start_time": "2023-09-18T18:15:00.377Z"
   },
   {
    "duration": 51,
    "start_time": "2023-09-18T18:15:00.469Z"
   },
   {
    "duration": 60,
    "start_time": "2023-09-18T18:15:00.522Z"
   },
   {
    "duration": 40,
    "start_time": "2023-09-18T18:15:00.585Z"
   },
   {
    "duration": 76,
    "start_time": "2023-09-18T18:15:00.628Z"
   },
   {
    "duration": 99,
    "start_time": "2023-09-18T18:15:00.707Z"
   },
   {
    "duration": 49,
    "start_time": "2023-09-18T18:15:00.809Z"
   },
   {
    "duration": 77,
    "start_time": "2023-09-18T18:15:00.861Z"
   },
   {
    "duration": 2705,
    "start_time": "2023-09-18T18:15:00.943Z"
   },
   {
    "duration": 80,
    "start_time": "2023-09-18T18:17:52.842Z"
   },
   {
    "duration": 3521,
    "start_time": "2023-09-18T18:18:14.759Z"
   },
   {
    "duration": 541,
    "start_time": "2023-09-18T18:18:18.284Z"
   },
   {
    "duration": 61,
    "start_time": "2023-09-18T18:18:59.016Z"
   },
   {
    "duration": 185,
    "start_time": "2023-09-18T18:19:08.739Z"
   },
   {
    "duration": 10013,
    "start_time": "2023-09-18T18:19:12.300Z"
   },
   {
    "duration": 8913,
    "start_time": "2023-09-18T18:20:35.412Z"
   },
   {
    "duration": 15,
    "start_time": "2023-09-18T18:27:57.244Z"
   },
   {
    "duration": 5737,
    "start_time": "2023-09-18T18:28:02.636Z"
   },
   {
    "duration": 8,
    "start_time": "2023-09-18T18:30:22.062Z"
   },
   {
    "duration": 10170,
    "start_time": "2023-09-18T18:30:27.357Z"
   },
   {
    "duration": 2459,
    "start_time": "2023-09-18T18:35:44.084Z"
   },
   {
    "duration": 1335,
    "start_time": "2023-09-18T18:35:46.546Z"
   },
   {
    "duration": 264,
    "start_time": "2023-09-18T18:35:47.883Z"
   },
   {
    "duration": 28,
    "start_time": "2023-09-18T18:35:48.149Z"
   },
   {
    "duration": 5,
    "start_time": "2023-09-18T18:35:48.179Z"
   },
   {
    "duration": 4,
    "start_time": "2023-09-18T18:35:48.186Z"
   },
   {
    "duration": 129,
    "start_time": "2023-09-18T18:35:48.192Z"
   },
   {
    "duration": 4,
    "start_time": "2023-09-18T18:35:48.323Z"
   },
   {
    "duration": 18,
    "start_time": "2023-09-18T18:35:48.357Z"
   },
   {
    "duration": 20,
    "start_time": "2023-09-18T18:35:48.378Z"
   },
   {
    "duration": 17,
    "start_time": "2023-09-18T18:35:48.400Z"
   },
   {
    "duration": 6,
    "start_time": "2023-09-18T18:35:48.418Z"
   },
   {
    "duration": 14,
    "start_time": "2023-09-18T18:35:48.426Z"
   },
   {
    "duration": 30,
    "start_time": "2023-09-18T18:35:48.441Z"
   },
   {
    "duration": 26,
    "start_time": "2023-09-18T18:35:48.473Z"
   },
   {
    "duration": 21,
    "start_time": "2023-09-18T18:35:48.501Z"
   },
   {
    "duration": 18,
    "start_time": "2023-09-18T18:35:48.524Z"
   },
   {
    "duration": 18,
    "start_time": "2023-09-18T18:35:48.543Z"
   },
   {
    "duration": 33,
    "start_time": "2023-09-18T18:35:48.563Z"
   },
   {
    "duration": 29,
    "start_time": "2023-09-18T18:35:48.597Z"
   },
   {
    "duration": 23,
    "start_time": "2023-09-18T18:35:48.628Z"
   },
   {
    "duration": 29,
    "start_time": "2023-09-18T18:35:48.653Z"
   },
   {
    "duration": 33,
    "start_time": "2023-09-18T18:35:48.684Z"
   },
   {
    "duration": 9,
    "start_time": "2023-09-18T18:35:48.718Z"
   },
   {
    "duration": 28,
    "start_time": "2023-09-18T18:35:48.729Z"
   },
   {
    "duration": 26,
    "start_time": "2023-09-18T18:35:48.758Z"
   },
   {
    "duration": 24,
    "start_time": "2023-09-18T18:35:48.785Z"
   },
   {
    "duration": 15,
    "start_time": "2023-09-18T18:35:48.812Z"
   },
   {
    "duration": 8,
    "start_time": "2023-09-18T18:35:48.829Z"
   },
   {
    "duration": 22,
    "start_time": "2023-09-18T18:35:48.839Z"
   },
   {
    "duration": 976,
    "start_time": "2023-09-18T18:35:48.863Z"
   },
   {
    "duration": 968,
    "start_time": "2023-09-18T18:35:49.841Z"
   },
   {
    "duration": 376,
    "start_time": "2023-09-18T18:35:50.812Z"
   },
   {
    "duration": 12,
    "start_time": "2023-09-18T18:35:51.190Z"
   },
   {
    "duration": 26,
    "start_time": "2023-09-18T18:35:51.203Z"
   },
   {
    "duration": 28,
    "start_time": "2023-09-18T18:35:51.231Z"
   },
   {
    "duration": 47,
    "start_time": "2023-09-18T18:35:51.261Z"
   },
   {
    "duration": 9,
    "start_time": "2023-09-18T18:35:51.310Z"
   },
   {
    "duration": 8,
    "start_time": "2023-09-18T18:35:51.321Z"
   },
   {
    "duration": 29,
    "start_time": "2023-09-18T18:35:51.331Z"
   },
   {
    "duration": 5,
    "start_time": "2023-09-18T18:35:51.363Z"
   },
   {
    "duration": 18,
    "start_time": "2023-09-18T18:35:51.370Z"
   },
   {
    "duration": 2399,
    "start_time": "2023-09-18T18:35:51.390Z"
   },
   {
    "duration": 3594,
    "start_time": "2023-09-18T18:35:53.791Z"
   },
   {
    "duration": 4519,
    "start_time": "2023-09-18T18:35:57.387Z"
   },
   {
    "duration": 1286,
    "start_time": "2023-09-18T19:01:40.002Z"
   },
   {
    "duration": 7,
    "start_time": "2023-09-18T19:14:45.474Z"
   },
   {
    "duration": 1901,
    "start_time": "2023-09-18T19:14:52.293Z"
   },
   {
    "duration": 2609,
    "start_time": "2023-09-18T19:19:05.886Z"
   },
   {
    "duration": 1687,
    "start_time": "2023-09-18T19:19:08.498Z"
   },
   {
    "duration": 390,
    "start_time": "2023-09-18T19:19:10.188Z"
   },
   {
    "duration": 46,
    "start_time": "2023-09-18T19:19:10.582Z"
   },
   {
    "duration": 8,
    "start_time": "2023-09-18T19:19:10.631Z"
   },
   {
    "duration": 17,
    "start_time": "2023-09-18T19:19:10.640Z"
   },
   {
    "duration": 203,
    "start_time": "2023-09-18T19:19:10.659Z"
   },
   {
    "duration": 5,
    "start_time": "2023-09-18T19:19:10.864Z"
   },
   {
    "duration": 26,
    "start_time": "2023-09-18T19:19:10.873Z"
   },
   {
    "duration": 14,
    "start_time": "2023-09-18T19:19:10.902Z"
   },
   {
    "duration": 51,
    "start_time": "2023-09-18T19:19:10.919Z"
   },
   {
    "duration": 251,
    "start_time": "2023-09-18T19:19:10.972Z"
   },
   {
    "duration": 10,
    "start_time": "2023-09-18T19:19:11.228Z"
   },
   {
    "duration": 107,
    "start_time": "2023-09-18T19:19:11.240Z"
   },
   {
    "duration": 20,
    "start_time": "2023-09-18T19:19:11.350Z"
   },
   {
    "duration": 28,
    "start_time": "2023-09-18T19:19:11.372Z"
   },
   {
    "duration": 126,
    "start_time": "2023-09-18T19:19:11.403Z"
   },
   {
    "duration": 171,
    "start_time": "2023-09-18T19:19:11.532Z"
   },
   {
    "duration": 29,
    "start_time": "2023-09-18T19:19:11.705Z"
   },
   {
    "duration": 40,
    "start_time": "2023-09-18T19:19:11.736Z"
   },
   {
    "duration": 25,
    "start_time": "2023-09-18T19:19:11.780Z"
   },
   {
    "duration": 51,
    "start_time": "2023-09-18T19:19:11.807Z"
   },
   {
    "duration": 50,
    "start_time": "2023-09-18T19:19:11.860Z"
   },
   {
    "duration": 9,
    "start_time": "2023-09-18T19:19:11.912Z"
   },
   {
    "duration": 6,
    "start_time": "2023-09-18T19:19:11.924Z"
   },
   {
    "duration": 28,
    "start_time": "2023-09-18T19:19:11.958Z"
   },
   {
    "duration": 64,
    "start_time": "2023-09-18T19:19:11.988Z"
   },
   {
    "duration": 7,
    "start_time": "2023-09-18T19:19:12.054Z"
   },
   {
    "duration": 47,
    "start_time": "2023-09-18T19:19:12.062Z"
   },
   {
    "duration": 44,
    "start_time": "2023-09-18T19:19:12.111Z"
   },
   {
    "duration": 1016,
    "start_time": "2023-09-18T19:19:12.157Z"
   },
   {
    "duration": 1061,
    "start_time": "2023-09-18T19:19:13.175Z"
   },
   {
    "duration": 391,
    "start_time": "2023-09-18T19:19:14.238Z"
   },
   {
    "duration": 27,
    "start_time": "2023-09-18T19:19:14.631Z"
   },
   {
    "duration": 40,
    "start_time": "2023-09-18T19:19:14.660Z"
   },
   {
    "duration": 22,
    "start_time": "2023-09-18T19:19:14.703Z"
   },
   {
    "duration": 30,
    "start_time": "2023-09-18T19:19:14.727Z"
   },
   {
    "duration": 11,
    "start_time": "2023-09-18T19:19:14.759Z"
   },
   {
    "duration": 12,
    "start_time": "2023-09-18T19:19:14.772Z"
   },
   {
    "duration": 27,
    "start_time": "2023-09-18T19:19:14.791Z"
   },
   {
    "duration": 7,
    "start_time": "2023-09-18T19:19:14.820Z"
   },
   {
    "duration": 42,
    "start_time": "2023-09-18T19:19:14.830Z"
   },
   {
    "duration": 2830,
    "start_time": "2023-09-18T19:19:14.877Z"
   },
   {
    "duration": 4212,
    "start_time": "2023-09-18T19:19:17.709Z"
   },
   {
    "duration": 1517,
    "start_time": "2023-09-18T19:19:21.924Z"
   },
   {
    "duration": 504,
    "start_time": "2023-09-18T19:27:07.563Z"
   },
   {
    "duration": 6,
    "start_time": "2023-09-18T19:29:13.419Z"
   },
   {
    "duration": 2053,
    "start_time": "2023-09-18T19:29:15.162Z"
   },
   {
    "duration": 5,
    "start_time": "2023-09-18T19:37:10.341Z"
   },
   {
    "duration": 1591,
    "start_time": "2023-09-18T19:37:10.641Z"
   },
   {
    "duration": 3639,
    "start_time": "2023-09-18T19:42:26.617Z"
   },
   {
    "duration": 2420,
    "start_time": "2023-09-18T19:42:37.625Z"
   },
   {
    "duration": 1376,
    "start_time": "2023-09-18T19:42:40.048Z"
   },
   {
    "duration": 361,
    "start_time": "2023-09-18T19:42:41.426Z"
   },
   {
    "duration": 38,
    "start_time": "2023-09-18T19:42:41.790Z"
   },
   {
    "duration": 27,
    "start_time": "2023-09-18T19:42:41.830Z"
   },
   {
    "duration": 13,
    "start_time": "2023-09-18T19:42:41.860Z"
   },
   {
    "duration": 137,
    "start_time": "2023-09-18T19:42:41.876Z"
   },
   {
    "duration": 4,
    "start_time": "2023-09-18T19:42:42.015Z"
   },
   {
    "duration": 43,
    "start_time": "2023-09-18T19:42:42.021Z"
   },
   {
    "duration": 10,
    "start_time": "2023-09-18T19:42:42.068Z"
   },
   {
    "duration": 18,
    "start_time": "2023-09-18T19:42:42.080Z"
   },
   {
    "duration": 5,
    "start_time": "2023-09-18T19:42:42.100Z"
   },
   {
    "duration": 13,
    "start_time": "2023-09-18T19:42:42.106Z"
   },
   {
    "duration": 42,
    "start_time": "2023-09-18T19:42:42.121Z"
   },
   {
    "duration": 4,
    "start_time": "2023-09-18T19:42:42.165Z"
   },
   {
    "duration": 23,
    "start_time": "2023-09-18T19:42:42.171Z"
   },
   {
    "duration": 21,
    "start_time": "2023-09-18T19:42:42.196Z"
   },
   {
    "duration": 9,
    "start_time": "2023-09-18T19:42:42.219Z"
   },
   {
    "duration": 40,
    "start_time": "2023-09-18T19:42:42.230Z"
   },
   {
    "duration": 17,
    "start_time": "2023-09-18T19:42:42.272Z"
   },
   {
    "duration": 17,
    "start_time": "2023-09-18T19:42:42.290Z"
   },
   {
    "duration": 56,
    "start_time": "2023-09-18T19:42:42.309Z"
   },
   {
    "duration": 31,
    "start_time": "2023-09-18T19:42:42.366Z"
   },
   {
    "duration": 7,
    "start_time": "2023-09-18T19:42:42.399Z"
   },
   {
    "duration": 19,
    "start_time": "2023-09-18T19:42:42.408Z"
   },
   {
    "duration": 30,
    "start_time": "2023-09-18T19:42:42.429Z"
   },
   {
    "duration": 36,
    "start_time": "2023-09-18T19:42:42.461Z"
   },
   {
    "duration": 12,
    "start_time": "2023-09-18T19:42:42.501Z"
   },
   {
    "duration": 14,
    "start_time": "2023-09-18T19:42:42.514Z"
   },
   {
    "duration": 19,
    "start_time": "2023-09-18T19:42:42.530Z"
   },
   {
    "duration": 867,
    "start_time": "2023-09-18T19:42:42.551Z"
   },
   {
    "duration": 978,
    "start_time": "2023-09-18T19:42:43.421Z"
   },
   {
    "duration": 376,
    "start_time": "2023-09-18T19:42:44.401Z"
   },
   {
    "duration": 13,
    "start_time": "2023-09-18T19:42:44.779Z"
   },
   {
    "duration": 71,
    "start_time": "2023-09-18T19:42:44.793Z"
   },
   {
    "duration": 9,
    "start_time": "2023-09-18T19:42:44.865Z"
   },
   {
    "duration": 22,
    "start_time": "2023-09-18T19:42:44.876Z"
   },
   {
    "duration": 57,
    "start_time": "2023-09-18T19:42:44.900Z"
   },
   {
    "duration": 25,
    "start_time": "2023-09-18T19:42:44.959Z"
   },
   {
    "duration": 78,
    "start_time": "2023-09-18T19:42:44.986Z"
   },
   {
    "duration": 53,
    "start_time": "2023-09-18T19:42:45.066Z"
   },
   {
    "duration": 45,
    "start_time": "2023-09-18T19:42:45.121Z"
   },
   {
    "duration": 3199,
    "start_time": "2023-09-18T19:42:45.168Z"
   },
   {
    "duration": 3520,
    "start_time": "2023-09-18T19:42:48.369Z"
   },
   {
    "duration": 6,
    "start_time": "2023-09-18T19:42:51.892Z"
   },
   {
    "duration": 1235,
    "start_time": "2023-09-18T19:42:51.900Z"
   },
   {
    "duration": 85,
    "start_time": "2023-09-18T21:16:12.663Z"
   },
   {
    "duration": 105,
    "start_time": "2023-09-18T21:17:06.791Z"
   },
   {
    "duration": 3804,
    "start_time": "2023-09-19T08:56:16.303Z"
   },
   {
    "duration": 1663,
    "start_time": "2023-09-19T08:56:20.110Z"
   },
   {
    "duration": 568,
    "start_time": "2023-09-19T08:56:21.775Z"
   },
   {
    "duration": 28,
    "start_time": "2023-09-19T08:56:22.345Z"
   },
   {
    "duration": 5,
    "start_time": "2023-09-19T08:56:22.375Z"
   },
   {
    "duration": 25,
    "start_time": "2023-09-19T08:56:22.382Z"
   },
   {
    "duration": 144,
    "start_time": "2023-09-19T08:56:22.408Z"
   },
   {
    "duration": 4,
    "start_time": "2023-09-19T08:56:22.554Z"
   },
   {
    "duration": 46,
    "start_time": "2023-09-19T08:56:22.560Z"
   },
   {
    "duration": 10,
    "start_time": "2023-09-19T08:56:22.609Z"
   },
   {
    "duration": 28,
    "start_time": "2023-09-19T08:56:22.621Z"
   },
   {
    "duration": 5,
    "start_time": "2023-09-19T08:56:22.650Z"
   },
   {
    "duration": 7,
    "start_time": "2023-09-19T08:56:22.656Z"
   },
   {
    "duration": 33,
    "start_time": "2023-09-19T08:56:22.664Z"
   },
   {
    "duration": 4,
    "start_time": "2023-09-19T08:56:22.702Z"
   },
   {
    "duration": 22,
    "start_time": "2023-09-19T08:56:22.707Z"
   },
   {
    "duration": 23,
    "start_time": "2023-09-19T08:56:22.730Z"
   },
   {
    "duration": 13,
    "start_time": "2023-09-19T08:56:22.755Z"
   },
   {
    "duration": 38,
    "start_time": "2023-09-19T08:56:22.770Z"
   },
   {
    "duration": 18,
    "start_time": "2023-09-19T08:56:22.810Z"
   },
   {
    "duration": 27,
    "start_time": "2023-09-19T08:56:22.829Z"
   },
   {
    "duration": 31,
    "start_time": "2023-09-19T08:56:22.858Z"
   },
   {
    "duration": 40,
    "start_time": "2023-09-19T08:56:22.891Z"
   },
   {
    "duration": 6,
    "start_time": "2023-09-19T08:56:22.933Z"
   },
   {
    "duration": 11,
    "start_time": "2023-09-19T08:56:22.941Z"
   },
   {
    "duration": 35,
    "start_time": "2023-09-19T08:56:22.953Z"
   },
   {
    "duration": 25,
    "start_time": "2023-09-19T08:56:22.990Z"
   },
   {
    "duration": 6,
    "start_time": "2023-09-19T08:56:23.019Z"
   },
   {
    "duration": 7,
    "start_time": "2023-09-19T08:56:23.027Z"
   },
   {
    "duration": 8,
    "start_time": "2023-09-19T08:56:23.036Z"
   },
   {
    "duration": 445,
    "start_time": "2023-09-19T08:56:23.045Z"
   },
   {
    "duration": 384,
    "start_time": "2023-09-19T08:56:23.491Z"
   },
   {
    "duration": 386,
    "start_time": "2023-09-19T08:56:23.877Z"
   },
   {
    "duration": 12,
    "start_time": "2023-09-19T08:56:24.265Z"
   },
   {
    "duration": 36,
    "start_time": "2023-09-19T08:56:24.278Z"
   },
   {
    "duration": 11,
    "start_time": "2023-09-19T08:56:24.316Z"
   },
   {
    "duration": 13,
    "start_time": "2023-09-19T08:56:24.329Z"
   },
   {
    "duration": 7,
    "start_time": "2023-09-19T08:56:24.344Z"
   },
   {
    "duration": 12,
    "start_time": "2023-09-19T08:56:24.352Z"
   },
   {
    "duration": 35,
    "start_time": "2023-09-19T08:56:24.366Z"
   },
   {
    "duration": 6,
    "start_time": "2023-09-19T08:56:24.403Z"
   },
   {
    "duration": 30,
    "start_time": "2023-09-19T08:56:24.410Z"
   },
   {
    "duration": 2593,
    "start_time": "2023-09-19T08:56:24.442Z"
   },
   {
    "duration": 3561,
    "start_time": "2023-09-19T08:56:27.037Z"
   },
   {
    "duration": 6,
    "start_time": "2023-09-19T08:56:30.600Z"
   },
   {
    "duration": 1361,
    "start_time": "2023-09-19T08:56:30.607Z"
   },
   {
    "duration": 111,
    "start_time": "2023-09-19T09:27:16.060Z"
   },
   {
    "duration": 119,
    "start_time": "2023-09-19T09:27:17.011Z"
   },
   {
    "duration": 1041,
    "start_time": "2023-09-19T09:27:47.100Z"
   },
   {
    "duration": 8,
    "start_time": "2023-09-19T09:28:24.519Z"
   },
   {
    "duration": 92,
    "start_time": "2023-09-19T09:28:25.062Z"
   },
   {
    "duration": 4,
    "start_time": "2023-09-19T09:28:36.016Z"
   },
   {
    "duration": 14,
    "start_time": "2023-09-19T09:28:55.109Z"
   },
   {
    "duration": 14,
    "start_time": "2023-09-19T09:29:19.910Z"
   },
   {
    "duration": 4,
    "start_time": "2023-09-19T09:29:35.746Z"
   },
   {
    "duration": 13,
    "start_time": "2023-09-19T09:57:00.022Z"
   },
   {
    "duration": 17,
    "start_time": "2023-09-19T10:41:17.717Z"
   },
   {
    "duration": 48,
    "start_time": "2023-09-19T11:25:17.516Z"
   },
   {
    "duration": 2511,
    "start_time": "2023-09-19T11:58:18.227Z"
   },
   {
    "duration": 1611,
    "start_time": "2023-09-19T11:58:20.741Z"
   },
   {
    "duration": 285,
    "start_time": "2023-09-19T11:58:22.353Z"
   },
   {
    "duration": 30,
    "start_time": "2023-09-19T11:58:22.641Z"
   },
   {
    "duration": 19,
    "start_time": "2023-09-19T11:58:22.673Z"
   },
   {
    "duration": 11,
    "start_time": "2023-09-19T11:58:22.694Z"
   },
   {
    "duration": 146,
    "start_time": "2023-09-19T11:58:22.707Z"
   },
   {
    "duration": 5,
    "start_time": "2023-09-19T11:58:22.855Z"
   },
   {
    "duration": 55,
    "start_time": "2023-09-19T11:58:22.862Z"
   },
   {
    "duration": 23,
    "start_time": "2023-09-19T11:58:22.921Z"
   },
   {
    "duration": 40,
    "start_time": "2023-09-19T11:58:22.946Z"
   },
   {
    "duration": 32,
    "start_time": "2023-09-19T11:58:22.988Z"
   },
   {
    "duration": 35,
    "start_time": "2023-09-19T11:58:23.022Z"
   },
   {
    "duration": 41,
    "start_time": "2023-09-19T11:58:23.060Z"
   },
   {
    "duration": 16,
    "start_time": "2023-09-19T11:58:23.103Z"
   },
   {
    "duration": 49,
    "start_time": "2023-09-19T11:58:23.121Z"
   },
   {
    "duration": 26,
    "start_time": "2023-09-19T11:58:23.172Z"
   },
   {
    "duration": 20,
    "start_time": "2023-09-19T11:58:23.200Z"
   },
   {
    "duration": 28,
    "start_time": "2023-09-19T11:58:23.222Z"
   },
   {
    "duration": 25,
    "start_time": "2023-09-19T11:58:23.253Z"
   },
   {
    "duration": 17,
    "start_time": "2023-09-19T11:58:23.280Z"
   },
   {
    "duration": 34,
    "start_time": "2023-09-19T11:58:23.301Z"
   },
   {
    "duration": 35,
    "start_time": "2023-09-19T11:58:23.337Z"
   },
   {
    "duration": 7,
    "start_time": "2023-09-19T11:58:23.401Z"
   },
   {
    "duration": 18,
    "start_time": "2023-09-19T11:58:23.409Z"
   },
   {
    "duration": 32,
    "start_time": "2023-09-19T11:58:23.429Z"
   },
   {
    "duration": 50,
    "start_time": "2023-09-19T11:58:23.463Z"
   },
   {
    "duration": 25,
    "start_time": "2023-09-19T11:58:23.517Z"
   },
   {
    "duration": 44,
    "start_time": "2023-09-19T11:58:23.545Z"
   },
   {
    "duration": 20,
    "start_time": "2023-09-19T11:58:23.591Z"
   },
   {
    "duration": 466,
    "start_time": "2023-09-19T11:58:23.613Z"
   },
   {
    "duration": 516,
    "start_time": "2023-09-19T11:58:24.082Z"
   },
   {
    "duration": 438,
    "start_time": "2023-09-19T11:58:24.600Z"
   },
   {
    "duration": 18,
    "start_time": "2023-09-19T11:58:25.041Z"
   },
   {
    "duration": 40,
    "start_time": "2023-09-19T11:58:25.061Z"
   },
   {
    "duration": 31,
    "start_time": "2023-09-19T11:58:25.103Z"
   },
   {
    "duration": 51,
    "start_time": "2023-09-19T11:58:25.136Z"
   },
   {
    "duration": 12,
    "start_time": "2023-09-19T11:58:25.190Z"
   },
   {
    "duration": 24,
    "start_time": "2023-09-19T11:58:25.204Z"
   },
   {
    "duration": 28,
    "start_time": "2023-09-19T11:58:25.230Z"
   },
   {
    "duration": 15,
    "start_time": "2023-09-19T11:58:25.261Z"
   },
   {
    "duration": 39,
    "start_time": "2023-09-19T11:58:25.278Z"
   },
   {
    "duration": 2499,
    "start_time": "2023-09-19T11:58:25.319Z"
   },
   {
    "duration": 3591,
    "start_time": "2023-09-19T11:58:27.820Z"
   },
   {
    "duration": 5,
    "start_time": "2023-09-19T11:58:31.413Z"
   },
   {
    "duration": 1349,
    "start_time": "2023-09-19T11:58:31.420Z"
   },
   {
    "duration": 14,
    "start_time": "2023-09-19T11:58:32.771Z"
   },
   {
    "duration": 119,
    "start_time": "2023-09-19T11:58:32.786Z"
   },
   {
    "duration": 65,
    "start_time": "2023-09-19T11:58:32.907Z"
   },
   {
    "duration": 2347,
    "start_time": "2023-09-19T12:00:49.483Z"
   },
   {
    "duration": 1591,
    "start_time": "2023-09-19T12:00:51.833Z"
   },
   {
    "duration": 251,
    "start_time": "2023-09-19T12:00:53.426Z"
   },
   {
    "duration": 28,
    "start_time": "2023-09-19T12:00:53.679Z"
   },
   {
    "duration": 30,
    "start_time": "2023-09-19T12:00:53.708Z"
   },
   {
    "duration": 19,
    "start_time": "2023-09-19T12:00:53.740Z"
   },
   {
    "duration": 141,
    "start_time": "2023-09-19T12:00:53.761Z"
   },
   {
    "duration": 4,
    "start_time": "2023-09-19T12:00:53.904Z"
   },
   {
    "duration": 33,
    "start_time": "2023-09-19T12:00:53.910Z"
   },
   {
    "duration": 16,
    "start_time": "2023-09-19T12:00:53.945Z"
   },
   {
    "duration": 36,
    "start_time": "2023-09-19T12:00:53.963Z"
   },
   {
    "duration": 25,
    "start_time": "2023-09-19T12:00:54.000Z"
   },
   {
    "duration": 22,
    "start_time": "2023-09-19T12:00:54.027Z"
   },
   {
    "duration": 33,
    "start_time": "2023-09-19T12:00:54.051Z"
   },
   {
    "duration": 14,
    "start_time": "2023-09-19T12:00:54.086Z"
   },
   {
    "duration": 31,
    "start_time": "2023-09-19T12:00:54.102Z"
   },
   {
    "duration": 20,
    "start_time": "2023-09-19T12:00:54.135Z"
   },
   {
    "duration": 7,
    "start_time": "2023-09-19T12:00:54.157Z"
   },
   {
    "duration": 18,
    "start_time": "2023-09-19T12:00:54.166Z"
   },
   {
    "duration": 30,
    "start_time": "2023-09-19T12:00:54.187Z"
   },
   {
    "duration": 22,
    "start_time": "2023-09-19T12:00:54.219Z"
   },
   {
    "duration": 33,
    "start_time": "2023-09-19T12:00:54.243Z"
   },
   {
    "duration": 56,
    "start_time": "2023-09-19T12:00:54.277Z"
   },
   {
    "duration": 7,
    "start_time": "2023-09-19T12:00:54.335Z"
   },
   {
    "duration": 17,
    "start_time": "2023-09-19T12:00:54.343Z"
   },
   {
    "duration": 22,
    "start_time": "2023-09-19T12:00:54.362Z"
   },
   {
    "duration": 28,
    "start_time": "2023-09-19T12:00:54.386Z"
   },
   {
    "duration": 6,
    "start_time": "2023-09-19T12:00:54.418Z"
   },
   {
    "duration": 10,
    "start_time": "2023-09-19T12:00:54.426Z"
   },
   {
    "duration": 14,
    "start_time": "2023-09-19T12:00:54.438Z"
   },
   {
    "duration": 489,
    "start_time": "2023-09-19T12:00:54.454Z"
   },
   {
    "duration": 457,
    "start_time": "2023-09-19T12:00:54.944Z"
   },
   {
    "duration": 371,
    "start_time": "2023-09-19T12:00:55.403Z"
   },
   {
    "duration": 12,
    "start_time": "2023-09-19T12:00:55.776Z"
   },
   {
    "duration": 33,
    "start_time": "2023-09-19T12:00:55.790Z"
   },
   {
    "duration": 15,
    "start_time": "2023-09-19T12:00:55.825Z"
   },
   {
    "duration": 29,
    "start_time": "2023-09-19T12:00:55.842Z"
   },
   {
    "duration": 21,
    "start_time": "2023-09-19T12:00:55.872Z"
   },
   {
    "duration": 10,
    "start_time": "2023-09-19T12:00:55.895Z"
   },
   {
    "duration": 22,
    "start_time": "2023-09-19T12:00:55.907Z"
   },
   {
    "duration": 22,
    "start_time": "2023-09-19T12:00:55.931Z"
   },
   {
    "duration": 22,
    "start_time": "2023-09-19T12:00:55.955Z"
   },
   {
    "duration": 526,
    "start_time": "2023-09-19T12:04:37.436Z"
   },
   {
    "duration": 1386,
    "start_time": "2023-09-19T12:04:39.151Z"
   },
   {
    "duration": 21,
    "start_time": "2023-09-19T12:04:40.539Z"
   },
   {
    "duration": 0,
    "start_time": "2023-09-19T12:04:40.561Z"
   },
   {
    "duration": 15,
    "start_time": "2023-09-19T12:04:43.182Z"
   },
   {
    "duration": 11,
    "start_time": "2023-09-19T12:04:45.427Z"
   },
   {
    "duration": 4,
    "start_time": "2023-09-19T12:04:46.509Z"
   },
   {
    "duration": 12,
    "start_time": "2023-09-19T12:04:47.736Z"
   },
   {
    "duration": 4,
    "start_time": "2023-09-19T12:04:52.869Z"
   },
   {
    "duration": 3,
    "start_time": "2023-09-19T12:04:54.798Z"
   },
   {
    "duration": 11,
    "start_time": "2023-09-19T12:04:58.536Z"
   },
   {
    "duration": 5,
    "start_time": "2023-09-19T12:05:15.405Z"
   },
   {
    "duration": 4,
    "start_time": "2023-09-19T12:05:20.824Z"
   },
   {
    "duration": 116,
    "start_time": "2023-09-19T12:05:22.791Z"
   },
   {
    "duration": 6,
    "start_time": "2023-09-19T12:05:43.547Z"
   },
   {
    "duration": 24265,
    "start_time": "2023-09-19T12:05:47.878Z"
   },
   {
    "duration": 4,
    "start_time": "2023-09-19T12:07:33.396Z"
   },
   {
    "duration": 3,
    "start_time": "2023-09-19T12:10:25.257Z"
   },
   {
    "duration": 3,
    "start_time": "2023-09-19T12:10:26.352Z"
   },
   {
    "duration": 15214,
    "start_time": "2023-09-19T12:10:28.398Z"
   },
   {
    "duration": 82,
    "start_time": "2023-09-19T12:10:43.621Z"
   },
   {
    "duration": 4,
    "start_time": "2023-09-19T12:12:49.548Z"
   },
   {
    "duration": 88810,
    "start_time": "2023-09-19T12:12:49.909Z"
   },
   {
    "duration": 5,
    "start_time": "2023-09-19T12:14:18.722Z"
   },
   {
    "duration": 3,
    "start_time": "2023-09-19T12:15:21.862Z"
   },
   {
    "duration": 3,
    "start_time": "2023-09-19T12:15:22.245Z"
   },
   {
    "duration": 5031,
    "start_time": "2023-09-19T12:15:22.590Z"
   },
   {
    "duration": 4,
    "start_time": "2023-09-19T12:15:27.623Z"
   },
   {
    "duration": 11,
    "start_time": "2023-09-19T12:16:12.529Z"
   },
   {
    "duration": 4,
    "start_time": "2023-09-19T12:16:29.686Z"
   },
   {
    "duration": 3,
    "start_time": "2023-09-19T12:16:29.896Z"
   },
   {
    "duration": 3,
    "start_time": "2023-09-19T12:16:30.061Z"
   },
   {
    "duration": 83228,
    "start_time": "2023-09-19T12:16:30.283Z"
   },
   {
    "duration": 2,
    "start_time": "2023-09-19T12:17:53.513Z"
   },
   {
    "duration": 4,
    "start_time": "2023-09-19T12:18:04.011Z"
   },
   {
    "duration": 11,
    "start_time": "2023-09-19T12:18:20.139Z"
   },
   {
    "duration": 13,
    "start_time": "2023-09-19T12:20:24.697Z"
   },
   {
    "duration": 28,
    "start_time": "2023-09-19T12:21:08.594Z"
   },
   {
    "duration": 4,
    "start_time": "2023-09-19T12:21:25.972Z"
   },
   {
    "duration": 24,
    "start_time": "2023-09-19T12:21:32.360Z"
   },
   {
    "duration": 4,
    "start_time": "2023-09-19T12:21:32.714Z"
   },
   {
    "duration": 353,
    "start_time": "2023-09-19T17:31:00.540Z"
   },
   {
    "duration": 871,
    "start_time": "2023-09-19T17:31:07.696Z"
   },
   {
    "duration": 0,
    "start_time": "2023-09-19T17:31:08.570Z"
   },
   {
    "duration": 0,
    "start_time": "2023-09-19T17:31:08.571Z"
   },
   {
    "duration": 0,
    "start_time": "2023-09-19T17:31:08.572Z"
   },
   {
    "duration": 0,
    "start_time": "2023-09-19T17:31:08.573Z"
   },
   {
    "duration": 0,
    "start_time": "2023-09-19T17:31:08.574Z"
   },
   {
    "duration": 8,
    "start_time": "2023-09-19T17:31:08.647Z"
   },
   {
    "duration": 8,
    "start_time": "2023-09-19T17:31:08.735Z"
   },
   {
    "duration": 7,
    "start_time": "2023-09-19T17:31:08.888Z"
   },
   {
    "duration": 8,
    "start_time": "2023-09-19T17:31:08.974Z"
   },
   {
    "duration": 7,
    "start_time": "2023-09-19T17:31:09.245Z"
   },
   {
    "duration": 7,
    "start_time": "2023-09-19T17:31:09.336Z"
   },
   {
    "duration": 7,
    "start_time": "2023-09-19T17:31:09.473Z"
   },
   {
    "duration": 8,
    "start_time": "2023-09-19T17:31:09.768Z"
   },
   {
    "duration": 7,
    "start_time": "2023-09-19T17:31:09.852Z"
   },
   {
    "duration": 7,
    "start_time": "2023-09-19T17:31:09.965Z"
   },
   {
    "duration": 8,
    "start_time": "2023-09-19T17:31:10.410Z"
   },
   {
    "duration": 8,
    "start_time": "2023-09-19T17:31:10.495Z"
   },
   {
    "duration": 8,
    "start_time": "2023-09-19T17:31:10.669Z"
   },
   {
    "duration": 7,
    "start_time": "2023-09-19T17:31:11.059Z"
   },
   {
    "duration": 7,
    "start_time": "2023-09-19T17:31:11.270Z"
   },
   {
    "duration": 8,
    "start_time": "2023-09-19T17:31:11.484Z"
   },
   {
    "duration": 3437,
    "start_time": "2023-09-19T17:31:18.933Z"
   },
   {
    "duration": 825,
    "start_time": "2023-09-19T17:31:22.372Z"
   },
   {
    "duration": 373,
    "start_time": "2023-09-19T17:31:23.199Z"
   },
   {
    "duration": 29,
    "start_time": "2023-09-19T17:31:23.574Z"
   },
   {
    "duration": 4,
    "start_time": "2023-09-19T17:31:23.605Z"
   },
   {
    "duration": 13,
    "start_time": "2023-09-19T17:31:23.611Z"
   },
   {
    "duration": 123,
    "start_time": "2023-09-19T17:31:23.625Z"
   },
   {
    "duration": 3,
    "start_time": "2023-09-19T17:31:23.750Z"
   },
   {
    "duration": 39,
    "start_time": "2023-09-19T17:31:23.755Z"
   },
   {
    "duration": 10,
    "start_time": "2023-09-19T17:31:23.796Z"
   },
   {
    "duration": 20,
    "start_time": "2023-09-19T17:31:23.808Z"
   },
   {
    "duration": 4,
    "start_time": "2023-09-19T17:31:23.830Z"
   },
   {
    "duration": 14,
    "start_time": "2023-09-19T17:31:23.835Z"
   },
   {
    "duration": 39,
    "start_time": "2023-09-19T17:31:23.850Z"
   },
   {
    "duration": 5,
    "start_time": "2023-09-19T17:31:23.891Z"
   },
   {
    "duration": 20,
    "start_time": "2023-09-19T17:31:23.897Z"
   },
   {
    "duration": 18,
    "start_time": "2023-09-19T17:31:23.919Z"
   },
   {
    "duration": 5,
    "start_time": "2023-09-19T17:31:23.939Z"
   },
   {
    "duration": 40,
    "start_time": "2023-09-19T17:31:23.946Z"
   },
   {
    "duration": 19,
    "start_time": "2023-09-19T17:31:23.987Z"
   },
   {
    "duration": 37,
    "start_time": "2023-09-19T17:31:24.007Z"
   },
   {
    "duration": 49,
    "start_time": "2023-09-19T17:31:24.045Z"
   },
   {
    "duration": 30,
    "start_time": "2023-09-19T17:31:24.096Z"
   },
   {
    "duration": 7,
    "start_time": "2023-09-19T17:31:24.128Z"
   },
   {
    "duration": 3,
    "start_time": "2023-09-19T17:31:25.516Z"
   },
   {
    "duration": 15,
    "start_time": "2023-09-19T17:31:26.008Z"
   },
   {
    "duration": 15,
    "start_time": "2023-09-19T17:31:26.105Z"
   },
   {
    "duration": 6,
    "start_time": "2023-09-19T17:31:26.260Z"
   },
   {
    "duration": 5,
    "start_time": "2023-09-19T17:31:26.412Z"
   },
   {
    "duration": 7,
    "start_time": "2023-09-19T17:31:26.505Z"
   },
   {
    "duration": 436,
    "start_time": "2023-09-19T17:31:26.798Z"
   },
   {
    "duration": 448,
    "start_time": "2023-09-19T17:31:27.236Z"
   },
   {
    "duration": 421,
    "start_time": "2023-09-19T17:31:27.686Z"
   },
   {
    "duration": 11,
    "start_time": "2023-09-19T17:31:28.109Z"
   },
   {
    "duration": 22,
    "start_time": "2023-09-19T17:31:28.121Z"
   },
   {
    "duration": 9,
    "start_time": "2023-09-19T17:31:28.741Z"
   },
   {
    "duration": 25,
    "start_time": "2023-09-19T17:31:28.752Z"
   },
   {
    "duration": 23,
    "start_time": "2023-09-19T17:31:28.778Z"
   },
   {
    "duration": 28,
    "start_time": "2023-09-19T17:31:28.802Z"
   },
   {
    "duration": 18,
    "start_time": "2023-09-19T17:31:28.832Z"
   },
   {
    "duration": 4,
    "start_time": "2023-09-19T17:31:28.934Z"
   },
   {
    "duration": 15,
    "start_time": "2023-09-19T17:31:29.096Z"
   },
   {
    "duration": 2428,
    "start_time": "2023-09-19T17:31:29.271Z"
   },
   {
    "duration": 3607,
    "start_time": "2023-09-19T17:31:31.702Z"
   },
   {
    "duration": 5,
    "start_time": "2023-09-19T17:31:35.311Z"
   },
   {
    "duration": 1281,
    "start_time": "2023-09-19T17:31:35.317Z"
   },
   {
    "duration": 16,
    "start_time": "2023-09-19T17:31:36.600Z"
   },
   {
    "duration": 24,
    "start_time": "2023-09-19T17:31:36.619Z"
   },
   {
    "duration": 11,
    "start_time": "2023-09-19T17:31:36.645Z"
   },
   {
    "duration": 25,
    "start_time": "2023-09-19T17:31:36.659Z"
   },
   {
    "duration": 3,
    "start_time": "2023-09-19T17:31:36.686Z"
   },
   {
    "duration": 4,
    "start_time": "2023-09-19T17:31:36.693Z"
   },
   {
    "duration": 12,
    "start_time": "2023-09-19T17:31:36.700Z"
   },
   {
    "duration": 172,
    "start_time": "2023-09-19T17:31:36.716Z"
   },
   {
    "duration": 9,
    "start_time": "2023-09-19T17:31:36.890Z"
   },
   {
    "duration": 0,
    "start_time": "2023-09-19T17:31:36.901Z"
   },
   {
    "duration": 0,
    "start_time": "2023-09-19T17:31:36.902Z"
   },
   {
    "duration": 0,
    "start_time": "2023-09-19T17:31:36.903Z"
   },
   {
    "duration": 0,
    "start_time": "2023-09-19T17:31:36.904Z"
   },
   {
    "duration": 0,
    "start_time": "2023-09-19T17:31:36.905Z"
   },
   {
    "duration": 0,
    "start_time": "2023-09-19T17:31:36.906Z"
   },
   {
    "duration": 0,
    "start_time": "2023-09-19T17:31:36.907Z"
   },
   {
    "duration": 0,
    "start_time": "2023-09-19T17:31:36.909Z"
   },
   {
    "duration": 0,
    "start_time": "2023-09-19T17:31:36.910Z"
   },
   {
    "duration": 0,
    "start_time": "2023-09-19T17:31:36.911Z"
   },
   {
    "duration": 0,
    "start_time": "2023-09-19T17:31:36.912Z"
   },
   {
    "duration": 0,
    "start_time": "2023-09-19T17:31:36.913Z"
   },
   {
    "duration": 0,
    "start_time": "2023-09-19T17:31:36.915Z"
   },
   {
    "duration": 217079,
    "start_time": "2023-09-19T17:31:51.676Z"
   },
   {
    "duration": 4,
    "start_time": "2023-09-19T17:35:28.758Z"
   },
   {
    "duration": 4,
    "start_time": "2023-09-19T17:35:38.878Z"
   },
   {
    "duration": 215586,
    "start_time": "2023-09-19T17:35:39.366Z"
   },
   {
    "duration": 4,
    "start_time": "2023-09-19T17:39:14.953Z"
   },
   {
    "duration": 10,
    "start_time": "2023-09-19T17:42:42.913Z"
   },
   {
    "duration": 4,
    "start_time": "2023-09-19T17:42:56.383Z"
   },
   {
    "duration": 3,
    "start_time": "2023-09-19T17:43:10.603Z"
   },
   {
    "duration": 3,
    "start_time": "2023-09-19T17:43:32.123Z"
   },
   {
    "duration": 79,
    "start_time": "2023-09-19T17:44:17.612Z"
   },
   {
    "duration": 3,
    "start_time": "2023-09-19T17:44:57.243Z"
   },
   {
    "duration": 3,
    "start_time": "2023-09-19T17:45:11.767Z"
   },
   {
    "duration": 692874,
    "start_time": "2023-09-19T17:45:12.822Z"
   },
   {
    "duration": 11,
    "start_time": "2023-09-19T17:59:27.617Z"
   },
   {
    "duration": 4,
    "start_time": "2023-09-19T17:59:30.648Z"
   },
   {
    "duration": 22,
    "start_time": "2023-09-19T17:59:34.109Z"
   },
   {
    "duration": 4,
    "start_time": "2023-09-19T17:59:35.316Z"
   },
   {
    "duration": 97,
    "start_time": "2023-09-19T18:11:38.641Z"
   },
   {
    "duration": 4,
    "start_time": "2023-09-19T18:11:44.119Z"
   },
   {
    "duration": 7325,
    "start_time": "2023-09-19T18:11:48.346Z"
   },
   {
    "duration": 95525,
    "start_time": "2023-09-19T18:12:06.463Z"
   },
   {
    "duration": 228527,
    "start_time": "2023-09-19T18:15:05.769Z"
   },
   {
    "duration": 95,
    "start_time": "2023-09-19T18:18:57.410Z"
   },
   {
    "duration": 21,
    "start_time": "2023-09-19T18:19:04.179Z"
   },
   {
    "duration": 4,
    "start_time": "2023-09-19T18:19:05.463Z"
   },
   {
    "duration": 3,
    "start_time": "2023-09-19T18:22:00.164Z"
   },
   {
    "duration": 124688,
    "start_time": "2023-09-19T18:22:01.630Z"
   },
   {
    "duration": 4,
    "start_time": "2023-09-19T18:24:06.320Z"
   },
   {
    "duration": 3235,
    "start_time": "2023-09-19T18:26:24.464Z"
   },
   {
    "duration": 1679,
    "start_time": "2023-09-19T18:26:27.702Z"
   },
   {
    "duration": 239,
    "start_time": "2023-09-19T18:26:29.383Z"
   },
   {
    "duration": 26,
    "start_time": "2023-09-19T18:26:29.624Z"
   },
   {
    "duration": 5,
    "start_time": "2023-09-19T18:26:29.652Z"
   },
   {
    "duration": 4,
    "start_time": "2023-09-19T18:26:29.659Z"
   },
   {
    "duration": 138,
    "start_time": "2023-09-19T18:26:29.664Z"
   },
   {
    "duration": 5,
    "start_time": "2023-09-19T18:26:29.804Z"
   },
   {
    "duration": 22,
    "start_time": "2023-09-19T18:26:29.810Z"
   },
   {
    "duration": 13,
    "start_time": "2023-09-19T18:26:29.834Z"
   },
   {
    "duration": 37,
    "start_time": "2023-09-19T18:26:29.849Z"
   },
   {
    "duration": 4,
    "start_time": "2023-09-19T18:26:29.888Z"
   },
   {
    "duration": 7,
    "start_time": "2023-09-19T18:26:29.894Z"
   },
   {
    "duration": 16,
    "start_time": "2023-09-19T18:26:29.903Z"
   },
   {
    "duration": 6,
    "start_time": "2023-09-19T18:26:29.920Z"
   },
   {
    "duration": 25,
    "start_time": "2023-09-19T18:26:29.927Z"
   },
   {
    "duration": 41,
    "start_time": "2023-09-19T18:26:29.953Z"
   },
   {
    "duration": 7,
    "start_time": "2023-09-19T18:26:29.996Z"
   },
   {
    "duration": 17,
    "start_time": "2023-09-19T18:26:30.005Z"
   },
   {
    "duration": 80,
    "start_time": "2023-09-19T18:26:30.024Z"
   },
   {
    "duration": 54,
    "start_time": "2023-09-19T18:26:30.106Z"
   },
   {
    "duration": 65,
    "start_time": "2023-09-19T18:26:30.162Z"
   },
   {
    "duration": 48,
    "start_time": "2023-09-19T18:26:30.229Z"
   },
   {
    "duration": 7,
    "start_time": "2023-09-19T18:26:30.279Z"
   },
   {
    "duration": 25,
    "start_time": "2023-09-19T18:26:30.287Z"
   },
   {
    "duration": 40,
    "start_time": "2023-09-19T18:26:30.314Z"
   },
   {
    "duration": 53,
    "start_time": "2023-09-19T18:26:30.356Z"
   },
   {
    "duration": 33,
    "start_time": "2023-09-19T18:26:30.413Z"
   },
   {
    "duration": 25,
    "start_time": "2023-09-19T18:26:30.448Z"
   },
   {
    "duration": 39,
    "start_time": "2023-09-19T18:26:30.474Z"
   },
   {
    "duration": 488,
    "start_time": "2023-09-19T18:26:30.515Z"
   },
   {
    "duration": 488,
    "start_time": "2023-09-19T18:26:31.005Z"
   },
   {
    "duration": 422,
    "start_time": "2023-09-19T18:26:31.496Z"
   },
   {
    "duration": 12,
    "start_time": "2023-09-19T18:26:31.921Z"
   },
   {
    "duration": 53,
    "start_time": "2023-09-19T18:26:31.935Z"
   },
   {
    "duration": 126,
    "start_time": "2023-09-19T18:26:31.990Z"
   },
   {
    "duration": 102,
    "start_time": "2023-09-19T18:26:32.118Z"
   },
   {
    "duration": 26,
    "start_time": "2023-09-19T18:26:32.222Z"
   },
   {
    "duration": 18,
    "start_time": "2023-09-19T18:26:32.250Z"
   },
   {
    "duration": 32,
    "start_time": "2023-09-19T18:26:32.269Z"
   },
   {
    "duration": 36,
    "start_time": "2023-09-19T18:26:32.303Z"
   },
   {
    "duration": 53,
    "start_time": "2023-09-19T18:26:32.341Z"
   },
   {
    "duration": 2371,
    "start_time": "2023-09-19T18:26:32.396Z"
   },
   {
    "duration": 3465,
    "start_time": "2023-09-19T18:26:34.769Z"
   },
   {
    "duration": 5,
    "start_time": "2023-09-19T18:26:38.236Z"
   },
   {
    "duration": 1263,
    "start_time": "2023-09-19T18:26:38.243Z"
   },
   {
    "duration": 14,
    "start_time": "2023-09-19T18:26:39.507Z"
   },
   {
    "duration": 10,
    "start_time": "2023-09-19T18:26:39.522Z"
   },
   {
    "duration": 4,
    "start_time": "2023-09-19T18:26:39.534Z"
   },
   {
    "duration": 20,
    "start_time": "2023-09-19T18:26:39.539Z"
   },
   {
    "duration": 24,
    "start_time": "2023-09-19T18:26:39.561Z"
   },
   {
    "duration": 22,
    "start_time": "2023-09-19T18:26:39.587Z"
   },
   {
    "duration": 15,
    "start_time": "2023-09-19T18:26:39.610Z"
   },
   {
    "duration": 125566,
    "start_time": "2023-09-19T18:26:39.627Z"
   },
   {
    "duration": 4,
    "start_time": "2023-09-19T18:28:45.195Z"
   },
   {
    "duration": 5,
    "start_time": "2023-09-19T18:28:45.200Z"
   },
   {
    "duration": 17074,
    "start_time": "2023-09-19T18:28:45.207Z"
   },
   {
    "duration": 4,
    "start_time": "2023-09-19T18:29:02.283Z"
   },
   {
    "duration": 696731,
    "start_time": "2023-09-19T18:29:02.289Z"
   },
   {
    "duration": 21,
    "start_time": "2023-09-19T18:40:39.022Z"
   },
   {
    "duration": 5,
    "start_time": "2023-09-19T18:40:39.045Z"
   },
   {
    "duration": 2306,
    "start_time": "2023-09-19T18:47:07.166Z"
   },
   {
    "duration": 1507,
    "start_time": "2023-09-19T18:47:09.475Z"
   },
   {
    "duration": 345,
    "start_time": "2023-09-19T18:47:10.983Z"
   },
   {
    "duration": 28,
    "start_time": "2023-09-19T18:47:11.331Z"
   },
   {
    "duration": 5,
    "start_time": "2023-09-19T18:47:11.361Z"
   },
   {
    "duration": 5,
    "start_time": "2023-09-19T18:47:11.368Z"
   },
   {
    "duration": 134,
    "start_time": "2023-09-19T18:47:11.374Z"
   },
   {
    "duration": 4,
    "start_time": "2023-09-19T18:47:11.510Z"
   },
   {
    "duration": 25,
    "start_time": "2023-09-19T18:47:11.516Z"
   },
   {
    "duration": 10,
    "start_time": "2023-09-19T18:47:11.544Z"
   },
   {
    "duration": 36,
    "start_time": "2023-09-19T18:47:11.556Z"
   },
   {
    "duration": 20,
    "start_time": "2023-09-19T18:47:11.594Z"
   },
   {
    "duration": 8,
    "start_time": "2023-09-19T18:47:11.616Z"
   },
   {
    "duration": 17,
    "start_time": "2023-09-19T18:47:11.626Z"
   },
   {
    "duration": 17,
    "start_time": "2023-09-19T18:47:11.645Z"
   },
   {
    "duration": 31,
    "start_time": "2023-09-19T18:47:11.664Z"
   },
   {
    "duration": 23,
    "start_time": "2023-09-19T18:47:11.697Z"
   },
   {
    "duration": 8,
    "start_time": "2023-09-19T18:47:11.722Z"
   },
   {
    "duration": 23,
    "start_time": "2023-09-19T18:47:11.731Z"
   },
   {
    "duration": 32,
    "start_time": "2023-09-19T18:47:11.755Z"
   },
   {
    "duration": 16,
    "start_time": "2023-09-19T18:47:11.788Z"
   },
   {
    "duration": 42,
    "start_time": "2023-09-19T18:47:11.805Z"
   },
   {
    "duration": 41,
    "start_time": "2023-09-19T18:47:11.849Z"
   },
   {
    "duration": 7,
    "start_time": "2023-09-19T18:47:11.893Z"
   },
   {
    "duration": 6,
    "start_time": "2023-09-19T18:47:11.902Z"
   },
   {
    "duration": 16,
    "start_time": "2023-09-19T18:47:11.910Z"
   },
   {
    "duration": 17,
    "start_time": "2023-09-19T18:47:11.927Z"
   },
   {
    "duration": 35,
    "start_time": "2023-09-19T18:47:11.948Z"
   },
   {
    "duration": 16,
    "start_time": "2023-09-19T18:47:11.985Z"
   },
   {
    "duration": 12,
    "start_time": "2023-09-19T18:47:12.003Z"
   },
   {
    "duration": 423,
    "start_time": "2023-09-19T18:47:12.017Z"
   },
   {
    "duration": 460,
    "start_time": "2023-09-19T18:47:12.442Z"
   },
   {
    "duration": 373,
    "start_time": "2023-09-19T18:47:12.904Z"
   },
   {
    "duration": 12,
    "start_time": "2023-09-19T18:47:13.279Z"
   },
   {
    "duration": 16,
    "start_time": "2023-09-19T18:47:13.292Z"
   },
   {
    "duration": 8,
    "start_time": "2023-09-19T18:47:13.310Z"
   },
   {
    "duration": 10,
    "start_time": "2023-09-19T18:47:13.320Z"
   },
   {
    "duration": 6,
    "start_time": "2023-09-19T18:47:13.331Z"
   },
   {
    "duration": 5,
    "start_time": "2023-09-19T18:47:13.338Z"
   },
   {
    "duration": 41,
    "start_time": "2023-09-19T18:47:13.345Z"
   },
   {
    "duration": 4,
    "start_time": "2023-09-19T18:47:13.388Z"
   },
   {
    "duration": 18,
    "start_time": "2023-09-19T18:47:13.394Z"
   },
   {
    "duration": 2459,
    "start_time": "2023-09-19T18:47:13.414Z"
   },
   {
    "duration": 3710,
    "start_time": "2023-09-19T18:47:15.875Z"
   },
   {
    "duration": 5,
    "start_time": "2023-09-19T18:47:19.587Z"
   },
   {
    "duration": 1247,
    "start_time": "2023-09-19T18:47:19.593Z"
   },
   {
    "duration": 14,
    "start_time": "2023-09-19T18:47:20.842Z"
   },
   {
    "duration": 24,
    "start_time": "2023-09-19T18:47:20.858Z"
   },
   {
    "duration": 6,
    "start_time": "2023-09-19T18:47:20.884Z"
   },
   {
    "duration": 22,
    "start_time": "2023-09-19T18:47:20.892Z"
   },
   {
    "duration": 24,
    "start_time": "2023-09-19T18:47:20.917Z"
   },
   {
    "duration": 30,
    "start_time": "2023-09-19T18:47:20.942Z"
   },
   {
    "duration": 22,
    "start_time": "2023-09-19T18:47:20.974Z"
   },
   {
    "duration": 121132,
    "start_time": "2023-09-19T18:47:20.998Z"
   },
   {
    "duration": 4,
    "start_time": "2023-09-19T18:49:22.132Z"
   },
   {
    "duration": 18453,
    "start_time": "2023-09-19T18:49:22.137Z"
   },
   {
    "duration": 3,
    "start_time": "2023-09-19T18:49:40.682Z"
   },
   {
    "duration": 227470,
    "start_time": "2023-09-19T18:49:40.687Z"
   },
   {
    "duration": 3,
    "start_time": "2023-09-19T18:58:29.244Z"
   },
   {
    "duration": 2898,
    "start_time": "2023-09-19T18:58:53.365Z"
   },
   {
    "duration": 1600,
    "start_time": "2023-09-19T18:58:56.266Z"
   },
   {
    "duration": 395,
    "start_time": "2023-09-19T18:58:57.868Z"
   },
   {
    "duration": 29,
    "start_time": "2023-09-19T18:58:58.265Z"
   },
   {
    "duration": 5,
    "start_time": "2023-09-19T18:58:58.296Z"
   },
   {
    "duration": 12,
    "start_time": "2023-09-19T18:58:58.303Z"
   },
   {
    "duration": 119,
    "start_time": "2023-09-19T18:58:58.317Z"
   },
   {
    "duration": 3,
    "start_time": "2023-09-19T18:58:58.438Z"
   },
   {
    "duration": 60,
    "start_time": "2023-09-19T18:58:58.443Z"
   },
   {
    "duration": 55,
    "start_time": "2023-09-19T18:58:58.506Z"
   },
   {
    "duration": 29,
    "start_time": "2023-09-19T18:58:58.563Z"
   },
   {
    "duration": 5,
    "start_time": "2023-09-19T18:58:58.593Z"
   },
   {
    "duration": 14,
    "start_time": "2023-09-19T18:58:58.599Z"
   },
   {
    "duration": 16,
    "start_time": "2023-09-19T18:58:58.614Z"
   },
   {
    "duration": 5,
    "start_time": "2023-09-19T18:58:58.632Z"
   },
   {
    "duration": 18,
    "start_time": "2023-09-19T18:58:58.639Z"
   },
   {
    "duration": 32,
    "start_time": "2023-09-19T18:58:58.659Z"
   },
   {
    "duration": 12,
    "start_time": "2023-09-19T18:58:58.693Z"
   },
   {
    "duration": 16,
    "start_time": "2023-09-19T18:58:58.707Z"
   },
   {
    "duration": 19,
    "start_time": "2023-09-19T18:58:58.724Z"
   },
   {
    "duration": 42,
    "start_time": "2023-09-19T18:58:58.745Z"
   },
   {
    "duration": 29,
    "start_time": "2023-09-19T18:58:58.789Z"
   },
   {
    "duration": 36,
    "start_time": "2023-09-19T18:58:58.821Z"
   },
   {
    "duration": 8,
    "start_time": "2023-09-19T18:58:58.880Z"
   },
   {
    "duration": 8,
    "start_time": "2023-09-19T18:58:58.890Z"
   },
   {
    "duration": 22,
    "start_time": "2023-09-19T18:58:58.899Z"
   },
   {
    "duration": 20,
    "start_time": "2023-09-19T18:58:58.923Z"
   },
   {
    "duration": 5,
    "start_time": "2023-09-19T18:58:58.947Z"
   },
   {
    "duration": 27,
    "start_time": "2023-09-19T18:58:58.954Z"
   },
   {
    "duration": 6,
    "start_time": "2023-09-19T18:58:58.983Z"
   },
   {
    "duration": 399,
    "start_time": "2023-09-19T18:58:58.991Z"
   },
   {
    "duration": 429,
    "start_time": "2023-09-19T18:58:59.392Z"
   },
   {
    "duration": 366,
    "start_time": "2023-09-19T18:58:59.823Z"
   },
   {
    "duration": 12,
    "start_time": "2023-09-19T18:59:00.191Z"
   },
   {
    "duration": 45,
    "start_time": "2023-09-19T18:59:00.205Z"
   },
   {
    "duration": 51,
    "start_time": "2023-09-19T18:59:00.252Z"
   },
   {
    "duration": 54,
    "start_time": "2023-09-19T18:59:00.305Z"
   },
   {
    "duration": 33,
    "start_time": "2023-09-19T18:59:00.361Z"
   },
   {
    "duration": 26,
    "start_time": "2023-09-19T18:59:00.397Z"
   },
   {
    "duration": 36,
    "start_time": "2023-09-19T18:59:00.425Z"
   },
   {
    "duration": 46,
    "start_time": "2023-09-19T18:59:00.463Z"
   },
   {
    "duration": 63,
    "start_time": "2023-09-19T18:59:00.511Z"
   },
   {
    "duration": 2410,
    "start_time": "2023-09-19T18:59:00.576Z"
   },
   {
    "duration": 3521,
    "start_time": "2023-09-19T18:59:02.988Z"
   },
   {
    "duration": 5,
    "start_time": "2023-09-19T18:59:06.511Z"
   },
   {
    "duration": 1295,
    "start_time": "2023-09-19T18:59:06.517Z"
   },
   {
    "duration": 14,
    "start_time": "2023-09-19T18:59:07.813Z"
   },
   {
    "duration": 11,
    "start_time": "2023-09-19T18:59:07.829Z"
   },
   {
    "duration": 3,
    "start_time": "2023-09-19T18:59:07.842Z"
   },
   {
    "duration": 36,
    "start_time": "2023-09-19T18:59:07.847Z"
   },
   {
    "duration": 2,
    "start_time": "2023-09-19T18:59:07.885Z"
   },
   {
    "duration": 5,
    "start_time": "2023-09-19T18:59:07.889Z"
   },
   {
    "duration": 8,
    "start_time": "2023-09-19T18:59:07.896Z"
   },
   {
    "duration": 124132,
    "start_time": "2023-09-19T18:59:07.906Z"
   },
   {
    "duration": 4,
    "start_time": "2023-09-19T19:01:12.039Z"
   },
   {
    "duration": 18046,
    "start_time": "2023-09-19T19:01:12.044Z"
   },
   {
    "duration": 4,
    "start_time": "2023-09-19T19:01:30.181Z"
   },
   {
    "duration": 227687,
    "start_time": "2023-09-19T19:01:30.187Z"
   },
   {
    "duration": 3,
    "start_time": "2023-09-19T19:16:00.860Z"
   },
   {
    "duration": 204,
    "start_time": "2023-09-19T19:19:06.632Z"
   },
   {
    "duration": 52,
    "start_time": "2023-09-19T19:20:13.273Z"
   },
   {
    "duration": 35,
    "start_time": "2023-09-19T19:20:29.213Z"
   },
   {
    "duration": 47,
    "start_time": "2023-09-19T19:21:16.277Z"
   },
   {
    "duration": 12,
    "start_time": "2023-09-19T19:29:27.585Z"
   },
   {
    "duration": 4,
    "start_time": "2023-09-19T19:29:48.213Z"
   },
   {
    "duration": 147,
    "start_time": "2023-09-19T19:29:52.399Z"
   },
   {
    "duration": 13,
    "start_time": "2023-09-19T19:31:25.947Z"
   },
   {
    "duration": 143,
    "start_time": "2023-09-19T19:31:58.471Z"
   },
   {
    "duration": 196,
    "start_time": "2023-09-19T19:32:20.250Z"
   },
   {
    "duration": 236,
    "start_time": "2023-09-19T19:39:40.259Z"
   },
   {
    "duration": 279,
    "start_time": "2023-09-19T20:12:56.670Z"
   },
   {
    "duration": 206,
    "start_time": "2023-09-19T20:13:09.709Z"
   },
   {
    "duration": 4,
    "start_time": "2023-09-19T20:28:49.333Z"
   },
   {
    "duration": 187,
    "start_time": "2023-09-19T20:29:16.327Z"
   },
   {
    "duration": 10,
    "start_time": "2023-09-19T21:02:31.270Z"
   },
   {
    "duration": 9,
    "start_time": "2023-09-19T21:07:22.724Z"
   },
   {
    "duration": 12,
    "start_time": "2023-09-19T21:07:33.505Z"
   },
   {
    "duration": 18,
    "start_time": "2023-09-19T21:08:05.732Z"
   },
   {
    "duration": 10,
    "start_time": "2023-09-19T21:09:57.921Z"
   },
   {
    "duration": 10,
    "start_time": "2023-09-19T21:10:02.938Z"
   },
   {
    "duration": 287,
    "start_time": "2023-09-19T21:20:52.564Z"
   },
   {
    "duration": 211,
    "start_time": "2023-09-19T21:21:21.277Z"
   },
   {
    "duration": 2300,
    "start_time": "2023-09-19T21:21:33.763Z"
   },
   {
    "duration": 1532,
    "start_time": "2023-09-19T21:21:36.066Z"
   },
   {
    "duration": 217,
    "start_time": "2023-09-19T21:21:37.600Z"
   },
   {
    "duration": 27,
    "start_time": "2023-09-19T21:21:37.819Z"
   },
   {
    "duration": 5,
    "start_time": "2023-09-19T21:21:37.848Z"
   },
   {
    "duration": 15,
    "start_time": "2023-09-19T21:21:37.854Z"
   },
   {
    "duration": 143,
    "start_time": "2023-09-19T21:21:37.870Z"
   },
   {
    "duration": 4,
    "start_time": "2023-09-19T21:21:38.015Z"
   },
   {
    "duration": 21,
    "start_time": "2023-09-19T21:21:38.021Z"
   },
   {
    "duration": 9,
    "start_time": "2023-09-19T21:21:38.045Z"
   },
   {
    "duration": 45,
    "start_time": "2023-09-19T21:21:38.056Z"
   },
   {
    "duration": 5,
    "start_time": "2023-09-19T21:21:38.103Z"
   },
   {
    "duration": 9,
    "start_time": "2023-09-19T21:21:38.110Z"
   },
   {
    "duration": 25,
    "start_time": "2023-09-19T21:21:38.121Z"
   },
   {
    "duration": 4,
    "start_time": "2023-09-19T21:21:38.148Z"
   },
   {
    "duration": 42,
    "start_time": "2023-09-19T21:21:38.154Z"
   },
   {
    "duration": 28,
    "start_time": "2023-09-19T21:21:38.198Z"
   },
   {
    "duration": 7,
    "start_time": "2023-09-19T21:21:38.228Z"
   },
   {
    "duration": 48,
    "start_time": "2023-09-19T21:21:38.236Z"
   },
   {
    "duration": 23,
    "start_time": "2023-09-19T21:21:38.286Z"
   },
   {
    "duration": 16,
    "start_time": "2023-09-19T21:21:38.311Z"
   },
   {
    "duration": 59,
    "start_time": "2023-09-19T21:21:38.329Z"
   },
   {
    "duration": 29,
    "start_time": "2023-09-19T21:21:38.390Z"
   },
   {
    "duration": 6,
    "start_time": "2023-09-19T21:21:38.421Z"
   },
   {
    "duration": 20,
    "start_time": "2023-09-19T21:21:38.428Z"
   },
   {
    "duration": 18,
    "start_time": "2023-09-19T21:21:38.450Z"
   },
   {
    "duration": 16,
    "start_time": "2023-09-19T21:21:38.481Z"
   },
   {
    "duration": 5,
    "start_time": "2023-09-19T21:21:38.501Z"
   },
   {
    "duration": 6,
    "start_time": "2023-09-19T21:21:38.508Z"
   },
   {
    "duration": 12,
    "start_time": "2023-09-19T21:21:38.516Z"
   },
   {
    "duration": 445,
    "start_time": "2023-09-19T21:21:38.530Z"
   },
   {
    "duration": 476,
    "start_time": "2023-09-19T21:21:38.977Z"
   },
   {
    "duration": 358,
    "start_time": "2023-09-19T21:21:39.455Z"
   },
   {
    "duration": 13,
    "start_time": "2023-09-19T21:21:39.816Z"
   },
   {
    "duration": 49,
    "start_time": "2023-09-19T21:21:39.831Z"
   },
   {
    "duration": 14,
    "start_time": "2023-09-19T21:21:39.882Z"
   },
   {
    "duration": 27,
    "start_time": "2023-09-19T21:21:39.898Z"
   },
   {
    "duration": 7,
    "start_time": "2023-09-19T21:21:39.927Z"
   },
   {
    "duration": 7,
    "start_time": "2023-09-19T21:21:39.935Z"
   },
   {
    "duration": 14,
    "start_time": "2023-09-19T21:21:39.944Z"
   },
   {
    "duration": 8,
    "start_time": "2023-09-19T21:21:39.960Z"
   },
   {
    "duration": 28,
    "start_time": "2023-09-19T21:21:39.970Z"
   },
   {
    "duration": 2437,
    "start_time": "2023-09-19T21:21:40.000Z"
   },
   {
    "duration": 3599,
    "start_time": "2023-09-19T21:21:42.438Z"
   },
   {
    "duration": 6,
    "start_time": "2023-09-19T21:21:46.039Z"
   },
   {
    "duration": 1392,
    "start_time": "2023-09-19T21:21:46.046Z"
   },
   {
    "duration": 14,
    "start_time": "2023-09-19T21:21:47.440Z"
   },
   {
    "duration": 29,
    "start_time": "2023-09-19T21:21:47.456Z"
   },
   {
    "duration": 4,
    "start_time": "2023-09-19T21:21:47.487Z"
   },
   {
    "duration": 37,
    "start_time": "2023-09-19T21:21:47.493Z"
   },
   {
    "duration": 5,
    "start_time": "2023-09-19T21:21:47.531Z"
   },
   {
    "duration": 11,
    "start_time": "2023-09-19T21:21:47.538Z"
   },
   {
    "duration": 19,
    "start_time": "2023-09-19T21:21:47.551Z"
   },
   {
    "duration": 133090,
    "start_time": "2023-09-19T21:21:47.572Z"
   },
   {
    "duration": 4,
    "start_time": "2023-09-19T21:24:00.664Z"
   },
   {
    "duration": 22313,
    "start_time": "2023-09-19T21:24:00.670Z"
   },
   {
    "duration": 4,
    "start_time": "2023-09-19T21:24:22.985Z"
   },
   {
    "duration": 240213,
    "start_time": "2023-09-19T21:24:22.990Z"
   },
   {
    "duration": 3,
    "start_time": "2023-09-19T21:28:23.206Z"
   },
   {
    "duration": 33,
    "start_time": "2023-09-19T21:28:23.211Z"
   },
   {
    "duration": 213,
    "start_time": "2023-09-19T21:28:23.246Z"
   },
   {
    "duration": 242,
    "start_time": "2023-09-19T21:28:23.461Z"
   },
   {
    "duration": 131,
    "start_time": "2023-09-19T21:28:23.705Z"
   },
   {
    "duration": 2440,
    "start_time": "2023-09-19T21:29:00.320Z"
   },
   {
    "duration": 1594,
    "start_time": "2023-09-19T21:29:02.762Z"
   },
   {
    "duration": 250,
    "start_time": "2023-09-19T21:29:04.358Z"
   },
   {
    "duration": 28,
    "start_time": "2023-09-19T21:29:04.610Z"
   },
   {
    "duration": 5,
    "start_time": "2023-09-19T21:29:04.640Z"
   },
   {
    "duration": 14,
    "start_time": "2023-09-19T21:29:04.647Z"
   },
   {
    "duration": 142,
    "start_time": "2023-09-19T21:29:04.662Z"
   },
   {
    "duration": 4,
    "start_time": "2023-09-19T21:29:04.805Z"
   },
   {
    "duration": 18,
    "start_time": "2023-09-19T21:29:04.811Z"
   },
   {
    "duration": 10,
    "start_time": "2023-09-19T21:29:04.832Z"
   },
   {
    "duration": 46,
    "start_time": "2023-09-19T21:29:04.844Z"
   },
   {
    "duration": 4,
    "start_time": "2023-09-19T21:29:04.892Z"
   },
   {
    "duration": 10,
    "start_time": "2023-09-19T21:29:04.897Z"
   },
   {
    "duration": 16,
    "start_time": "2023-09-19T21:29:04.909Z"
   },
   {
    "duration": 3,
    "start_time": "2023-09-19T21:29:04.927Z"
   },
   {
    "duration": 18,
    "start_time": "2023-09-19T21:29:04.932Z"
   },
   {
    "duration": 26,
    "start_time": "2023-09-19T21:29:04.981Z"
   },
   {
    "duration": 5,
    "start_time": "2023-09-19T21:29:05.009Z"
   },
   {
    "duration": 19,
    "start_time": "2023-09-19T21:29:05.015Z"
   },
   {
    "duration": 15,
    "start_time": "2023-09-19T21:29:05.035Z"
   },
   {
    "duration": 47,
    "start_time": "2023-09-19T21:29:05.051Z"
   },
   {
    "duration": 30,
    "start_time": "2023-09-19T21:29:05.100Z"
   },
   {
    "duration": 54,
    "start_time": "2023-09-19T21:29:05.132Z"
   },
   {
    "duration": 8,
    "start_time": "2023-09-19T21:29:05.189Z"
   },
   {
    "duration": 13,
    "start_time": "2023-09-19T21:29:05.199Z"
   },
   {
    "duration": 17,
    "start_time": "2023-09-19T21:29:05.214Z"
   },
   {
    "duration": 16,
    "start_time": "2023-09-19T21:29:05.233Z"
   },
   {
    "duration": 6,
    "start_time": "2023-09-19T21:29:05.280Z"
   },
   {
    "duration": 7,
    "start_time": "2023-09-19T21:29:05.287Z"
   },
   {
    "duration": 12,
    "start_time": "2023-09-19T21:29:05.295Z"
   },
   {
    "duration": 484,
    "start_time": "2023-09-19T21:29:05.309Z"
   },
   {
    "duration": 477,
    "start_time": "2023-09-19T21:29:05.795Z"
   },
   {
    "duration": 430,
    "start_time": "2023-09-19T21:29:06.274Z"
   },
   {
    "duration": 18,
    "start_time": "2023-09-19T21:29:06.706Z"
   },
   {
    "duration": 34,
    "start_time": "2023-09-19T21:29:06.726Z"
   },
   {
    "duration": 27,
    "start_time": "2023-09-19T21:29:06.762Z"
   },
   {
    "duration": 15,
    "start_time": "2023-09-19T21:29:06.791Z"
   },
   {
    "duration": 8,
    "start_time": "2023-09-19T21:29:06.808Z"
   },
   {
    "duration": 9,
    "start_time": "2023-09-19T21:29:06.820Z"
   },
   {
    "duration": 12,
    "start_time": "2023-09-19T21:29:06.831Z"
   },
   {
    "duration": 4,
    "start_time": "2023-09-19T21:29:06.845Z"
   },
   {
    "duration": 46,
    "start_time": "2023-09-19T21:29:06.851Z"
   },
   {
    "duration": 2417,
    "start_time": "2023-09-19T21:29:06.899Z"
   },
   {
    "duration": 3607,
    "start_time": "2023-09-19T21:29:09.318Z"
   },
   {
    "duration": 7,
    "start_time": "2023-09-19T21:29:12.927Z"
   },
   {
    "duration": 1299,
    "start_time": "2023-09-19T21:29:12.936Z"
   },
   {
    "duration": 14,
    "start_time": "2023-09-19T21:29:14.237Z"
   },
   {
    "duration": 32,
    "start_time": "2023-09-19T21:29:14.253Z"
   },
   {
    "duration": 4,
    "start_time": "2023-09-19T21:29:14.287Z"
   },
   {
    "duration": 20,
    "start_time": "2023-09-19T21:29:14.292Z"
   },
   {
    "duration": 4,
    "start_time": "2023-09-19T21:29:14.314Z"
   },
   {
    "duration": 6,
    "start_time": "2023-09-19T21:29:14.320Z"
   },
   {
    "duration": 13,
    "start_time": "2023-09-19T21:29:14.327Z"
   },
   {
    "duration": 127201,
    "start_time": "2023-09-19T21:29:14.341Z"
   },
   {
    "duration": 4,
    "start_time": "2023-09-19T21:31:21.544Z"
   },
   {
    "duration": 24133,
    "start_time": "2023-09-19T21:31:21.549Z"
   },
   {
    "duration": 9,
    "start_time": "2023-09-19T21:31:45.684Z"
   },
   {
    "duration": 238187,
    "start_time": "2023-09-19T21:31:45.697Z"
   },
   {
    "duration": 4,
    "start_time": "2023-09-19T21:35:43.886Z"
   },
   {
    "duration": 56,
    "start_time": "2023-09-19T21:35:43.892Z"
   },
   {
    "duration": 205,
    "start_time": "2023-09-19T21:35:43.949Z"
   },
   {
    "duration": 229,
    "start_time": "2023-09-19T21:35:44.156Z"
   },
   {
    "duration": 132,
    "start_time": "2023-09-19T21:35:44.387Z"
   },
   {
    "duration": 29,
    "start_time": "2023-09-19T21:37:53.226Z"
   },
   {
    "duration": 2376,
    "start_time": "2023-09-19T21:37:58.185Z"
   },
   {
    "duration": 1539,
    "start_time": "2023-09-19T21:38:00.563Z"
   },
   {
    "duration": 249,
    "start_time": "2023-09-19T21:38:02.104Z"
   },
   {
    "duration": 31,
    "start_time": "2023-09-19T21:38:02.356Z"
   },
   {
    "duration": 15,
    "start_time": "2023-09-19T21:38:02.390Z"
   },
   {
    "duration": 45,
    "start_time": "2023-09-19T21:38:02.408Z"
   },
   {
    "duration": 171,
    "start_time": "2023-09-19T21:38:02.456Z"
   },
   {
    "duration": 7,
    "start_time": "2023-09-19T21:38:02.630Z"
   },
   {
    "duration": 36,
    "start_time": "2023-09-19T21:38:02.639Z"
   },
   {
    "duration": 40,
    "start_time": "2023-09-19T21:38:02.681Z"
   },
   {
    "duration": 23,
    "start_time": "2023-09-19T21:38:02.722Z"
   },
   {
    "duration": 11,
    "start_time": "2023-09-19T21:38:02.747Z"
   },
   {
    "duration": 53,
    "start_time": "2023-09-19T21:38:02.760Z"
   },
   {
    "duration": 22,
    "start_time": "2023-09-19T21:38:02.815Z"
   },
   {
    "duration": 4,
    "start_time": "2023-09-19T21:38:02.839Z"
   },
   {
    "duration": 36,
    "start_time": "2023-09-19T21:38:02.845Z"
   },
   {
    "duration": 21,
    "start_time": "2023-09-19T21:38:02.883Z"
   },
   {
    "duration": 21,
    "start_time": "2023-09-19T21:38:02.906Z"
   },
   {
    "duration": 27,
    "start_time": "2023-09-19T21:38:02.929Z"
   },
   {
    "duration": 31,
    "start_time": "2023-09-19T21:38:02.958Z"
   },
   {
    "duration": 24,
    "start_time": "2023-09-19T21:38:02.991Z"
   },
   {
    "duration": 30,
    "start_time": "2023-09-19T21:38:03.017Z"
   },
   {
    "duration": 50,
    "start_time": "2023-09-19T21:38:03.049Z"
   },
   {
    "duration": 8,
    "start_time": "2023-09-19T21:38:03.101Z"
   },
   {
    "duration": 20,
    "start_time": "2023-09-19T21:38:03.110Z"
   },
   {
    "duration": 19,
    "start_time": "2023-09-19T21:38:03.132Z"
   },
   {
    "duration": 17,
    "start_time": "2023-09-19T21:38:03.153Z"
   },
   {
    "duration": 8,
    "start_time": "2023-09-19T21:38:03.187Z"
   },
   {
    "duration": 25,
    "start_time": "2023-09-19T21:38:03.197Z"
   },
   {
    "duration": 9,
    "start_time": "2023-09-19T21:38:03.224Z"
   },
   {
    "duration": 436,
    "start_time": "2023-09-19T21:38:03.234Z"
   },
   {
    "duration": 464,
    "start_time": "2023-09-19T21:38:03.673Z"
   },
   {
    "duration": 373,
    "start_time": "2023-09-19T21:38:04.138Z"
   },
   {
    "duration": 12,
    "start_time": "2023-09-19T21:38:04.512Z"
   },
   {
    "duration": 17,
    "start_time": "2023-09-19T21:38:04.526Z"
   },
   {
    "duration": 42,
    "start_time": "2023-09-19T21:38:04.545Z"
   },
   {
    "duration": 18,
    "start_time": "2023-09-19T21:38:04.589Z"
   },
   {
    "duration": 13,
    "start_time": "2023-09-19T21:38:04.609Z"
   },
   {
    "duration": 9,
    "start_time": "2023-09-19T21:38:04.624Z"
   },
   {
    "duration": 40,
    "start_time": "2023-09-19T21:38:04.635Z"
   },
   {
    "duration": 15,
    "start_time": "2023-09-19T21:38:04.677Z"
   },
   {
    "duration": 25,
    "start_time": "2023-09-19T21:38:04.693Z"
   },
   {
    "duration": 2680,
    "start_time": "2023-09-19T21:38:04.720Z"
   },
   {
    "duration": 3698,
    "start_time": "2023-09-19T21:38:07.403Z"
   },
   {
    "duration": 6,
    "start_time": "2023-09-19T21:38:11.103Z"
   },
   {
    "duration": 1355,
    "start_time": "2023-09-19T21:38:11.112Z"
   },
   {
    "duration": 18,
    "start_time": "2023-09-19T21:38:12.469Z"
   },
   {
    "duration": 11,
    "start_time": "2023-09-19T21:38:12.489Z"
   },
   {
    "duration": 5,
    "start_time": "2023-09-19T21:38:12.501Z"
   },
   {
    "duration": 15,
    "start_time": "2023-09-19T21:38:12.507Z"
   },
   {
    "duration": 4,
    "start_time": "2023-09-19T21:38:12.525Z"
   },
   {
    "duration": 14,
    "start_time": "2023-09-19T21:38:12.531Z"
   },
   {
    "duration": 34,
    "start_time": "2023-09-19T21:38:12.547Z"
   },
   {
    "duration": 126044,
    "start_time": "2023-09-19T21:38:12.583Z"
   },
   {
    "duration": 3,
    "start_time": "2023-09-19T21:40:18.629Z"
   },
   {
    "duration": 21153,
    "start_time": "2023-09-19T21:40:18.633Z"
   },
   {
    "duration": 93,
    "start_time": "2023-09-19T21:40:39.788Z"
   },
   {
    "duration": 240026,
    "start_time": "2023-09-19T21:40:39.883Z"
   },
   {
    "duration": 3,
    "start_time": "2023-09-19T21:44:39.910Z"
   },
   {
    "duration": 40,
    "start_time": "2023-09-19T21:44:39.915Z"
   },
   {
    "duration": 224,
    "start_time": "2023-09-19T21:44:39.957Z"
   },
   {
    "duration": 220,
    "start_time": "2023-09-19T21:44:40.183Z"
   },
   {
    "duration": 138,
    "start_time": "2023-09-19T21:44:40.405Z"
   },
   {
    "duration": 2344,
    "start_time": "2023-09-19T21:45:52.191Z"
   },
   {
    "duration": 1436,
    "start_time": "2023-09-19T21:45:54.538Z"
   },
   {
    "duration": 422,
    "start_time": "2023-09-19T21:45:55.976Z"
   },
   {
    "duration": 27,
    "start_time": "2023-09-19T21:45:56.400Z"
   },
   {
    "duration": 4,
    "start_time": "2023-09-19T21:45:56.429Z"
   },
   {
    "duration": 18,
    "start_time": "2023-09-19T21:45:56.435Z"
   },
   {
    "duration": 152,
    "start_time": "2023-09-19T21:45:56.455Z"
   },
   {
    "duration": 5,
    "start_time": "2023-09-19T21:45:56.611Z"
   },
   {
    "duration": 25,
    "start_time": "2023-09-19T21:45:56.618Z"
   },
   {
    "duration": 39,
    "start_time": "2023-09-19T21:45:56.647Z"
   },
   {
    "duration": 24,
    "start_time": "2023-09-19T21:45:56.688Z"
   },
   {
    "duration": 6,
    "start_time": "2023-09-19T21:45:56.714Z"
   },
   {
    "duration": 7,
    "start_time": "2023-09-19T21:45:56.722Z"
   },
   {
    "duration": 53,
    "start_time": "2023-09-19T21:45:56.731Z"
   },
   {
    "duration": 4,
    "start_time": "2023-09-19T21:45:56.786Z"
   },
   {
    "duration": 18,
    "start_time": "2023-09-19T21:45:56.792Z"
   },
   {
    "duration": 18,
    "start_time": "2023-09-19T21:45:56.812Z"
   },
   {
    "duration": 5,
    "start_time": "2023-09-19T21:45:56.832Z"
   },
   {
    "duration": 43,
    "start_time": "2023-09-19T21:45:56.839Z"
   },
   {
    "duration": 15,
    "start_time": "2023-09-19T21:45:56.884Z"
   },
   {
    "duration": 18,
    "start_time": "2023-09-19T21:45:56.901Z"
   },
   {
    "duration": 31,
    "start_time": "2023-09-19T21:45:56.922Z"
   },
   {
    "duration": 33,
    "start_time": "2023-09-19T21:45:56.981Z"
   },
   {
    "duration": 7,
    "start_time": "2023-09-19T21:45:57.017Z"
   },
   {
    "duration": 16,
    "start_time": "2023-09-19T21:45:57.027Z"
   },
   {
    "duration": 36,
    "start_time": "2023-09-19T21:45:57.045Z"
   },
   {
    "duration": 20,
    "start_time": "2023-09-19T21:45:57.083Z"
   },
   {
    "duration": 6,
    "start_time": "2023-09-19T21:45:57.108Z"
   },
   {
    "duration": 6,
    "start_time": "2023-09-19T21:45:57.116Z"
   },
   {
    "duration": 31,
    "start_time": "2023-09-19T21:45:57.124Z"
   },
   {
    "duration": 430,
    "start_time": "2023-09-19T21:45:57.157Z"
   },
   {
    "duration": 445,
    "start_time": "2023-09-19T21:45:57.589Z"
   },
   {
    "duration": 369,
    "start_time": "2023-09-19T21:45:58.036Z"
   },
   {
    "duration": 12,
    "start_time": "2023-09-19T21:45:58.407Z"
   },
   {
    "duration": 19,
    "start_time": "2023-09-19T21:45:58.420Z"
   },
   {
    "duration": 9,
    "start_time": "2023-09-19T21:45:58.441Z"
   },
   {
    "duration": 13,
    "start_time": "2023-09-19T21:45:58.480Z"
   },
   {
    "duration": 7,
    "start_time": "2023-09-19T21:45:58.496Z"
   },
   {
    "duration": 4,
    "start_time": "2023-09-19T21:45:58.505Z"
   },
   {
    "duration": 15,
    "start_time": "2023-09-19T21:45:58.510Z"
   },
   {
    "duration": 5,
    "start_time": "2023-09-19T21:45:58.526Z"
   },
   {
    "duration": 50,
    "start_time": "2023-09-19T21:45:58.533Z"
   },
   {
    "duration": 3423,
    "start_time": "2023-09-19T21:45:58.585Z"
   },
   {
    "duration": 3583,
    "start_time": "2023-09-19T21:46:02.010Z"
   },
   {
    "duration": 6,
    "start_time": "2023-09-19T21:46:05.594Z"
   },
   {
    "duration": 1392,
    "start_time": "2023-09-19T21:46:05.602Z"
   },
   {
    "duration": 14,
    "start_time": "2023-09-19T21:46:06.995Z"
   },
   {
    "duration": 10,
    "start_time": "2023-09-19T21:46:07.011Z"
   },
   {
    "duration": 5,
    "start_time": "2023-09-19T21:46:07.022Z"
   },
   {
    "duration": 15,
    "start_time": "2023-09-19T21:46:07.028Z"
   },
   {
    "duration": 3,
    "start_time": "2023-09-19T21:46:07.045Z"
   },
   {
    "duration": 34,
    "start_time": "2023-09-19T21:46:07.049Z"
   },
   {
    "duration": 5,
    "start_time": "2023-09-19T21:46:07.085Z"
   },
   {
    "duration": 126379,
    "start_time": "2023-09-19T21:46:07.091Z"
   },
   {
    "duration": 9,
    "start_time": "2023-09-19T21:48:13.472Z"
   },
   {
    "duration": 15007,
    "start_time": "2023-09-19T21:48:13.482Z"
   },
   {
    "duration": 5,
    "start_time": "2023-09-19T21:48:28.491Z"
   },
   {
    "duration": 234589,
    "start_time": "2023-09-19T21:48:28.582Z"
   },
   {
    "duration": 11,
    "start_time": "2023-09-19T21:52:23.172Z"
   },
   {
    "duration": 34,
    "start_time": "2023-09-19T21:52:23.194Z"
   },
   {
    "duration": 189,
    "start_time": "2023-09-19T21:52:23.229Z"
   },
   {
    "duration": 210,
    "start_time": "2023-09-19T21:52:23.420Z"
   },
   {
    "duration": 226,
    "start_time": "2023-09-19T21:52:23.631Z"
   },
   {
    "duration": 82,
    "start_time": "2023-09-20T16:42:28.823Z"
   },
   {
    "duration": 3655,
    "start_time": "2023-09-20T18:44:27.599Z"
   },
   {
    "duration": 1729,
    "start_time": "2023-09-20T18:44:33.314Z"
   },
   {
    "duration": 279,
    "start_time": "2023-09-20T18:44:35.046Z"
   },
   {
    "duration": 27,
    "start_time": "2023-09-20T18:44:35.326Z"
   },
   {
    "duration": 73,
    "start_time": "2023-09-20T18:44:35.355Z"
   },
   {
    "duration": 110,
    "start_time": "2023-09-20T18:44:35.430Z"
   },
   {
    "duration": 251,
    "start_time": "2023-09-20T18:44:35.542Z"
   },
   {
    "duration": 29,
    "start_time": "2023-09-20T18:44:35.796Z"
   },
   {
    "duration": 46,
    "start_time": "2023-09-20T18:44:35.860Z"
   },
   {
    "duration": 11,
    "start_time": "2023-09-20T18:44:36.397Z"
   },
   {
    "duration": 17,
    "start_time": "2023-09-20T18:44:36.703Z"
   },
   {
    "duration": 4,
    "start_time": "2023-09-20T18:44:38.273Z"
   },
   {
    "duration": 6,
    "start_time": "2023-09-20T18:44:38.535Z"
   },
   {
    "duration": 15,
    "start_time": "2023-09-20T18:44:38.748Z"
   },
   {
    "duration": 4,
    "start_time": "2023-09-20T18:44:39.395Z"
   },
   {
    "duration": 15,
    "start_time": "2023-09-20T18:44:39.586Z"
   },
   {
    "duration": 19,
    "start_time": "2023-09-20T18:44:39.948Z"
   },
   {
    "duration": 5,
    "start_time": "2023-09-20T18:44:40.164Z"
   },
   {
    "duration": 23,
    "start_time": "2023-09-20T18:44:40.392Z"
   },
   {
    "duration": 17,
    "start_time": "2023-09-20T18:44:40.826Z"
   },
   {
    "duration": 16,
    "start_time": "2023-09-20T18:44:41.715Z"
   },
   {
    "duration": 27,
    "start_time": "2023-09-20T18:44:41.965Z"
   },
   {
    "duration": 34,
    "start_time": "2023-09-20T18:44:42.208Z"
   },
   {
    "duration": 6,
    "start_time": "2023-09-20T18:44:42.475Z"
   },
   {
    "duration": 3,
    "start_time": "2023-09-20T18:44:48.305Z"
   },
   {
    "duration": 14,
    "start_time": "2023-09-20T18:44:48.496Z"
   },
   {
    "duration": 14,
    "start_time": "2023-09-20T18:44:48.707Z"
   },
   {
    "duration": 6,
    "start_time": "2023-09-20T18:44:49.076Z"
   },
   {
    "duration": 4,
    "start_time": "2023-09-20T18:44:49.453Z"
   },
   {
    "duration": 6,
    "start_time": "2023-09-20T18:44:49.666Z"
   },
   {
    "duration": 398,
    "start_time": "2023-09-20T18:44:50.465Z"
   },
   {
    "duration": 448,
    "start_time": "2023-09-20T18:44:52.418Z"
   },
   {
    "duration": 339,
    "start_time": "2023-09-20T18:44:54.253Z"
   },
   {
    "duration": 11,
    "start_time": "2023-09-20T18:44:56.133Z"
   },
   {
    "duration": 17,
    "start_time": "2023-09-20T18:44:56.490Z"
   },
   {
    "duration": 8,
    "start_time": "2023-09-20T18:44:56.809Z"
   },
   {
    "duration": 12,
    "start_time": "2023-09-20T18:44:56.995Z"
   },
   {
    "duration": 6,
    "start_time": "2023-09-20T18:44:57.392Z"
   },
   {
    "duration": 5,
    "start_time": "2023-09-20T18:44:58.056Z"
   },
   {
    "duration": 11,
    "start_time": "2023-09-20T18:44:58.298Z"
   },
   {
    "duration": 5,
    "start_time": "2023-09-20T18:45:00.348Z"
   },
   {
    "duration": 18,
    "start_time": "2023-09-20T18:45:01.601Z"
   },
   {
    "duration": 2383,
    "start_time": "2023-09-20T18:45:02.337Z"
   },
   {
    "duration": 3477,
    "start_time": "2023-09-20T18:45:04.725Z"
   },
   {
    "duration": 6,
    "start_time": "2023-09-20T18:45:08.204Z"
   },
   {
    "duration": 1239,
    "start_time": "2023-09-20T18:45:08.212Z"
   },
   {
    "duration": 17,
    "start_time": "2023-09-20T18:45:13.229Z"
   },
   {
    "duration": 11,
    "start_time": "2023-09-20T18:45:13.936Z"
   },
   {
    "duration": 4,
    "start_time": "2023-09-20T18:45:15.880Z"
   },
   {
    "duration": 13,
    "start_time": "2023-09-20T18:45:16.969Z"
   },
   {
    "duration": 3,
    "start_time": "2023-09-20T18:45:19.266Z"
   },
   {
    "duration": 4,
    "start_time": "2023-09-20T18:45:21.980Z"
   },
   {
    "duration": 4,
    "start_time": "2023-09-20T18:47:39.614Z"
   },
   {
    "duration": 3,
    "start_time": "2023-09-20T18:51:00.537Z"
   },
   {
    "duration": 4,
    "start_time": "2023-09-20T18:53:40.241Z"
   },
   {
    "duration": 125898,
    "start_time": "2023-09-20T18:53:41.364Z"
   },
   {
    "duration": 3,
    "start_time": "2023-09-20T18:55:47.264Z"
   },
   {
    "duration": 17058,
    "start_time": "2023-09-20T18:55:47.269Z"
   },
   {
    "duration": 95,
    "start_time": "2023-09-20T18:56:04.329Z"
   },
   {
    "duration": 408909,
    "start_time": "2023-09-20T18:56:04.426Z"
   },
   {
    "duration": 614625,
    "start_time": "2023-09-20T19:03:01.174Z"
   },
   {
    "duration": 3,
    "start_time": "2023-09-20T19:18:17.446Z"
   },
   {
    "duration": 6,
    "start_time": "2023-09-20T19:18:20.340Z"
   },
   {
    "duration": 120180,
    "start_time": "2023-09-20T19:18:21.439Z"
   },
   {
    "duration": 3,
    "start_time": "2023-09-20T19:23:42.563Z"
   },
   {
    "duration": 3,
    "start_time": "2023-09-20T19:24:59.795Z"
   },
   {
    "duration": 3,
    "start_time": "2023-09-20T19:25:03.366Z"
   },
   {
    "duration": 91238,
    "start_time": "2023-09-20T19:25:04.837Z"
   },
   {
    "duration": 33333,
    "start_time": "2023-09-20T19:26:36.077Z"
   },
   {
    "duration": 4,
    "start_time": "2023-09-20T19:29:29.247Z"
   },
   {
    "duration": 4,
    "start_time": "2023-09-20T19:29:31.525Z"
   },
   {
    "duration": 122671,
    "start_time": "2023-09-20T19:29:32.677Z"
   },
   {
    "duration": 3,
    "start_time": "2023-09-20T19:31:35.350Z"
   },
   {
    "duration": 384258,
    "start_time": "2023-09-20T19:31:35.355Z"
   },
   {
    "duration": 10,
    "start_time": "2023-09-20T19:39:45.654Z"
   },
   {
    "duration": 7,
    "start_time": "2023-09-20T19:42:09.098Z"
   },
   {
    "duration": 4,
    "start_time": "2023-09-20T19:43:28.521Z"
   },
   {
    "duration": 58,
    "start_time": "2023-09-20T19:43:35.310Z"
   },
   {
    "duration": 18,
    "start_time": "2023-09-20T19:44:03.072Z"
   },
   {
    "duration": 15,
    "start_time": "2023-09-20T19:46:28.080Z"
   },
   {
    "duration": 14,
    "start_time": "2023-09-20T19:47:08.842Z"
   },
   {
    "duration": 10,
    "start_time": "2023-09-20T19:51:18.560Z"
   },
   {
    "duration": 4,
    "start_time": "2023-09-20T19:52:49.230Z"
   },
   {
    "duration": 433622,
    "start_time": "2023-09-20T19:52:50.282Z"
   },
   {
    "duration": 4,
    "start_time": "2023-09-20T20:01:52.894Z"
   },
   {
    "duration": 3,
    "start_time": "2023-09-20T20:02:00.488Z"
   },
   {
    "duration": 676418,
    "start_time": "2023-09-20T20:02:08.880Z"
   },
   {
    "duration": 9,
    "start_time": "2023-09-20T20:13:25.300Z"
   },
   {
    "duration": 3,
    "start_time": "2023-09-20T20:31:04.725Z"
   },
   {
    "duration": 4,
    "start_time": "2023-09-20T20:31:07.204Z"
   },
   {
    "duration": 137130,
    "start_time": "2023-09-20T20:31:08.034Z"
   },
   {
    "duration": 3,
    "start_time": "2023-09-20T20:33:25.166Z"
   },
   {
    "duration": 524320,
    "start_time": "2023-09-20T20:33:25.170Z"
   },
   {
    "duration": 11,
    "start_time": "2023-09-20T20:42:09.492Z"
   },
   {
    "duration": 7331,
    "start_time": "2023-09-20T20:45:01.482Z"
   },
   {
    "duration": 9,
    "start_time": "2023-09-20T20:45:15.820Z"
   },
   {
    "duration": 30,
    "start_time": "2023-09-20T20:45:20.929Z"
   },
   {
    "duration": 12,
    "start_time": "2023-09-20T20:48:51.985Z"
   },
   {
    "duration": 11,
    "start_time": "2023-09-20T20:49:04.295Z"
   },
   {
    "duration": 12,
    "start_time": "2023-09-20T20:52:43.085Z"
   },
   {
    "duration": 18,
    "start_time": "2023-09-20T20:52:49.764Z"
   },
   {
    "duration": 13,
    "start_time": "2023-09-20T20:52:57.655Z"
   },
   {
    "duration": 13,
    "start_time": "2023-09-20T20:53:07.262Z"
   },
   {
    "duration": 12,
    "start_time": "2023-09-20T20:54:47.866Z"
   },
   {
    "duration": 13,
    "start_time": "2023-09-20T20:59:35.572Z"
   },
   {
    "duration": 12,
    "start_time": "2023-09-20T21:01:24.464Z"
   },
   {
    "duration": 21,
    "start_time": "2023-09-20T21:01:41.152Z"
   },
   {
    "duration": 3,
    "start_time": "2023-09-20T21:14:41.100Z"
   },
   {
    "duration": 11,
    "start_time": "2023-09-20T21:14:41.289Z"
   },
   {
    "duration": 23,
    "start_time": "2023-09-20T21:14:41.444Z"
   },
   {
    "duration": 14,
    "start_time": "2023-09-20T21:32:05.876Z"
   },
   {
    "duration": 2920,
    "start_time": "2023-09-20T21:32:24.732Z"
   },
   {
    "duration": 6,
    "start_time": "2023-09-20T21:33:01.872Z"
   },
   {
    "duration": 19,
    "start_time": "2023-09-20T21:33:05.772Z"
   },
   {
    "duration": 237,
    "start_time": "2023-09-20T21:36:29.626Z"
   },
   {
    "duration": 19,
    "start_time": "2023-09-20T21:41:52.168Z"
   },
   {
    "duration": 17,
    "start_time": "2023-09-20T21:50:52.043Z"
   },
   {
    "duration": 25,
    "start_time": "2023-09-20T21:52:07.613Z"
   },
   {
    "duration": 16,
    "start_time": "2023-09-20T21:52:47.986Z"
   },
   {
    "duration": 25,
    "start_time": "2023-09-20T21:53:40.414Z"
   },
   {
    "duration": 23,
    "start_time": "2023-09-20T21:57:43.117Z"
   },
   {
    "duration": 18,
    "start_time": "2023-09-20T21:57:51.068Z"
   },
   {
    "duration": 27,
    "start_time": "2023-09-20T22:00:14.831Z"
   },
   {
    "duration": 20,
    "start_time": "2023-09-20T22:00:45.789Z"
   },
   {
    "duration": 18,
    "start_time": "2023-09-20T22:01:14.770Z"
   },
   {
    "duration": 17,
    "start_time": "2023-09-20T22:01:25.546Z"
   },
   {
    "duration": 15,
    "start_time": "2023-09-20T22:01:32.484Z"
   },
   {
    "duration": 4,
    "start_time": "2023-09-20T22:03:36.047Z"
   },
   {
    "duration": 3,
    "start_time": "2023-09-20T22:03:54.083Z"
   },
   {
    "duration": 524771,
    "start_time": "2023-09-20T22:03:55.003Z"
   },
   {
    "duration": 3,
    "start_time": "2023-09-20T22:12:39.776Z"
   },
   {
    "duration": 23,
    "start_time": "2023-09-20T22:12:39.781Z"
   },
   {
    "duration": 228,
    "start_time": "2023-09-20T22:27:00.868Z"
   },
   {
    "duration": 217,
    "start_time": "2023-09-20T22:27:27.667Z"
   },
   {
    "duration": 15,
    "start_time": "2023-09-20T22:28:52.573Z"
   },
   {
    "duration": 15,
    "start_time": "2023-09-20T22:29:58.900Z"
   },
   {
    "duration": 1596,
    "start_time": "2023-09-20T22:30:54.051Z"
   },
   {
    "duration": 9435,
    "start_time": "2023-09-20T22:31:06.014Z"
   },
   {
    "duration": 1717,
    "start_time": "2023-09-20T22:31:21.914Z"
   },
   {
    "duration": 7458,
    "start_time": "2023-09-20T22:31:32.507Z"
   },
   {
    "duration": 2381,
    "start_time": "2023-09-20T22:31:56.134Z"
   },
   {
    "duration": 1193,
    "start_time": "2023-09-20T22:32:15.178Z"
   },
   {
    "duration": 1748,
    "start_time": "2023-09-20T22:32:22.333Z"
   },
   {
    "duration": 24,
    "start_time": "2023-09-20T22:33:06.280Z"
   },
   {
    "duration": 95,
    "start_time": "2023-09-20T22:33:34.634Z"
   },
   {
    "duration": 19,
    "start_time": "2023-09-20T22:33:39.746Z"
   },
   {
    "duration": 17,
    "start_time": "2023-09-20T22:44:46.985Z"
   },
   {
    "duration": 24,
    "start_time": "2023-09-20T22:48:18.223Z"
   },
   {
    "duration": 9,
    "start_time": "2023-09-20T22:59:17.095Z"
   },
   {
    "duration": 10,
    "start_time": "2023-09-20T22:59:45.327Z"
   },
   {
    "duration": 7033,
    "start_time": "2023-09-20T23:03:08.995Z"
   },
   {
    "duration": 6,
    "start_time": "2023-09-20T23:03:20.288Z"
   },
   {
    "duration": 4,
    "start_time": "2023-09-20T23:03:24.192Z"
   },
   {
    "duration": 23,
    "start_time": "2023-09-20T23:03:39.611Z"
   },
   {
    "duration": 6718,
    "start_time": "2023-09-21T00:07:23.287Z"
   },
   {
    "duration": 2449,
    "start_time": "2023-09-21T00:07:44.339Z"
   },
   {
    "duration": 1360,
    "start_time": "2023-09-21T00:07:46.791Z"
   },
   {
    "duration": 476,
    "start_time": "2023-09-21T00:07:48.152Z"
   },
   {
    "duration": 28,
    "start_time": "2023-09-21T00:07:48.631Z"
   },
   {
    "duration": 77,
    "start_time": "2023-09-21T00:07:48.661Z"
   },
   {
    "duration": 126,
    "start_time": "2023-09-21T00:07:48.740Z"
   },
   {
    "duration": 219,
    "start_time": "2023-09-21T00:07:48.868Z"
   },
   {
    "duration": 29,
    "start_time": "2023-09-21T00:07:49.090Z"
   },
   {
    "duration": 95,
    "start_time": "2023-09-21T00:07:49.120Z"
   },
   {
    "duration": 28,
    "start_time": "2023-09-21T00:07:49.218Z"
   },
   {
    "duration": 50,
    "start_time": "2023-09-21T00:07:49.247Z"
   },
   {
    "duration": 13,
    "start_time": "2023-09-21T00:07:49.299Z"
   },
   {
    "duration": 22,
    "start_time": "2023-09-21T00:07:49.314Z"
   },
   {
    "duration": 22,
    "start_time": "2023-09-21T00:07:49.374Z"
   },
   {
    "duration": 5,
    "start_time": "2023-09-21T00:07:49.647Z"
   },
   {
    "duration": 19,
    "start_time": "2023-09-21T00:07:49.788Z"
   },
   {
    "duration": 109,
    "start_time": "2023-09-21T00:07:49.911Z"
   },
   {
    "duration": 183,
    "start_time": "2023-09-21T00:07:50.029Z"
   },
   {
    "duration": 51,
    "start_time": "2023-09-21T00:07:50.214Z"
   },
   {
    "duration": 21,
    "start_time": "2023-09-21T00:07:50.358Z"
   },
   {
    "duration": 19,
    "start_time": "2023-09-21T00:07:50.853Z"
   },
   {
    "duration": 29,
    "start_time": "2023-09-21T00:07:51.153Z"
   },
   {
    "duration": 30,
    "start_time": "2023-09-21T00:07:51.465Z"
   },
   {
    "duration": 6,
    "start_time": "2023-09-21T00:07:51.811Z"
   },
   {
    "duration": 4,
    "start_time": "2023-09-21T00:07:52.078Z"
   },
   {
    "duration": 15,
    "start_time": "2023-09-21T00:07:52.210Z"
   },
   {
    "duration": 17,
    "start_time": "2023-09-21T00:07:52.327Z"
   },
   {
    "duration": 6,
    "start_time": "2023-09-21T00:07:52.573Z"
   },
   {
    "duration": 5,
    "start_time": "2023-09-21T00:07:52.770Z"
   },
   {
    "duration": 7,
    "start_time": "2023-09-21T00:07:52.879Z"
   },
   {
    "duration": 428,
    "start_time": "2023-09-21T00:07:53.367Z"
   },
   {
    "duration": 373,
    "start_time": "2023-09-21T00:07:54.007Z"
   },
   {
    "duration": 443,
    "start_time": "2023-09-21T00:07:54.424Z"
   },
   {
    "duration": 15,
    "start_time": "2023-09-21T00:07:54.900Z"
   },
   {
    "duration": 16,
    "start_time": "2023-09-21T00:08:03.901Z"
   },
   {
    "duration": 10,
    "start_time": "2023-09-21T00:08:04.248Z"
   },
   {
    "duration": 12,
    "start_time": "2023-09-21T00:08:04.411Z"
   },
   {
    "duration": 8,
    "start_time": "2023-09-21T00:08:04.746Z"
   },
   {
    "duration": 4,
    "start_time": "2023-09-21T00:08:05.158Z"
   },
   {
    "duration": 16,
    "start_time": "2023-09-21T00:08:05.336Z"
   },
   {
    "duration": 5,
    "start_time": "2023-09-21T00:08:05.840Z"
   },
   {
    "duration": 25,
    "start_time": "2023-09-21T00:08:06.228Z"
   },
   {
    "duration": 2524,
    "start_time": "2023-09-21T00:08:06.565Z"
   },
   {
    "duration": 3375,
    "start_time": "2023-09-21T00:08:09.091Z"
   },
   {
    "duration": 5,
    "start_time": "2023-09-21T00:08:12.467Z"
   },
   {
    "duration": 1295,
    "start_time": "2023-09-21T00:08:12.474Z"
   },
   {
    "duration": 12,
    "start_time": "2023-09-21T00:08:13.792Z"
   },
   {
    "duration": 13,
    "start_time": "2023-09-21T00:08:16.540Z"
   },
   {
    "duration": 6,
    "start_time": "2023-09-21T00:08:16.860Z"
   },
   {
    "duration": 13,
    "start_time": "2023-09-21T00:12:52.789Z"
   },
   {
    "duration": 3,
    "start_time": "2023-09-21T00:12:55.989Z"
   },
   {
    "duration": 3,
    "start_time": "2023-09-21T00:12:56.947Z"
   },
   {
    "duration": 4,
    "start_time": "2023-09-21T00:13:07.196Z"
   },
   {
    "duration": 532295,
    "start_time": "2023-09-21T00:13:08.478Z"
   },
   {
    "duration": 3,
    "start_time": "2023-09-21T00:22:00.775Z"
   },
   {
    "duration": 188,
    "start_time": "2023-09-21T00:22:00.779Z"
   },
   {
    "duration": 25,
    "start_time": "2023-09-21T00:23:04.911Z"
   },
   {
    "duration": 18,
    "start_time": "2023-09-21T00:24:26.047Z"
   },
   {
    "duration": 5614,
    "start_time": "2023-09-21T00:25:35.052Z"
   },
   {
    "duration": 23,
    "start_time": "2023-09-21T00:25:53.973Z"
   },
   {
    "duration": 6,
    "start_time": "2023-09-21T00:26:01.154Z"
   },
   {
    "duration": 18,
    "start_time": "2023-09-21T00:26:08.073Z"
   },
   {
    "duration": 23,
    "start_time": "2023-09-21T00:28:00.573Z"
   },
   {
    "duration": 12,
    "start_time": "2023-09-21T00:28:17.356Z"
   },
   {
    "duration": 3,
    "start_time": "2023-09-21T00:28:45.480Z"
   },
   {
    "duration": 3,
    "start_time": "2023-09-21T00:28:46.545Z"
   },
   {
    "duration": 4,
    "start_time": "2023-09-21T00:28:55.717Z"
   },
   {
    "duration": 3,
    "start_time": "2023-09-21T00:29:22.995Z"
   },
   {
    "duration": 307974,
    "start_time": "2023-09-21T00:29:25.585Z"
   },
   {
    "duration": 3,
    "start_time": "2023-09-21T00:35:08.618Z"
   },
   {
    "duration": 22,
    "start_time": "2023-09-21T00:35:14.424Z"
   },
   {
    "duration": 3184,
    "start_time": "2023-09-21T00:36:14.290Z"
   },
   {
    "duration": 2444,
    "start_time": "2023-09-21T00:36:17.476Z"
   },
   {
    "duration": 1482,
    "start_time": "2023-09-21T00:36:19.922Z"
   },
   {
    "duration": 294,
    "start_time": "2023-09-21T00:36:21.406Z"
   },
   {
    "duration": 28,
    "start_time": "2023-09-21T00:36:21.702Z"
   },
   {
    "duration": 43,
    "start_time": "2023-09-21T00:36:21.733Z"
   },
   {
    "duration": 39,
    "start_time": "2023-09-21T00:36:21.777Z"
   },
   {
    "duration": 147,
    "start_time": "2023-09-21T00:36:21.818Z"
   },
   {
    "duration": 3,
    "start_time": "2023-09-21T00:36:21.967Z"
   },
   {
    "duration": 22,
    "start_time": "2023-09-21T00:36:21.972Z"
   },
   {
    "duration": 15,
    "start_time": "2023-09-21T00:36:21.996Z"
   },
   {
    "duration": 30,
    "start_time": "2023-09-21T00:36:22.026Z"
   },
   {
    "duration": 25,
    "start_time": "2023-09-21T00:36:22.058Z"
   },
   {
    "duration": 34,
    "start_time": "2023-09-21T00:36:22.085Z"
   },
   {
    "duration": 89,
    "start_time": "2023-09-21T00:36:22.121Z"
   },
   {
    "duration": 24,
    "start_time": "2023-09-21T00:36:22.213Z"
   },
   {
    "duration": 32,
    "start_time": "2023-09-21T00:36:22.239Z"
   },
   {
    "duration": 23,
    "start_time": "2023-09-21T00:36:22.272Z"
   },
   {
    "duration": 14,
    "start_time": "2023-09-21T00:36:22.296Z"
   },
   {
    "duration": 54,
    "start_time": "2023-09-21T00:36:22.312Z"
   },
   {
    "duration": 53,
    "start_time": "2023-09-21T00:36:22.368Z"
   },
   {
    "duration": 29,
    "start_time": "2023-09-21T00:36:22.424Z"
   },
   {
    "duration": 43,
    "start_time": "2023-09-21T00:36:22.900Z"
   },
   {
    "duration": 40,
    "start_time": "2023-09-21T00:36:23.521Z"
   },
   {
    "duration": 9,
    "start_time": "2023-09-21T00:36:24.149Z"
   },
   {
    "duration": 4,
    "start_time": "2023-09-21T00:36:24.802Z"
   },
   {
    "duration": 15,
    "start_time": "2023-09-21T00:36:25.005Z"
   },
   {
    "duration": 17,
    "start_time": "2023-09-21T00:36:25.245Z"
   },
   {
    "duration": 9,
    "start_time": "2023-09-21T00:36:25.621Z"
   },
   {
    "duration": 5,
    "start_time": "2023-09-21T00:36:26.015Z"
   },
   {
    "duration": 6,
    "start_time": "2023-09-21T00:36:26.250Z"
   },
   {
    "duration": 460,
    "start_time": "2023-09-21T00:36:27.137Z"
   },
   {
    "duration": 400,
    "start_time": "2023-09-21T00:36:28.209Z"
   },
   {
    "duration": 475,
    "start_time": "2023-09-21T00:36:28.841Z"
   },
   {
    "duration": 11,
    "start_time": "2023-09-21T00:36:29.713Z"
   },
   {
    "duration": 22,
    "start_time": "2023-09-21T00:36:30.166Z"
   },
   {
    "duration": 12,
    "start_time": "2023-09-21T00:36:30.582Z"
   },
   {
    "duration": 11,
    "start_time": "2023-09-21T00:36:30.804Z"
   },
   {
    "duration": 7,
    "start_time": "2023-09-21T00:36:31.254Z"
   },
   {
    "duration": 4,
    "start_time": "2023-09-21T00:36:31.705Z"
   },
   {
    "duration": 22,
    "start_time": "2023-09-21T00:36:31.922Z"
   },
   {
    "duration": 4,
    "start_time": "2023-09-21T00:36:32.601Z"
   },
   {
    "duration": 17,
    "start_time": "2023-09-21T00:36:33.051Z"
   },
   {
    "duration": 2600,
    "start_time": "2023-09-21T00:36:33.473Z"
   },
   {
    "duration": 3623,
    "start_time": "2023-09-21T00:36:36.075Z"
   },
   {
    "duration": 5,
    "start_time": "2023-09-21T00:36:39.700Z"
   },
   {
    "duration": 1530,
    "start_time": "2023-09-21T00:36:39.706Z"
   },
   {
    "duration": 21,
    "start_time": "2023-09-21T00:36:41.239Z"
   },
   {
    "duration": 24,
    "start_time": "2023-09-21T00:36:41.263Z"
   },
   {
    "duration": 4,
    "start_time": "2023-09-21T00:36:44.089Z"
   },
   {
    "duration": 12,
    "start_time": "2023-09-21T00:36:45.353Z"
   },
   {
    "duration": 2,
    "start_time": "2023-09-21T00:36:47.089Z"
   },
   {
    "duration": 4,
    "start_time": "2023-09-21T00:36:48.518Z"
   },
   {
    "duration": 4,
    "start_time": "2023-09-21T00:36:54.170Z"
   },
   {
    "duration": 148015,
    "start_time": "2023-09-21T00:36:57.482Z"
   },
   {
    "duration": 4,
    "start_time": "2023-09-21T00:39:25.499Z"
   },
   {
    "duration": 17720,
    "start_time": "2023-09-21T00:39:25.504Z"
   },
   {
    "duration": 12,
    "start_time": "2023-09-21T00:39:43.235Z"
   },
   {
    "duration": 441820,
    "start_time": "2023-09-21T00:39:43.250Z"
   },
   {
    "duration": 3,
    "start_time": "2023-09-21T00:47:05.072Z"
   },
   {
    "duration": 56,
    "start_time": "2023-09-21T00:47:05.076Z"
   },
   {
    "duration": 214,
    "start_time": "2023-09-21T00:47:05.139Z"
   },
   {
    "duration": 218,
    "start_time": "2023-09-21T00:47:05.356Z"
   },
   {
    "duration": 4,
    "start_time": "2023-09-21T00:48:35.693Z"
   },
   {
    "duration": 240,
    "start_time": "2023-09-21T00:48:46.515Z"
   },
   {
    "duration": 253,
    "start_time": "2023-09-21T00:48:55.851Z"
   },
   {
    "duration": 17,
    "start_time": "2023-09-21T00:52:16.412Z"
   },
   {
    "duration": 6,
    "start_time": "2023-09-21T00:52:26.046Z"
   },
   {
    "duration": 3100,
    "start_time": "2023-09-21T00:53:07.509Z"
   },
   {
    "duration": 2459,
    "start_time": "2023-09-21T00:53:10.611Z"
   },
   {
    "duration": 1347,
    "start_time": "2023-09-21T00:53:13.072Z"
   },
   {
    "duration": 251,
    "start_time": "2023-09-21T00:53:14.421Z"
   },
   {
    "duration": 26,
    "start_time": "2023-09-21T00:53:14.674Z"
   },
   {
    "duration": 56,
    "start_time": "2023-09-21T00:53:14.701Z"
   },
   {
    "duration": 21,
    "start_time": "2023-09-21T00:53:14.759Z"
   },
   {
    "duration": 158,
    "start_time": "2023-09-21T00:53:14.782Z"
   },
   {
    "duration": 6,
    "start_time": "2023-09-21T00:53:14.947Z"
   },
   {
    "duration": 31,
    "start_time": "2023-09-21T00:53:14.956Z"
   },
   {
    "duration": 28,
    "start_time": "2023-09-21T00:53:14.989Z"
   },
   {
    "duration": 30,
    "start_time": "2023-09-21T00:53:15.019Z"
   },
   {
    "duration": 137,
    "start_time": "2023-09-21T00:53:15.051Z"
   },
   {
    "duration": 32,
    "start_time": "2023-09-21T00:53:15.189Z"
   },
   {
    "duration": 33,
    "start_time": "2023-09-21T00:53:15.222Z"
   },
   {
    "duration": 25,
    "start_time": "2023-09-21T00:53:15.256Z"
   },
   {
    "duration": 36,
    "start_time": "2023-09-21T00:53:15.282Z"
   },
   {
    "duration": 45,
    "start_time": "2023-09-21T00:53:15.320Z"
   },
   {
    "duration": 73,
    "start_time": "2023-09-21T00:53:15.367Z"
   },
   {
    "duration": 26,
    "start_time": "2023-09-21T00:53:15.443Z"
   },
   {
    "duration": 17,
    "start_time": "2023-09-21T00:53:15.471Z"
   },
   {
    "duration": 71,
    "start_time": "2023-09-21T00:53:15.490Z"
   },
   {
    "duration": 88,
    "start_time": "2023-09-21T00:53:15.563Z"
   },
   {
    "duration": 30,
    "start_time": "2023-09-21T00:53:15.653Z"
   },
   {
    "duration": 5,
    "start_time": "2023-09-21T00:53:15.685Z"
   },
   {
    "duration": 11,
    "start_time": "2023-09-21T00:53:15.692Z"
   },
   {
    "duration": 45,
    "start_time": "2023-09-21T00:53:15.704Z"
   },
   {
    "duration": 15,
    "start_time": "2023-09-21T00:53:15.755Z"
   },
   {
    "duration": 145,
    "start_time": "2023-09-21T00:53:15.772Z"
   },
   {
    "duration": 28,
    "start_time": "2023-09-21T00:53:15.919Z"
   },
   {
    "duration": 95,
    "start_time": "2023-09-21T00:53:15.950Z"
   },
   {
    "duration": 483,
    "start_time": "2023-09-21T00:53:16.047Z"
   },
   {
    "duration": 507,
    "start_time": "2023-09-21T00:53:16.532Z"
   },
   {
    "duration": 386,
    "start_time": "2023-09-21T00:53:17.042Z"
   },
   {
    "duration": 21,
    "start_time": "2023-09-21T00:53:17.431Z"
   },
   {
    "duration": 26,
    "start_time": "2023-09-21T00:53:17.455Z"
   },
   {
    "duration": 14,
    "start_time": "2023-09-21T00:53:17.482Z"
   },
   {
    "duration": 15,
    "start_time": "2023-09-21T00:53:17.498Z"
   },
   {
    "duration": 30,
    "start_time": "2023-09-21T00:53:17.523Z"
   },
   {
    "duration": 7,
    "start_time": "2023-09-21T00:53:17.556Z"
   },
   {
    "duration": 14,
    "start_time": "2023-09-21T00:53:17.565Z"
   },
   {
    "duration": 8,
    "start_time": "2023-09-21T00:53:17.580Z"
   },
   {
    "duration": 23,
    "start_time": "2023-09-21T00:53:17.589Z"
   },
   {
    "duration": 2574,
    "start_time": "2023-09-21T00:53:17.614Z"
   },
   {
    "duration": 3825,
    "start_time": "2023-09-21T00:53:20.189Z"
   },
   {
    "duration": 5,
    "start_time": "2023-09-21T00:53:24.015Z"
   },
   {
    "duration": 1379,
    "start_time": "2023-09-21T00:53:24.022Z"
   },
   {
    "duration": 37,
    "start_time": "2023-09-21T00:53:25.403Z"
   },
   {
    "duration": 148,
    "start_time": "2023-09-21T00:53:25.446Z"
   },
   {
    "duration": 101,
    "start_time": "2023-09-21T00:53:25.596Z"
   },
   {
    "duration": 51,
    "start_time": "2023-09-21T00:53:25.699Z"
   },
   {
    "duration": 24,
    "start_time": "2023-09-21T00:53:25.755Z"
   },
   {
    "duration": 35,
    "start_time": "2023-09-21T00:53:25.782Z"
   },
   {
    "duration": 59,
    "start_time": "2023-09-21T00:53:25.819Z"
   },
   {
    "duration": 150800,
    "start_time": "2023-09-21T00:53:25.881Z"
   },
   {
    "duration": 3,
    "start_time": "2023-09-21T00:55:56.683Z"
   },
   {
    "duration": 11725,
    "start_time": "2023-09-21T00:55:56.688Z"
   },
   {
    "duration": 3,
    "start_time": "2023-09-21T00:56:08.415Z"
   },
   {
    "duration": 6145,
    "start_time": "2023-09-21T00:56:08.420Z"
   },
   {
    "duration": 11,
    "start_time": "2023-09-21T00:56:14.567Z"
   },
   {
    "duration": 0,
    "start_time": "2023-09-21T00:56:14.580Z"
   },
   {
    "duration": 0,
    "start_time": "2023-09-21T00:56:14.581Z"
   },
   {
    "duration": 0,
    "start_time": "2023-09-21T00:56:14.583Z"
   },
   {
    "duration": 0,
    "start_time": "2023-09-21T00:56:14.584Z"
   },
   {
    "duration": 2993,
    "start_time": "2023-09-21T00:56:22.300Z"
   },
   {
    "duration": 2436,
    "start_time": "2023-09-21T00:56:25.295Z"
   },
   {
    "duration": 1365,
    "start_time": "2023-09-21T00:56:27.733Z"
   },
   {
    "duration": 244,
    "start_time": "2023-09-21T00:56:29.099Z"
   },
   {
    "duration": 27,
    "start_time": "2023-09-21T00:56:29.345Z"
   },
   {
    "duration": 6,
    "start_time": "2023-09-21T00:56:29.374Z"
   },
   {
    "duration": 22,
    "start_time": "2023-09-21T00:56:29.381Z"
   },
   {
    "duration": 137,
    "start_time": "2023-09-21T00:56:29.404Z"
   },
   {
    "duration": 5,
    "start_time": "2023-09-21T00:56:29.543Z"
   },
   {
    "duration": 36,
    "start_time": "2023-09-21T00:56:29.550Z"
   },
   {
    "duration": 16,
    "start_time": "2023-09-21T00:56:29.588Z"
   },
   {
    "duration": 24,
    "start_time": "2023-09-21T00:56:29.605Z"
   },
   {
    "duration": 7,
    "start_time": "2023-09-21T00:56:29.631Z"
   },
   {
    "duration": 14,
    "start_time": "2023-09-21T00:56:29.640Z"
   },
   {
    "duration": 30,
    "start_time": "2023-09-21T00:56:29.656Z"
   },
   {
    "duration": 20,
    "start_time": "2023-09-21T00:56:29.688Z"
   },
   {
    "duration": 28,
    "start_time": "2023-09-21T00:56:29.710Z"
   },
   {
    "duration": 29,
    "start_time": "2023-09-21T00:56:29.740Z"
   },
   {
    "duration": 21,
    "start_time": "2023-09-21T00:56:29.771Z"
   },
   {
    "duration": 23,
    "start_time": "2023-09-21T00:56:29.793Z"
   },
   {
    "duration": 31,
    "start_time": "2023-09-21T00:56:29.818Z"
   },
   {
    "duration": 15,
    "start_time": "2023-09-21T00:56:29.853Z"
   },
   {
    "duration": 31,
    "start_time": "2023-09-21T00:56:29.870Z"
   },
   {
    "duration": 50,
    "start_time": "2023-09-21T00:56:29.903Z"
   },
   {
    "duration": 7,
    "start_time": "2023-09-21T00:56:29.955Z"
   },
   {
    "duration": 9,
    "start_time": "2023-09-21T00:56:29.964Z"
   },
   {
    "duration": 27,
    "start_time": "2023-09-21T00:56:29.975Z"
   },
   {
    "duration": 43,
    "start_time": "2023-09-21T00:56:30.006Z"
   },
   {
    "duration": 63,
    "start_time": "2023-09-21T00:56:30.051Z"
   },
   {
    "duration": 43,
    "start_time": "2023-09-21T00:56:30.116Z"
   },
   {
    "duration": 29,
    "start_time": "2023-09-21T00:56:30.160Z"
   },
   {
    "duration": 491,
    "start_time": "2023-09-21T00:56:30.191Z"
   },
   {
    "duration": 491,
    "start_time": "2023-09-21T00:56:30.684Z"
   },
   {
    "duration": 421,
    "start_time": "2023-09-21T00:56:31.176Z"
   },
   {
    "duration": 26,
    "start_time": "2023-09-21T00:56:31.600Z"
   },
   {
    "duration": 225,
    "start_time": "2023-09-21T00:56:31.632Z"
   },
   {
    "duration": 83,
    "start_time": "2023-09-21T00:56:31.858Z"
   },
   {
    "duration": 63,
    "start_time": "2023-09-21T00:56:31.943Z"
   },
   {
    "duration": 78,
    "start_time": "2023-09-21T00:56:32.007Z"
   },
   {
    "duration": 166,
    "start_time": "2023-09-21T00:56:32.087Z"
   },
   {
    "duration": 250,
    "start_time": "2023-09-21T00:56:32.255Z"
   },
   {
    "duration": 251,
    "start_time": "2023-09-21T00:56:32.507Z"
   },
   {
    "duration": 151,
    "start_time": "2023-09-21T00:56:32.760Z"
   },
   {
    "duration": 2646,
    "start_time": "2023-09-21T00:56:32.913Z"
   },
   {
    "duration": 3761,
    "start_time": "2023-09-21T00:56:35.561Z"
   },
   {
    "duration": 8,
    "start_time": "2023-09-21T00:56:39.324Z"
   },
   {
    "duration": 1375,
    "start_time": "2023-09-21T00:56:39.334Z"
   },
   {
    "duration": 29,
    "start_time": "2023-09-21T00:56:40.712Z"
   },
   {
    "duration": 24,
    "start_time": "2023-09-21T00:56:40.752Z"
   },
   {
    "duration": 24,
    "start_time": "2023-09-21T00:56:40.778Z"
   },
   {
    "duration": 19,
    "start_time": "2023-09-21T00:56:40.804Z"
   },
   {
    "duration": 7,
    "start_time": "2023-09-21T00:56:40.830Z"
   },
   {
    "duration": 11,
    "start_time": "2023-09-21T00:56:40.839Z"
   },
   {
    "duration": 19,
    "start_time": "2023-09-21T00:56:40.852Z"
   },
   {
    "duration": 150099,
    "start_time": "2023-09-21T00:56:40.873Z"
   },
   {
    "duration": 4,
    "start_time": "2023-09-21T00:59:10.974Z"
   },
   {
    "duration": 16074,
    "start_time": "2023-09-21T00:59:10.980Z"
   },
   {
    "duration": 75,
    "start_time": "2023-09-21T00:59:27.058Z"
   },
   {
    "duration": 259270,
    "start_time": "2023-09-21T00:59:27.136Z"
   },
   {
    "duration": 3,
    "start_time": "2023-09-21T01:03:46.408Z"
   },
   {
    "duration": 64,
    "start_time": "2023-09-21T01:03:46.413Z"
   },
   {
    "duration": 198,
    "start_time": "2023-09-21T01:03:46.478Z"
   },
   {
    "duration": 199,
    "start_time": "2023-09-21T01:03:46.678Z"
   },
   {
    "duration": 279,
    "start_time": "2023-09-21T01:03:46.879Z"
   },
   {
    "duration": 241,
    "start_time": "2023-09-21T01:08:57.271Z"
   },
   {
    "duration": 254,
    "start_time": "2023-09-21T01:09:43.722Z"
   },
   {
    "duration": 381,
    "start_time": "2023-09-21T01:11:13.974Z"
   },
   {
    "duration": 3158,
    "start_time": "2023-09-21T01:13:39.217Z"
   },
   {
    "duration": 2432,
    "start_time": "2023-09-21T01:13:42.378Z"
   },
   {
    "duration": 1512,
    "start_time": "2023-09-21T01:13:44.812Z"
   },
   {
    "duration": 500,
    "start_time": "2023-09-21T01:13:46.329Z"
   },
   {
    "duration": 33,
    "start_time": "2023-09-21T01:13:46.831Z"
   },
   {
    "duration": 4,
    "start_time": "2023-09-21T01:13:46.866Z"
   },
   {
    "duration": 5,
    "start_time": "2023-09-21T01:13:46.872Z"
   },
   {
    "duration": 149,
    "start_time": "2023-09-21T01:13:46.879Z"
   },
   {
    "duration": 5,
    "start_time": "2023-09-21T01:13:47.030Z"
   },
   {
    "duration": 30,
    "start_time": "2023-09-21T01:13:47.039Z"
   },
   {
    "duration": 23,
    "start_time": "2023-09-21T01:13:47.071Z"
   },
   {
    "duration": 37,
    "start_time": "2023-09-21T01:13:47.095Z"
   },
   {
    "duration": 10,
    "start_time": "2023-09-21T01:13:47.137Z"
   },
   {
    "duration": 14,
    "start_time": "2023-09-21T01:13:47.149Z"
   },
   {
    "duration": 16,
    "start_time": "2023-09-21T01:13:47.164Z"
   },
   {
    "duration": 9,
    "start_time": "2023-09-21T01:13:47.181Z"
   },
   {
    "duration": 24,
    "start_time": "2023-09-21T01:13:47.191Z"
   },
   {
    "duration": 27,
    "start_time": "2023-09-21T01:13:47.217Z"
   },
   {
    "duration": 6,
    "start_time": "2023-09-21T01:13:47.249Z"
   },
   {
    "duration": 16,
    "start_time": "2023-09-21T01:13:47.257Z"
   },
   {
    "duration": 15,
    "start_time": "2023-09-21T01:13:47.274Z"
   },
   {
    "duration": 45,
    "start_time": "2023-09-21T01:13:47.290Z"
   },
   {
    "duration": 35,
    "start_time": "2023-09-21T01:13:47.336Z"
   },
   {
    "duration": 29,
    "start_time": "2023-09-21T01:13:47.372Z"
   },
   {
    "duration": 31,
    "start_time": "2023-09-21T01:13:47.402Z"
   },
   {
    "duration": 7,
    "start_time": "2023-09-21T01:13:47.435Z"
   },
   {
    "duration": 18,
    "start_time": "2023-09-21T01:13:47.444Z"
   },
   {
    "duration": 16,
    "start_time": "2023-09-21T01:13:47.466Z"
   },
   {
    "duration": 5,
    "start_time": "2023-09-21T01:13:47.484Z"
   },
   {
    "duration": 17,
    "start_time": "2023-09-21T01:13:47.528Z"
   },
   {
    "duration": 7,
    "start_time": "2023-09-21T01:13:47.548Z"
   },
   {
    "duration": 462,
    "start_time": "2023-09-21T01:13:47.557Z"
   },
   {
    "duration": 498,
    "start_time": "2023-09-21T01:13:48.020Z"
   },
   {
    "duration": 401,
    "start_time": "2023-09-21T01:13:48.519Z"
   },
   {
    "duration": 26,
    "start_time": "2023-09-21T01:13:48.924Z"
   },
   {
    "duration": 37,
    "start_time": "2023-09-21T01:13:48.953Z"
   },
   {
    "duration": 56,
    "start_time": "2023-09-21T01:13:48.992Z"
   },
   {
    "duration": 98,
    "start_time": "2023-09-21T01:13:49.050Z"
   },
   {
    "duration": 22,
    "start_time": "2023-09-21T01:13:49.150Z"
   },
   {
    "duration": 27,
    "start_time": "2023-09-21T01:13:49.174Z"
   },
   {
    "duration": 49,
    "start_time": "2023-09-21T01:13:49.203Z"
   },
   {
    "duration": 80,
    "start_time": "2023-09-21T01:13:49.254Z"
   },
   {
    "duration": 77,
    "start_time": "2023-09-21T01:13:49.337Z"
   },
   {
    "duration": 2712,
    "start_time": "2023-09-21T01:13:49.415Z"
   },
   {
    "duration": 3769,
    "start_time": "2023-09-21T01:13:52.129Z"
   },
   {
    "duration": 7,
    "start_time": "2023-09-21T01:13:55.900Z"
   },
   {
    "duration": 1337,
    "start_time": "2023-09-21T01:13:55.909Z"
   },
   {
    "duration": 16,
    "start_time": "2023-09-21T01:13:57.248Z"
   },
   {
    "duration": 38,
    "start_time": "2023-09-21T01:13:57.266Z"
   },
   {
    "duration": 25,
    "start_time": "2023-09-21T01:13:57.305Z"
   },
   {
    "duration": 36,
    "start_time": "2023-09-21T01:13:57.332Z"
   },
   {
    "duration": 22,
    "start_time": "2023-09-21T01:13:57.370Z"
   },
   {
    "duration": 12,
    "start_time": "2023-09-21T01:13:57.394Z"
   },
   {
    "duration": 34,
    "start_time": "2023-09-21T01:13:57.407Z"
   },
   {
    "duration": 152472,
    "start_time": "2023-09-21T01:13:57.443Z"
   },
   {
    "duration": 8,
    "start_time": "2023-09-21T01:16:29.917Z"
   },
   {
    "duration": 17004,
    "start_time": "2023-09-21T01:16:29.928Z"
   },
   {
    "duration": 11,
    "start_time": "2023-09-21T01:16:46.936Z"
   },
   {
    "duration": 8222,
    "start_time": "2023-09-21T03:54:16.742Z"
   },
   {
    "duration": 3595,
    "start_time": "2023-09-21T03:54:24.967Z"
   },
   {
    "duration": 1765,
    "start_time": "2023-09-21T03:54:28.567Z"
   },
   {
    "duration": 471,
    "start_time": "2023-09-21T03:54:30.336Z"
   },
   {
    "duration": 644,
    "start_time": "2023-09-21T03:54:30.810Z"
   },
   {
    "duration": 49,
    "start_time": "2023-09-21T03:54:31.455Z"
   },
   {
    "duration": 69,
    "start_time": "2023-09-21T03:54:31.506Z"
   },
   {
    "duration": 282,
    "start_time": "2023-09-21T03:54:31.576Z"
   },
   {
    "duration": 5,
    "start_time": "2023-09-21T03:54:31.859Z"
   },
   {
    "duration": 177,
    "start_time": "2023-09-21T03:54:31.866Z"
   },
   {
    "duration": 20,
    "start_time": "2023-09-21T03:54:32.046Z"
   },
   {
    "duration": 54,
    "start_time": "2023-09-21T03:54:32.068Z"
   },
   {
    "duration": 27,
    "start_time": "2023-09-21T03:54:32.125Z"
   },
   {
    "duration": 52,
    "start_time": "2023-09-21T03:54:32.155Z"
   },
   {
    "duration": 64,
    "start_time": "2023-09-21T03:54:32.209Z"
   },
   {
    "duration": 29,
    "start_time": "2023-09-21T03:54:32.275Z"
   },
   {
    "duration": 43,
    "start_time": "2023-09-21T03:54:32.307Z"
   },
   {
    "duration": 32,
    "start_time": "2023-09-21T03:54:32.352Z"
   },
   {
    "duration": 97,
    "start_time": "2023-09-21T03:54:32.386Z"
   },
   {
    "duration": 45,
    "start_time": "2023-09-21T03:54:32.486Z"
   },
   {
    "duration": 30,
    "start_time": "2023-09-21T03:54:32.536Z"
   },
   {
    "duration": 24,
    "start_time": "2023-09-21T03:54:32.571Z"
   },
   {
    "duration": 63,
    "start_time": "2023-09-21T03:54:32.598Z"
   },
   {
    "duration": 38,
    "start_time": "2023-09-21T03:54:32.663Z"
   },
   {
    "duration": 52,
    "start_time": "2023-09-21T03:54:32.710Z"
   },
   {
    "duration": 32,
    "start_time": "2023-09-21T03:54:32.764Z"
   },
   {
    "duration": 36,
    "start_time": "2023-09-21T03:54:32.798Z"
   },
   {
    "duration": 27,
    "start_time": "2023-09-21T03:54:32.837Z"
   },
   {
    "duration": 6,
    "start_time": "2023-09-21T03:54:32.865Z"
   },
   {
    "duration": 19,
    "start_time": "2023-09-21T03:54:32.872Z"
   },
   {
    "duration": 9,
    "start_time": "2023-09-21T03:54:32.893Z"
   },
   {
    "duration": 541,
    "start_time": "2023-09-21T03:54:32.904Z"
   },
   {
    "duration": 535,
    "start_time": "2023-09-21T03:54:33.447Z"
   },
   {
    "duration": 430,
    "start_time": "2023-09-21T03:54:33.985Z"
   },
   {
    "duration": 23,
    "start_time": "2023-09-21T03:54:34.417Z"
   },
   {
    "duration": 17,
    "start_time": "2023-09-21T03:54:34.444Z"
   },
   {
    "duration": 13,
    "start_time": "2023-09-21T03:54:34.463Z"
   },
   {
    "duration": 44,
    "start_time": "2023-09-21T03:54:34.478Z"
   },
   {
    "duration": 11,
    "start_time": "2023-09-21T03:54:34.525Z"
   },
   {
    "duration": 6,
    "start_time": "2023-09-21T03:54:34.538Z"
   },
   {
    "duration": 12,
    "start_time": "2023-09-21T03:54:34.548Z"
   },
   {
    "duration": 5,
    "start_time": "2023-09-21T03:54:34.562Z"
   },
   {
    "duration": 46,
    "start_time": "2023-09-21T03:54:34.569Z"
   },
   {
    "duration": 2983,
    "start_time": "2023-09-21T03:54:34.619Z"
   },
   {
    "duration": 4175,
    "start_time": "2023-09-21T03:54:37.604Z"
   },
   {
    "duration": 6,
    "start_time": "2023-09-21T03:54:41.782Z"
   },
   {
    "duration": 1500,
    "start_time": "2023-09-21T03:54:41.790Z"
   },
   {
    "duration": 25,
    "start_time": "2023-09-21T03:54:43.292Z"
   },
   {
    "duration": 18,
    "start_time": "2023-09-21T03:54:43.320Z"
   },
   {
    "duration": 9,
    "start_time": "2023-09-21T03:54:43.340Z"
   },
   {
    "duration": 20,
    "start_time": "2023-09-21T03:54:43.351Z"
   },
   {
    "duration": 3,
    "start_time": "2023-09-21T03:54:43.373Z"
   },
   {
    "duration": 33,
    "start_time": "2023-09-21T03:54:43.379Z"
   },
   {
    "duration": 9,
    "start_time": "2023-09-21T03:54:43.414Z"
   },
   {
    "duration": 155200,
    "start_time": "2023-09-21T03:54:43.425Z"
   },
   {
    "duration": 4,
    "start_time": "2023-09-21T03:57:18.628Z"
   },
   {
    "duration": 24395,
    "start_time": "2023-09-21T03:57:18.635Z"
   },
   {
    "duration": 82,
    "start_time": "2023-09-21T03:57:43.032Z"
   },
   {
    "duration": 268135,
    "start_time": "2023-09-21T03:57:43.116Z"
   },
   {
    "duration": 3,
    "start_time": "2023-09-21T04:02:11.252Z"
   },
   {
    "duration": 74,
    "start_time": "2023-09-21T04:02:11.257Z"
   },
   {
    "duration": 229,
    "start_time": "2023-09-21T04:02:11.338Z"
   },
   {
    "duration": 197,
    "start_time": "2023-09-21T04:02:11.569Z"
   },
   {
    "duration": 299,
    "start_time": "2023-09-21T04:02:11.768Z"
   }
  ],
  "kernelspec": {
   "display_name": "Python 3 (ipykernel)",
   "language": "python",
   "name": "python3"
  },
  "language_info": {
   "codemirror_mode": {
    "name": "ipython",
    "version": 3
   },
   "file_extension": ".py",
   "mimetype": "text/x-python",
   "name": "python",
   "nbconvert_exporter": "python",
   "pygments_lexer": "ipython3",
   "version": "3.10.11"
  },
  "toc": {
   "base_numbering": 1,
   "nav_menu": {},
   "number_sections": true,
   "sideBar": true,
   "skip_h1_title": true,
   "title_cell": "Table of Contents",
   "title_sidebar": "Contents",
   "toc_cell": false,
   "toc_position": {
    "height": "calc(100% - 180px)",
    "left": "10px",
    "top": "150px",
    "width": "301.744px"
   },
   "toc_section_display": true,
   "toc_window_display": true
  }
 },
 "nbformat": 4,
 "nbformat_minor": 4
}
