{
 "cells": [
  {
   "cell_type": "markdown",
   "metadata": {
    "toc": true
   },
   "source": [
    "<h1>Содержание<span class=\"tocSkip\"></span></h1>\n",
    "<div class=\"toc\"><ul class=\"toc-item\"><li><span><a href=\"#Загрузка-данных\" data-toc-modified-id=\"Загрузка-данных-1\"><span class=\"toc-item-num\">1&nbsp;&nbsp;</span>Загрузка данных</a></span><ul class=\"toc-item\"><li><span><a href=\"#Библиотеки\" data-toc-modified-id=\"Библиотеки-1.1\"><span class=\"toc-item-num\">1.1&nbsp;&nbsp;</span>Библиотеки</a></span></li><li><span><a href=\"#Подготовка-данных\" data-toc-modified-id=\"Подготовка-данных-1.2\"><span class=\"toc-item-num\">1.2&nbsp;&nbsp;</span>Подготовка данных</a></span></li><li><span><a href=\"#Промежуточный-вывод\" data-toc-modified-id=\"Промежуточный-вывод-1.3\"><span class=\"toc-item-num\">1.3&nbsp;&nbsp;</span>Промежуточный вывод</a></span></li></ul></li><li><span><a href=\"#Умножение-матриц\" data-toc-modified-id=\"Умножение-матриц-2\"><span class=\"toc-item-num\">2&nbsp;&nbsp;</span>Умножение матриц</a></span><ul class=\"toc-item\"><li><span><a href=\"#Задача\" data-toc-modified-id=\"Задача-2.1\"><span class=\"toc-item-num\">2.1&nbsp;&nbsp;</span>Задача</a></span></li><li><span><a href=\"#Решение\" data-toc-modified-id=\"Решение-2.2\"><span class=\"toc-item-num\">2.2&nbsp;&nbsp;</span>Решение</a></span></li><li><span><a href=\"#Промежуточный-вывод\" data-toc-modified-id=\"Промежуточный-вывод-2.3\"><span class=\"toc-item-num\">2.3&nbsp;&nbsp;</span>Промежуточный вывод</a></span></li></ul></li><li><span><a href=\"#Алгоритм-преобразования\" data-toc-modified-id=\"Алгоритм-преобразования-3\"><span class=\"toc-item-num\">3&nbsp;&nbsp;</span>Алгоритм преобразования</a></span></li><li><span><a href=\"#Проверка-алгоритма\" data-toc-modified-id=\"Проверка-алгоритма-4\"><span class=\"toc-item-num\">4&nbsp;&nbsp;</span>Проверка алгоритма</a></span><ul class=\"toc-item\"><li><span><a href=\"#Модель-до-преобразования\" data-toc-modified-id=\"Модель-до-преобразования-4.1\"><span class=\"toc-item-num\">4.1&nbsp;&nbsp;</span>Модель до преобразования</a></span></li><li><span><a href=\"#Модель-после-преобразования\" data-toc-modified-id=\"Модель-после-преобразования-4.2\"><span class=\"toc-item-num\">4.2&nbsp;&nbsp;</span>Модель после преобразования</a></span></li><li><span><a href=\"#Промежуточный-вывод\" data-toc-modified-id=\"Промежуточный-вывод-4.3\"><span class=\"toc-item-num\">4.3&nbsp;&nbsp;</span>Промежуточный вывод</a></span></li></ul></li><li><span><a href=\"#Вывод\" data-toc-modified-id=\"Вывод-5\"><span class=\"toc-item-num\">5&nbsp;&nbsp;</span>Вывод</a></span></li><li><span><a href=\"#Чек-лист-проверки\" data-toc-modified-id=\"Чек-лист-проверки-6\"><span class=\"toc-item-num\">6&nbsp;&nbsp;</span>Чек-лист проверки</a></span></li></ul></div>"
   ]
  },
  {
   "cell_type": "markdown",
   "metadata": {},
   "source": [
    "# Защита персональных данных клиентов"
   ]
  },
  {
   "cell_type": "markdown",
   "metadata": {},
   "source": [
    "Вам нужно защитить данные клиентов страховой компании «Хоть потоп». Разработайте такой метод преобразования данных, чтобы по ним было сложно восстановить персональную информацию. Обоснуйте корректность его работы.\n",
    "\n",
    "Нужно защитить данные, чтобы при преобразовании качество моделей машинного обучения не ухудшилось. Подбирать наилучшую модель не требуется."
   ]
  },
  {
   "cell_type": "markdown",
   "metadata": {},
   "source": [
    "# Описание данных"
   ]
  },
  {
   "cell_type": "markdown",
   "metadata": {},
   "source": [
    "Признаки: пол, возраст и зарплата застрахованного, количество членов его семьи.\n",
    "\n",
    "Целевой признак: количество страховых выплат клиенту за последние 5 лет."
   ]
  },
  {
   "cell_type": "markdown",
   "metadata": {},
   "source": [
    "## Загрузка данных"
   ]
  },
  {
   "cell_type": "markdown",
   "metadata": {},
   "source": [
    "### Библиотеки"
   ]
  },
  {
   "cell_type": "code",
   "execution_count": 1,
   "metadata": {},
   "outputs": [],
   "source": [
    "import pandas as pd\n",
    "import numpy as np\n",
    "from sklearn.metrics import r2_score\n",
    "from sklearn.model_selection import train_test_split\n",
    "pd.set_option('display.max_columns', None)\n",
    "pd.set_option('display.max_rows', None)"
   ]
  },
  {
   "cell_type": "markdown",
   "metadata": {},
   "source": [
    "### Подготовка данных"
   ]
  },
  {
   "cell_type": "code",
   "execution_count": 2,
   "metadata": {},
   "outputs": [],
   "source": [
    "def analyze_dataframe(df):\n",
    "    display(\"Первые строчки:\", df.head())\n",
    "    display(\"Последние строчки:\", df.tail())\n",
    "    display(\"Случайные строчки:\", df.sample(5))\n",
    "    display(\"Информация о каждом столбце:\", df.describe())\n",
    "    display(\"Общая информация:\")\n",
    "    df.info()\n",
    "    display(\"Явные дубликаты:\", df.duplicated().sum())\n",
    "    display(\"Сортировка и количество пропущенных значений:\", df.isnull().sum().sort_values())"
   ]
  },
  {
   "cell_type": "code",
   "execution_count": 3,
   "metadata": {},
   "outputs": [
    {
     "data": {
      "text/plain": [
       "'Первые строчки:'"
      ]
     },
     "metadata": {},
     "output_type": "display_data"
    },
    {
     "data": {
      "text/html": [
       "<div>\n",
       "<style scoped>\n",
       "    .dataframe tbody tr th:only-of-type {\n",
       "        vertical-align: middle;\n",
       "    }\n",
       "\n",
       "    .dataframe tbody tr th {\n",
       "        vertical-align: top;\n",
       "    }\n",
       "\n",
       "    .dataframe thead th {\n",
       "        text-align: right;\n",
       "    }\n",
       "</style>\n",
       "<table border=\"1\" class=\"dataframe\">\n",
       "  <thead>\n",
       "    <tr style=\"text-align: right;\">\n",
       "      <th></th>\n",
       "      <th>Пол</th>\n",
       "      <th>Возраст</th>\n",
       "      <th>Зарплата</th>\n",
       "      <th>Члены семьи</th>\n",
       "      <th>Страховые выплаты</th>\n",
       "    </tr>\n",
       "  </thead>\n",
       "  <tbody>\n",
       "    <tr>\n",
       "      <th>0</th>\n",
       "      <td>1</td>\n",
       "      <td>41.0</td>\n",
       "      <td>49600.0</td>\n",
       "      <td>1</td>\n",
       "      <td>0</td>\n",
       "    </tr>\n",
       "    <tr>\n",
       "      <th>1</th>\n",
       "      <td>0</td>\n",
       "      <td>46.0</td>\n",
       "      <td>38000.0</td>\n",
       "      <td>1</td>\n",
       "      <td>1</td>\n",
       "    </tr>\n",
       "    <tr>\n",
       "      <th>2</th>\n",
       "      <td>0</td>\n",
       "      <td>29.0</td>\n",
       "      <td>21000.0</td>\n",
       "      <td>0</td>\n",
       "      <td>0</td>\n",
       "    </tr>\n",
       "    <tr>\n",
       "      <th>3</th>\n",
       "      <td>0</td>\n",
       "      <td>21.0</td>\n",
       "      <td>41700.0</td>\n",
       "      <td>2</td>\n",
       "      <td>0</td>\n",
       "    </tr>\n",
       "    <tr>\n",
       "      <th>4</th>\n",
       "      <td>1</td>\n",
       "      <td>28.0</td>\n",
       "      <td>26100.0</td>\n",
       "      <td>0</td>\n",
       "      <td>0</td>\n",
       "    </tr>\n",
       "  </tbody>\n",
       "</table>\n",
       "</div>"
      ],
      "text/plain": [
       "   Пол  Возраст  Зарплата  Члены семьи  Страховые выплаты\n",
       "0    1     41.0   49600.0            1                  0\n",
       "1    0     46.0   38000.0            1                  1\n",
       "2    0     29.0   21000.0            0                  0\n",
       "3    0     21.0   41700.0            2                  0\n",
       "4    1     28.0   26100.0            0                  0"
      ]
     },
     "metadata": {},
     "output_type": "display_data"
    },
    {
     "data": {
      "text/plain": [
       "'Последние строчки:'"
      ]
     },
     "metadata": {},
     "output_type": "display_data"
    },
    {
     "data": {
      "text/html": [
       "<div>\n",
       "<style scoped>\n",
       "    .dataframe tbody tr th:only-of-type {\n",
       "        vertical-align: middle;\n",
       "    }\n",
       "\n",
       "    .dataframe tbody tr th {\n",
       "        vertical-align: top;\n",
       "    }\n",
       "\n",
       "    .dataframe thead th {\n",
       "        text-align: right;\n",
       "    }\n",
       "</style>\n",
       "<table border=\"1\" class=\"dataframe\">\n",
       "  <thead>\n",
       "    <tr style=\"text-align: right;\">\n",
       "      <th></th>\n",
       "      <th>Пол</th>\n",
       "      <th>Возраст</th>\n",
       "      <th>Зарплата</th>\n",
       "      <th>Члены семьи</th>\n",
       "      <th>Страховые выплаты</th>\n",
       "    </tr>\n",
       "  </thead>\n",
       "  <tbody>\n",
       "    <tr>\n",
       "      <th>4995</th>\n",
       "      <td>0</td>\n",
       "      <td>28.0</td>\n",
       "      <td>35700.0</td>\n",
       "      <td>2</td>\n",
       "      <td>0</td>\n",
       "    </tr>\n",
       "    <tr>\n",
       "      <th>4996</th>\n",
       "      <td>0</td>\n",
       "      <td>34.0</td>\n",
       "      <td>52400.0</td>\n",
       "      <td>1</td>\n",
       "      <td>0</td>\n",
       "    </tr>\n",
       "    <tr>\n",
       "      <th>4997</th>\n",
       "      <td>0</td>\n",
       "      <td>20.0</td>\n",
       "      <td>33900.0</td>\n",
       "      <td>2</td>\n",
       "      <td>0</td>\n",
       "    </tr>\n",
       "    <tr>\n",
       "      <th>4998</th>\n",
       "      <td>1</td>\n",
       "      <td>22.0</td>\n",
       "      <td>32700.0</td>\n",
       "      <td>3</td>\n",
       "      <td>0</td>\n",
       "    </tr>\n",
       "    <tr>\n",
       "      <th>4999</th>\n",
       "      <td>1</td>\n",
       "      <td>28.0</td>\n",
       "      <td>40600.0</td>\n",
       "      <td>1</td>\n",
       "      <td>0</td>\n",
       "    </tr>\n",
       "  </tbody>\n",
       "</table>\n",
       "</div>"
      ],
      "text/plain": [
       "      Пол  Возраст  Зарплата  Члены семьи  Страховые выплаты\n",
       "4995    0     28.0   35700.0            2                  0\n",
       "4996    0     34.0   52400.0            1                  0\n",
       "4997    0     20.0   33900.0            2                  0\n",
       "4998    1     22.0   32700.0            3                  0\n",
       "4999    1     28.0   40600.0            1                  0"
      ]
     },
     "metadata": {},
     "output_type": "display_data"
    },
    {
     "data": {
      "text/plain": [
       "'Случайные строчки:'"
      ]
     },
     "metadata": {},
     "output_type": "display_data"
    },
    {
     "data": {
      "text/html": [
       "<div>\n",
       "<style scoped>\n",
       "    .dataframe tbody tr th:only-of-type {\n",
       "        vertical-align: middle;\n",
       "    }\n",
       "\n",
       "    .dataframe tbody tr th {\n",
       "        vertical-align: top;\n",
       "    }\n",
       "\n",
       "    .dataframe thead th {\n",
       "        text-align: right;\n",
       "    }\n",
       "</style>\n",
       "<table border=\"1\" class=\"dataframe\">\n",
       "  <thead>\n",
       "    <tr style=\"text-align: right;\">\n",
       "      <th></th>\n",
       "      <th>Пол</th>\n",
       "      <th>Возраст</th>\n",
       "      <th>Зарплата</th>\n",
       "      <th>Члены семьи</th>\n",
       "      <th>Страховые выплаты</th>\n",
       "    </tr>\n",
       "  </thead>\n",
       "  <tbody>\n",
       "    <tr>\n",
       "      <th>151</th>\n",
       "      <td>1</td>\n",
       "      <td>19.0</td>\n",
       "      <td>29300.0</td>\n",
       "      <td>0</td>\n",
       "      <td>0</td>\n",
       "    </tr>\n",
       "    <tr>\n",
       "      <th>3866</th>\n",
       "      <td>1</td>\n",
       "      <td>32.0</td>\n",
       "      <td>23100.0</td>\n",
       "      <td>1</td>\n",
       "      <td>0</td>\n",
       "    </tr>\n",
       "    <tr>\n",
       "      <th>281</th>\n",
       "      <td>1</td>\n",
       "      <td>39.0</td>\n",
       "      <td>48100.0</td>\n",
       "      <td>1</td>\n",
       "      <td>0</td>\n",
       "    </tr>\n",
       "    <tr>\n",
       "      <th>2266</th>\n",
       "      <td>1</td>\n",
       "      <td>21.0</td>\n",
       "      <td>29500.0</td>\n",
       "      <td>0</td>\n",
       "      <td>0</td>\n",
       "    </tr>\n",
       "    <tr>\n",
       "      <th>101</th>\n",
       "      <td>0</td>\n",
       "      <td>49.0</td>\n",
       "      <td>42500.0</td>\n",
       "      <td>1</td>\n",
       "      <td>2</td>\n",
       "    </tr>\n",
       "  </tbody>\n",
       "</table>\n",
       "</div>"
      ],
      "text/plain": [
       "      Пол  Возраст  Зарплата  Члены семьи  Страховые выплаты\n",
       "151     1     19.0   29300.0            0                  0\n",
       "3866    1     32.0   23100.0            1                  0\n",
       "281     1     39.0   48100.0            1                  0\n",
       "2266    1     21.0   29500.0            0                  0\n",
       "101     0     49.0   42500.0            1                  2"
      ]
     },
     "metadata": {},
     "output_type": "display_data"
    },
    {
     "data": {
      "text/plain": [
       "'Информация о каждом столбце:'"
      ]
     },
     "metadata": {},
     "output_type": "display_data"
    },
    {
     "data": {
      "text/html": [
       "<div>\n",
       "<style scoped>\n",
       "    .dataframe tbody tr th:only-of-type {\n",
       "        vertical-align: middle;\n",
       "    }\n",
       "\n",
       "    .dataframe tbody tr th {\n",
       "        vertical-align: top;\n",
       "    }\n",
       "\n",
       "    .dataframe thead th {\n",
       "        text-align: right;\n",
       "    }\n",
       "</style>\n",
       "<table border=\"1\" class=\"dataframe\">\n",
       "  <thead>\n",
       "    <tr style=\"text-align: right;\">\n",
       "      <th></th>\n",
       "      <th>Пол</th>\n",
       "      <th>Возраст</th>\n",
       "      <th>Зарплата</th>\n",
       "      <th>Члены семьи</th>\n",
       "      <th>Страховые выплаты</th>\n",
       "    </tr>\n",
       "  </thead>\n",
       "  <tbody>\n",
       "    <tr>\n",
       "      <th>count</th>\n",
       "      <td>5000.000000</td>\n",
       "      <td>5000.000000</td>\n",
       "      <td>5000.000000</td>\n",
       "      <td>5000.000000</td>\n",
       "      <td>5000.000000</td>\n",
       "    </tr>\n",
       "    <tr>\n",
       "      <th>mean</th>\n",
       "      <td>0.499000</td>\n",
       "      <td>30.952800</td>\n",
       "      <td>39916.360000</td>\n",
       "      <td>1.194200</td>\n",
       "      <td>0.148000</td>\n",
       "    </tr>\n",
       "    <tr>\n",
       "      <th>std</th>\n",
       "      <td>0.500049</td>\n",
       "      <td>8.440807</td>\n",
       "      <td>9900.083569</td>\n",
       "      <td>1.091387</td>\n",
       "      <td>0.463183</td>\n",
       "    </tr>\n",
       "    <tr>\n",
       "      <th>min</th>\n",
       "      <td>0.000000</td>\n",
       "      <td>18.000000</td>\n",
       "      <td>5300.000000</td>\n",
       "      <td>0.000000</td>\n",
       "      <td>0.000000</td>\n",
       "    </tr>\n",
       "    <tr>\n",
       "      <th>25%</th>\n",
       "      <td>0.000000</td>\n",
       "      <td>24.000000</td>\n",
       "      <td>33300.000000</td>\n",
       "      <td>0.000000</td>\n",
       "      <td>0.000000</td>\n",
       "    </tr>\n",
       "    <tr>\n",
       "      <th>50%</th>\n",
       "      <td>0.000000</td>\n",
       "      <td>30.000000</td>\n",
       "      <td>40200.000000</td>\n",
       "      <td>1.000000</td>\n",
       "      <td>0.000000</td>\n",
       "    </tr>\n",
       "    <tr>\n",
       "      <th>75%</th>\n",
       "      <td>1.000000</td>\n",
       "      <td>37.000000</td>\n",
       "      <td>46600.000000</td>\n",
       "      <td>2.000000</td>\n",
       "      <td>0.000000</td>\n",
       "    </tr>\n",
       "    <tr>\n",
       "      <th>max</th>\n",
       "      <td>1.000000</td>\n",
       "      <td>65.000000</td>\n",
       "      <td>79000.000000</td>\n",
       "      <td>6.000000</td>\n",
       "      <td>5.000000</td>\n",
       "    </tr>\n",
       "  </tbody>\n",
       "</table>\n",
       "</div>"
      ],
      "text/plain": [
       "               Пол      Возраст      Зарплата  Члены семьи  Страховые выплаты\n",
       "count  5000.000000  5000.000000   5000.000000  5000.000000        5000.000000\n",
       "mean      0.499000    30.952800  39916.360000     1.194200           0.148000\n",
       "std       0.500049     8.440807   9900.083569     1.091387           0.463183\n",
       "min       0.000000    18.000000   5300.000000     0.000000           0.000000\n",
       "25%       0.000000    24.000000  33300.000000     0.000000           0.000000\n",
       "50%       0.000000    30.000000  40200.000000     1.000000           0.000000\n",
       "75%       1.000000    37.000000  46600.000000     2.000000           0.000000\n",
       "max       1.000000    65.000000  79000.000000     6.000000           5.000000"
      ]
     },
     "metadata": {},
     "output_type": "display_data"
    },
    {
     "data": {
      "text/plain": [
       "'Общая информация:'"
      ]
     },
     "metadata": {},
     "output_type": "display_data"
    },
    {
     "name": "stdout",
     "output_type": "stream",
     "text": [
      "<class 'pandas.core.frame.DataFrame'>\n",
      "RangeIndex: 5000 entries, 0 to 4999\n",
      "Data columns (total 5 columns):\n",
      " #   Column             Non-Null Count  Dtype  \n",
      "---  ------             --------------  -----  \n",
      " 0   Пол                5000 non-null   int64  \n",
      " 1   Возраст            5000 non-null   float64\n",
      " 2   Зарплата           5000 non-null   float64\n",
      " 3   Члены семьи        5000 non-null   int64  \n",
      " 4   Страховые выплаты  5000 non-null   int64  \n",
      "dtypes: float64(2), int64(3)\n",
      "memory usage: 195.4 KB\n"
     ]
    },
    {
     "data": {
      "text/plain": [
       "'Явные дубликаты:'"
      ]
     },
     "metadata": {},
     "output_type": "display_data"
    },
    {
     "data": {
      "text/plain": [
       "153"
      ]
     },
     "metadata": {},
     "output_type": "display_data"
    },
    {
     "data": {
      "text/plain": [
       "'Сортировка и количество пропущенных значений:'"
      ]
     },
     "metadata": {},
     "output_type": "display_data"
    },
    {
     "data": {
      "text/plain": [
       "Пол                  0\n",
       "Возраст              0\n",
       "Зарплата             0\n",
       "Члены семьи          0\n",
       "Страховые выплаты    0\n",
       "dtype: int64"
      ]
     },
     "metadata": {},
     "output_type": "display_data"
    }
   ],
   "source": [
    "data = pd.read_csv('/datasets/insurance.csv')\n",
    "analyze_dataframe(data)"
   ]
  },
  {
   "cell_type": "markdown",
   "metadata": {},
   "source": [
    "Удалим явные дубликаты "
   ]
  },
  {
   "cell_type": "code",
   "execution_count": 4,
   "metadata": {},
   "outputs": [],
   "source": [
    "data = data.drop_duplicates()"
   ]
  },
  {
   "cell_type": "markdown",
   "metadata": {},
   "source": [
    "Изменим тип данных для столбцов Возраст и Зарплата"
   ]
  },
  {
   "cell_type": "code",
   "execution_count": 5,
   "metadata": {},
   "outputs": [],
   "source": [
    "data['Возраст'] = data['Возраст'].astype(int)\n",
    "data['Зарплата'] = data['Зарплата'].astype(int)"
   ]
  },
  {
   "cell_type": "markdown",
   "metadata": {},
   "source": [
    "В итоге данные выглядт так"
   ]
  },
  {
   "cell_type": "code",
   "execution_count": 6,
   "metadata": {},
   "outputs": [
    {
     "name": "stdout",
     "output_type": "stream",
     "text": [
      "<class 'pandas.core.frame.DataFrame'>\n",
      "Int64Index: 4847 entries, 0 to 4999\n",
      "Data columns (total 5 columns):\n",
      " #   Column             Non-Null Count  Dtype\n",
      "---  ------             --------------  -----\n",
      " 0   Пол                4847 non-null   int64\n",
      " 1   Возраст            4847 non-null   int64\n",
      " 2   Зарплата           4847 non-null   int64\n",
      " 3   Члены семьи        4847 non-null   int64\n",
      " 4   Страховые выплаты  4847 non-null   int64\n",
      "dtypes: int64(5)\n",
      "memory usage: 227.2 KB\n"
     ]
    }
   ],
   "source": [
    "data.info()"
   ]
  },
  {
   "cell_type": "markdown",
   "metadata": {},
   "source": [
    "### Промежуточный вывод"
   ]
  },
  {
   "cell_type": "markdown",
   "metadata": {},
   "source": [
    "1. Последовательность столбцов логична.\n",
    "\n",
    "2. В данных есть явные дубликаты - были удалены.\n",
    "\n",
    "3. Изменён тип данных для столбц Возраст и Зарплата на целочисленный.\n",
    "\n",
    "4. Пропуски в данных отсутствуют."
   ]
  },
  {
   "cell_type": "markdown",
   "metadata": {},
   "source": [
    "## Умножение матриц"
   ]
  },
  {
   "cell_type": "markdown",
   "metadata": {},
   "source": [
    "В этом задании вы можете записывать формулы в *Jupyter Notebook.*\n",
    "\n",
    "Чтобы записать формулу внутри текста, окружите её символами доллара \\\\$; если снаружи —  двойными символами \\\\$\\\\$. Эти формулы записываются на языке вёрстки *LaTeX.* \n",
    "\n",
    "Для примера мы записали формулы линейной регрессии. Можете их скопировать и отредактировать, чтобы решить задачу.\n",
    "\n",
    "Работать в *LaTeX* необязательно."
   ]
  },
  {
   "cell_type": "markdown",
   "metadata": {},
   "source": [
    "### Задача"
   ]
  },
  {
   "cell_type": "markdown",
   "metadata": {},
   "source": [
    "Обозначения:\n",
    "\n",
    "- $X$ — матрица признаков (нулевой столбец состоит из единиц)\n",
    "\n",
    "- $y$ — вектор целевого признака\n",
    "\n",
    "- $P$ — матрица, на которую умножаются признаки\n",
    "\n",
    "- $w$ — вектор весов линейной регрессии (нулевой элемент равен сдвигу)"
   ]
  },
  {
   "cell_type": "markdown",
   "metadata": {},
   "source": [
    "Предсказания:\n",
    "\n",
    "$$\n",
    "a = Xw\n",
    "$$\n",
    "\n",
    "Задача обучения:\n",
    "\n",
    "$$\n",
    "w = \\arg\\min_w MSE(Xw, y)\n",
    "$$\n",
    "\n",
    "Формула обучения:\n",
    "\n",
    "$$\n",
    "w = (X^T X)^{-1} X^T y\n",
    "$$"
   ]
  },
  {
   "cell_type": "markdown",
   "metadata": {},
   "source": [
    "**Вопрос:** Признаки умножают на обратимую матрицу. Изменится ли качество линейной регрессии? (Её можно обучить заново.)"
   ]
  },
  {
   "cell_type": "markdown",
   "metadata": {},
   "source": [
    "### Решение"
   ]
  },
  {
   "cell_type": "markdown",
   "metadata": {},
   "source": [
    "**Ответ:** Не изменится \n",
    "\n",
    "**Обоснование:** "
   ]
  },
  {
   "cell_type": "markdown",
   "metadata": {},
   "source": [
    "Нам нужно доказать, что "
   ]
  },
  {
   "cell_type": "markdown",
   "metadata": {},
   "source": [
    "$a=a'$"
   ]
  },
  {
   "cell_type": "markdown",
   "metadata": {},
   "source": [
    "То есть доказать, что "
   ]
  },
  {
   "cell_type": "markdown",
   "metadata": {},
   "source": [
    "$w' = P^{-1}w$"
   ]
  },
  {
   "cell_type": "markdown",
   "metadata": {},
   "source": [
    "Используя матричные свойства докажем"
   ]
  },
  {
   "cell_type": "markdown",
   "metadata": {},
   "source": [
    "$ w' = ((XP)^T XP)^{-1} (XP)^Ty = (P^T X^T X P)^{-1} (P^T X^T) y = (P^T (X^T X) P)^{-1} (P^T X^T) y = P^{-1} (P^T (X^T X))^{-1} P^T X^T y = P^{-1} (X^T X)^{-1} (P^T)^{-1} P^T X^T y = //(P^T)^{-1} P^T = E// = P^{-1} (X^T X)^{-1} E X^Ty = P^{-1} (X^T X)^{-1} X^Ty = //(X^T X)^{-1} X^Ty = w // = P^{-1}w$"
   ]
  },
  {
   "cell_type": "markdown",
   "metadata": {},
   "source": [
    "Что и требовалось доказать"
   ]
  },
  {
   "cell_type": "markdown",
   "metadata": {},
   "source": [
    "### Промежуточный вывод"
   ]
  },
  {
   "cell_type": "markdown",
   "metadata": {},
   "source": [
    "Теоретически доказано: перемножение признаков на обратимую матрицу даст тот же результат. Качество линейной регрессии не изменится."
   ]
  },
  {
   "cell_type": "markdown",
   "metadata": {},
   "source": [
    "## Алгоритм преобразования"
   ]
  },
  {
   "cell_type": "markdown",
   "metadata": {},
   "source": [
    "**Алгоритм**\n",
    "\n",
    "1. Создать случайную матрицу $P$ размерноcтью $(n,n)$ где n - количество признаков в датасете\n",
    "\n",
    "2. Проверяем $P$ на обратимость:\n",
    "\n",
    "    1)Если матрица обратима, идём дальше.\n",
    "\n",
    "    2) Если матрица необратима, генерируем новые матрицы, до тех пор пока не получим обратимую матрицу или пока не достигнем лимита итераций.\n",
    "    \n",
    "2. Сохраняем матрицы $P$ и $P^{-1}$ для шифровки/дешифровки\n",
    "\n",
    "3. Умножаем матрицу $X$ на $P$"
   ]
  },
  {
   "cell_type": "markdown",
   "metadata": {},
   "source": [
    "**Обоснование**\n",
    "\n",
    "$PP^{-1} = E$\n",
    "\n",
    "$XPP^{-1} = X$"
   ]
  },
  {
   "cell_type": "markdown",
   "metadata": {},
   "source": [
    "## Проверка алгоритма"
   ]
  },
  {
   "cell_type": "markdown",
   "metadata": {},
   "source": [
    "### Модель до преобразования"
   ]
  },
  {
   "cell_type": "markdown",
   "metadata": {},
   "source": [
    "Разделеним выборки на тестовую и тренировочную"
   ]
  },
  {
   "cell_type": "code",
   "execution_count": 7,
   "metadata": {},
   "outputs": [],
   "source": [
    "features = data.drop(columns='Страховые выплаты', axis=1)\n",
    "target = data['Страховые выплаты']\n",
    "features_train, features_test, target_train, target_test = train_test_split(features,\n",
    "                                                                            target,\n",
    "                                                                            random_state=12345,shuffle=True,test_size=0.25)"
   ]
  },
  {
   "cell_type": "markdown",
   "metadata": {},
   "source": [
    "Опишем Линейную регрессию"
   ]
  },
  {
   "cell_type": "code",
   "execution_count": 8,
   "metadata": {},
   "outputs": [],
   "source": [
    "class LinearRegression:\n",
    "    def fit(self, train_features, train_target):\n",
    "        X = np.concatenate((np.ones((train_features.shape[0], 1)), train_features), axis=1)\n",
    "        y = train_target\n",
    "        X_transpose = X.T\n",
    "        XTX_inv = np.linalg.inv(X_transpose.dot(X))\n",
    "        w = XTX_inv.dot(X_transpose).dot(y)\n",
    "        self.w = w[1:]\n",
    "        self.w0 = w[0]\n",
    "        \n",
    "    def predict(self, test_features):\n",
    "        return test_features.dot(self.w) + self.w0\n",
    "    "
   ]
  },
  {
   "cell_type": "code",
   "execution_count": 9,
   "metadata": {},
   "outputs": [
    {
     "name": "stdout",
     "output_type": "stream",
     "text": [
      "R2: 0.423077276158367\n"
     ]
    }
   ],
   "source": [
    "model = LinearRegression()\n",
    "model.fit(features_train, target_train)\n",
    "predictions = model.predict(features_test)\n",
    "print('R2:',r2_score(target_test, predictions))"
   ]
  },
  {
   "cell_type": "markdown",
   "metadata": {},
   "source": [
    "### Модель после преобразования"
   ]
  },
  {
   "cell_type": "markdown",
   "metadata": {},
   "source": [
    "Создадим матрицу $P$"
   ]
  },
  {
   "cell_type": "code",
   "execution_count": 10,
   "metadata": {},
   "outputs": [],
   "source": [
    "def get_rand_matrix():\n",
    "    det = 0\n",
    "    while det == 0:\n",
    "        matrix = np.random.randint(12345, size=(features.shape[1], features.shape[1]))\n",
    "        det = np.linalg.det(matrix)\n",
    "    return matrix"
   ]
  },
  {
   "cell_type": "code",
   "execution_count": 12,
   "metadata": {},
   "outputs": [
    {
     "data": {
      "text/plain": [
       "array([[ 1725,  7625,  7025,   700],\n",
       "       [ 6047,  7703,  5901,  2182],\n",
       "       [11966,  8972,  8908,  5347],\n",
       "       [ 5175,  6221,  2856,  5429]])"
      ]
     },
     "execution_count": 12,
     "metadata": {},
     "output_type": "execute_result"
    }
   ],
   "source": [
    "p_matrix = get_rand_matrix()\n",
    "p_matrix"
   ]
  },
  {
   "cell_type": "markdown",
   "metadata": {},
   "source": [
    "Проверим матрицу на обратимость, создадим матрицу $P^{-1}$"
   ]
  },
  {
   "cell_type": "markdown",
   "metadata": {},
   "source": [
    "Посмотрим на данные после переменожения"
   ]
  },
  {
   "cell_type": "code",
   "execution_count": 14,
   "metadata": {},
   "outputs": [
    {
     "data": {
      "text/html": [
       "<div>\n",
       "<style scoped>\n",
       "    .dataframe tbody tr th:only-of-type {\n",
       "        vertical-align: middle;\n",
       "    }\n",
       "\n",
       "    .dataframe tbody tr th {\n",
       "        vertical-align: top;\n",
       "    }\n",
       "\n",
       "    .dataframe thead th {\n",
       "        text-align: right;\n",
       "    }\n",
       "</style>\n",
       "<table border=\"1\" class=\"dataframe\">\n",
       "  <thead>\n",
       "    <tr style=\"text-align: right;\">\n",
       "      <th></th>\n",
       "      <th>Пол</th>\n",
       "      <th>Возраст</th>\n",
       "      <th>Зарплата</th>\n",
       "      <th>Члены семьи</th>\n",
       "    </tr>\n",
       "  </thead>\n",
       "  <tbody>\n",
       "    <tr>\n",
       "      <th>0</th>\n",
       "      <td>593768427</td>\n",
       "      <td>445340869</td>\n",
       "      <td>442088622</td>\n",
       "      <td>265306791</td>\n",
       "    </tr>\n",
       "    <tr>\n",
       "      <th>1</th>\n",
       "      <td>454991337</td>\n",
       "      <td>341296559</td>\n",
       "      <td>338778302</td>\n",
       "      <td>203291801</td>\n",
       "    </tr>\n",
       "    <tr>\n",
       "      <th>2</th>\n",
       "      <td>251461363</td>\n",
       "      <td>188635387</td>\n",
       "      <td>187239129</td>\n",
       "      <td>112350278</td>\n",
       "    </tr>\n",
       "    <tr>\n",
       "      <th>3</th>\n",
       "      <td>499119537</td>\n",
       "      <td>374306605</td>\n",
       "      <td>371593233</td>\n",
       "      <td>223026580</td>\n",
       "    </tr>\n",
       "    <tr>\n",
       "      <th>4</th>\n",
       "      <td>312483641</td>\n",
       "      <td>234392509</td>\n",
       "      <td>232671053</td>\n",
       "      <td>139618496</td>\n",
       "    </tr>\n",
       "  </tbody>\n",
       "</table>\n",
       "</div>"
      ],
      "text/plain": [
       "         Пол    Возраст   Зарплата  Члены семьи\n",
       "0  593768427  445340869  442088622    265306791\n",
       "1  454991337  341296559  338778302    203291801\n",
       "2  251461363  188635387  187239129    112350278\n",
       "3  499119537  374306605  371593233    223026580\n",
       "4  312483641  234392509  232671053    139618496"
      ]
     },
     "execution_count": 14,
     "metadata": {},
     "output_type": "execute_result"
    }
   ],
   "source": [
    "multiple_feature = features @ p_matrix\n",
    "multiple_feature.columns = features.columns\n",
    "multiple_feature.head()"
   ]
  },
  {
   "cell_type": "markdown",
   "metadata": {},
   "source": [
    "Теперь вместо данных о клиенте - непонятные числа"
   ]
  },
  {
   "cell_type": "markdown",
   "metadata": {},
   "source": [
    "Перемножим выборки с матрицей $P$ и обучим модель Линейной регрессии"
   ]
  },
  {
   "cell_type": "code",
   "execution_count": 15,
   "metadata": {},
   "outputs": [
    {
     "name": "stdout",
     "output_type": "stream",
     "text": [
      "R2: 0.4230772217865213\n"
     ]
    }
   ],
   "source": [
    "features_train = features_train.dot(p_matrix)\n",
    "features_test = features_test.dot(p_matrix)\n",
    "\n",
    "model = LinearRegression()\n",
    "model.fit(features_train, target_train)\n",
    "predictions = model.predict(features_test)\n",
    "print('R2:',r2_score(target_test, predictions))"
   ]
  },
  {
   "cell_type": "markdown",
   "metadata": {},
   "source": [
    "### Промежуточный вывод"
   ]
  },
  {
   "cell_type": "markdown",
   "metadata": {},
   "source": [
    "1. Точность от применения преобразования не изменилась, качество модели до преобразования R2: 0.423077276158367 качество модели после преобразования R2: 0.42307712437097766."
   ]
  },
  {
   "cell_type": "markdown",
   "metadata": {},
   "source": [
    "## Вывод"
   ]
  },
  {
   "cell_type": "markdown",
   "metadata": {},
   "source": [
    "В ходе проекта мы защитили данные клиентов. \n",
    "\n",
    "Проверили теоретически и практически, что качество линейной регресии не изменилось от защиты.\n",
    "\n",
    "В ходе работы мы выполнили следующие шаги:\n",
    "\n",
    "1. Загрузка данных:\n",
    "\n",
    "    1. Последовательность столбцов логична.\n",
    "\n",
    "    2. В данных есть явные дубликаты - были удалены.\n",
    "\n",
    "    3. Изменён тип данных для столбц Возраст и Зарплата на целочисленный.\n",
    "\n",
    "    4. Пропуски в данных отсутствуют.\n",
    "    \n",
    "2. Умножение матриц\n",
    "    \n",
    "    Теоретически доказано: перемножение признаков на обратимую матрицу даст тот же результат. Качество линейной регрессии не изменится.\n",
    "    \n",
    "    \n",
    "3. Алгоритм преобразования\n",
    "\n",
    "    Описали и обасновали алгоритм преобразования\n",
    "    \n",
    "    \n",
    "4. Проверка алгоритма\n",
    "\n",
    "    Практически доказано: Точность от применения преобразования не изменилась, качество модели до преобразования R2: 0.423077276158367 качество модели после преобразования R2: 0.42307712437097766."
   ]
  },
  {
   "cell_type": "code",
   "execution_count": null,
   "metadata": {},
   "outputs": [],
   "source": []
  }
 ],
 "metadata": {
  "ExecuteTimeLog": [
   {
    "duration": 50,
    "start_time": "2023-07-21T15:25:28.240Z"
   },
   {
    "duration": 4,
    "start_time": "2023-07-21T15:25:28.579Z"
   },
   {
    "duration": 405,
    "start_time": "2023-07-21T15:25:47.551Z"
   },
   {
    "duration": 5,
    "start_time": "2023-07-21T15:25:48.482Z"
   },
   {
    "duration": 167,
    "start_time": "2023-07-21T15:25:50.072Z"
   },
   {
    "duration": 398,
    "start_time": "2023-07-22T11:27:37.128Z"
   },
   {
    "duration": 5,
    "start_time": "2023-07-22T11:27:38.141Z"
   },
   {
    "duration": 185,
    "start_time": "2023-07-22T11:27:38.375Z"
   },
   {
    "duration": 5,
    "start_time": "2023-07-22T11:27:38.853Z"
   },
   {
    "duration": 5,
    "start_time": "2023-07-22T11:27:39.486Z"
   },
   {
    "duration": 11,
    "start_time": "2023-07-22T11:27:40.198Z"
   },
   {
    "duration": 845,
    "start_time": "2023-07-22T15:33:17.978Z"
   },
   {
    "duration": 7,
    "start_time": "2023-07-22T15:44:45.910Z"
   },
   {
    "duration": 7,
    "start_time": "2023-07-22T16:16:55.448Z"
   },
   {
    "duration": 5,
    "start_time": "2023-07-22T16:17:16.233Z"
   },
   {
    "duration": 101,
    "start_time": "2023-07-22T16:17:32.083Z"
   },
   {
    "duration": 4,
    "start_time": "2023-07-22T16:17:49.499Z"
   },
   {
    "duration": 9,
    "start_time": "2023-07-22T16:17:55.844Z"
   },
   {
    "duration": 7,
    "start_time": "2023-07-22T16:18:34.299Z"
   },
   {
    "duration": 6,
    "start_time": "2023-07-22T16:18:38.717Z"
   },
   {
    "duration": 7,
    "start_time": "2023-07-22T16:21:01.812Z"
   },
   {
    "duration": 5,
    "start_time": "2023-07-22T16:22:19.158Z"
   },
   {
    "duration": 5,
    "start_time": "2023-07-22T16:22:23.297Z"
   },
   {
    "duration": 306,
    "start_time": "2023-07-22T16:22:26.449Z"
   },
   {
    "duration": 8,
    "start_time": "2023-07-22T16:23:01.103Z"
   },
   {
    "duration": 8,
    "start_time": "2023-07-22T16:23:04.651Z"
   },
   {
    "duration": 5,
    "start_time": "2023-07-22T16:23:28.169Z"
   },
   {
    "duration": 5,
    "start_time": "2023-07-22T16:23:29.326Z"
   },
   {
    "duration": 8,
    "start_time": "2023-07-22T16:23:30.864Z"
   },
   {
    "duration": 7,
    "start_time": "2023-07-22T16:23:34.460Z"
   },
   {
    "duration": 9,
    "start_time": "2023-07-22T16:23:47.111Z"
   },
   {
    "duration": 15,
    "start_time": "2023-07-22T16:23:51.715Z"
   },
   {
    "duration": 8,
    "start_time": "2023-07-22T16:23:54.085Z"
   },
   {
    "duration": 6,
    "start_time": "2023-07-22T16:23:54.875Z"
   },
   {
    "duration": 7,
    "start_time": "2023-07-22T16:23:55.578Z"
   },
   {
    "duration": 7,
    "start_time": "2023-07-22T16:23:56.648Z"
   },
   {
    "duration": 7,
    "start_time": "2023-07-22T16:23:57.525Z"
   },
   {
    "duration": 8,
    "start_time": "2023-07-22T16:24:02.576Z"
   },
   {
    "duration": 8,
    "start_time": "2023-07-22T16:24:02.929Z"
   },
   {
    "duration": 1124,
    "start_time": "2023-07-22T16:24:12.041Z"
   },
   {
    "duration": 5,
    "start_time": "2023-07-22T16:24:13.167Z"
   },
   {
    "duration": 103,
    "start_time": "2023-07-22T16:24:13.174Z"
   },
   {
    "duration": 6,
    "start_time": "2023-07-22T16:24:13.278Z"
   },
   {
    "duration": 5,
    "start_time": "2023-07-22T16:24:13.314Z"
   },
   {
    "duration": 20,
    "start_time": "2023-07-22T16:24:13.322Z"
   },
   {
    "duration": 16,
    "start_time": "2023-07-22T16:24:13.344Z"
   },
   {
    "duration": 4,
    "start_time": "2023-07-22T16:24:13.362Z"
   },
   {
    "duration": 9,
    "start_time": "2023-07-22T16:24:13.368Z"
   },
   {
    "duration": 6,
    "start_time": "2023-07-22T16:24:13.415Z"
   },
   {
    "duration": 6,
    "start_time": "2023-07-22T16:24:13.423Z"
   },
   {
    "duration": 87,
    "start_time": "2023-07-22T16:24:13.431Z"
   },
   {
    "duration": 8,
    "start_time": "2023-07-22T16:24:13.520Z"
   },
   {
    "duration": 5,
    "start_time": "2023-07-22T16:25:53.235Z"
   },
   {
    "duration": 5,
    "start_time": "2023-07-22T16:27:11.718Z"
   },
   {
    "duration": 7,
    "start_time": "2023-07-22T16:28:50.701Z"
   },
   {
    "duration": 1075,
    "start_time": "2023-07-22T16:28:56.469Z"
   },
   {
    "duration": 5,
    "start_time": "2023-07-22T16:28:57.546Z"
   },
   {
    "duration": 113,
    "start_time": "2023-07-22T16:28:57.553Z"
   },
   {
    "duration": 6,
    "start_time": "2023-07-22T16:28:57.669Z"
   },
   {
    "duration": 17,
    "start_time": "2023-07-22T16:28:57.677Z"
   },
   {
    "duration": 13,
    "start_time": "2023-07-22T16:28:57.714Z"
   },
   {
    "duration": 8,
    "start_time": "2023-07-22T16:28:57.728Z"
   },
   {
    "duration": 5,
    "start_time": "2023-07-22T16:28:57.738Z"
   },
   {
    "duration": 68,
    "start_time": "2023-07-22T16:28:57.745Z"
   },
   {
    "duration": 5,
    "start_time": "2023-07-22T16:28:57.817Z"
   },
   {
    "duration": 93,
    "start_time": "2023-07-22T16:28:57.824Z"
   },
   {
    "duration": 12,
    "start_time": "2023-07-22T16:28:57.919Z"
   },
   {
    "duration": 88,
    "start_time": "2023-07-22T16:28:57.933Z"
   },
   {
    "duration": 8,
    "start_time": "2023-07-22T16:30:22.685Z"
   },
   {
    "duration": 8,
    "start_time": "2023-07-22T16:30:27.065Z"
   },
   {
    "duration": 1101,
    "start_time": "2023-07-22T16:30:34.078Z"
   },
   {
    "duration": 6,
    "start_time": "2023-07-22T16:30:35.181Z"
   },
   {
    "duration": 130,
    "start_time": "2023-07-22T16:30:35.188Z"
   },
   {
    "duration": 5,
    "start_time": "2023-07-22T16:30:35.322Z"
   },
   {
    "duration": 16,
    "start_time": "2023-07-22T16:30:35.329Z"
   },
   {
    "duration": 25,
    "start_time": "2023-07-22T16:30:35.348Z"
   },
   {
    "duration": 11,
    "start_time": "2023-07-22T16:30:35.375Z"
   },
   {
    "duration": 9,
    "start_time": "2023-07-22T16:30:35.388Z"
   },
   {
    "duration": 26,
    "start_time": "2023-07-22T16:30:35.399Z"
   },
   {
    "duration": 5,
    "start_time": "2023-07-22T16:30:35.428Z"
   },
   {
    "duration": 83,
    "start_time": "2023-07-22T16:30:35.434Z"
   },
   {
    "duration": 102,
    "start_time": "2023-07-22T16:30:35.520Z"
   },
   {
    "duration": 94,
    "start_time": "2023-07-22T16:30:35.624Z"
   },
   {
    "duration": 9,
    "start_time": "2023-07-22T16:31:03.462Z"
   },
   {
    "duration": 8,
    "start_time": "2023-07-22T16:31:06.650Z"
   },
   {
    "duration": 8,
    "start_time": "2023-07-22T16:31:07.819Z"
   },
   {
    "duration": 8,
    "start_time": "2023-07-22T16:31:08.580Z"
   },
   {
    "duration": 8,
    "start_time": "2023-07-22T16:31:12.751Z"
   },
   {
    "duration": 8,
    "start_time": "2023-07-22T16:32:09.949Z"
   },
   {
    "duration": 1112,
    "start_time": "2023-07-22T16:43:36.203Z"
   },
   {
    "duration": 5,
    "start_time": "2023-07-22T16:43:37.317Z"
   },
   {
    "duration": 105,
    "start_time": "2023-07-22T16:43:37.324Z"
   },
   {
    "duration": 5,
    "start_time": "2023-07-22T16:43:37.431Z"
   },
   {
    "duration": 8,
    "start_time": "2023-07-22T16:43:37.437Z"
   },
   {
    "duration": 16,
    "start_time": "2023-07-22T16:43:37.446Z"
   },
   {
    "duration": 9,
    "start_time": "2023-07-22T16:43:37.464Z"
   },
   {
    "duration": 39,
    "start_time": "2023-07-22T16:43:37.474Z"
   },
   {
    "duration": 17,
    "start_time": "2023-07-22T16:43:37.515Z"
   },
   {
    "duration": 6,
    "start_time": "2023-07-22T16:43:37.535Z"
   },
   {
    "duration": 6,
    "start_time": "2023-07-22T16:43:37.614Z"
   },
   {
    "duration": 98,
    "start_time": "2023-07-22T16:43:37.621Z"
   },
   {
    "duration": 9,
    "start_time": "2023-07-22T16:43:37.721Z"
   },
   {
    "duration": 1145,
    "start_time": "2023-07-22T16:45:47.114Z"
   },
   {
    "duration": 5,
    "start_time": "2023-07-22T16:45:48.262Z"
   },
   {
    "duration": 103,
    "start_time": "2023-07-22T16:45:48.268Z"
   },
   {
    "duration": 41,
    "start_time": "2023-07-22T16:45:48.373Z"
   },
   {
    "duration": 6,
    "start_time": "2023-07-22T16:45:48.416Z"
   },
   {
    "duration": 21,
    "start_time": "2023-07-22T16:45:48.424Z"
   },
   {
    "duration": 8,
    "start_time": "2023-07-22T16:45:48.447Z"
   },
   {
    "duration": 5,
    "start_time": "2023-07-22T16:45:48.458Z"
   },
   {
    "duration": 49,
    "start_time": "2023-07-22T16:45:48.466Z"
   },
   {
    "duration": 5,
    "start_time": "2023-07-22T16:45:48.519Z"
   },
   {
    "duration": 91,
    "start_time": "2023-07-22T16:45:48.526Z"
   },
   {
    "duration": 14,
    "start_time": "2023-07-22T16:45:48.619Z"
   },
   {
    "duration": 11,
    "start_time": "2023-07-22T16:45:48.714Z"
   },
   {
    "duration": 1213,
    "start_time": "2023-07-22T16:47:18.987Z"
   },
   {
    "duration": 4,
    "start_time": "2023-07-22T16:47:20.202Z"
   },
   {
    "duration": 106,
    "start_time": "2023-07-22T16:47:20.208Z"
   },
   {
    "duration": 5,
    "start_time": "2023-07-22T16:47:20.316Z"
   },
   {
    "duration": 27,
    "start_time": "2023-07-22T16:47:20.323Z"
   },
   {
    "duration": 24,
    "start_time": "2023-07-22T16:47:20.352Z"
   },
   {
    "duration": 24,
    "start_time": "2023-07-22T16:47:20.378Z"
   },
   {
    "duration": 18,
    "start_time": "2023-07-22T16:47:20.404Z"
   },
   {
    "duration": 41,
    "start_time": "2023-07-22T16:47:20.424Z"
   },
   {
    "duration": 7,
    "start_time": "2023-07-22T16:47:20.467Z"
   },
   {
    "duration": 100,
    "start_time": "2023-07-22T16:47:20.514Z"
   },
   {
    "duration": 100,
    "start_time": "2023-07-22T16:47:20.616Z"
   },
   {
    "duration": 58,
    "start_time": "2023-07-22T16:47:20.717Z"
   },
   {
    "duration": 1191,
    "start_time": "2023-07-22T16:48:53.513Z"
   },
   {
    "duration": 5,
    "start_time": "2023-07-22T16:48:54.706Z"
   },
   {
    "duration": 120,
    "start_time": "2023-07-22T16:48:54.712Z"
   },
   {
    "duration": 6,
    "start_time": "2023-07-22T16:48:54.834Z"
   },
   {
    "duration": 14,
    "start_time": "2023-07-22T16:48:54.842Z"
   },
   {
    "duration": 21,
    "start_time": "2023-07-22T16:48:54.858Z"
   },
   {
    "duration": 11,
    "start_time": "2023-07-22T16:48:54.881Z"
   },
   {
    "duration": 22,
    "start_time": "2023-07-22T16:48:54.895Z"
   },
   {
    "duration": 15,
    "start_time": "2023-07-22T16:48:54.918Z"
   },
   {
    "duration": 80,
    "start_time": "2023-07-22T16:48:54.936Z"
   },
   {
    "duration": 7,
    "start_time": "2023-07-22T16:48:55.018Z"
   },
   {
    "duration": 104,
    "start_time": "2023-07-22T16:48:55.027Z"
   },
   {
    "duration": 86,
    "start_time": "2023-07-22T16:48:55.133Z"
   },
   {
    "duration": 7,
    "start_time": "2023-07-22T17:04:01.568Z"
   },
   {
    "duration": 1080,
    "start_time": "2023-07-22T17:04:07.721Z"
   },
   {
    "duration": 5,
    "start_time": "2023-07-22T17:04:08.803Z"
   },
   {
    "duration": 100,
    "start_time": "2023-07-22T17:04:08.809Z"
   },
   {
    "duration": 5,
    "start_time": "2023-07-22T17:04:08.914Z"
   },
   {
    "duration": 16,
    "start_time": "2023-07-22T17:04:08.921Z"
   },
   {
    "duration": 13,
    "start_time": "2023-07-22T17:04:08.939Z"
   },
   {
    "duration": 11,
    "start_time": "2023-07-22T17:04:08.953Z"
   },
   {
    "duration": 7,
    "start_time": "2023-07-22T17:04:08.966Z"
   },
   {
    "duration": 11,
    "start_time": "2023-07-22T17:04:08.974Z"
   },
   {
    "duration": 6,
    "start_time": "2023-07-22T17:04:09.015Z"
   },
   {
    "duration": 93,
    "start_time": "2023-07-22T17:04:09.023Z"
   },
   {
    "duration": 101,
    "start_time": "2023-07-22T17:04:09.118Z"
   },
   {
    "duration": 26,
    "start_time": "2023-07-22T17:04:09.221Z"
   },
   {
    "duration": 5,
    "start_time": "2023-07-22T17:32:31.467Z"
   },
   {
    "duration": 1230,
    "start_time": "2023-07-22T17:47:34.471Z"
   },
   {
    "duration": 5,
    "start_time": "2023-07-22T17:47:35.703Z"
   },
   {
    "duration": 104,
    "start_time": "2023-07-22T17:47:35.709Z"
   },
   {
    "duration": 4,
    "start_time": "2023-07-22T17:47:35.815Z"
   },
   {
    "duration": 11,
    "start_time": "2023-07-22T17:47:35.822Z"
   },
   {
    "duration": 18,
    "start_time": "2023-07-22T17:47:35.834Z"
   },
   {
    "duration": 6,
    "start_time": "2023-07-22T17:47:35.854Z"
   },
   {
    "duration": 13,
    "start_time": "2023-07-22T17:47:35.861Z"
   },
   {
    "duration": 22,
    "start_time": "2023-07-22T17:47:35.875Z"
   },
   {
    "duration": 5,
    "start_time": "2023-07-22T17:47:35.913Z"
   },
   {
    "duration": 6,
    "start_time": "2023-07-22T17:47:35.920Z"
   },
   {
    "duration": 93,
    "start_time": "2023-07-22T17:47:35.928Z"
   },
   {
    "duration": 92,
    "start_time": "2023-07-22T17:47:36.023Z"
   },
   {
    "duration": 2706,
    "start_time": "2023-07-22T18:06:35.440Z"
   },
   {
    "duration": 12,
    "start_time": "2023-07-22T18:06:38.148Z"
   },
   {
    "duration": 107,
    "start_time": "2023-07-22T18:06:38.162Z"
   },
   {
    "duration": 5,
    "start_time": "2023-07-22T18:06:38.271Z"
   },
   {
    "duration": 8,
    "start_time": "2023-07-22T18:06:38.278Z"
   },
   {
    "duration": 12,
    "start_time": "2023-07-22T18:06:38.319Z"
   },
   {
    "duration": 6,
    "start_time": "2023-07-22T18:06:38.333Z"
   },
   {
    "duration": 4,
    "start_time": "2023-07-22T18:06:38.341Z"
   },
   {
    "duration": 8,
    "start_time": "2023-07-22T18:06:38.346Z"
   },
   {
    "duration": 6,
    "start_time": "2023-07-22T18:06:38.413Z"
   },
   {
    "duration": 6,
    "start_time": "2023-07-22T18:06:38.421Z"
   },
   {
    "duration": 88,
    "start_time": "2023-07-22T18:06:38.428Z"
   },
   {
    "duration": 17,
    "start_time": "2023-07-22T18:06:38.518Z"
   },
   {
    "duration": 96,
    "start_time": "2023-07-22T19:34:48.975Z"
   },
   {
    "duration": 1095,
    "start_time": "2023-07-22T19:34:57.267Z"
   },
   {
    "duration": 5,
    "start_time": "2023-07-22T19:34:58.364Z"
   },
   {
    "duration": 102,
    "start_time": "2023-07-22T19:34:58.371Z"
   },
   {
    "duration": 5,
    "start_time": "2023-07-22T19:34:58.475Z"
   },
   {
    "duration": 34,
    "start_time": "2023-07-22T19:34:58.482Z"
   },
   {
    "duration": 21,
    "start_time": "2023-07-22T19:34:58.518Z"
   },
   {
    "duration": 12,
    "start_time": "2023-07-22T19:34:58.541Z"
   },
   {
    "duration": 12,
    "start_time": "2023-07-22T19:34:58.555Z"
   },
   {
    "duration": 16,
    "start_time": "2023-07-22T19:34:58.568Z"
   },
   {
    "duration": 31,
    "start_time": "2023-07-22T19:34:58.587Z"
   },
   {
    "duration": 95,
    "start_time": "2023-07-22T19:34:58.620Z"
   },
   {
    "duration": 4,
    "start_time": "2023-07-22T19:34:58.717Z"
   },
   {
    "duration": 9,
    "start_time": "2023-07-22T19:34:58.723Z"
   },
   {
    "duration": 11,
    "start_time": "2023-07-22T19:34:58.734Z"
   },
   {
    "duration": 71,
    "start_time": "2023-07-22T19:34:58.746Z"
   },
   {
    "duration": 5,
    "start_time": "2023-07-22T19:35:32.210Z"
   },
   {
    "duration": 3,
    "start_time": "2023-07-22T19:38:05.421Z"
   },
   {
    "duration": 5,
    "start_time": "2023-07-22T19:38:06.912Z"
   },
   {
    "duration": 4,
    "start_time": "2023-07-22T19:38:59.803Z"
   },
   {
    "duration": 6,
    "start_time": "2023-07-22T19:39:00.593Z"
   },
   {
    "duration": 1179,
    "start_time": "2023-07-22T19:39:19.147Z"
   },
   {
    "duration": 5,
    "start_time": "2023-07-22T19:39:20.328Z"
   },
   {
    "duration": 131,
    "start_time": "2023-07-22T19:39:20.334Z"
   },
   {
    "duration": 5,
    "start_time": "2023-07-22T19:39:20.467Z"
   },
   {
    "duration": 19,
    "start_time": "2023-07-22T19:39:20.473Z"
   },
   {
    "duration": 34,
    "start_time": "2023-07-22T19:39:20.494Z"
   },
   {
    "duration": 21,
    "start_time": "2023-07-22T19:39:20.529Z"
   },
   {
    "duration": 35,
    "start_time": "2023-07-22T19:39:20.552Z"
   },
   {
    "duration": 24,
    "start_time": "2023-07-22T19:39:20.589Z"
   },
   {
    "duration": 16,
    "start_time": "2023-07-22T19:39:20.616Z"
   },
   {
    "duration": 6,
    "start_time": "2023-07-22T19:39:20.715Z"
   },
   {
    "duration": 118,
    "start_time": "2023-07-22T19:39:20.723Z"
   },
   {
    "duration": 26,
    "start_time": "2023-07-22T19:39:20.843Z"
   },
   {
    "duration": 49,
    "start_time": "2023-07-22T19:39:20.871Z"
   },
   {
    "duration": 95,
    "start_time": "2023-07-22T19:39:20.922Z"
   },
   {
    "duration": 4,
    "start_time": "2023-07-22T19:39:39.633Z"
   },
   {
    "duration": 5,
    "start_time": "2023-07-22T19:39:40.132Z"
   },
   {
    "duration": 5,
    "start_time": "2023-07-22T19:39:40.698Z"
   },
   {
    "duration": 5,
    "start_time": "2023-07-22T19:39:41.555Z"
   },
   {
    "duration": 11,
    "start_time": "2023-07-22T19:39:44.906Z"
   },
   {
    "duration": 6,
    "start_time": "2023-07-22T19:39:48.829Z"
   },
   {
    "duration": 5,
    "start_time": "2023-07-22T19:40:09.805Z"
   },
   {
    "duration": 4,
    "start_time": "2023-07-22T19:40:10.364Z"
   },
   {
    "duration": 4,
    "start_time": "2023-07-22T19:40:11.309Z"
   },
   {
    "duration": 1083,
    "start_time": "2023-07-22T19:40:16.147Z"
   },
   {
    "duration": 4,
    "start_time": "2023-07-22T19:40:17.232Z"
   },
   {
    "duration": 121,
    "start_time": "2023-07-22T19:40:17.238Z"
   },
   {
    "duration": 4,
    "start_time": "2023-07-22T19:40:17.361Z"
   },
   {
    "duration": 28,
    "start_time": "2023-07-22T19:40:17.367Z"
   },
   {
    "duration": 25,
    "start_time": "2023-07-22T19:40:17.396Z"
   },
   {
    "duration": 10,
    "start_time": "2023-07-22T19:40:17.423Z"
   },
   {
    "duration": 5,
    "start_time": "2023-07-22T19:40:17.435Z"
   },
   {
    "duration": 14,
    "start_time": "2023-07-22T19:40:17.441Z"
   },
   {
    "duration": 63,
    "start_time": "2023-07-22T19:40:17.458Z"
   },
   {
    "duration": 93,
    "start_time": "2023-07-22T19:40:17.523Z"
   },
   {
    "duration": 9,
    "start_time": "2023-07-22T19:40:17.618Z"
   },
   {
    "duration": 12,
    "start_time": "2023-07-22T19:40:17.629Z"
   },
   {
    "duration": 11,
    "start_time": "2023-07-22T19:40:17.643Z"
   },
   {
    "duration": 12,
    "start_time": "2023-07-22T19:40:17.714Z"
   },
   {
    "duration": 5,
    "start_time": "2023-07-22T19:41:18.885Z"
   },
   {
    "duration": 1206,
    "start_time": "2023-07-22T19:41:29.572Z"
   },
   {
    "duration": 5,
    "start_time": "2023-07-22T19:41:30.780Z"
   },
   {
    "duration": 133,
    "start_time": "2023-07-22T19:41:30.787Z"
   },
   {
    "duration": 5,
    "start_time": "2023-07-22T19:41:30.923Z"
   },
   {
    "duration": 54,
    "start_time": "2023-07-22T19:41:30.931Z"
   },
   {
    "duration": 27,
    "start_time": "2023-07-22T19:41:30.987Z"
   },
   {
    "duration": 14,
    "start_time": "2023-07-22T19:41:31.016Z"
   },
   {
    "duration": 15,
    "start_time": "2023-07-22T19:41:31.032Z"
   },
   {
    "duration": 27,
    "start_time": "2023-07-22T19:41:31.049Z"
   },
   {
    "duration": 100,
    "start_time": "2023-07-22T19:41:31.113Z"
   },
   {
    "duration": 18,
    "start_time": "2023-07-22T19:41:31.215Z"
   },
   {
    "duration": 29,
    "start_time": "2023-07-22T19:41:31.235Z"
   },
   {
    "duration": 22,
    "start_time": "2023-07-22T19:41:31.266Z"
   },
   {
    "duration": 27,
    "start_time": "2023-07-22T19:41:31.290Z"
   },
   {
    "duration": 12,
    "start_time": "2023-07-22T19:41:31.319Z"
   }
  ],
  "kernelspec": {
   "display_name": "Python 3 (ipykernel)",
   "language": "python",
   "name": "python3"
  },
  "language_info": {
   "codemirror_mode": {
    "name": "ipython",
    "version": 3
   },
   "file_extension": ".py",
   "mimetype": "text/x-python",
   "name": "python",
   "nbconvert_exporter": "python",
   "pygments_lexer": "ipython3",
   "version": "3.12.2"
  },
  "toc": {
   "base_numbering": 1,
   "nav_menu": {},
   "number_sections": true,
   "sideBar": true,
   "skip_h1_title": true,
   "title_cell": "Содержание",
   "title_sidebar": "Contents",
   "toc_cell": true,
   "toc_position": {
    "height": "calc(100% - 180px)",
    "left": "10px",
    "top": "150px",
    "width": "383.783px"
   },
   "toc_section_display": true,
   "toc_window_display": true
  }
 },
 "nbformat": 4,
 "nbformat_minor": 4
}
