{
 "cells": [
  {
   "cell_type": "markdown",
   "id": "55a20976",
   "metadata": {
    "deletable": false,
    "editable": false,
    "id": "c81daeeb"
   },
   "source": [
    "# Исследование надежности заемщиков\n"
   ]
  },
  {
   "cell_type": "markdown",
   "id": "d1e45244",
   "metadata": {
    "deletable": false,
    "editable": false,
    "id": "827c20bf"
   },
   "source": [
    "Во второй части проекта вы выполните шаги 3 и 4. Их вручную проверит ревьюер.\n",
    "Чтобы вам не пришлось писать код заново для шагов 1 и 2, мы добавили авторские решения в ячейки с кодом. \n",
    "\n"
   ]
  },
  {
   "cell_type": "markdown",
   "id": "ddb2034f",
   "metadata": {},
   "source": [
    "# Описание проекта\n"
   ]
  },
  {
   "cell_type": "markdown",
   "id": "9320ed2d",
   "metadata": {},
   "source": [
    "Заказчик — кредитный отдел банка. Нужно разобраться, влияет ли семейное положение и количество детей клиента на факт погашения кредита в срок. Входные данные от банка — статистика о платёжеспособности клиентов.\n",
    "Результаты исследования будут учтены при построении модели кредитного скоринга — специальной системы, которая оценивает способность потенциального заёмщика вернуть кредит банку."
   ]
  },
  {
   "cell_type": "markdown",
   "id": "333ad8e6",
   "metadata": {},
   "source": [
    "# Описание данных\n",
    "\n",
    "- children — количество детей в семье\n",
    "- days_employed — общий трудовой стаж в днях\n",
    "- dob_years — возраст клиента в годах\n",
    "- education — уровень образования клиента\n",
    "- education_id — идентификатор уровня образования\n",
    "- family_status — семейное положение\n",
    "- family_status_id — идентификатор семейного положения\n",
    "- gender — пол клиента\n",
    "- income_type — тип занятости\n",
    "- debt — имел ли задолженность по возврату кредитов\n",
    "- total_income — ежемесячный доход\n",
    "- purpose — цель получения кредита"
   ]
  },
  {
   "cell_type": "markdown",
   "id": "b2ecd309",
   "metadata": {
    "deletable": false,
    "editable": false,
    "id": "744d7639"
   },
   "source": [
    "## Откройте таблицу и изучите общую информацию о данных"
   ]
  },
  {
   "cell_type": "markdown",
   "id": "b21bd2a4",
   "metadata": {
    "deletable": false,
    "editable": false,
    "id": "e7a14c31"
   },
   "source": [
    "**Задание 1. Импортируйте библиотеку pandas. Считайте данные из csv-файла в датафрейм и сохраните в переменную `data`. Путь к файлу:**\n",
    "\n",
    "`/datasets/data.csv`"
   ]
  },
  {
   "cell_type": "code",
   "execution_count": 1,
   "id": "ab807e28",
   "metadata": {
    "deletable": false,
    "id": "7bcf75c9"
   },
   "outputs": [],
   "source": [
    "import pandas as pd\n",
    "\n",
    "try:\n",
    "    data = pd.read_csv('/datasets/data.csv')\n",
    "except:\n",
    "    data = pd.read_csv('https://code.s3.yandex.net/datasets/data.csv')"
   ]
  },
  {
   "cell_type": "markdown",
   "id": "12c193fe",
   "metadata": {
    "deletable": false,
    "editable": false,
    "id": "b8038fe3"
   },
   "source": [
    "**Задание 2. Выведите первые 20 строчек датафрейма `data` на экран.**"
   ]
  },
  {
   "cell_type": "code",
   "execution_count": 2,
   "id": "34687c5c",
   "metadata": {
    "deletable": false,
    "id": "2a7cab99",
    "outputId": "1a8f3ef2-d323-4ec2-ddf7-89670b5944c4"
   },
   "outputs": [
    {
     "data": {
      "text/html": [
       "<div>\n",
       "<style scoped>\n",
       "    .dataframe tbody tr th:only-of-type {\n",
       "        vertical-align: middle;\n",
       "    }\n",
       "\n",
       "    .dataframe tbody tr th {\n",
       "        vertical-align: top;\n",
       "    }\n",
       "\n",
       "    .dataframe thead th {\n",
       "        text-align: right;\n",
       "    }\n",
       "</style>\n",
       "<table border=\"1\" class=\"dataframe\">\n",
       "  <thead>\n",
       "    <tr style=\"text-align: right;\">\n",
       "      <th></th>\n",
       "      <th>children</th>\n",
       "      <th>days_employed</th>\n",
       "      <th>dob_years</th>\n",
       "      <th>education</th>\n",
       "      <th>education_id</th>\n",
       "      <th>family_status</th>\n",
       "      <th>family_status_id</th>\n",
       "      <th>gender</th>\n",
       "      <th>income_type</th>\n",
       "      <th>debt</th>\n",
       "      <th>total_income</th>\n",
       "      <th>purpose</th>\n",
       "    </tr>\n",
       "  </thead>\n",
       "  <tbody>\n",
       "    <tr>\n",
       "      <th>0</th>\n",
       "      <td>1</td>\n",
       "      <td>-8437.673028</td>\n",
       "      <td>42</td>\n",
       "      <td>высшее</td>\n",
       "      <td>0</td>\n",
       "      <td>женат / замужем</td>\n",
       "      <td>0</td>\n",
       "      <td>F</td>\n",
       "      <td>сотрудник</td>\n",
       "      <td>0</td>\n",
       "      <td>253875.639453</td>\n",
       "      <td>покупка жилья</td>\n",
       "    </tr>\n",
       "    <tr>\n",
       "      <th>1</th>\n",
       "      <td>1</td>\n",
       "      <td>-4024.803754</td>\n",
       "      <td>36</td>\n",
       "      <td>среднее</td>\n",
       "      <td>1</td>\n",
       "      <td>женат / замужем</td>\n",
       "      <td>0</td>\n",
       "      <td>F</td>\n",
       "      <td>сотрудник</td>\n",
       "      <td>0</td>\n",
       "      <td>112080.014102</td>\n",
       "      <td>приобретение автомобиля</td>\n",
       "    </tr>\n",
       "    <tr>\n",
       "      <th>2</th>\n",
       "      <td>0</td>\n",
       "      <td>-5623.422610</td>\n",
       "      <td>33</td>\n",
       "      <td>Среднее</td>\n",
       "      <td>1</td>\n",
       "      <td>женат / замужем</td>\n",
       "      <td>0</td>\n",
       "      <td>M</td>\n",
       "      <td>сотрудник</td>\n",
       "      <td>0</td>\n",
       "      <td>145885.952297</td>\n",
       "      <td>покупка жилья</td>\n",
       "    </tr>\n",
       "    <tr>\n",
       "      <th>3</th>\n",
       "      <td>3</td>\n",
       "      <td>-4124.747207</td>\n",
       "      <td>32</td>\n",
       "      <td>среднее</td>\n",
       "      <td>1</td>\n",
       "      <td>женат / замужем</td>\n",
       "      <td>0</td>\n",
       "      <td>M</td>\n",
       "      <td>сотрудник</td>\n",
       "      <td>0</td>\n",
       "      <td>267628.550329</td>\n",
       "      <td>дополнительное образование</td>\n",
       "    </tr>\n",
       "    <tr>\n",
       "      <th>4</th>\n",
       "      <td>0</td>\n",
       "      <td>340266.072047</td>\n",
       "      <td>53</td>\n",
       "      <td>среднее</td>\n",
       "      <td>1</td>\n",
       "      <td>гражданский брак</td>\n",
       "      <td>1</td>\n",
       "      <td>F</td>\n",
       "      <td>пенсионер</td>\n",
       "      <td>0</td>\n",
       "      <td>158616.077870</td>\n",
       "      <td>сыграть свадьбу</td>\n",
       "    </tr>\n",
       "    <tr>\n",
       "      <th>5</th>\n",
       "      <td>0</td>\n",
       "      <td>-926.185831</td>\n",
       "      <td>27</td>\n",
       "      <td>высшее</td>\n",
       "      <td>0</td>\n",
       "      <td>гражданский брак</td>\n",
       "      <td>1</td>\n",
       "      <td>M</td>\n",
       "      <td>компаньон</td>\n",
       "      <td>0</td>\n",
       "      <td>255763.565419</td>\n",
       "      <td>покупка жилья</td>\n",
       "    </tr>\n",
       "    <tr>\n",
       "      <th>6</th>\n",
       "      <td>0</td>\n",
       "      <td>-2879.202052</td>\n",
       "      <td>43</td>\n",
       "      <td>высшее</td>\n",
       "      <td>0</td>\n",
       "      <td>женат / замужем</td>\n",
       "      <td>0</td>\n",
       "      <td>F</td>\n",
       "      <td>компаньон</td>\n",
       "      <td>0</td>\n",
       "      <td>240525.971920</td>\n",
       "      <td>операции с жильем</td>\n",
       "    </tr>\n",
       "    <tr>\n",
       "      <th>7</th>\n",
       "      <td>0</td>\n",
       "      <td>-152.779569</td>\n",
       "      <td>50</td>\n",
       "      <td>СРЕДНЕЕ</td>\n",
       "      <td>1</td>\n",
       "      <td>женат / замужем</td>\n",
       "      <td>0</td>\n",
       "      <td>M</td>\n",
       "      <td>сотрудник</td>\n",
       "      <td>0</td>\n",
       "      <td>135823.934197</td>\n",
       "      <td>образование</td>\n",
       "    </tr>\n",
       "    <tr>\n",
       "      <th>8</th>\n",
       "      <td>2</td>\n",
       "      <td>-6929.865299</td>\n",
       "      <td>35</td>\n",
       "      <td>ВЫСШЕЕ</td>\n",
       "      <td>0</td>\n",
       "      <td>гражданский брак</td>\n",
       "      <td>1</td>\n",
       "      <td>F</td>\n",
       "      <td>сотрудник</td>\n",
       "      <td>0</td>\n",
       "      <td>95856.832424</td>\n",
       "      <td>на проведение свадьбы</td>\n",
       "    </tr>\n",
       "    <tr>\n",
       "      <th>9</th>\n",
       "      <td>0</td>\n",
       "      <td>-2188.756445</td>\n",
       "      <td>41</td>\n",
       "      <td>среднее</td>\n",
       "      <td>1</td>\n",
       "      <td>женат / замужем</td>\n",
       "      <td>0</td>\n",
       "      <td>M</td>\n",
       "      <td>сотрудник</td>\n",
       "      <td>0</td>\n",
       "      <td>144425.938277</td>\n",
       "      <td>покупка жилья для семьи</td>\n",
       "    </tr>\n",
       "    <tr>\n",
       "      <th>10</th>\n",
       "      <td>2</td>\n",
       "      <td>-4171.483647</td>\n",
       "      <td>36</td>\n",
       "      <td>высшее</td>\n",
       "      <td>0</td>\n",
       "      <td>женат / замужем</td>\n",
       "      <td>0</td>\n",
       "      <td>M</td>\n",
       "      <td>компаньон</td>\n",
       "      <td>0</td>\n",
       "      <td>113943.491460</td>\n",
       "      <td>покупка недвижимости</td>\n",
       "    </tr>\n",
       "    <tr>\n",
       "      <th>11</th>\n",
       "      <td>0</td>\n",
       "      <td>-792.701887</td>\n",
       "      <td>40</td>\n",
       "      <td>среднее</td>\n",
       "      <td>1</td>\n",
       "      <td>женат / замужем</td>\n",
       "      <td>0</td>\n",
       "      <td>F</td>\n",
       "      <td>сотрудник</td>\n",
       "      <td>0</td>\n",
       "      <td>77069.234271</td>\n",
       "      <td>покупка коммерческой недвижимости</td>\n",
       "    </tr>\n",
       "    <tr>\n",
       "      <th>12</th>\n",
       "      <td>0</td>\n",
       "      <td>NaN</td>\n",
       "      <td>65</td>\n",
       "      <td>среднее</td>\n",
       "      <td>1</td>\n",
       "      <td>гражданский брак</td>\n",
       "      <td>1</td>\n",
       "      <td>M</td>\n",
       "      <td>пенсионер</td>\n",
       "      <td>0</td>\n",
       "      <td>NaN</td>\n",
       "      <td>сыграть свадьбу</td>\n",
       "    </tr>\n",
       "    <tr>\n",
       "      <th>13</th>\n",
       "      <td>0</td>\n",
       "      <td>-1846.641941</td>\n",
       "      <td>54</td>\n",
       "      <td>неоконченное высшее</td>\n",
       "      <td>2</td>\n",
       "      <td>женат / замужем</td>\n",
       "      <td>0</td>\n",
       "      <td>F</td>\n",
       "      <td>сотрудник</td>\n",
       "      <td>0</td>\n",
       "      <td>130458.228857</td>\n",
       "      <td>приобретение автомобиля</td>\n",
       "    </tr>\n",
       "    <tr>\n",
       "      <th>14</th>\n",
       "      <td>0</td>\n",
       "      <td>-1844.956182</td>\n",
       "      <td>56</td>\n",
       "      <td>высшее</td>\n",
       "      <td>0</td>\n",
       "      <td>гражданский брак</td>\n",
       "      <td>1</td>\n",
       "      <td>F</td>\n",
       "      <td>компаньон</td>\n",
       "      <td>1</td>\n",
       "      <td>165127.911772</td>\n",
       "      <td>покупка жилой недвижимости</td>\n",
       "    </tr>\n",
       "    <tr>\n",
       "      <th>15</th>\n",
       "      <td>1</td>\n",
       "      <td>-972.364419</td>\n",
       "      <td>26</td>\n",
       "      <td>среднее</td>\n",
       "      <td>1</td>\n",
       "      <td>женат / замужем</td>\n",
       "      <td>0</td>\n",
       "      <td>F</td>\n",
       "      <td>сотрудник</td>\n",
       "      <td>0</td>\n",
       "      <td>116820.904450</td>\n",
       "      <td>строительство собственной недвижимости</td>\n",
       "    </tr>\n",
       "    <tr>\n",
       "      <th>16</th>\n",
       "      <td>0</td>\n",
       "      <td>-1719.934226</td>\n",
       "      <td>35</td>\n",
       "      <td>среднее</td>\n",
       "      <td>1</td>\n",
       "      <td>женат / замужем</td>\n",
       "      <td>0</td>\n",
       "      <td>F</td>\n",
       "      <td>сотрудник</td>\n",
       "      <td>0</td>\n",
       "      <td>289202.704229</td>\n",
       "      <td>недвижимость</td>\n",
       "    </tr>\n",
       "    <tr>\n",
       "      <th>17</th>\n",
       "      <td>0</td>\n",
       "      <td>-2369.999720</td>\n",
       "      <td>33</td>\n",
       "      <td>высшее</td>\n",
       "      <td>0</td>\n",
       "      <td>гражданский брак</td>\n",
       "      <td>1</td>\n",
       "      <td>M</td>\n",
       "      <td>сотрудник</td>\n",
       "      <td>0</td>\n",
       "      <td>90410.586745</td>\n",
       "      <td>строительство недвижимости</td>\n",
       "    </tr>\n",
       "    <tr>\n",
       "      <th>18</th>\n",
       "      <td>0</td>\n",
       "      <td>400281.136913</td>\n",
       "      <td>53</td>\n",
       "      <td>среднее</td>\n",
       "      <td>1</td>\n",
       "      <td>вдовец / вдова</td>\n",
       "      <td>2</td>\n",
       "      <td>F</td>\n",
       "      <td>пенсионер</td>\n",
       "      <td>0</td>\n",
       "      <td>56823.777243</td>\n",
       "      <td>на покупку подержанного автомобиля</td>\n",
       "    </tr>\n",
       "    <tr>\n",
       "      <th>19</th>\n",
       "      <td>0</td>\n",
       "      <td>-10038.818549</td>\n",
       "      <td>48</td>\n",
       "      <td>СРЕДНЕЕ</td>\n",
       "      <td>1</td>\n",
       "      <td>в разводе</td>\n",
       "      <td>3</td>\n",
       "      <td>F</td>\n",
       "      <td>сотрудник</td>\n",
       "      <td>0</td>\n",
       "      <td>242831.107982</td>\n",
       "      <td>на покупку своего автомобиля</td>\n",
       "    </tr>\n",
       "  </tbody>\n",
       "</table>\n",
       "</div>"
      ],
      "text/plain": [
       "    children  days_employed  dob_years            education  education_id  \\\n",
       "0          1   -8437.673028         42               высшее             0   \n",
       "1          1   -4024.803754         36              среднее             1   \n",
       "2          0   -5623.422610         33              Среднее             1   \n",
       "3          3   -4124.747207         32              среднее             1   \n",
       "4          0  340266.072047         53              среднее             1   \n",
       "5          0    -926.185831         27               высшее             0   \n",
       "6          0   -2879.202052         43               высшее             0   \n",
       "7          0    -152.779569         50              СРЕДНЕЕ             1   \n",
       "8          2   -6929.865299         35               ВЫСШЕЕ             0   \n",
       "9          0   -2188.756445         41              среднее             1   \n",
       "10         2   -4171.483647         36               высшее             0   \n",
       "11         0    -792.701887         40              среднее             1   \n",
       "12         0            NaN         65              среднее             1   \n",
       "13         0   -1846.641941         54  неоконченное высшее             2   \n",
       "14         0   -1844.956182         56               высшее             0   \n",
       "15         1    -972.364419         26              среднее             1   \n",
       "16         0   -1719.934226         35              среднее             1   \n",
       "17         0   -2369.999720         33               высшее             0   \n",
       "18         0  400281.136913         53              среднее             1   \n",
       "19         0  -10038.818549         48              СРЕДНЕЕ             1   \n",
       "\n",
       "       family_status  family_status_id gender income_type  debt  \\\n",
       "0    женат / замужем                 0      F   сотрудник     0   \n",
       "1    женат / замужем                 0      F   сотрудник     0   \n",
       "2    женат / замужем                 0      M   сотрудник     0   \n",
       "3    женат / замужем                 0      M   сотрудник     0   \n",
       "4   гражданский брак                 1      F   пенсионер     0   \n",
       "5   гражданский брак                 1      M   компаньон     0   \n",
       "6    женат / замужем                 0      F   компаньон     0   \n",
       "7    женат / замужем                 0      M   сотрудник     0   \n",
       "8   гражданский брак                 1      F   сотрудник     0   \n",
       "9    женат / замужем                 0      M   сотрудник     0   \n",
       "10   женат / замужем                 0      M   компаньон     0   \n",
       "11   женат / замужем                 0      F   сотрудник     0   \n",
       "12  гражданский брак                 1      M   пенсионер     0   \n",
       "13   женат / замужем                 0      F   сотрудник     0   \n",
       "14  гражданский брак                 1      F   компаньон     1   \n",
       "15   женат / замужем                 0      F   сотрудник     0   \n",
       "16   женат / замужем                 0      F   сотрудник     0   \n",
       "17  гражданский брак                 1      M   сотрудник     0   \n",
       "18    вдовец / вдова                 2      F   пенсионер     0   \n",
       "19         в разводе                 3      F   сотрудник     0   \n",
       "\n",
       "     total_income                                 purpose  \n",
       "0   253875.639453                           покупка жилья  \n",
       "1   112080.014102                 приобретение автомобиля  \n",
       "2   145885.952297                           покупка жилья  \n",
       "3   267628.550329              дополнительное образование  \n",
       "4   158616.077870                         сыграть свадьбу  \n",
       "5   255763.565419                           покупка жилья  \n",
       "6   240525.971920                       операции с жильем  \n",
       "7   135823.934197                             образование  \n",
       "8    95856.832424                   на проведение свадьбы  \n",
       "9   144425.938277                 покупка жилья для семьи  \n",
       "10  113943.491460                    покупка недвижимости  \n",
       "11   77069.234271       покупка коммерческой недвижимости  \n",
       "12            NaN                         сыграть свадьбу  \n",
       "13  130458.228857                 приобретение автомобиля  \n",
       "14  165127.911772              покупка жилой недвижимости  \n",
       "15  116820.904450  строительство собственной недвижимости  \n",
       "16  289202.704229                            недвижимость  \n",
       "17   90410.586745              строительство недвижимости  \n",
       "18   56823.777243      на покупку подержанного автомобиля  \n",
       "19  242831.107982            на покупку своего автомобиля  "
      ]
     },
     "execution_count": 2,
     "metadata": {},
     "output_type": "execute_result"
    }
   ],
   "source": [
    "data.head(20)"
   ]
  },
  {
   "cell_type": "markdown",
   "id": "3bbaa5a0",
   "metadata": {
    "deletable": false,
    "editable": false,
    "id": "1c12e233"
   },
   "source": [
    "**Задание 3. Выведите основную информацию о датафрейме с помощью метода `info()`.**"
   ]
  },
  {
   "cell_type": "code",
   "execution_count": 3,
   "id": "cb164dad",
   "metadata": {
    "deletable": false,
    "id": "2b757bca",
    "outputId": "15376089-8dad-46c9-b520-c05248d43158"
   },
   "outputs": [
    {
     "name": "stdout",
     "output_type": "stream",
     "text": [
      "<class 'pandas.core.frame.DataFrame'>\n",
      "RangeIndex: 21525 entries, 0 to 21524\n",
      "Data columns (total 12 columns):\n",
      " #   Column            Non-Null Count  Dtype  \n",
      "---  ------            --------------  -----  \n",
      " 0   children          21525 non-null  int64  \n",
      " 1   days_employed     19351 non-null  float64\n",
      " 2   dob_years         21525 non-null  int64  \n",
      " 3   education         21525 non-null  object \n",
      " 4   education_id      21525 non-null  int64  \n",
      " 5   family_status     21525 non-null  object \n",
      " 6   family_status_id  21525 non-null  int64  \n",
      " 7   gender            21525 non-null  object \n",
      " 8   income_type       21525 non-null  object \n",
      " 9   debt              21525 non-null  int64  \n",
      " 10  total_income      19351 non-null  float64\n",
      " 11  purpose           21525 non-null  object \n",
      "dtypes: float64(2), int64(5), object(5)\n",
      "memory usage: 2.0+ MB\n"
     ]
    }
   ],
   "source": [
    "data.info()"
   ]
  },
  {
   "cell_type": "markdown",
   "id": "1f909243",
   "metadata": {
    "deletable": false,
    "editable": false,
    "id": "333ec665"
   },
   "source": [
    "## Предобработка данных"
   ]
  },
  {
   "cell_type": "markdown",
   "id": "e62967ed",
   "metadata": {
    "deletable": false,
    "editable": false,
    "id": "02d92d53"
   },
   "source": [
    "### Удаление пропусков"
   ]
  },
  {
   "cell_type": "markdown",
   "id": "1e823211",
   "metadata": {
    "deletable": false,
    "editable": false,
    "id": "cd84967c"
   },
   "source": [
    "**Задание 4. Выведите количество пропущенных значений для каждого столбца. Используйте комбинацию двух методов.**"
   ]
  },
  {
   "cell_type": "code",
   "execution_count": 4,
   "id": "4cd5b840",
   "metadata": {
    "deletable": false,
    "id": "7f9b2309",
    "outputId": "81f4d817-781c-465c-ed15-91ce4446810d"
   },
   "outputs": [
    {
     "data": {
      "text/plain": [
       "children               0\n",
       "days_employed       2174\n",
       "dob_years              0\n",
       "education              0\n",
       "education_id           0\n",
       "family_status          0\n",
       "family_status_id       0\n",
       "gender                 0\n",
       "income_type            0\n",
       "debt                   0\n",
       "total_income        2174\n",
       "purpose                0\n",
       "dtype: int64"
      ]
     },
     "execution_count": 4,
     "metadata": {},
     "output_type": "execute_result"
    }
   ],
   "source": [
    "data.isna().sum()"
   ]
  },
  {
   "cell_type": "markdown",
   "id": "68ada50e",
   "metadata": {
    "deletable": false,
    "editable": false,
    "id": "db86e27b"
   },
   "source": [
    "**Задание 5. В двух столбцах есть пропущенные значения. Один из них — `days_employed`. Пропуски в этом столбце вы обработаете на следующем этапе. Другой столбец с пропущенными значениями — `total_income` — хранит данные о доходах. На сумму дохода сильнее всего влияет тип занятости, поэтому заполнить пропуски в этом столбце нужно медианным значением по каждому типу из столбца `income_type`. Например, у человека с типом занятости `сотрудник` пропуск в столбце `total_income` должен быть заполнен медианным доходом среди всех записей с тем же типом.**"
   ]
  },
  {
   "cell_type": "code",
   "execution_count": 5,
   "id": "923251ae",
   "metadata": {
    "deletable": false,
    "id": "42006a93"
   },
   "outputs": [],
   "source": [
    "for t in data['income_type'].unique():\n",
    "    data.loc[(data['income_type'] == t) & (data['total_income'].isna()), 'total_income'] = \\\n",
    "    data.loc[(data['income_type'] == t), 'total_income'].median()"
   ]
  },
  {
   "cell_type": "markdown",
   "id": "e022f5e3",
   "metadata": {
    "deletable": false,
    "editable": false,
    "id": "89da5ece"
   },
   "source": [
    "### Обработка аномальных значений"
   ]
  },
  {
   "cell_type": "markdown",
   "id": "71a8881c",
   "metadata": {
    "deletable": false,
    "editable": false,
    "id": "57964554"
   },
   "source": [
    "**Задание 6. В данных могут встречаться артефакты (аномалии) — значения, которые не отражают действительность и появились по какой-то ошибке. таким артефактом будет отрицательное количество дней трудового стажа в столбце `days_employed`. Для реальных данных это нормально. Обработайте значения в этом столбце: замените все отрицательные значения положительными с помощью метода `abs()`.**"
   ]
  },
  {
   "cell_type": "code",
   "execution_count": 6,
   "id": "c3c9cf3e",
   "metadata": {
    "deletable": false,
    "id": "f6f055bf"
   },
   "outputs": [],
   "source": [
    "data['days_employed'] = data['days_employed'].abs()"
   ]
  },
  {
   "cell_type": "markdown",
   "id": "a73f1ce1",
   "metadata": {
    "deletable": false,
    "editable": false,
    "id": "6107dd2f"
   },
   "source": [
    "**Задание 7. Для каждого типа занятости выведите медианное значение трудового стажа `days_employed` в днях.**"
   ]
  },
  {
   "cell_type": "code",
   "execution_count": 7,
   "id": "48021339",
   "metadata": {
    "deletable": false,
    "id": "85a5faf6",
    "outputId": "801ef80e-522b-4668-f34e-565af7432bcf"
   },
   "outputs": [
    {
     "data": {
      "text/plain": [
       "income_type\n",
       "безработный        366413.652744\n",
       "в декрете            3296.759962\n",
       "госслужащий          2689.368353\n",
       "компаньон            1547.382223\n",
       "пенсионер          365213.306266\n",
       "предприниматель       520.848083\n",
       "сотрудник            1574.202821\n",
       "студент               578.751554\n",
       "Name: days_employed, dtype: float64"
      ]
     },
     "execution_count": 7,
     "metadata": {},
     "output_type": "execute_result"
    }
   ],
   "source": [
    "data.groupby('income_type')['days_employed'].agg('median')"
   ]
  },
  {
   "cell_type": "markdown",
   "id": "bdccba97",
   "metadata": {
    "deletable": false,
    "editable": false,
    "id": "38d1a030"
   },
   "source": [
    "У двух типов (безработные и пенсионеры) получатся аномально большие значения. Исправить такие значения сложно, поэтому оставьте их как есть. Тем более этот столбец не понадобится вам для исследования."
   ]
  },
  {
   "cell_type": "markdown",
   "id": "380334dd",
   "metadata": {
    "deletable": false,
    "editable": false,
    "id": "d8a9f147"
   },
   "source": [
    "**Задание 8. Выведите перечень уникальных значений столбца `children`.**"
   ]
  },
  {
   "cell_type": "code",
   "execution_count": 8,
   "id": "898e35e9",
   "metadata": {
    "deletable": false,
    "id": "ef5056eb",
    "outputId": "6975b15c-7f95-4697-d16d-a0c79b657b03"
   },
   "outputs": [
    {
     "data": {
      "text/plain": [
       "array([ 1,  0,  3,  2, -1,  4, 20,  5])"
      ]
     },
     "execution_count": 8,
     "metadata": {},
     "output_type": "execute_result"
    }
   ],
   "source": [
    "data['children'].unique()"
   ]
  },
  {
   "cell_type": "markdown",
   "id": "f2caea85",
   "metadata": {
    "deletable": false,
    "editable": false,
    "id": "40b9ebf2"
   },
   "source": [
    "**Задание 9. В столбце `children` есть два аномальных значения. Удалите строки, в которых встречаются такие аномальные значения из датафрейма `data`.**"
   ]
  },
  {
   "cell_type": "code",
   "execution_count": 9,
   "id": "4a8f4392",
   "metadata": {
    "deletable": false,
    "id": "3ff9801d"
   },
   "outputs": [],
   "source": [
    "data = data[(data['children'] != -1) & (data['children'] != 20)]"
   ]
  },
  {
   "cell_type": "markdown",
   "id": "0ad8f3c8",
   "metadata": {
    "deletable": false,
    "editable": false,
    "id": "bbc4d0ce"
   },
   "source": [
    "**Задание 10. Ещё раз выведите перечень уникальных значений столбца `children`, чтобы убедиться, что артефакты удалены.**"
   ]
  },
  {
   "cell_type": "code",
   "execution_count": 10,
   "id": "4cd2c5d0",
   "metadata": {
    "deletable": false,
    "id": "ad4fa8b7",
    "outputId": "b2097101-d49d-44d9-901b-32a65c9463d1"
   },
   "outputs": [
    {
     "data": {
      "text/plain": [
       "array([1, 0, 3, 2, 4, 5])"
      ]
     },
     "execution_count": 10,
     "metadata": {},
     "output_type": "execute_result"
    }
   ],
   "source": [
    "data['children'].unique()"
   ]
  },
  {
   "cell_type": "markdown",
   "id": "5439ba62",
   "metadata": {
    "deletable": false,
    "editable": false,
    "id": "75440b63"
   },
   "source": [
    "### Удаление пропусков (продолжение)"
   ]
  },
  {
   "cell_type": "markdown",
   "id": "fc6b9497",
   "metadata": {
    "deletable": false,
    "editable": false,
    "id": "f4ea573f"
   },
   "source": [
    "**Задание 11. Заполните пропуски в столбце `days_employed` медианными значениями по каждого типа занятости `income_type`.**"
   ]
  },
  {
   "cell_type": "code",
   "execution_count": 11,
   "id": "7c5b1c55",
   "metadata": {
    "deletable": false,
    "id": "af6b1a7e"
   },
   "outputs": [],
   "source": [
    "for t in data['income_type'].unique():\n",
    "    data.loc[(data['income_type'] == t) & (data['days_employed'].isna()), 'days_employed'] = \\\n",
    "    data.loc[(data['income_type'] == t), 'days_employed'].median()"
   ]
  },
  {
   "cell_type": "markdown",
   "id": "2fd5c8e8",
   "metadata": {
    "deletable": false,
    "editable": false,
    "id": "2753f40d"
   },
   "source": [
    "**Задание 12. Убедитесь, что все пропуски заполнены. Проверьте себя и ещё раз выведите количество пропущенных значений для каждого столбца с помощью двух методов.**"
   ]
  },
  {
   "cell_type": "code",
   "execution_count": 12,
   "id": "c312822b",
   "metadata": {
    "deletable": false,
    "id": "55f78bc2",
    "outputId": "8da1e4e1-358e-4e87-98c9-f261bce0a7b2"
   },
   "outputs": [
    {
     "data": {
      "text/plain": [
       "children            0\n",
       "days_employed       0\n",
       "dob_years           0\n",
       "education           0\n",
       "education_id        0\n",
       "family_status       0\n",
       "family_status_id    0\n",
       "gender              0\n",
       "income_type         0\n",
       "debt                0\n",
       "total_income        0\n",
       "purpose             0\n",
       "dtype: int64"
      ]
     },
     "execution_count": 12,
     "metadata": {},
     "output_type": "execute_result"
    }
   ],
   "source": [
    "data.isna().sum()"
   ]
  },
  {
   "cell_type": "markdown",
   "id": "d8b12601",
   "metadata": {
    "deletable": false,
    "editable": false,
    "id": "ddc81e43"
   },
   "source": [
    "### Изменение типов данных"
   ]
  },
  {
   "cell_type": "markdown",
   "id": "d64aa2e9",
   "metadata": {
    "deletable": false,
    "editable": false,
    "id": "42d19d24"
   },
   "source": [
    "**Задание 13. Замените вещественный тип данных в столбце `total_income` на целочисленный с помощью метода `astype()`.**"
   ]
  },
  {
   "cell_type": "code",
   "execution_count": 13,
   "id": "c400ff2d",
   "metadata": {
    "deletable": false,
    "id": "920b65ad"
   },
   "outputs": [],
   "source": [
    "data['total_income'] = data['total_income'].astype(int)"
   ]
  },
  {
   "cell_type": "markdown",
   "id": "c0ed7cdd",
   "metadata": {
    "deletable": false,
    "editable": false,
    "id": "80c420ba"
   },
   "source": [
    "### Обработка дубликатов"
   ]
  },
  {
   "cell_type": "markdown",
   "id": "920c8824",
   "metadata": {
    "deletable": false,
    "editable": false
   },
   "source": [
    "**Задание 14. Обработайте неявные дубликаты в столбце `education`. В этом столбце есть одни и те же значения, но записанные по-разному: с использованием заглавных и строчных букв. Приведите их к нижнему регистру. Проверьте остальные столбцы.**"
   ]
  },
  {
   "cell_type": "code",
   "execution_count": 14,
   "id": "8d8b7b8d",
   "metadata": {
    "deletable": false
   },
   "outputs": [],
   "source": [
    "data['education'] = data['education'].str.lower()"
   ]
  },
  {
   "cell_type": "markdown",
   "id": "1c380714",
   "metadata": {
    "deletable": false,
    "editable": false,
    "id": "dc587695"
   },
   "source": [
    "**Задание 15. Выведите на экран количество строк-дубликатов в данных. Если такие строки присутствуют, удалите их.**"
   ]
  },
  {
   "cell_type": "code",
   "execution_count": 15,
   "id": "9248b654",
   "metadata": {
    "deletable": false,
    "id": "3ee445e4",
    "outputId": "9684deba-1934-42d1-99e1-cda61740f822"
   },
   "outputs": [
    {
     "data": {
      "text/plain": [
       "71"
      ]
     },
     "execution_count": 15,
     "metadata": {},
     "output_type": "execute_result"
    }
   ],
   "source": [
    "data.duplicated().sum()"
   ]
  },
  {
   "cell_type": "code",
   "execution_count": 16,
   "id": "f8ebf86d",
   "metadata": {
    "deletable": false,
    "id": "8575fe05"
   },
   "outputs": [],
   "source": [
    "data = data.drop_duplicates()"
   ]
  },
  {
   "cell_type": "markdown",
   "id": "823e2bc0",
   "metadata": {
    "deletable": false,
    "editable": false,
    "id": "9904cf55"
   },
   "source": [
    "### Категоризация данных"
   ]
  },
  {
   "cell_type": "markdown",
   "id": "f6d31712",
   "metadata": {
    "deletable": false,
    "editable": false,
    "id": "72fcc8a2"
   },
   "source": [
    "**Задание 16. На основании диапазонов, указанных ниже, создайте в датафрейме `data` столбец `total_income_category` с категориями:**\n",
    "\n",
    "- 0–30000 — `'E'`;\n",
    "- 30001–50000 — `'D'`;\n",
    "- 50001–200000 — `'C'`;\n",
    "- 200001–1000000 — `'B'`;\n",
    "- 1000001 и выше — `'A'`.\n",
    "\n",
    "\n",
    "**Например, кредитополучателю с доходом 25000 нужно назначить категорию `'E'`, а клиенту, получающему 235000, — `'B'`. Используйте собственную функцию с именем `categorize_income()` и метод `apply()`.**"
   ]
  },
  {
   "cell_type": "code",
   "execution_count": 17,
   "id": "e851292f",
   "metadata": {
    "deletable": false,
    "id": "e1771346"
   },
   "outputs": [],
   "source": [
    "def categorize_income(income):\n",
    "    try:\n",
    "        if 0 <= income <= 30000:\n",
    "            return 'E'\n",
    "        elif 30001 <= income <= 50000:\n",
    "            return 'D'\n",
    "        elif 50001 <= income <= 200000:\n",
    "            return 'C'\n",
    "        elif 200001 <= income <= 1000000:\n",
    "            return 'B'\n",
    "        elif income >= 1000001:\n",
    "            return 'A'\n",
    "    except:\n",
    "        pass"
   ]
  },
  {
   "cell_type": "code",
   "execution_count": 18,
   "id": "7ebfebfb",
   "metadata": {
    "deletable": false,
    "id": "d5f3586d"
   },
   "outputs": [],
   "source": [
    "data['total_income_category'] = data['total_income'].apply(categorize_income)"
   ]
  },
  {
   "cell_type": "markdown",
   "id": "d66b44b8",
   "metadata": {
    "deletable": false,
    "editable": false,
    "id": "dde49b5c"
   },
   "source": [
    "**Задание 17. Выведите на экран перечень уникальных целей взятия кредита из столбца `purpose`.**"
   ]
  },
  {
   "cell_type": "code",
   "execution_count": 19,
   "id": "081a8b26",
   "metadata": {
    "deletable": false,
    "id": "f67ce9b3",
    "outputId": "673c12d9-7d7e-4ae0-9812-c622c89dd244"
   },
   "outputs": [
    {
     "data": {
      "text/plain": [
       "array(['покупка жилья', 'приобретение автомобиля',\n",
       "       'дополнительное образование', 'сыграть свадьбу',\n",
       "       'операции с жильем', 'образование', 'на проведение свадьбы',\n",
       "       'покупка жилья для семьи', 'покупка недвижимости',\n",
       "       'покупка коммерческой недвижимости', 'покупка жилой недвижимости',\n",
       "       'строительство собственной недвижимости', 'недвижимость',\n",
       "       'строительство недвижимости', 'на покупку подержанного автомобиля',\n",
       "       'на покупку своего автомобиля',\n",
       "       'операции с коммерческой недвижимостью',\n",
       "       'строительство жилой недвижимости', 'жилье',\n",
       "       'операции со своей недвижимостью', 'автомобили',\n",
       "       'заняться образованием', 'сделка с подержанным автомобилем',\n",
       "       'получение образования', 'автомобиль', 'свадьба',\n",
       "       'получение дополнительного образования', 'покупка своего жилья',\n",
       "       'операции с недвижимостью', 'получение высшего образования',\n",
       "       'свой автомобиль', 'сделка с автомобилем',\n",
       "       'профильное образование', 'высшее образование',\n",
       "       'покупка жилья для сдачи', 'на покупку автомобиля', 'ремонт жилью',\n",
       "       'заняться высшим образованием'], dtype=object)"
      ]
     },
     "execution_count": 19,
     "metadata": {},
     "output_type": "execute_result"
    }
   ],
   "source": [
    "data['purpose'].unique()"
   ]
  },
  {
   "cell_type": "markdown",
   "id": "d42cd188",
   "metadata": {
    "deletable": false,
    "editable": false,
    "id": "85d0aef0"
   },
   "source": [
    "**Задание 18. Создайте функцию, которая на основании данных из столбца `purpose` сформирует новый столбец `purpose_category`, в который войдут следующие категории:**\n",
    "\n",
    "- `'операции с автомобилем'`,\n",
    "- `'операции с недвижимостью'`,\n",
    "- `'проведение свадьбы'`,\n",
    "- `'получение образования'`.\n",
    "\n",
    "**Например, если в столбце `purpose` находится подстрока `'на покупку автомобиля'`, то в столбце `purpose_category` должна появиться строка `'операции с автомобилем'`.**\n",
    "\n",
    "**Используйте собственную функцию с именем `categorize_purpose()` и метод `apply()`. Изучите данные в столбце `purpose` и определите, какие подстроки помогут вам правильно определить категорию.**"
   ]
  },
  {
   "cell_type": "code",
   "execution_count": 20,
   "id": "2e0d4e7b",
   "metadata": {
    "deletable": false,
    "id": "e149fab4"
   },
   "outputs": [],
   "source": [
    "def categorize_purpose(row):\n",
    "    try:\n",
    "        if 'автом' in row:\n",
    "            return 'операции с автомобилем'\n",
    "        elif 'жил' in row or 'недвиж' in row:\n",
    "            return 'операции с недвижимостью'\n",
    "        elif 'свад' in row:\n",
    "            return 'проведение свадьбы'\n",
    "        elif 'образов' in row:\n",
    "            return 'получение образования'\n",
    "    except:\n",
    "        return 'нет категории'"
   ]
  },
  {
   "cell_type": "code",
   "execution_count": 21,
   "id": "a8665cf9",
   "metadata": {
    "deletable": false,
    "id": "bf36e69b"
   },
   "outputs": [],
   "source": [
    "data['purpose_category'] = data['purpose'].apply(categorize_purpose)"
   ]
  },
  {
   "cell_type": "markdown",
   "id": "139b0077",
   "metadata": {
    "deletable": false,
    "editable": false,
    "id": "09b242bf"
   },
   "source": [
    "### Шаг 3. Исследуйте данные и ответьте на вопросы"
   ]
  },
  {
   "cell_type": "markdown",
   "id": "473ba40c",
   "metadata": {
    "deletable": false,
    "editable": false,
    "id": "c5d66278"
   },
   "source": [
    "#### 3.1 Есть ли зависимость между количеством детей и возвратом кредита в срок?"
   ]
  },
  {
   "cell_type": "code",
   "execution_count": 22,
   "id": "69c5d120",
   "metadata": {
    "deletable": false,
    "id": "2cacfc4a"
   },
   "outputs": [],
   "source": [
    "# Ваш код будет здесь. Вы можете создавать новые ячейки."
   ]
  },
  {
   "cell_type": "code",
   "execution_count": 23,
   "id": "7450fd38",
   "metadata": {},
   "outputs": [
    {
     "data": {
      "text/html": [
       "<div>\n",
       "<style scoped>\n",
       "    .dataframe tbody tr th:only-of-type {\n",
       "        vertical-align: middle;\n",
       "    }\n",
       "\n",
       "    .dataframe tbody tr th {\n",
       "        vertical-align: top;\n",
       "    }\n",
       "\n",
       "    .dataframe thead th {\n",
       "        text-align: right;\n",
       "    }\n",
       "</style>\n",
       "<table border=\"1\" class=\"dataframe\">\n",
       "  <thead>\n",
       "    <tr style=\"text-align: right;\">\n",
       "      <th></th>\n",
       "      <th>children</th>\n",
       "      <th>sum</th>\n",
       "      <th>count</th>\n",
       "      <th>mean</th>\n",
       "    </tr>\n",
       "  </thead>\n",
       "  <tbody>\n",
       "    <tr>\n",
       "      <th>0</th>\n",
       "      <td>0</td>\n",
       "      <td>1063</td>\n",
       "      <td>14091</td>\n",
       "      <td>7.543822</td>\n",
       "    </tr>\n",
       "    <tr>\n",
       "      <th>1</th>\n",
       "      <td>1</td>\n",
       "      <td>444</td>\n",
       "      <td>4808</td>\n",
       "      <td>9.234609</td>\n",
       "    </tr>\n",
       "    <tr>\n",
       "      <th>2</th>\n",
       "      <td>2</td>\n",
       "      <td>194</td>\n",
       "      <td>2052</td>\n",
       "      <td>9.454191</td>\n",
       "    </tr>\n",
       "    <tr>\n",
       "      <th>3</th>\n",
       "      <td>3</td>\n",
       "      <td>27</td>\n",
       "      <td>330</td>\n",
       "      <td>8.181818</td>\n",
       "    </tr>\n",
       "    <tr>\n",
       "      <th>4</th>\n",
       "      <td>4</td>\n",
       "      <td>4</td>\n",
       "      <td>41</td>\n",
       "      <td>9.756098</td>\n",
       "    </tr>\n",
       "    <tr>\n",
       "      <th>5</th>\n",
       "      <td>5</td>\n",
       "      <td>0</td>\n",
       "      <td>9</td>\n",
       "      <td>0.000000</td>\n",
       "    </tr>\n",
       "  </tbody>\n",
       "</table>\n",
       "</div>"
      ],
      "text/plain": [
       "   children   sum  count      mean\n",
       "0         0  1063  14091  7.543822\n",
       "1         1   444   4808  9.234609\n",
       "2         2   194   2052  9.454191\n",
       "3         3    27    330  8.181818\n",
       "4         4     4     41  9.756098\n",
       "5         5     0      9  0.000000"
      ]
     },
     "execution_count": 23,
     "metadata": {},
     "output_type": "execute_result"
    }
   ],
   "source": [
    "children_debt_pivot = data.pivot_table(\n",
    "    index='children', \n",
    "    values='debt', \n",
    "    aggfunc=['sum', 'count', 'mean']\n",
    ")\n",
    "children_debt_pivot['mean'] = children_debt_pivot['mean'] * 100\n",
    "children_debt_pivot = children_debt_pivot.reset_index().droplevel(1, axis=1)\n",
    "children_debt_pivot"
   ]
  },
  {
   "cell_type": "markdown",
   "id": "f15c9849",
   "metadata": {
    "deletable": false,
    "id": "3a6b99ec"
   },
   "source": [
    "**Вывод: \n",
    "1)Зависимость между количеством детей и возвратом кредита в срок такова, что если детей нет, то вероятность возврата кредита в срок больше, чем для человека, у которого есть дети.\n",
    "2)Также если детей трое, то вероятность возврат увеличивается\n",
    "2)Исходя из данных можно заметить, что чем больше детей, тем меньше информации о кредитах, поэтому для подтверждения такой зависимости нужно больше исследований и данных, а также стоит отметить, что вероятность возврата кредита для человека с 5 детьми лишь на текущих данных 100%, но судить по ним нельзя, так как выборка очень маленькая** "
   ]
  },
  {
   "cell_type": "markdown",
   "id": "f68a3040",
   "metadata": {
    "deletable": false,
    "editable": false,
    "id": "97be82ca"
   },
   "source": [
    "#### 3.2 Есть ли зависимость между семейным положением и возвратом кредита в срок?"
   ]
  },
  {
   "cell_type": "code",
   "execution_count": 24,
   "id": "8b8d5cbc",
   "metadata": {
    "deletable": false,
    "id": "dc3f7ee8",
    "scrolled": true
   },
   "outputs": [],
   "source": [
    "family_debt_pivot = data.pivot_table(\n",
    "    index='family_status', \n",
    "    values='debt', \n",
    "    aggfunc=['sum', 'count', 'mean']\n",
    ")\n",
    "family_debt_pivot['mean'] = family_debt_pivot['mean'] * 100\n",
    "family_debt_pivot = family_debt_pivot.reset_index().droplevel(1, axis=1)\n",
    "family_debt_pivot = family_debt_pivot.sort_values(by='count', ascending=False).set_index('family_status')\n",
    "family_debt_pivot"
   ]
  },
  {
   "cell_type": "markdown",
   "id": "bc7bd68e",
   "metadata": {
    "deletable": false,
    "id": "1cef7837"
   },
   "source": [
    "**Вывод: Среди женатых/замужних людей наименьший процент должников - 7,5%, ситуацию хуже у людей состоящих в гражанском браке и не женатых/не замужних, где процент невозврата выше и составляет 9,3% и 9,7% соответственно. Для оставшихся двух категорий (в разводе и вдовец/вдова) выборка мала, чтобы сделать какие-то достоверные выводы."
   ]
  },
  {
   "cell_type": "markdown",
   "id": "650967af",
   "metadata": {
    "deletable": false,
    "editable": false,
    "id": "1e8b2fca"
   },
   "source": [
    "# 3.3 Есть ли зависимость между уровнем дохода и возвратом кредита в срок?"
   ]
  },
  {
   "cell_type": "code",
   "execution_count": 26,
   "id": "68fe91bb",
   "metadata": {
    "deletable": false,
    "id": "cd7e3720"
   },
   "outputs": [
    {
     "data": {
      "text/plain": [
       "total_income_category\n",
       "E    0.090909\n",
       "C    0.084982\n",
       "A    0.080000\n",
       "B    0.070602\n",
       "D    0.060172\n",
       "Name: debt, dtype: float64"
      ]
     },
     "execution_count": 26,
     "metadata": {},
     "output_type": "execute_result"
    }
   ],
   "source": [
    "data.groupby('total_income_category')['debt'].mean().sort_values(ascending=False)"
   ]
  },
  {
   "cell_type": "code",
   "execution_count": 27,
   "id": "2e37478f",
   "metadata": {},
   "outputs": [
    {
     "data": {
      "text/html": [
       "<div>\n",
       "<style scoped>\n",
       "    .dataframe tbody tr th:only-of-type {\n",
       "        vertical-align: middle;\n",
       "    }\n",
       "\n",
       "    .dataframe tbody tr th {\n",
       "        vertical-align: top;\n",
       "    }\n",
       "\n",
       "    .dataframe thead th {\n",
       "        text-align: right;\n",
       "    }\n",
       "</style>\n",
       "<table border=\"1\" class=\"dataframe\">\n",
       "  <thead>\n",
       "    <tr style=\"text-align: right;\">\n",
       "      <th></th>\n",
       "      <th>sum</th>\n",
       "      <th>count</th>\n",
       "      <th>mean</th>\n",
       "    </tr>\n",
       "    <tr>\n",
       "      <th>total_income_category</th>\n",
       "      <th></th>\n",
       "      <th></th>\n",
       "      <th></th>\n",
       "    </tr>\n",
       "  </thead>\n",
       "  <tbody>\n",
       "    <tr>\n",
       "      <th>C</th>\n",
       "      <td>1353</td>\n",
       "      <td>15921</td>\n",
       "      <td>8.498210</td>\n",
       "    </tr>\n",
       "    <tr>\n",
       "      <th>B</th>\n",
       "      <td>354</td>\n",
       "      <td>5014</td>\n",
       "      <td>7.060231</td>\n",
       "    </tr>\n",
       "    <tr>\n",
       "      <th>D</th>\n",
       "      <td>21</td>\n",
       "      <td>349</td>\n",
       "      <td>6.017192</td>\n",
       "    </tr>\n",
       "    <tr>\n",
       "      <th>A</th>\n",
       "      <td>2</td>\n",
       "      <td>25</td>\n",
       "      <td>8.000000</td>\n",
       "    </tr>\n",
       "    <tr>\n",
       "      <th>E</th>\n",
       "      <td>2</td>\n",
       "      <td>22</td>\n",
       "      <td>9.090909</td>\n",
       "    </tr>\n",
       "  </tbody>\n",
       "</table>\n",
       "</div>"
      ],
      "text/plain": [
       "                        sum  count      mean\n",
       "total_income_category                       \n",
       "C                      1353  15921  8.498210\n",
       "B                       354   5014  7.060231\n",
       "D                        21    349  6.017192\n",
       "A                         2     25  8.000000\n",
       "E                         2     22  9.090909"
      ]
     },
     "execution_count": 27,
     "metadata": {},
     "output_type": "execute_result"
    }
   ],
   "source": [
    "total_income_debt_pivot = data.pivot_table(\n",
    "    index='total_income_category', \n",
    "    values='debt', \n",
    "    aggfunc=['sum', 'count', 'mean']\n",
    ")\n",
    "total_income_debt_pivot['mean'] = total_income_debt_pivot['mean'] * 100\n",
    "total_income_debt_pivot = total_income_debt_pivot.reset_index().droplevel(1, axis=1)\n",
    "total_income_debt_pivot = total_income_debt_pivot.sort_values(by='count', ascending=False).set_index('total_income_category')\n",
    "total_income_debt_pivot"
   ]
  },
  {
   "cell_type": "markdown",
   "id": "d850ec7d",
   "metadata": {
    "deletable": false,
    "id": "e8593def"
   },
   "source": [
    "**Вывод: Люди с более высоким уровнем дохода имеют более высокую вероятность возврата кредита. Это подтверждается тем, что процент невозврата в категории B составляет 7%, в то время как в категории C этот процент равен 8,5%. В других категорих - E,D,A выборка мала, что не позволяет сделать достоверные выводы** "
   ]
  },
  {
   "cell_type": "markdown",
   "id": "5ef3f69c",
   "metadata": {
    "deletable": false,
    "editable": false,
    "id": "99ecbd1f"
   },
   "source": [
    "#### 3.4 Как разные цели кредита влияют на его возврат в срок?"
   ]
  },
  {
   "cell_type": "code",
   "execution_count": 28,
   "id": "4a9253e5",
   "metadata": {
    "deletable": false,
    "id": "2b687290"
   },
   "outputs": [
    {
     "data": {
      "text/html": [
       "<div>\n",
       "<style scoped>\n",
       "    .dataframe tbody tr th:only-of-type {\n",
       "        vertical-align: middle;\n",
       "    }\n",
       "\n",
       "    .dataframe tbody tr th {\n",
       "        vertical-align: top;\n",
       "    }\n",
       "\n",
       "    .dataframe thead th {\n",
       "        text-align: right;\n",
       "    }\n",
       "</style>\n",
       "<table border=\"1\" class=\"dataframe\">\n",
       "  <thead>\n",
       "    <tr style=\"text-align: right;\">\n",
       "      <th></th>\n",
       "      <th>sum</th>\n",
       "      <th>count</th>\n",
       "      <th>mean</th>\n",
       "    </tr>\n",
       "    <tr>\n",
       "      <th>purpose_category</th>\n",
       "      <th></th>\n",
       "      <th></th>\n",
       "      <th></th>\n",
       "    </tr>\n",
       "  </thead>\n",
       "  <tbody>\n",
       "    <tr>\n",
       "      <th>операции с недвижимостью</th>\n",
       "      <td>780</td>\n",
       "      <td>10751</td>\n",
       "      <td>7.255139</td>\n",
       "    </tr>\n",
       "    <tr>\n",
       "      <th>операции с автомобилем</th>\n",
       "      <td>400</td>\n",
       "      <td>4279</td>\n",
       "      <td>9.347978</td>\n",
       "    </tr>\n",
       "    <tr>\n",
       "      <th>получение образования</th>\n",
       "      <td>369</td>\n",
       "      <td>3988</td>\n",
       "      <td>9.252758</td>\n",
       "    </tr>\n",
       "    <tr>\n",
       "      <th>проведение свадьбы</th>\n",
       "      <td>183</td>\n",
       "      <td>2313</td>\n",
       "      <td>7.911803</td>\n",
       "    </tr>\n",
       "  </tbody>\n",
       "</table>\n",
       "</div>"
      ],
      "text/plain": [
       "                          sum  count      mean\n",
       "purpose_category                              \n",
       "операции с недвижимостью  780  10751  7.255139\n",
       "операции с автомобилем    400   4279  9.347978\n",
       "получение образования     369   3988  9.252758\n",
       "проведение свадьбы        183   2313  7.911803"
      ]
     },
     "execution_count": 28,
     "metadata": {},
     "output_type": "execute_result"
    }
   ],
   "source": [
    "purpose_grouped = data.groupby('purpose_category')\n",
    "debt_percentage = purpose_grouped['debt'].mean().sort_values(ascending=False) \n",
    "debt_percentage\n",
    "purpose_income_debt_pivot = data.pivot_table(\n",
    "    index='purpose_category', \n",
    "    values='debt', \n",
    "    aggfunc=['sum', 'count', 'mean']\n",
    ")\n",
    "purpose_income_debt_pivot['mean'] = purpose_income_debt_pivot['mean'] * 100\n",
    "purpose_income_debt_pivot = purpose_income_debt_pivot.reset_index().droplevel(1, axis=1)\n",
    "purpose_income_debt_pivot = purpose_income_debt_pivot.sort_values(by='count', ascending=False).set_index('purpose_category')\n",
    "purpose_income_debt_pivot"
   ]
  },
  {
   "cell_type": "markdown",
   "id": "5b1fbb51",
   "metadata": {
    "deletable": false,
    "id": "b4bb2ce6"
   },
   "source": [
    "**Вывод: Исходя из данных можно сделать вывод, что человек взявший кредит на операции с автомобилем более вероятно не вернёт кредит в срок, а человек взявший кредит на операции с недвижимостью вероятней всего вернёт его. ** "
   ]
  },
  {
   "cell_type": "markdown",
   "id": "afd6e08f",
   "metadata": {},
   "source": [
    "Изменённый вывод:\n",
    "Люди взявшие кредит на операции с недвижимостью и на проведение свадьбы - вероятней всего вернут кредит, этому соответствует малый процент невозврата - 7,3% и 7,9% соответственно. Хуже ситуация у людей берущих кредит на операции с автомобилем и на получение образования, где процент невозврата составляет 9,3% и 9,2% соответственно."
   ]
  },
  {
   "cell_type": "markdown",
   "id": "4c72a374",
   "metadata": {
    "deletable": false,
    "editable": false,
    "id": "09c3ac4c"
   },
   "source": [
    "#### 3.5 Приведите возможные причины появления пропусков в исходных данных."
   ]
  },
  {
   "cell_type": "markdown",
   "id": "4d142265",
   "metadata": {
    "deletable": false,
    "id": "9da2ceda"
   },
   "source": [
    "*Ответ: \n",
    "1)Некорректный ввод данных: пропуски могут появиться, если данные не были введены или записаны некорректно.\n",
    "2)Технические проблемы: пропуски могут возникнуть в результате технических проблем, таких как ошибка при сохранении данных или при передаче данных между системами.\n",
    "3)Отсутствие данных: в некоторых случаях данные могут быть недоступны из-за различных причин,например ограничение доступа или отсутствие информации по конкретной группе лиц. \n",
    "* "
   ]
  },
  {
   "cell_type": "markdown",
   "id": "ffc4c676",
   "metadata": {
    "deletable": false,
    "editable": false,
    "id": "7b0487d6"
   },
   "source": [
    "#### 3.6 Объясните, почему заполнить пропуски медианным значением — лучшее решение для количественных переменных."
   ]
  },
  {
   "cell_type": "markdown",
   "id": "83386f86",
   "metadata": {
    "deletable": false,
    "id": "7ecf2b8e"
   },
   "source": [
    "*Ответ:\n",
    "1)Не искажает распределение: Медиана является устойчивой мерой центральной тенденции, которая не чувствительна к выбросам, поэтому ее использование для заполнения пропусков не искажает распределение данных.\n",
    "2)Не вносит новых значений: Заполнение пропусков медианным значением не добавляет новых значений в данные. Это позволяет сохранить характеристики исходных данных.\n",
    "3)Уменьшает искажение результатов: Пропущенные значения могут привести к неверным выводам и искажению результатов анализа данных. Заполнение пропусков медианным значением помогает уменьшить это искажение.\n",
    "4)Простой и быстрый метод: Метод заполнения пропусков медианным значением является простым и быстрым, что делает его привлекательным для использования в анализе больших объемов данных.* "
   ]
  },
  {
   "cell_type": "markdown",
   "id": "b80f8392",
   "metadata": {
    "deletable": false,
    "editable": false,
    "id": "6db5255a"
   },
   "source": [
    "### Шаг 4: общий вывод."
   ]
  },
  {
   "cell_type": "markdown",
   "id": "2bcb8d16",
   "metadata": {
    "deletable": false,
    "id": "bad65432"
   },
   "source": [
    "Напишите ваш общий вывод."
   ]
  },
  {
   "cell_type": "markdown",
   "id": "7323c5d9",
   "metadata": {},
   "source": [
    "1. Существует явная зависимость между количеством детей у человека и вероятностью, что он не вернёт кредит. Чем больше детей, тем больше вероятность невозврата, 7,5% для людей без детей против 9,2% и 9,4% с 1 и 2 детьми соответственно. Это связанно с дополнительными тратами на детей, кроме обязательных трат, для детей чаще возможны необдуманные покупки, что сказывается на вероятности невозврата кредита.\n",
    "2. Существует явная зависимость между семейеого статуса человека и вероятностью, что он не вернёт кредит. Для людей состоящих в браке вероятность невозврата меньше, чем для людей состоящих в гражданском браке и не женатых/не замужних, 7,5% для людей в браке против 9,3% и 9,7% для людей состоящих в гражанском браке и не женатых/не замужних соответственно. Это связанно с общественной ответственностью и финансовой стабильностью в браке.\n",
    "3. Существует явная зависимость между уровнем дохода человека и вероятностью, что он не вернёт кредит. Люди с доходом в 50 - 200 тысяч не вернут кредит с вероятностью - 8,5% против 7% у людей с доходом в 200 тысяч - 1 млн. Это связанно с более стабильной финансовой ситуацией. Кроме того, часто высокий уровень дохода сопровождается более высоким образованием и ответственностью на рабочем месте, что повышает стабильность и ответственность платежей по кредиту, а как следствие процент возврата кредита.\n",
    "4. Существует явная зависимость между цели кредита у человека и вероятностью, что он не вернёт кредит. Этому соотвествует 7,3% и 7,9% для целей - операции с недвижимостью, проведение свадьбы соответственно, против  9,3% и 9,2% для целей - операции с автомобилем и получение образования соответственно. Это связанно с тем, что кредиты на операции с недвижимостью чаще всего являются ипотеками, где в случае невозврата кредита, банк имеет права забрать недвижимость, что касается свадеб - чаще всего это небольшие суммы, а также свадьба - планируемое и ожидаемое событие, из-за шанс невозврата кредита невелик. Кредит на операции с автомобилем, является самым невозвратным по нескольким причинам: сложность в изъятии машины в следствии неуплаты, быстрая потеря стоимости машины. Кредит на образование с большой вероятностью не вернут, так как кредит на образование может быть долгосрочным, а выпускники часто не могут быстро найти работу или получить высокую зарплату, что может повлиять на их возможность вернуть кредит вовремя.\n",
    "\n",
    "Рекомендации по улучшению сбора данных и скоринга:\n",
    "\n",
    "1. Добавление дополнительных факторов для скоринга: помимо имеющихся данных о доходе, количестве детей, семейном положении и цели кредита, необходимо рассмотреть включение других факторов, таких как стаж работы, место жительства, возраст заемщика, наличие других кредитов.\n",
    "2. Регулярное обновление данных: для более точного анализа и прогнозирования необходимо регулярно обновлять данные исходя из изменений в экономической и социальной сфере."
   ]
  },
  {
   "cell_type": "code",
   "execution_count": null,
   "id": "c3341217",
   "metadata": {},
   "outputs": [],
   "source": []
  }
 ],
 "metadata": {
  "ExecuteTimeLog": [
   {
    "duration": 77,
    "start_time": "2023-04-01T16:50:36.537Z"
   },
   {
    "duration": 523,
    "start_time": "2023-04-01T16:50:49.113Z"
   },
   {
    "duration": 86,
    "start_time": "2023-04-01T16:50:53.014Z"
   },
   {
    "duration": 31,
    "start_time": "2023-04-01T16:50:53.734Z"
   },
   {
    "duration": 21,
    "start_time": "2023-04-01T16:50:54.889Z"
   },
   {
    "duration": 16,
    "start_time": "2023-04-01T16:50:55.575Z"
   },
   {
    "duration": 40,
    "start_time": "2023-04-01T16:50:55.922Z"
   },
   {
    "duration": 5,
    "start_time": "2023-04-01T16:50:56.436Z"
   },
   {
    "duration": 19,
    "start_time": "2023-04-01T16:50:56.809Z"
   },
   {
    "duration": 5,
    "start_time": "2023-04-01T16:50:57.359Z"
   },
   {
    "duration": 8,
    "start_time": "2023-04-01T16:50:57.728Z"
   },
   {
    "duration": 8,
    "start_time": "2023-04-01T16:50:58.104Z"
   },
   {
    "duration": 31,
    "start_time": "2023-04-01T16:50:58.648Z"
   },
   {
    "duration": 15,
    "start_time": "2023-04-01T16:50:59.020Z"
   },
   {
    "duration": 4,
    "start_time": "2023-04-01T16:50:59.575Z"
   },
   {
    "duration": 18,
    "start_time": "2023-04-01T16:51:00.142Z"
   },
   {
    "duration": 38,
    "start_time": "2023-04-01T16:51:00.511Z"
   },
   {
    "duration": 25,
    "start_time": "2023-04-01T16:51:00.649Z"
   },
   {
    "duration": 7,
    "start_time": "2023-04-01T16:51:01.211Z"
   },
   {
    "duration": 12,
    "start_time": "2023-04-01T16:51:01.371Z"
   },
   {
    "duration": 6,
    "start_time": "2023-04-01T16:51:01.741Z"
   },
   {
    "duration": 6,
    "start_time": "2023-04-01T16:51:02.128Z"
   },
   {
    "duration": 14,
    "start_time": "2023-04-01T16:51:02.327Z"
   },
   {
    "duration": 13,
    "start_time": "2023-04-01T16:51:03.503Z"
   },
   {
    "duration": 42,
    "start_time": "2023-04-01T16:53:04.210Z"
   },
   {
    "duration": 6,
    "start_time": "2023-04-01T16:53:10.038Z"
   },
   {
    "duration": 9,
    "start_time": "2023-04-01T16:53:21.472Z"
   },
   {
    "duration": 13,
    "start_time": "2023-04-01T16:53:28.827Z"
   },
   {
    "duration": 14,
    "start_time": "2023-04-01T16:54:52.319Z"
   },
   {
    "duration": 8,
    "start_time": "2023-04-01T16:55:02.309Z"
   },
   {
    "duration": 7,
    "start_time": "2023-04-01T16:55:11.443Z"
   },
   {
    "duration": 11,
    "start_time": "2023-04-01T16:55:22.049Z"
   },
   {
    "duration": 22,
    "start_time": "2023-04-01T16:55:24.411Z"
   },
   {
    "duration": 25,
    "start_time": "2023-04-01T16:55:55.217Z"
   },
   {
    "duration": 8,
    "start_time": "2023-04-01T16:56:16.349Z"
   },
   {
    "duration": 590,
    "start_time": "2023-04-01T17:01:13.351Z"
   },
   {
    "duration": 201,
    "start_time": "2023-04-01T17:01:28.612Z"
   },
   {
    "duration": 12,
    "start_time": "2023-04-01T17:02:50.939Z"
   },
   {
    "duration": 19,
    "start_time": "2023-04-01T17:04:02.616Z"
   },
   {
    "duration": 10,
    "start_time": "2023-04-01T17:04:37.250Z"
   },
   {
    "duration": 145,
    "start_time": "2023-04-01T17:04:48.058Z"
   },
   {
    "duration": 35,
    "start_time": "2023-04-01T17:04:48.415Z"
   },
   {
    "duration": 35,
    "start_time": "2023-04-01T17:04:48.719Z"
   },
   {
    "duration": 15,
    "start_time": "2023-04-01T17:04:50.242Z"
   },
   {
    "duration": 70,
    "start_time": "2023-04-01T17:04:50.260Z"
   },
   {
    "duration": 14,
    "start_time": "2023-04-01T17:04:50.508Z"
   },
   {
    "duration": 24,
    "start_time": "2023-04-01T17:04:51.114Z"
   },
   {
    "duration": 21,
    "start_time": "2023-04-01T17:04:51.140Z"
   },
   {
    "duration": 13,
    "start_time": "2023-04-01T17:04:51.209Z"
   },
   {
    "duration": 5,
    "start_time": "2023-04-01T17:04:51.440Z"
   },
   {
    "duration": 72,
    "start_time": "2023-04-01T17:04:51.759Z"
   },
   {
    "duration": 35,
    "start_time": "2023-04-01T17:04:52.008Z"
   },
   {
    "duration": 10,
    "start_time": "2023-04-01T17:04:52.326Z"
   },
   {
    "duration": 13,
    "start_time": "2023-04-01T17:04:52.644Z"
   },
   {
    "duration": 22,
    "start_time": "2023-04-01T17:04:52.861Z"
   },
   {
    "duration": 21,
    "start_time": "2023-04-01T17:04:52.965Z"
   },
   {
    "duration": 8,
    "start_time": "2023-04-01T17:04:53.327Z"
   },
   {
    "duration": 56,
    "start_time": "2023-04-01T17:04:53.418Z"
   },
   {
    "duration": 6,
    "start_time": "2023-04-01T17:04:53.645Z"
   },
   {
    "duration": 15,
    "start_time": "2023-04-01T17:04:53.907Z"
   },
   {
    "duration": 34,
    "start_time": "2023-04-01T17:04:54.013Z"
   },
   {
    "duration": 5,
    "start_time": "2023-04-01T17:04:54.344Z"
   },
   {
    "duration": 7,
    "start_time": "2023-04-01T17:04:54.445Z"
   },
   {
    "duration": 8,
    "start_time": "2023-04-01T17:04:54.557Z"
   },
   {
    "duration": 222,
    "start_time": "2023-04-01T17:04:55.010Z"
   },
   {
    "duration": 95,
    "start_time": "2023-04-01T17:05:43.628Z"
   },
   {
    "duration": 33,
    "start_time": "2023-04-01T17:05:43.909Z"
   },
   {
    "duration": 20,
    "start_time": "2023-04-01T17:05:44.244Z"
   },
   {
    "duration": 30,
    "start_time": "2023-04-01T17:05:45.003Z"
   },
   {
    "duration": 68,
    "start_time": "2023-04-01T17:05:45.117Z"
   },
   {
    "duration": 5,
    "start_time": "2023-04-01T17:05:45.226Z"
   },
   {
    "duration": 14,
    "start_time": "2023-04-01T17:05:45.351Z"
   },
   {
    "duration": 6,
    "start_time": "2023-04-01T17:05:45.511Z"
   },
   {
    "duration": 8,
    "start_time": "2023-04-01T17:05:45.608Z"
   },
   {
    "duration": 12,
    "start_time": "2023-04-01T17:05:45.712Z"
   },
   {
    "duration": 60,
    "start_time": "2023-04-01T17:05:45.832Z"
   },
   {
    "duration": 15,
    "start_time": "2023-04-01T17:05:47.447Z"
   },
   {
    "duration": 10,
    "start_time": "2023-04-01T17:05:48.123Z"
   },
   {
    "duration": 18,
    "start_time": "2023-04-01T17:05:48.725Z"
   },
   {
    "duration": 22,
    "start_time": "2023-04-01T17:05:49.133Z"
   },
   {
    "duration": 21,
    "start_time": "2023-04-01T17:05:49.335Z"
   },
   {
    "duration": 4,
    "start_time": "2023-04-01T17:05:49.955Z"
   },
   {
    "duration": 20,
    "start_time": "2023-04-01T17:05:50.021Z"
   },
   {
    "duration": 13,
    "start_time": "2023-04-01T17:05:50.119Z"
   },
   {
    "duration": 9,
    "start_time": "2023-04-01T17:05:50.229Z"
   },
   {
    "duration": 16,
    "start_time": "2023-04-01T17:05:50.315Z"
   },
   {
    "duration": 15,
    "start_time": "2023-04-01T17:05:51.515Z"
   },
   {
    "duration": 14,
    "start_time": "2023-04-01T17:05:51.820Z"
   },
   {
    "duration": 12,
    "start_time": "2023-04-01T17:05:51.836Z"
   },
   {
    "duration": 158,
    "start_time": "2023-04-01T17:05:52.122Z"
   },
   {
    "duration": 3,
    "start_time": "2023-04-01T17:05:52.434Z"
   },
   {
    "duration": 5,
    "start_time": "2023-04-01T17:05:53.105Z"
   },
   {
    "duration": 232,
    "start_time": "2023-04-01T17:06:05.237Z"
   },
   {
    "duration": 27,
    "start_time": "2023-04-01T17:06:22.901Z"
   },
   {
    "duration": 9,
    "start_time": "2023-04-01T17:08:25.762Z"
   },
   {
    "duration": 19,
    "start_time": "2023-04-01T17:08:42.397Z"
   },
   {
    "duration": 36,
    "start_time": "2023-04-01T17:09:35.174Z"
   },
   {
    "duration": 11,
    "start_time": "2023-04-01T17:10:48.218Z"
   },
   {
    "duration": 31,
    "start_time": "2023-04-01T17:10:54.813Z"
   },
   {
    "duration": 474,
    "start_time": "2023-04-01T17:21:04.129Z"
   },
   {
    "duration": 37,
    "start_time": "2023-04-01T17:21:37.582Z"
   },
   {
    "duration": 29,
    "start_time": "2023-04-01T17:21:38.677Z"
   },
   {
    "duration": 17,
    "start_time": "2023-04-01T17:21:40.911Z"
   },
   {
    "duration": 56,
    "start_time": "2023-04-01T17:21:41.981Z"
   },
   {
    "duration": 7,
    "start_time": "2023-04-01T17:21:43.715Z"
   },
   {
    "duration": 8,
    "start_time": "2023-04-01T17:21:44.431Z"
   },
   {
    "duration": 4,
    "start_time": "2023-04-01T17:21:45.354Z"
   },
   {
    "duration": 11,
    "start_time": "2023-04-01T17:21:45.796Z"
   },
   {
    "duration": 5,
    "start_time": "2023-04-01T17:21:46.221Z"
   },
   {
    "duration": 52,
    "start_time": "2023-04-01T17:21:46.883Z"
   },
   {
    "duration": 11,
    "start_time": "2023-04-01T17:21:47.527Z"
   },
   {
    "duration": 3,
    "start_time": "2023-04-01T17:21:48.237Z"
   },
   {
    "duration": 28,
    "start_time": "2023-04-01T17:21:49.093Z"
   },
   {
    "duration": 25,
    "start_time": "2023-04-01T17:21:50.212Z"
   },
   {
    "duration": 27,
    "start_time": "2023-04-01T17:21:50.406Z"
   },
   {
    "duration": 5,
    "start_time": "2023-04-01T17:21:51.210Z"
   },
   {
    "duration": 18,
    "start_time": "2023-04-01T17:21:51.373Z"
   },
   {
    "duration": 6,
    "start_time": "2023-04-01T17:21:51.860Z"
   },
   {
    "duration": 4,
    "start_time": "2023-04-01T17:21:53.068Z"
   },
   {
    "duration": 8,
    "start_time": "2023-04-01T17:21:53.239Z"
   },
   {
    "duration": 7,
    "start_time": "2023-04-01T17:21:53.812Z"
   },
   {
    "duration": 7,
    "start_time": "2023-04-01T17:21:54.037Z"
   },
   {
    "duration": 6,
    "start_time": "2023-04-01T17:21:54.133Z"
   },
   {
    "duration": 23,
    "start_time": "2023-04-01T17:24:02.535Z"
   },
   {
    "duration": 18,
    "start_time": "2023-04-01T17:24:21.925Z"
   },
   {
    "duration": 500,
    "start_time": "2023-04-01T17:34:38.835Z"
   },
   {
    "duration": 22,
    "start_time": "2023-04-01T17:34:39.338Z"
   },
   {
    "duration": 24,
    "start_time": "2023-04-01T17:34:39.468Z"
   },
   {
    "duration": 14,
    "start_time": "2023-04-01T17:34:40.138Z"
   },
   {
    "duration": 44,
    "start_time": "2023-04-01T17:34:40.238Z"
   },
   {
    "duration": 5,
    "start_time": "2023-04-01T17:34:40.358Z"
   },
   {
    "duration": 11,
    "start_time": "2023-04-01T17:34:40.452Z"
   },
   {
    "duration": 8,
    "start_time": "2023-04-01T17:34:40.734Z"
   },
   {
    "duration": 12,
    "start_time": "2023-04-01T17:34:41.007Z"
   },
   {
    "duration": 5,
    "start_time": "2023-04-01T17:34:41.337Z"
   },
   {
    "duration": 72,
    "start_time": "2023-04-01T17:34:41.779Z"
   },
   {
    "duration": 26,
    "start_time": "2023-04-01T17:34:42.107Z"
   },
   {
    "duration": 7,
    "start_time": "2023-04-01T17:34:42.811Z"
   },
   {
    "duration": 12,
    "start_time": "2023-04-01T17:34:43.134Z"
   },
   {
    "duration": 23,
    "start_time": "2023-04-01T17:34:43.333Z"
   },
   {
    "duration": 22,
    "start_time": "2023-04-01T17:34:43.435Z"
   },
   {
    "duration": 5,
    "start_time": "2023-04-01T17:34:43.718Z"
   },
   {
    "duration": 18,
    "start_time": "2023-04-01T17:34:43.802Z"
   },
   {
    "duration": 6,
    "start_time": "2023-04-01T17:34:44.666Z"
   },
   {
    "duration": 9,
    "start_time": "2023-04-01T17:34:45.279Z"
   },
   {
    "duration": 12,
    "start_time": "2023-04-01T17:34:45.733Z"
   },
   {
    "duration": 6,
    "start_time": "2023-04-01T17:34:48.467Z"
   },
   {
    "duration": 9,
    "start_time": "2023-04-01T17:34:49.580Z"
   },
   {
    "duration": 8,
    "start_time": "2023-04-01T17:34:56.263Z"
   },
   {
    "duration": 33,
    "start_time": "2023-04-01T17:35:03.111Z"
   },
   {
    "duration": 27,
    "start_time": "2023-04-01T17:35:07.451Z"
   },
   {
    "duration": 13,
    "start_time": "2023-04-01T17:35:36.332Z"
   },
   {
    "duration": 10,
    "start_time": "2023-04-01T17:37:58.431Z"
   },
   {
    "duration": 44,
    "start_time": "2023-04-01T17:59:02.164Z"
   },
   {
    "duration": 44,
    "start_time": "2023-04-01T18:00:18.011Z"
   },
   {
    "duration": 33,
    "start_time": "2023-04-01T18:00:49.668Z"
   },
   {
    "duration": 9,
    "start_time": "2023-04-01T18:02:02.961Z"
   },
   {
    "duration": 39,
    "start_time": "2023-04-01T18:08:59.111Z"
   },
   {
    "duration": 40,
    "start_time": "2023-04-01T18:11:10.064Z"
   },
   {
    "duration": 79,
    "start_time": "2023-04-01T18:11:58.018Z"
   },
   {
    "duration": 19,
    "start_time": "2023-04-01T18:12:02.483Z"
   },
   {
    "duration": 14,
    "start_time": "2023-04-01T18:12:28.403Z"
   },
   {
    "duration": 7,
    "start_time": "2023-04-01T18:12:36.653Z"
   },
   {
    "duration": 6,
    "start_time": "2023-04-01T18:12:41.420Z"
   },
   {
    "duration": 9,
    "start_time": "2023-04-01T18:12:54.133Z"
   },
   {
    "duration": 7,
    "start_time": "2023-04-01T18:13:38.016Z"
   },
   {
    "duration": 5,
    "start_time": "2023-04-01T18:15:10.351Z"
   },
   {
    "duration": 6,
    "start_time": "2023-04-01T18:16:07.131Z"
   },
   {
    "duration": 4,
    "start_time": "2023-04-01T18:16:14.624Z"
   },
   {
    "duration": 41,
    "start_time": "2023-04-01T18:19:19.256Z"
   },
   {
    "duration": 781,
    "start_time": "2023-04-01T18:24:14.308Z"
   },
   {
    "duration": 47,
    "start_time": "2023-04-01T18:24:40.357Z"
   },
   {
    "duration": 6,
    "start_time": "2023-04-01T18:24:57.078Z"
   },
   {
    "duration": 52,
    "start_time": "2023-04-01T18:26:35.715Z"
   },
   {
    "duration": 501,
    "start_time": "2023-04-01T18:26:44.974Z"
   },
   {
    "duration": 24,
    "start_time": "2023-04-01T18:26:45.615Z"
   },
   {
    "duration": 19,
    "start_time": "2023-04-01T18:26:45.641Z"
   },
   {
    "duration": 20,
    "start_time": "2023-04-01T18:26:46.382Z"
   },
   {
    "duration": 36,
    "start_time": "2023-04-01T18:26:46.524Z"
   },
   {
    "duration": 4,
    "start_time": "2023-04-01T18:26:46.848Z"
   },
   {
    "duration": 12,
    "start_time": "2023-04-01T18:26:46.903Z"
   },
   {
    "duration": 7,
    "start_time": "2023-04-01T18:26:47.111Z"
   },
   {
    "duration": 7,
    "start_time": "2023-04-01T18:26:47.755Z"
   },
   {
    "duration": 7,
    "start_time": "2023-04-01T18:26:47.763Z"
   },
   {
    "duration": 51,
    "start_time": "2023-04-01T18:26:48.267Z"
   },
   {
    "duration": 10,
    "start_time": "2023-04-01T18:26:49.023Z"
   },
   {
    "duration": 8,
    "start_time": "2023-04-01T18:26:49.709Z"
   },
   {
    "duration": 13,
    "start_time": "2023-04-01T18:26:50.537Z"
   },
   {
    "duration": 20,
    "start_time": "2023-04-01T18:26:50.845Z"
   },
   {
    "duration": 22,
    "start_time": "2023-04-01T18:26:51.030Z"
   },
   {
    "duration": 5,
    "start_time": "2023-04-01T18:26:51.549Z"
   },
   {
    "duration": 11,
    "start_time": "2023-04-01T18:26:51.740Z"
   },
   {
    "duration": 13,
    "start_time": "2023-04-01T18:26:52.105Z"
   },
   {
    "duration": 4,
    "start_time": "2023-04-01T18:26:52.766Z"
   },
   {
    "duration": 9,
    "start_time": "2023-04-01T18:26:53.118Z"
   },
   {
    "duration": 4,
    "start_time": "2023-04-01T18:26:54.123Z"
   },
   {
    "duration": 6,
    "start_time": "2023-04-01T18:26:54.718Z"
   },
   {
    "duration": 8,
    "start_time": "2023-04-01T18:26:56.319Z"
   },
   {
    "duration": 34,
    "start_time": "2023-04-01T18:26:57.513Z"
   },
   {
    "duration": 7,
    "start_time": "2023-04-01T18:27:00.811Z"
   },
   {
    "duration": 19,
    "start_time": "2023-04-01T18:27:02.622Z"
   },
   {
    "duration": 9,
    "start_time": "2023-04-01T18:27:03.021Z"
   },
   {
    "duration": 6,
    "start_time": "2023-04-01T18:27:06.672Z"
   },
   {
    "duration": 4,
    "start_time": "2023-04-01T18:27:07.858Z"
   },
   {
    "duration": 4,
    "start_time": "2023-04-01T18:27:08.633Z"
   },
   {
    "duration": 15,
    "start_time": "2023-04-01T18:27:09.611Z"
   },
   {
    "duration": 70,
    "start_time": "2023-04-01T18:27:10.262Z"
   },
   {
    "duration": 38,
    "start_time": "2023-04-01T18:27:37.746Z"
   },
   {
    "duration": 34,
    "start_time": "2023-04-01T18:28:06.050Z"
   },
   {
    "duration": 72,
    "start_time": "2023-04-01T18:28:12.377Z"
   },
   {
    "duration": 81,
    "start_time": "2023-04-01T18:28:51.940Z"
   },
   {
    "duration": 40,
    "start_time": "2023-04-01T18:28:56.721Z"
   },
   {
    "duration": 69,
    "start_time": "2023-04-01T18:31:38.649Z"
   },
   {
    "duration": 38,
    "start_time": "2023-04-01T18:32:23.233Z"
   },
   {
    "duration": 53,
    "start_time": "2023-04-01T18:34:10.030Z"
   },
   {
    "duration": 67,
    "start_time": "2023-04-01T18:34:35.475Z"
   },
   {
    "duration": 68,
    "start_time": "2023-04-01T18:34:58.135Z"
   },
   {
    "duration": 68,
    "start_time": "2023-04-01T18:35:15.000Z"
   },
   {
    "duration": 40,
    "start_time": "2023-04-01T18:35:23.410Z"
   },
   {
    "duration": 50,
    "start_time": "2023-04-01T18:35:26.531Z"
   },
   {
    "duration": 54,
    "start_time": "2023-04-01T18:35:55.155Z"
   },
   {
    "duration": 15,
    "start_time": "2023-04-01T18:58:52.599Z"
   },
   {
    "duration": 9,
    "start_time": "2023-04-01T18:59:45.940Z"
   },
   {
    "duration": 49,
    "start_time": "2023-04-02T06:14:41.686Z"
   },
   {
    "duration": 622,
    "start_time": "2023-04-02T06:18:22.340Z"
   },
   {
    "duration": 20,
    "start_time": "2023-04-02T06:18:22.964Z"
   },
   {
    "duration": 18,
    "start_time": "2023-04-02T06:18:23.051Z"
   },
   {
    "duration": 13,
    "start_time": "2023-04-02T06:18:24.171Z"
   },
   {
    "duration": 29,
    "start_time": "2023-04-02T06:18:24.694Z"
   },
   {
    "duration": 3,
    "start_time": "2023-04-02T06:18:25.265Z"
   },
   {
    "duration": 7,
    "start_time": "2023-04-02T06:18:25.632Z"
   },
   {
    "duration": 5,
    "start_time": "2023-04-02T06:18:26.188Z"
   },
   {
    "duration": 6,
    "start_time": "2023-04-02T06:18:26.737Z"
   },
   {
    "duration": 5,
    "start_time": "2023-04-02T06:18:29.346Z"
   },
   {
    "duration": 29,
    "start_time": "2023-04-02T06:18:30.267Z"
   },
   {
    "duration": 9,
    "start_time": "2023-04-02T06:18:30.651Z"
   },
   {
    "duration": 4,
    "start_time": "2023-04-02T06:18:31.212Z"
   },
   {
    "duration": 10,
    "start_time": "2023-04-02T06:18:31.776Z"
   },
   {
    "duration": 21,
    "start_time": "2023-04-02T06:18:32.345Z"
   },
   {
    "duration": 16,
    "start_time": "2023-04-02T06:18:32.575Z"
   },
   {
    "duration": 4,
    "start_time": "2023-04-02T06:18:33.272Z"
   },
   {
    "duration": 13,
    "start_time": "2023-04-02T06:18:35.060Z"
   },
   {
    "duration": 7,
    "start_time": "2023-04-02T06:18:35.685Z"
   },
   {
    "duration": 3,
    "start_time": "2023-04-02T06:18:36.295Z"
   },
   {
    "duration": 8,
    "start_time": "2023-04-02T06:18:38.457Z"
   },
   {
    "duration": 5,
    "start_time": "2023-04-02T06:18:41.251Z"
   },
   {
    "duration": 8,
    "start_time": "2023-04-02T06:18:41.683Z"
   },
   {
    "duration": 5,
    "start_time": "2023-04-02T06:18:42.098Z"
   },
   {
    "duration": 20,
    "start_time": "2023-04-02T06:18:43.413Z"
   },
   {
    "duration": 2,
    "start_time": "2023-04-02T06:18:59.916Z"
   },
   {
    "duration": 23,
    "start_time": "2023-04-02T06:19:00.286Z"
   },
   {
    "duration": 10,
    "start_time": "2023-04-02T06:19:00.697Z"
   },
   {
    "duration": 5,
    "start_time": "2023-04-02T06:19:08.566Z"
   },
   {
    "duration": 4,
    "start_time": "2023-04-02T06:19:11.261Z"
   },
   {
    "duration": 5,
    "start_time": "2023-04-02T06:19:12.492Z"
   },
   {
    "duration": 7,
    "start_time": "2023-04-02T06:19:29.586Z"
   },
   {
    "duration": 7,
    "start_time": "2023-04-02T06:19:29.888Z"
   },
   {
    "duration": 4,
    "start_time": "2023-04-02T06:19:30.394Z"
   },
   {
    "duration": 9,
    "start_time": "2023-04-02T06:19:31.084Z"
   },
   {
    "duration": 43,
    "start_time": "2023-04-02T06:26:11.094Z"
   },
   {
    "duration": 24,
    "start_time": "2023-04-02T06:26:16.636Z"
   },
   {
    "duration": 31,
    "start_time": "2023-04-02T06:26:22.729Z"
   },
   {
    "duration": 58,
    "start_time": "2023-04-02T06:26:55.058Z"
   },
   {
    "duration": 24,
    "start_time": "2023-04-02T06:27:16.350Z"
   },
   {
    "duration": 25,
    "start_time": "2023-04-02T06:29:11.544Z"
   },
   {
    "duration": 49,
    "start_time": "2023-04-02T06:29:20.803Z"
   },
   {
    "duration": 46,
    "start_time": "2023-04-02T06:29:25.448Z"
   },
   {
    "duration": 25,
    "start_time": "2023-04-02T06:29:27.751Z"
   },
   {
    "duration": 33,
    "start_time": "2023-04-02T06:31:02.946Z"
   },
   {
    "duration": 37,
    "start_time": "2023-04-02T06:33:07.441Z"
   },
   {
    "duration": 40,
    "start_time": "2023-04-02T06:33:45.553Z"
   },
   {
    "duration": 35,
    "start_time": "2023-04-02T06:33:53.224Z"
   },
   {
    "duration": 48,
    "start_time": "2023-04-02T06:35:41.027Z"
   },
   {
    "duration": 49,
    "start_time": "2023-04-02T06:35:49.894Z"
   },
   {
    "duration": 25,
    "start_time": "2023-04-02T06:36:31.107Z"
   },
   {
    "duration": 27,
    "start_time": "2023-04-02T06:37:48.138Z"
   },
   {
    "duration": 24,
    "start_time": "2023-04-02T06:38:33.368Z"
   },
   {
    "duration": 35,
    "start_time": "2023-04-02T06:38:49.662Z"
   },
   {
    "duration": 39,
    "start_time": "2023-04-02T06:39:07.656Z"
   },
   {
    "duration": 38,
    "start_time": "2023-04-02T06:39:24.014Z"
   },
   {
    "duration": 58,
    "start_time": "2023-04-02T06:39:54.435Z"
   },
   {
    "duration": 38,
    "start_time": "2023-04-02T06:40:55.776Z"
   },
   {
    "duration": 41,
    "start_time": "2023-04-02T06:41:03.134Z"
   },
   {
    "duration": 41,
    "start_time": "2023-04-02T06:41:18.771Z"
   },
   {
    "duration": 26,
    "start_time": "2023-04-02T06:46:08.190Z"
   },
   {
    "duration": 2,
    "start_time": "2023-04-02T06:48:51.359Z"
   },
   {
    "duration": 46,
    "start_time": "2023-04-02T06:50:08.994Z"
   },
   {
    "duration": 49,
    "start_time": "2023-04-02T06:50:27.162Z"
   },
   {
    "duration": 62,
    "start_time": "2023-04-02T06:50:37.819Z"
   },
   {
    "duration": 50,
    "start_time": "2023-04-02T06:52:24.101Z"
   },
   {
    "duration": 46,
    "start_time": "2023-04-02T06:52:32.292Z"
   },
   {
    "duration": 62,
    "start_time": "2023-04-02T06:52:48.114Z"
   },
   {
    "duration": 39,
    "start_time": "2023-04-02T07:03:47.410Z"
   },
   {
    "duration": 38,
    "start_time": "2023-04-02T07:04:12.120Z"
   },
   {
    "duration": 42,
    "start_time": "2023-04-02T07:04:32.978Z"
   },
   {
    "duration": 30,
    "start_time": "2023-04-02T07:14:09.335Z"
   },
   {
    "duration": 32,
    "start_time": "2023-04-02T07:14:44.369Z"
   },
   {
    "duration": 28,
    "start_time": "2023-04-02T07:15:05.547Z"
   },
   {
    "duration": 27,
    "start_time": "2023-04-02T07:15:29.603Z"
   },
   {
    "duration": 38,
    "start_time": "2023-04-02T07:15:39.825Z"
   },
   {
    "duration": 35,
    "start_time": "2023-04-02T08:43:20.224Z"
   },
   {
    "duration": 34,
    "start_time": "2023-04-02T08:43:27.587Z"
   },
   {
    "duration": 46,
    "start_time": "2023-09-09T12:07:10.978Z"
   },
   {
    "duration": 691,
    "start_time": "2023-09-09T12:07:24.661Z"
   },
   {
    "duration": 21,
    "start_time": "2023-09-09T12:07:25.354Z"
   },
   {
    "duration": 13,
    "start_time": "2023-09-09T12:07:25.376Z"
   },
   {
    "duration": 10,
    "start_time": "2023-09-09T12:07:25.391Z"
   },
   {
    "duration": 48,
    "start_time": "2023-09-09T12:07:25.403Z"
   },
   {
    "duration": 4,
    "start_time": "2023-09-09T12:07:25.453Z"
   },
   {
    "duration": 17,
    "start_time": "2023-09-09T12:07:25.458Z"
   },
   {
    "duration": 21,
    "start_time": "2023-09-09T12:07:25.476Z"
   },
   {
    "duration": 17,
    "start_time": "2023-09-09T12:07:25.498Z"
   },
   {
    "duration": 24,
    "start_time": "2023-09-09T12:07:25.517Z"
   },
   {
    "duration": 49,
    "start_time": "2023-09-09T12:07:25.543Z"
   },
   {
    "duration": 9,
    "start_time": "2023-09-09T12:07:25.593Z"
   },
   {
    "duration": 23,
    "start_time": "2023-09-09T12:07:25.604Z"
   },
   {
    "duration": 23,
    "start_time": "2023-09-09T12:07:25.629Z"
   },
   {
    "duration": 38,
    "start_time": "2023-09-09T12:07:25.654Z"
   },
   {
    "duration": 26,
    "start_time": "2023-09-09T12:07:25.693Z"
   },
   {
    "duration": 7,
    "start_time": "2023-09-09T12:07:25.721Z"
   },
   {
    "duration": 31,
    "start_time": "2023-09-09T12:07:25.729Z"
   },
   {
    "duration": 11,
    "start_time": "2023-09-09T12:07:25.761Z"
   },
   {
    "duration": 20,
    "start_time": "2023-09-09T12:07:25.774Z"
   },
   {
    "duration": 22,
    "start_time": "2023-09-09T12:07:25.795Z"
   },
   {
    "duration": 17,
    "start_time": "2023-09-09T12:07:25.819Z"
   },
   {
    "duration": 54,
    "start_time": "2023-09-09T12:07:25.837Z"
   },
   {
    "duration": 2,
    "start_time": "2023-09-09T12:07:25.893Z"
   },
   {
    "duration": 40,
    "start_time": "2023-09-09T12:07:25.896Z"
   },
   {
    "duration": 7,
    "start_time": "2023-09-09T12:07:25.938Z"
   },
   {
    "duration": 51,
    "start_time": "2023-09-09T12:07:25.946Z"
   },
   {
    "duration": 46,
    "start_time": "2023-09-09T12:07:25.999Z"
   },
   {
    "duration": 418,
    "start_time": "2023-09-09T12:08:34.610Z"
   },
   {
    "duration": 21,
    "start_time": "2023-09-09T12:08:35.030Z"
   },
   {
    "duration": 28,
    "start_time": "2023-09-09T12:08:35.053Z"
   },
   {
    "duration": 10,
    "start_time": "2023-09-09T12:08:35.083Z"
   },
   {
    "duration": 38,
    "start_time": "2023-09-09T12:08:35.095Z"
   },
   {
    "duration": 3,
    "start_time": "2023-09-09T12:08:35.135Z"
   },
   {
    "duration": 27,
    "start_time": "2023-09-09T12:08:35.140Z"
   },
   {
    "duration": 5,
    "start_time": "2023-09-09T12:08:35.168Z"
   },
   {
    "duration": 21,
    "start_time": "2023-09-09T12:08:35.174Z"
   },
   {
    "duration": 5,
    "start_time": "2023-09-09T12:08:35.197Z"
   },
   {
    "duration": 35,
    "start_time": "2023-09-09T12:08:35.204Z"
   },
   {
    "duration": 9,
    "start_time": "2023-09-09T12:08:35.240Z"
   },
   {
    "duration": 9,
    "start_time": "2023-09-09T12:08:35.251Z"
   },
   {
    "duration": 17,
    "start_time": "2023-09-09T12:08:35.262Z"
   },
   {
    "duration": 30,
    "start_time": "2023-09-09T12:08:35.280Z"
   },
   {
    "duration": 14,
    "start_time": "2023-09-09T12:08:35.312Z"
   },
   {
    "duration": 4,
    "start_time": "2023-09-09T12:08:35.327Z"
   },
   {
    "duration": 24,
    "start_time": "2023-09-09T12:08:35.332Z"
   },
   {
    "duration": 24,
    "start_time": "2023-09-09T12:08:35.357Z"
   },
   {
    "duration": 12,
    "start_time": "2023-09-09T12:08:35.382Z"
   },
   {
    "duration": 16,
    "start_time": "2023-09-09T12:08:35.396Z"
   },
   {
    "duration": 21,
    "start_time": "2023-09-09T12:08:35.414Z"
   },
   {
    "duration": 33,
    "start_time": "2023-09-09T12:08:35.437Z"
   },
   {
    "duration": 2,
    "start_time": "2023-09-09T12:08:35.471Z"
   },
   {
    "duration": 30,
    "start_time": "2023-09-09T12:08:35.475Z"
   },
   {
    "duration": 31,
    "start_time": "2023-09-09T12:08:35.506Z"
   },
   {
    "duration": 43,
    "start_time": "2023-09-09T12:08:35.539Z"
   },
   {
    "duration": 33,
    "start_time": "2023-09-09T12:08:35.584Z"
   }
  ],
  "colab": {
   "name": "dpp_template_part2.ipynb",
   "provenance": []
  },
  "kernelspec": {
   "display_name": "Python 3 (ipykernel)",
   "language": "python",
   "name": "python3"
  },
  "language_info": {
   "codemirror_mode": {
    "name": "ipython",
    "version": 3
   },
   "file_extension": ".py",
   "mimetype": "text/x-python",
   "name": "python",
   "nbconvert_exporter": "python",
   "pygments_lexer": "ipython3",
   "version": "3.9.5"
  },
  "toc": {
   "base_numbering": 1,
   "nav_menu": {},
   "number_sections": true,
   "sideBar": true,
   "skip_h1_title": true,
   "title_cell": "Table of Contents",
   "title_sidebar": "Contents",
   "toc_cell": false,
   "toc_position": {},
   "toc_section_display": true,
   "toc_window_display": true
  }
 },
 "nbformat": 4,
 "nbformat_minor": 5
}
